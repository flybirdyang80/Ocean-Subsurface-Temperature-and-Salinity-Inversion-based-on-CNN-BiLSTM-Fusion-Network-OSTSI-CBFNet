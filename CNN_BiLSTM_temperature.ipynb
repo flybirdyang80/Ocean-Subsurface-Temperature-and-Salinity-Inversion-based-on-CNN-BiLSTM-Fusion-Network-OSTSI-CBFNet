{
 "cells": [
  {
   "cell_type": "code",
   "execution_count": 1,
   "id": "5a6decf6",
   "metadata": {
    "ExecuteTime": {
     "end_time": "2024-03-01T13:13:43.469794Z",
     "start_time": "2024-03-01T13:13:40.246974Z"
    },
    "code_folding": [
     0
    ]
   },
   "outputs": [],
   "source": [
    "#导包\n",
    "from netCDF4 import Dataset\n",
    "from tensorflow.keras import layers, models\n",
    "from tensorflow.keras.layers import ConvLSTM2D,LSTM, BatchNormalization, LayerNormalization,Input, Conv3D, TimeDistributed, Flatten\n",
    "from tensorflow.keras.layers import Concatenate,Conv2D,TimeDistributed, MaxPooling2D, Input, MaxPooling3D\n",
    "from tensorflow.keras.layers import  Reshape,multiply\n",
    "from tensorflow.keras.layers import Layer,Lambda,Dot,ReLU, Dense, Dropout, Activation, Flatten,Attention\n",
    "from tensorflow.keras.utils import plot_model\n",
    "from tensorflow.keras.models import Sequential,Model,load_model\n",
    "from tensorflow.keras.optimizers import Adam,SGD\n",
    "from sklearn.model_selection import train_test_split\n",
    "from tensorflow.keras.callbacks import EarlyStopping, ModelCheckpoint\n",
    "from sklearn.preprocessing import MinMaxScaler, StandardScaler\n",
    "from tensorflow.keras.losses import MeanSquaredError\n",
    "from sklearn.metrics import r2_score,accuracy_score,precision_score\n",
    "from tensorflow.keras.metrics import RootMeanSquaredError\n",
    "from tensorflow.keras import regularizers\n",
    "import tensorflow as tf\n",
    "from datetime import datetime\n",
    "from sklearn.model_selection import cross_val_score\n",
    "from sklearn.model_selection import GridSearchCV\n",
    "from tensorflow.keras import models, layers\n",
    "from tensorflow.keras.wrappers.scikit_learn import KerasRegressor\n",
    "import tensorflow.keras as keras\n",
    "from tensorflow.keras import layers, Sequential, regularizers\n",
    "# calculate RMSE\n",
    "from sklearn.metrics import mean_squared_error\n",
    "from math import sqrt\n",
    "import pandas as pd \n",
    "import tensorflow as tf\n",
    "import gc \n",
    "import gzip\n",
    "import matplotlib.pyplot as plt\n",
    "import numpy as np\n",
    "import netCDF4 as nc\n",
    "import match\n",
    "import numpy as np\n",
    "import matplotlib.pyplot as plt\n",
    "import xarray as xr\n",
    "import os \n",
    "%matplotlib inline"
   ]
  },
  {
   "cell_type": "code",
   "execution_count": 2,
   "id": "09ebd19b",
   "metadata": {
    "ExecuteTime": {
     "end_time": "2024-03-01T13:13:43.610568Z",
     "start_time": "2024-03-01T13:13:43.470793Z"
    },
    "code_folding": [
     0
    ]
   },
   "outputs": [
    {
     "data": {
      "text/plain": [
       "1"
      ]
     },
     "execution_count": 2,
     "metadata": {},
     "output_type": "execute_result"
    }
   ],
   "source": [
    "# 检查可用GPU数量\n",
    "len(tf.config.experimental.list_physical_devices('GPU'))"
   ]
  },
  {
   "cell_type": "markdown",
   "id": "7e62d1f3",
   "metadata": {},
   "source": [
    "# 读取数据"
   ]
  },
  {
   "cell_type": "markdown",
   "id": "353333a8",
   "metadata": {},
   "source": [
    "## SSH"
   ]
  },
  {
   "cell_type": "code",
   "execution_count": 3,
   "id": "0a10df6b",
   "metadata": {
    "ExecuteTime": {
     "end_time": "2024-02-16T15:28:15.999457Z",
     "start_time": "2024-02-16T15:28:11.377898Z"
    }
   },
   "outputs": [],
   "source": [
    "data_ssh1 = nc.Dataset(r'D:/data/SSH/SSH_2011-2015_month.nc')\n",
    "data_ssh2 = nc.Dataset(r'D:/data/SSH/SSH_2016-2021_month.nc')"
   ]
  },
  {
   "cell_type": "code",
   "execution_count": 4,
   "id": "d29342ee",
   "metadata": {
    "ExecuteTime": {
     "end_time": "2024-02-16T15:28:16.053386Z",
     "start_time": "2024-02-16T15:28:16.001454Z"
    }
   },
   "outputs": [
    {
     "name": "stdout",
     "output_type": "stream",
     "text": [
      "60\n",
      "72\n"
     ]
    }
   ],
   "source": [
    "time_ssh1 = data_ssh1['time'][:]\n",
    "print(len(time_ssh1))\n",
    "time_ssh2 = data_ssh2['time'][:]\n",
    "print(len(time_ssh2))"
   ]
  },
  {
   "cell_type": "code",
   "execution_count": 5,
   "id": "b8338256",
   "metadata": {
    "ExecuteTime": {
     "end_time": "2024-01-29T10:53:11.546547Z",
     "start_time": "2024-01-29T10:53:11.542561Z"
    }
   },
   "outputs": [],
   "source": [
    "# 查看研究区域经纬度（120°E - 90°W , 0 - 60°N）\n",
    "ssh_lat = data_ssh1['lat'][:].data\n",
    "#print(ssh_lat[360:600])                   # 0.125 --- 59.875\n",
    "ssh_lon = data_ssh1['lon'][:].data\n",
    "# print(ssh_lon[720+480:])                 # 120.125 ---  179.875    240\n",
    "# print(ssh_lon[:360])                     #-179.875 ---  -90.125    360"
   ]
  },
  {
   "cell_type": "code",
   "execution_count": 6,
   "id": "bb10db3f",
   "metadata": {
    "ExecuteTime": {
     "end_time": "2024-01-29T10:53:11.550533Z",
     "start_time": "2024-01-29T10:53:11.547546Z"
    }
   },
   "outputs": [],
   "source": [
    "extend_num = 5    #输入图像大小是11，则extend_num设置为5"
   ]
  },
  {
   "cell_type": "code",
   "execution_count": 7,
   "id": "db987a0c",
   "metadata": {
    "ExecuteTime": {
     "end_time": "2024-01-29T10:53:11.864042Z",
     "start_time": "2024-01-29T10:53:11.551550Z"
    }
   },
   "outputs": [],
   "source": [
    "ssh1 = np.concatenate((data_ssh1['ssh'][:,360-extend_num:600+extend_num,1200-extend_num:].data,data_ssh1['ssh'][:,360-extend_num:600+extend_num,:360+extend_num].data),axis=2)\n",
    "ssh2 = np.concatenate((data_ssh2['ssh'][:,360-extend_num:600+extend_num,1200-extend_num:].data,data_ssh2['ssh'][:,360-extend_num:600+extend_num,:360+extend_num].data),axis=2)\n",
    "\n",
    "ssh =  np.concatenate((ssh1,ssh2),axis=0)"
   ]
  },
  {
   "cell_type": "code",
   "execution_count": 8,
   "id": "c70caa2a",
   "metadata": {
    "ExecuteTime": {
     "end_time": "2024-01-29T10:53:11.923932Z",
     "start_time": "2024-01-29T10:53:11.865039Z"
    }
   },
   "outputs": [
    {
     "name": "stdout",
     "output_type": "stream",
     "text": [
      "(132, 250, 610)\n",
      "2.266329 -0.19670714\n"
     ]
    }
   ],
   "source": [
    "print(ssh.shape)\n",
    "print(np.nanmax(ssh),np.nanmin(ssh))"
   ]
  },
  {
   "cell_type": "code",
   "execution_count": 9,
   "id": "0a784508",
   "metadata": {
    "ExecuteTime": {
     "end_time": "2024-01-29T10:53:11.928928Z",
     "start_time": "2024-01-29T10:53:11.924930Z"
    }
   },
   "outputs": [
    {
     "data": {
      "text/plain": [
       "31583"
      ]
     },
     "execution_count": 9,
     "metadata": {},
     "output_type": "execute_result"
    }
   ],
   "source": [
    "np.sum(np.isnan(ssh[5:6,:,:]))"
   ]
  },
  {
   "cell_type": "markdown",
   "id": "e36d2bd5",
   "metadata": {
    "ExecuteTime": {
     "end_time": "2023-11-12T09:21:49.138834Z",
     "start_time": "2023-11-12T09:21:49.135838Z"
    }
   },
   "source": [
    "## SSS"
   ]
  },
  {
   "cell_type": "code",
   "execution_count": 10,
   "id": "cbc48bcf",
   "metadata": {
    "ExecuteTime": {
     "end_time": "2024-01-29T10:53:11.935913Z",
     "start_time": "2024-01-29T10:53:11.930921Z"
    }
   },
   "outputs": [],
   "source": [
    "data_sss = nc.Dataset(r'D:/data/SSS/2011-2021_SSS_correct.nc')"
   ]
  },
  {
   "cell_type": "code",
   "execution_count": 11,
   "id": "30e0801c",
   "metadata": {
    "ExecuteTime": {
     "end_time": "2024-01-29T10:53:11.940905Z",
     "start_time": "2024-01-29T10:53:11.936911Z"
    }
   },
   "outputs": [
    {
     "name": "stdout",
     "output_type": "stream",
     "text": [
      "132\n"
     ]
    }
   ],
   "source": [
    "# 确定时间\n",
    "time_sss = data_sss['time'][:]\n",
    "print(len(time_sss))"
   ]
  },
  {
   "cell_type": "code",
   "execution_count": 12,
   "id": "722bf284",
   "metadata": {
    "ExecuteTime": {
     "end_time": "2024-01-29T10:53:11.945897Z",
     "start_time": "2024-01-29T10:53:11.941903Z"
    }
   },
   "outputs": [],
   "source": [
    "# 获取研究位置经纬度\n",
    "sss_lat = data_sss['lat'][:].data\n",
    "#print(sss_lat[360:600])                  # 0.125 ---- 59.875\n",
    "sss_lon = data_sss['lon'][:].data\n",
    "#print(sss_lon[480:480+600])              # 120.125 ----- 269.875"
   ]
  },
  {
   "cell_type": "code",
   "execution_count": 13,
   "id": "89c69839",
   "metadata": {
    "ExecuteTime": {
     "end_time": "2024-01-29T10:53:12.042785Z",
     "start_time": "2024-01-29T10:53:11.946895Z"
    }
   },
   "outputs": [
    {
     "name": "stdout",
     "output_type": "stream",
     "text": [
      "(132, 250, 610)\n",
      "(132, 250, 610)\n"
     ]
    }
   ],
   "source": [
    "sss = data_sss['sos'][:,360-extend_num:600+extend_num,480-extend_num:1080+extend_num].data \n",
    "print(sss.shape)\n",
    "sss = np.squeeze(sss) # 移除大小为一的维度\n",
    "print(sss.shape)"
   ]
  },
  {
   "cell_type": "code",
   "execution_count": 14,
   "id": "26dca328",
   "metadata": {
    "ExecuteTime": {
     "end_time": "2024-01-29T10:53:12.101649Z",
     "start_time": "2024-01-29T10:53:12.043774Z"
    }
   },
   "outputs": [
    {
     "data": {
      "text/plain": [
       "(36.945, 18.755253)"
      ]
     },
     "execution_count": 14,
     "metadata": {},
     "output_type": "execute_result"
    }
   ],
   "source": [
    "np.nanmax(sss),np.nanmin(sss)"
   ]
  },
  {
   "cell_type": "code",
   "execution_count": 15,
   "id": "3bbd00c5",
   "metadata": {
    "ExecuteTime": {
     "end_time": "2024-01-29T10:53:12.106643Z",
     "start_time": "2024-01-29T10:53:12.102668Z"
    }
   },
   "outputs": [
    {
     "data": {
      "text/plain": [
       "31355"
      ]
     },
     "execution_count": 15,
     "metadata": {},
     "output_type": "execute_result"
    }
   ],
   "source": [
    "np.sum(np.isnan(sss[5:6,:,:]))"
   ]
  },
  {
   "cell_type": "markdown",
   "id": "54fffab1",
   "metadata": {},
   "source": [
    "## SSW"
   ]
  },
  {
   "cell_type": "code",
   "execution_count": 16,
   "id": "4238b0f1",
   "metadata": {
    "ExecuteTime": {
     "end_time": "2024-01-29T10:53:12.111663Z",
     "start_time": "2024-01-29T10:53:12.107674Z"
    }
   },
   "outputs": [],
   "source": [
    "data_ssw = nc.Dataset(r'D:/data/SSW/2011-2021_SSW_correct.nc')"
   ]
  },
  {
   "cell_type": "code",
   "execution_count": 17,
   "id": "b24ce8a5",
   "metadata": {
    "ExecuteTime": {
     "end_time": "2024-01-29T10:53:12.116622Z",
     "start_time": "2024-01-29T10:53:12.112667Z"
    }
   },
   "outputs": [
    {
     "name": "stdout",
     "output_type": "stream",
     "text": [
      "132\n"
     ]
    }
   ],
   "source": [
    "# 确定时间\n",
    "time_ssw = data_ssw['time'][:132]\n",
    "print(len(time_ssw))"
   ]
  },
  {
   "cell_type": "code",
   "execution_count": 18,
   "id": "1ffdb1de",
   "metadata": {
    "ExecuteTime": {
     "end_time": "2024-01-29T10:53:12.121624Z",
     "start_time": "2024-01-29T10:53:12.118619Z"
    }
   },
   "outputs": [],
   "source": [
    "lat_ssw = data_ssw['lat'][:].data\n",
    "#print(lat_ssw[360:600])      # 0.125   ---- 59.875\n",
    "lon_ssw = data_ssw['lon'][:].data\n",
    "#print(lon_ssw[480:1080])      # 120.125  ---- 269.875"
   ]
  },
  {
   "cell_type": "code",
   "execution_count": 19,
   "id": "d39b1c71",
   "metadata": {
    "ExecuteTime": {
     "end_time": "2024-01-29T10:53:12.628798Z",
     "start_time": "2024-01-29T10:53:12.364224Z"
    }
   },
   "outputs": [],
   "source": [
    "uwnd = data_ssw['u'][:,360-extend_num:600+extend_num,480-extend_num:1080+extend_num].data  \n",
    "vwnd = data_ssw['v'][:,360-extend_num:600+extend_num,480-extend_num:1080+extend_num].data"
   ]
  },
  {
   "cell_type": "code",
   "execution_count": 20,
   "id": "e2d52ba0",
   "metadata": {
    "ExecuteTime": {
     "end_time": "2024-01-29T10:53:12.634818Z",
     "start_time": "2024-01-29T10:53:12.630806Z"
    }
   },
   "outputs": [
    {
     "name": "stdout",
     "output_type": "stream",
     "text": [
      "(132, 250, 610)\n",
      "(132, 250, 610)\n"
     ]
    }
   ],
   "source": [
    "print(uwnd.shape)\n",
    "print(vwnd.shape)"
   ]
  },
  {
   "cell_type": "code",
   "execution_count": 21,
   "id": "9c705291",
   "metadata": {
    "ExecuteTime": {
     "end_time": "2024-01-29T10:53:12.724660Z",
     "start_time": "2024-01-29T10:53:12.669732Z"
    }
   },
   "outputs": [
    {
     "data": {
      "text/plain": [
       "(12.203712, -13.459349, 9.599683, -14.963859)"
      ]
     },
     "execution_count": 21,
     "metadata": {},
     "output_type": "execute_result"
    }
   ],
   "source": [
    "np.nanmax(uwnd),np.nanmin(uwnd),np.nanmax(vwnd),np.nanmin(vwnd)"
   ]
  },
  {
   "cell_type": "code",
   "execution_count": 22,
   "id": "e60c244c",
   "metadata": {
    "ExecuteTime": {
     "end_time": "2024-01-29T10:53:12.837462Z",
     "start_time": "2024-01-29T10:53:12.824483Z"
    }
   },
   "outputs": [
    {
     "name": "stdout",
     "output_type": "stream",
     "text": [
      "0\n",
      "0\n"
     ]
    }
   ],
   "source": [
    "print(np.sum(np.isnan(uwnd[5:6,:,:])))\n",
    "print(np.sum(np.isnan(vwnd[5:6,:,:])))"
   ]
  },
  {
   "cell_type": "markdown",
   "id": "a5d70081",
   "metadata": {},
   "source": [
    "## 3DT  30-2000m温度数据"
   ]
  },
  {
   "cell_type": "code",
   "execution_count": 23,
   "id": "cca5d086",
   "metadata": {
    "ExecuteTime": {
     "end_time": "2024-01-29T10:53:13.139980Z",
     "start_time": "2024-01-29T10:53:13.135025Z"
    }
   },
   "outputs": [],
   "source": [
    "data_3dt = nc.Dataset(r'D:/data/3DTS/2011-2021_3dt_correct.nc')"
   ]
  },
  {
   "cell_type": "code",
   "execution_count": 24,
   "id": "67451b8e",
   "metadata": {
    "ExecuteTime": {
     "end_time": "2024-01-29T10:53:13.291731Z",
     "start_time": "2024-01-29T10:53:13.283744Z"
    }
   },
   "outputs": [],
   "source": [
    "# 确定区域\n",
    "at_3dt = data_3dt['lat'][:].data\n",
    "#print(lat_3dt[329:329+240])        #0.125 --- 59.875\n",
    "lon_3dt = data_3dt['lon'][:].data    \n",
    "#print(lon_3dt[480:1080])            #120.125 --- 269.875"
   ]
  },
  {
   "cell_type": "code",
   "execution_count": 25,
   "id": "feaf19d4",
   "metadata": {
    "ExecuteTime": {
     "end_time": "2024-01-29T10:53:18.073038Z",
     "start_time": "2024-01-29T10:53:13.451474Z"
    }
   },
   "outputs": [],
   "source": [
    "temp_depth = data_3dt['to'][:,:,329-extend_num:569+extend_num,480-extend_num:1080+extend_num].data"
   ]
  },
  {
   "cell_type": "code",
   "execution_count": 26,
   "id": "40a7f7f4",
   "metadata": {
    "ExecuteTime": {
     "end_time": "2024-01-29T10:53:18.079035Z",
     "start_time": "2024-01-29T10:53:18.075035Z"
    }
   },
   "outputs": [
    {
     "name": "stdout",
     "output_type": "stream",
     "text": [
      "(132, 50, 250, 610)\n"
     ]
    }
   ],
   "source": [
    "print(temp_depth.shape)"
   ]
  },
  {
   "cell_type": "code",
   "execution_count": 27,
   "id": "e0cde92f",
   "metadata": {
    "ExecuteTime": {
     "end_time": "2024-01-29T10:53:18.085019Z",
     "start_time": "2024-01-29T10:53:18.080027Z"
    }
   },
   "outputs": [],
   "source": [
    "depths = [0,5,10,15,20,25,30,35,40,45,50,55,60,65,70,80,90,100,125,150,175,200,225,250,275,300,350,400,\n",
    "         450,500,550,600,700,800,900,1000,1100,1200,1300,1400,1500,1750,2000]\n",
    "depths_use = [50,100,125,150,200,250,300,400,500,600,700,800,900,1000]"
   ]
  },
  {
   "cell_type": "code",
   "execution_count": 28,
   "id": "ef0b305b",
   "metadata": {
    "ExecuteTime": {
     "end_time": "2024-01-29T10:53:18.090011Z",
     "start_time": "2024-01-29T10:53:18.087016Z"
    }
   },
   "outputs": [],
   "source": [
    "temp_depth_use = temp_depth[:,6:7]"
   ]
  },
  {
   "cell_type": "code",
   "execution_count": 29,
   "id": "f8ba5d69",
   "metadata": {
    "ExecuteTime": {
     "end_time": "2024-01-29T10:53:22.516888Z",
     "start_time": "2024-01-29T10:53:18.091009Z"
    }
   },
   "outputs": [],
   "source": [
    "for i,depth in enumerate(depths):\n",
    "    if(depth in depths_use):\n",
    "        #print(depths[i])\n",
    "        temp_depth_use = np.concatenate((temp_depth_use,temp_depth[:,i:i+1]),axis=1)    "
   ]
  },
  {
   "cell_type": "code",
   "execution_count": 30,
   "id": "dfeeeb6d",
   "metadata": {
    "ExecuteTime": {
     "end_time": "2024-01-29T10:53:22.522879Z",
     "start_time": "2024-01-29T10:53:22.517887Z"
    }
   },
   "outputs": [
    {
     "name": "stdout",
     "output_type": "stream",
     "text": [
      "(132, 15, 250, 610)\n",
      "(132, 250, 610, 15)\n"
     ]
    }
   ],
   "source": [
    "print(temp_depth_use.shape)\n",
    "temp_depth_use = np.transpose(temp_depth_use, ( 0, 2,3,1))\n",
    "print(temp_depth_use.shape)"
   ]
  },
  {
   "cell_type": "code",
   "execution_count": 31,
   "id": "026ab53d",
   "metadata": {
    "ExecuteTime": {
     "end_time": "2024-01-29T10:53:22.528869Z",
     "start_time": "2024-01-29T10:53:22.523877Z"
    }
   },
   "outputs": [
    {
     "name": "stdout",
     "output_type": "stream",
     "text": [
      "31350\n",
      "40029\n"
     ]
    }
   ],
   "source": [
    "print(np.sum(np.isnan(temp_depth_use[5:6,:,:,0:1])))\n",
    "print(np.sum(np.isnan(temp_depth_use[5:6,:,:,14:])))"
   ]
  },
  {
   "cell_type": "markdown",
   "id": "0101820e",
   "metadata": {},
   "source": [
    "## SST表面温度数据"
   ]
  },
  {
   "cell_type": "code",
   "execution_count": 32,
   "id": "24ea8dd9",
   "metadata": {
    "ExecuteTime": {
     "end_time": "2024-01-29T10:53:22.534860Z",
     "start_time": "2024-01-29T10:53:22.529868Z"
    }
   },
   "outputs": [],
   "source": [
    "data_sst = nc.Dataset(r'D:/data/SST/SST_2011-2021_month_sheshidu_interp.nc')"
   ]
  },
  {
   "cell_type": "code",
   "execution_count": 33,
   "id": "1a869da0",
   "metadata": {
    "ExecuteTime": {
     "end_time": "2024-01-29T10:53:22.538858Z",
     "start_time": "2024-01-29T10:53:22.535858Z"
    }
   },
   "outputs": [
    {
     "name": "stdout",
     "output_type": "stream",
     "text": [
      "132\n"
     ]
    }
   ],
   "source": [
    "# 确定时间\n",
    "time_sst = data_sst['time'][:]\n",
    "print(len(time_sst))"
   ]
  },
  {
   "cell_type": "code",
   "execution_count": 34,
   "id": "827769d1",
   "metadata": {
    "ExecuteTime": {
     "end_time": "2024-01-29T10:53:22.544843Z",
     "start_time": "2024-01-29T10:53:22.540850Z"
    }
   },
   "outputs": [],
   "source": [
    "lat_sst = data_sst['lat'][:].data\n",
    "#print(lat_sst[360:600])             #0.125 --- 59.875\n",
    "lon_sst = data_sst['lon'][:].data\n",
    "# print(lon_sst[720+480:])             #120.125 --- 179.875\n",
    "# print(lon_sst[:360])                 #179.875 --- -90.125"
   ]
  },
  {
   "cell_type": "code",
   "execution_count": 35,
   "id": "86433432",
   "metadata": {
    "ExecuteTime": {
     "end_time": "2024-01-29T10:53:22.770480Z",
     "start_time": "2024-01-29T10:53:22.545842Z"
    }
   },
   "outputs": [],
   "source": [
    "sst = np.concatenate((data_sst['sst'][:,360-extend_num:600+extend_num,1200-extend_num:].data,data_sst['sst'][:,360-extend_num:600+extend_num,:360+extend_num].data),axis=2)"
   ]
  },
  {
   "cell_type": "code",
   "execution_count": 36,
   "id": "ab261314",
   "metadata": {
    "ExecuteTime": {
     "end_time": "2024-01-29T10:53:22.775473Z",
     "start_time": "2024-01-29T10:53:22.771479Z"
    }
   },
   "outputs": [
    {
     "name": "stdout",
     "output_type": "stream",
     "text": [
      "(132, 250, 610)\n"
     ]
    }
   ],
   "source": [
    "print(sst.shape)"
   ]
  },
  {
   "cell_type": "code",
   "execution_count": 37,
   "id": "527b8944",
   "metadata": {
    "ExecuteTime": {
     "end_time": "2024-01-29T10:53:22.836374Z",
     "start_time": "2024-01-29T10:53:22.776471Z"
    }
   },
   "outputs": [
    {
     "data": {
      "text/plain": [
       "(32.69934, -1.8612671)"
      ]
     },
     "execution_count": 37,
     "metadata": {},
     "output_type": "execute_result"
    }
   ],
   "source": [
    "np.nanmax(sst),np.nanmin(sst)"
   ]
  },
  {
   "cell_type": "code",
   "execution_count": 38,
   "id": "77a1c7cd",
   "metadata": {
    "ExecuteTime": {
     "end_time": "2024-01-29T10:53:22.842375Z",
     "start_time": "2024-01-29T10:53:22.837373Z"
    }
   },
   "outputs": [
    {
     "name": "stdout",
     "output_type": "stream",
     "text": [
      "31574\n"
     ]
    }
   ],
   "source": [
    "print(np.sum(np.isnan(sst[5:6,:,:])))"
   ]
  },
  {
   "cell_type": "markdown",
   "id": "ea44f2e0",
   "metadata": {},
   "source": [
    "## 温度差值"
   ]
  },
  {
   "cell_type": "markdown",
   "id": "dbceab94",
   "metadata": {},
   "source": [
    "### 计算表面温度平均值与深度温度平均值"
   ]
  },
  {
   "cell_type": "code",
   "execution_count": 39,
   "id": "940498a6",
   "metadata": {
    "ExecuteTime": {
     "end_time": "2024-01-29T10:53:23.182817Z",
     "start_time": "2024-01-29T10:53:22.843370Z"
    }
   },
   "outputs": [],
   "source": [
    "# 将填充值替换为nan\n",
    "mean_temp = temp_depth_use\n",
    "mean_temp[mean_temp == 32767] = np.nan\n",
    "mean_sst = sst\n",
    "mean_sst[mean_sst == 32767] = np.nan"
   ]
  },
  {
   "cell_type": "code",
   "execution_count": 40,
   "id": "ce8df31f",
   "metadata": {
    "ExecuteTime": {
     "end_time": "2024-01-29T10:53:25.032863Z",
     "start_time": "2024-01-29T10:53:23.183815Z"
    }
   },
   "outputs": [
    {
     "name": "stdout",
     "output_type": "stream",
     "text": [
      "水下温度平均值： (12, 250, 610, 15)\n",
      "表面温度平均值： (12, 250, 610)\n"
     ]
    },
    {
     "name": "stderr",
     "output_type": "stream",
     "text": [
      "C:\\Users\\Administrator\\AppData\\Local\\Temp\\ipykernel_68732\\2861948423.py:6: RuntimeWarning: Mean of empty slice\n",
      "  mean_temp = np.nanmean(mean_temp, axis=0)\n"
     ]
    }
   ],
   "source": [
    "# 重构数组\n",
    "mean_temp = mean_temp.reshape(11,12, 250, 610, 15)    #(132, 250, 610, 15)   --->(11，12, 250, 610, 15)  \n",
    "mean_sst = mean_sst.reshape(11,12,250,610)\n",
    "\n",
    "#沿年份维度（即第一个维度）计算平均值\n",
    "mean_temp = np.nanmean(mean_temp, axis=0)\n",
    "print('水下温度平均值：',mean_temp.shape)\n",
    "\n",
    "mean_sst = np.mean(mean_sst, axis=0)\n",
    "print('表面温度平均值：',mean_sst.shape)"
   ]
  },
  {
   "cell_type": "markdown",
   "id": "ed3a9e8a",
   "metadata": {},
   "source": [
    "### 表面温度的平均值  减去 0-1000m温度的平均值"
   ]
  },
  {
   "cell_type": "code",
   "execution_count": 41,
   "id": "ee1c098a",
   "metadata": {
    "ExecuteTime": {
     "end_time": "2024-01-29T10:53:25.037833Z",
     "start_time": "2024-01-29T10:53:25.033848Z"
    }
   },
   "outputs": [
    {
     "name": "stdout",
     "output_type": "stream",
     "text": [
      "(12, 250, 610) (12, 250, 610, 15)\n"
     ]
    }
   ],
   "source": [
    "print(mean_sst.shape,mean_temp.shape)"
   ]
  },
  {
   "cell_type": "code",
   "execution_count": 42,
   "id": "1f68e415",
   "metadata": {
    "ExecuteTime": {
     "end_time": "2024-01-29T10:53:25.171617Z",
     "start_time": "2024-01-29T10:53:25.038868Z"
    }
   },
   "outputs": [
    {
     "name": "stdout",
     "output_type": "stream",
     "text": [
      "(12, 250, 610, 15)\n"
     ]
    }
   ],
   "source": [
    "mean_sst = np.expand_dims(mean_sst,axis=-1) #扩展维度 \n",
    "mean_sst = np.repeat(mean_sst, repeats=15,axis=-1)  #(12, 250, 610)  --》(12, 250, 610，15)  \n",
    "print(mean_sst.shape)"
   ]
  },
  {
   "cell_type": "code",
   "execution_count": 43,
   "id": "38cbefc0",
   "metadata": {
    "ExecuteTime": {
     "end_time": "2024-01-29T10:53:25.290426Z",
     "start_time": "2024-01-29T10:53:25.178606Z"
    }
   },
   "outputs": [
    {
     "name": "stdout",
     "output_type": "stream",
     "text": [
      "(12, 250, 610, 15)\n"
     ]
    }
   ],
   "source": [
    "mean_different = mean_sst - mean_temp\n",
    "print(mean_different.shape)"
   ]
  },
  {
   "cell_type": "markdown",
   "id": "ee5ea2b1",
   "metadata": {},
   "source": [
    "# 数据预处理"
   ]
  },
  {
   "cell_type": "markdown",
   "id": "1248f79d",
   "metadata": {},
   "source": [
    "## 数据合并"
   ]
  },
  {
   "cell_type": "code",
   "execution_count": 44,
   "id": "16a998ab",
   "metadata": {
    "ExecuteTime": {
     "end_time": "2024-01-29T10:53:25.671812Z",
     "start_time": "2024-01-29T10:53:25.291424Z"
    }
   },
   "outputs": [
    {
     "name": "stdout",
     "output_type": "stream",
     "text": [
      "(132, 250, 610) (132, 250, 610) (132, 250, 610) (132, 250, 610) (132, 250, 610)\n"
     ]
    },
    {
     "data": {
      "text/plain": [
       "(132, 250, 610, 5)"
      ]
     },
     "execution_count": 44,
     "metadata": {},
     "output_type": "execute_result"
    }
   ],
   "source": [
    "print(ssh.shape,sss.shape,uwnd.shape,vwnd.shape,sst.shape)\n",
    "cat_data =np.stack((ssh,sss,uwnd,vwnd,sst),axis=3)\n",
    "cat_data.shape"
   ]
  },
  {
   "cell_type": "code",
   "execution_count": 45,
   "id": "1381d038",
   "metadata": {
    "ExecuteTime": {
     "end_time": "2024-01-29T10:53:25.677803Z",
     "start_time": "2024-01-29T10:53:25.672811Z"
    }
   },
   "outputs": [
    {
     "data": {
      "text/plain": [
       "(132, 250, 610, 15)"
      ]
     },
     "execution_count": 45,
     "metadata": {},
     "output_type": "execute_result"
    }
   ],
   "source": [
    "temp_depth_use.shape"
   ]
  },
  {
   "cell_type": "code",
   "execution_count": 46,
   "id": "04842415",
   "metadata": {
    "ExecuteTime": {
     "end_time": "2024-01-29T10:53:26.472529Z",
     "start_time": "2024-01-29T10:53:25.678801Z"
    }
   },
   "outputs": [],
   "source": [
    "# 将表面数据和水下数据在最后一个维度拼接，将空值删除。\n",
    "cat_data_ss_depth = np.concatenate((cat_data,temp_depth_use),axis=-1)"
   ]
  },
  {
   "cell_type": "code",
   "execution_count": 47,
   "id": "2dd721ba",
   "metadata": {
    "ExecuteTime": {
     "end_time": "2024-01-29T10:53:26.478514Z",
     "start_time": "2024-01-29T10:53:26.473522Z"
    }
   },
   "outputs": [
    {
     "data": {
      "text/plain": [
       "(132, 250, 610, 20)"
      ]
     },
     "execution_count": 47,
     "metadata": {},
     "output_type": "execute_result"
    }
   ],
   "source": [
    "cat_data_ss_depth.shape"
   ]
  },
  {
   "cell_type": "markdown",
   "id": "14025788",
   "metadata": {},
   "source": [
    "## 将两个温度异常区域的数据设置为Nan"
   ]
  },
  {
   "cell_type": "code",
   "execution_count": 48,
   "id": "4f10c47b",
   "metadata": {
    "ExecuteTime": {
     "end_time": "2024-01-29T10:53:26.483507Z",
     "start_time": "2024-01-29T10:53:26.479513Z"
    }
   },
   "outputs": [
    {
     "data": {
      "text/plain": [
       "(132, 250, 610, 15)"
      ]
     },
     "execution_count": 48,
     "metadata": {},
     "output_type": "execute_result"
    }
   ],
   "source": [
    "temp_depth_use.shape"
   ]
  },
  {
   "cell_type": "code",
   "execution_count": 49,
   "id": "9c65c7f8",
   "metadata": {
    "ExecuteTime": {
     "end_time": "2024-01-29T10:53:26.530476Z",
     "start_time": "2024-01-29T10:53:26.485503Z"
    }
   },
   "outputs": [],
   "source": [
    "test = temp_depth_use[:,:,:,14:15]\n",
    "test[test < 0.4] = np.nan\n",
    "test[test > 10] = np.nan"
   ]
  },
  {
   "cell_type": "code",
   "execution_count": 50,
   "id": "c0ff7fb6",
   "metadata": {
    "ExecuteTime": {
     "end_time": "2024-01-29T10:53:26.699159Z",
     "start_time": "2024-01-29T10:53:26.531429Z"
    }
   },
   "outputs": [],
   "source": [
    "cat_data_ss_depth[:,:,:,19:] = test"
   ]
  },
  {
   "cell_type": "code",
   "execution_count": 51,
   "id": "1f35996f",
   "metadata": {
    "ExecuteTime": {
     "end_time": "2024-01-29T10:53:26.705150Z",
     "start_time": "2024-01-29T10:53:26.700158Z"
    }
   },
   "outputs": [
    {
     "data": {
      "text/plain": [
       "(132, 250, 610, 20)"
      ]
     },
     "execution_count": 51,
     "metadata": {},
     "output_type": "execute_result"
    }
   ],
   "source": [
    "cat_data_ss_depth.shape "
   ]
  },
  {
   "cell_type": "markdown",
   "id": "f114cc1e",
   "metadata": {
    "ExecuteTime": {
     "end_time": "2023-11-12T11:42:58.855286Z",
     "start_time": "2023-11-12T11:42:58.851293Z"
    }
   },
   "source": [
    "## 将填充值赋值为Nan,且一个点中有一个维度为nan,则将这个点的所有维度都设置为nan"
   ]
  },
  {
   "cell_type": "markdown",
   "id": "46e3cf9f",
   "metadata": {},
   "source": [
    "### 塑形，将长*宽放在前面"
   ]
  },
  {
   "cell_type": "code",
   "execution_count": 52,
   "id": "e6f69cf3",
   "metadata": {
    "ExecuteTime": {
     "end_time": "2024-01-29T10:53:27.314170Z",
     "start_time": "2024-01-29T10:53:26.706148Z"
    }
   },
   "outputs": [
    {
     "name": "stdout",
     "output_type": "stream",
     "text": [
      "(250, 610, 132, 20)\n",
      "(152500, 2640)\n"
     ]
    }
   ],
   "source": [
    "## 先对合并的数据进行reshape成（长*宽，时间*通道）\n",
    "cat_data_ss_depth_reshape  = np.transpose(cat_data_ss_depth,(1,2,0,3))   # (132, 240, 600, 21) ---》 (240, 600, 132, 21)\n",
    "print(cat_data_ss_depth_reshape.shape)\n",
    "cat_data_ss_depth_reshape = cat_data_ss_depth_reshape.reshape ((-1,132*20))  # (240, 600, 132, 21) ---》(240*600, 132*21)\n",
    "print(cat_data_ss_depth_reshape.shape)"
   ]
  },
  {
   "cell_type": "markdown",
   "id": "80553601",
   "metadata": {},
   "source": [
    "### 一个点中只要有一个维度为nan,则将这个点的所有维度都设置为nan "
   ]
  },
  {
   "cell_type": "code",
   "execution_count": 53,
   "id": "0bfabce3",
   "metadata": {
    "ExecuteTime": {
     "end_time": "2024-01-29T10:53:27.587730Z",
     "start_time": "2024-01-29T10:53:27.315168Z"
    }
   },
   "outputs": [
    {
     "name": "stdout",
     "output_type": "stream",
     "text": [
      "cat_data_ss_depth_reshape: (152500, 2640)\n"
     ]
    }
   ],
   "source": [
    "# # 将填充值赋值为nan\n",
    "# cat_data_ss_depth_reshape[cat_data_ss_depth_reshape == 32767] = np.nan\n",
    "\n",
    "nan_mask = np.isnan(cat_data_ss_depth_reshape)\n",
    "# nan_mask.any(axis=1)==true,只要第一个维度中含有nan就将所有设置为nan   (维度从0开始算起)\n",
    "cat_data_ss_depth_reshape[nan_mask.any(axis=1) == True] = np.nan   \n",
    "print('cat_data_ss_depth_reshape:',cat_data_ss_depth_reshape.shape)"
   ]
  },
  {
   "cell_type": "markdown",
   "id": "dff31975",
   "metadata": {},
   "source": [
    "### 将处理好的数据进行转化形状 "
   ]
  },
  {
   "cell_type": "code",
   "execution_count": 54,
   "id": "acad1212",
   "metadata": {
    "ExecuteTime": {
     "end_time": "2024-01-29T10:53:27.593720Z",
     "start_time": "2024-01-29T10:53:27.588728Z"
    }
   },
   "outputs": [
    {
     "name": "stdout",
     "output_type": "stream",
     "text": [
      "(152500, 132, 20)\n",
      "(132, 152500, 20)\n"
     ]
    }
   ],
   "source": [
    "# 转化形状\n",
    "cat_data_ss_depth_reshape = cat_data_ss_depth_reshape.reshape(-1,132,20)\n",
    "print(cat_data_ss_depth_reshape.shape)\n",
    "cat_data_ss_depth_reshape = np.transpose(cat_data_ss_depth_reshape,(1,0,2))\n",
    "print(cat_data_ss_depth_reshape.shape)"
   ]
  },
  {
   "cell_type": "code",
   "execution_count": 55,
   "id": "71349706",
   "metadata": {
    "ExecuteTime": {
     "end_time": "2024-01-29T10:53:27.598712Z",
     "start_time": "2024-01-29T10:53:27.594719Z"
    }
   },
   "outputs": [
    {
     "name": "stdout",
     "output_type": "stream",
     "text": [
      "(132, 250, 610, 20)\n"
     ]
    }
   ],
   "source": [
    "cat_data_ss_depth_reshape = cat_data_ss_depth_reshape.reshape(-1,250,610,20)\n",
    "print(cat_data_ss_depth_reshape.shape)"
   ]
  },
  {
   "cell_type": "code",
   "execution_count": 56,
   "id": "d20aefe0",
   "metadata": {
    "ExecuteTime": {
     "end_time": "2024-01-29T10:53:27.606699Z",
     "start_time": "2024-01-29T10:53:27.599748Z"
    }
   },
   "outputs": [
    {
     "data": {
      "text/plain": [
       "41910"
      ]
     },
     "execution_count": 56,
     "metadata": {},
     "output_type": "execute_result"
    }
   ],
   "source": [
    "np.sum(np.isnan(cat_data_ss_depth_reshape[5:6,:,:,2:3]))"
   ]
  },
  {
   "cell_type": "markdown",
   "id": "62fd84d7",
   "metadata": {},
   "source": [
    "## 将数据分成小块"
   ]
  },
  {
   "cell_type": "code",
   "execution_count": 57,
   "id": "d511709d",
   "metadata": {
    "ExecuteTime": {
     "end_time": "2024-01-29T10:53:27.612690Z",
     "start_time": "2024-01-29T10:53:27.608718Z"
    }
   },
   "outputs": [
    {
     "name": "stdout",
     "output_type": "stream",
     "text": [
      "(132, 250, 610, 5) (132, 250, 610, 15)\n"
     ]
    }
   ],
   "source": [
    "# 表面数据\n",
    "cat_data_ss = cat_data_ss_depth_reshape[:,:,:,:5]\n",
    "# 深度数据\n",
    "cat_data_depth = cat_data_ss_depth_reshape[:,:,:,5:]\n",
    "\n",
    "print(cat_data_ss.shape,cat_data_depth.shape)"
   ]
  },
  {
   "cell_type": "code",
   "execution_count": 58,
   "id": "66988643",
   "metadata": {
    "ExecuteTime": {
     "end_time": "2024-01-29T10:53:27.619715Z",
     "start_time": "2024-01-29T10:53:27.613696Z"
    }
   },
   "outputs": [
    {
     "data": {
      "text/plain": [
       "41910"
      ]
     },
     "execution_count": 58,
     "metadata": {},
     "output_type": "execute_result"
    }
   ],
   "source": [
    "np.sum(np.isnan(cat_data_depth[1:2,:,:,5:6]))"
   ]
  },
  {
   "cell_type": "code",
   "execution_count": 59,
   "id": "24ead7ab",
   "metadata": {
    "ExecuteTime": {
     "end_time": "2024-01-29T10:53:27.623672Z",
     "start_time": "2024-01-29T10:53:27.620697Z"
    }
   },
   "outputs": [
    {
     "name": "stdout",
     "output_type": "stream",
     "text": [
      "(12, 250, 610, 15)\n"
     ]
    }
   ],
   "source": [
    "# 查看差值的形状\n",
    "print(mean_different.shape)"
   ]
  },
  {
   "cell_type": "markdown",
   "id": "71490059",
   "metadata": {},
   "source": [
    "### 移动滑块将数据处理成小块"
   ]
  },
  {
   "cell_type": "code",
   "execution_count": 60,
   "id": "76c9dc99",
   "metadata": {
    "ExecuteTime": {
     "end_time": "2024-01-29T10:55:34.047315Z",
     "start_time": "2024-01-29T10:53:27.624711Z"
    },
    "code_folding": [
     0
    ]
   },
   "outputs": [
    {
     "name": "stdout",
     "output_type": "stream",
     "text": [
      "time_size: 132 lat_size: 250 lon_size: 610\n",
      "240 600\n",
      "out_data_mean_different_cnn的形状 (12, 240, 600, 11, 11, 15)\n",
      "out_data的形状 (132, 240, 600, 11, 11, 5)\n",
      "out_data_y的形状 (132, 240, 600, 15)\n",
      "out_data_lstm的形状 (132, 240, 600, 5)\n",
      "out_data_mean_different_lstm的形状 (12, 240, 600, 15)\n"
     ]
    }
   ],
   "source": [
    "# 移动滑块\n",
    "import numpy as np\n",
    "import pandas as pd\n",
    "\n",
    "time_size, lat_size, lon_size, channel = cat_data_ss.shape   # （132，280，600，5）\n",
    "\n",
    "# 定义矩形框的大小和步幅           \n",
    "box_size = 11  # 单位为度\n",
    "step_size = 1  # 滑动步幅\n",
    "\n",
    "# 计算输出网格的形状\n",
    "out_lat_size = (lat_size - box_size) // step_size  + 1 \n",
    "out_lon_size = (lon_size - box_size) // step_size  + 1 \n",
    "\n",
    "print('time_size:',time_size,'lat_size:',lat_size,'lon_size:',lon_size)   #(132 280 600)\n",
    "\n",
    "print(out_lat_size,out_lon_size)  #(240 600)\n",
    "\n",
    "#输出数组 \n",
    "out_data = np.zeros((time_size, out_lat_size , out_lon_size, box_size, box_size, channel)) #(132, 240, 600, 9,9,5)\n",
    "\n",
    "out_data_y = np.zeros((time_size, out_lat_size , out_lon_size, 15)) #(132, 272, 592,16)\n",
    "\n",
    "out_data_lstm = np.zeros((time_size, out_lat_size , out_lon_size, 5))\n",
    "\n",
    "out_data_mean_different_cnn = np.zeros((12, out_lat_size , out_lon_size, box_size, box_size, 15))\n",
    "\n",
    "out_data_mean_different_lstm = np.zeros((12, out_lat_size , out_lon_size, 15))\n",
    "\n",
    "\n",
    "#============================与CNN相匹配的差值===========================#\n",
    "# 遍历时间步、纬度和经度\n",
    "for t in range(12):\n",
    "    sample_idx = 0\n",
    "    for lat in range(0, lat_size - box_size +1, step_size):\n",
    "        for lon in range(0, lon_size - box_size +1  , step_size):\n",
    "            # 计算当前矩形框的边界\n",
    "            lat_min = lat\n",
    "            lat_max = lat + box_size\n",
    "            lon_min = lon\n",
    "            lon_max = lon + box_size\n",
    "            #print(lat_min,lat_max,lon_min,lon_max)\n",
    "            # 获取当前矩形框的地图数据\n",
    "            box_data = mean_different[t, lat_min:lat_max, lon_min:lon_max,:]\n",
    "            # 写入数组中\n",
    "#             lat_ = lat//4\n",
    "#             lon_ = lon//4\n",
    "            out_data_mean_different_cnn[t,lat,lon, :, :, :] = box_data\n",
    "            box_data = []\n",
    "            #print(sample_idx)\n",
    "            # 增加样本计数器\n",
    "            sample_idx += 1\n",
    "\n",
    "print('out_data_mean_different_cnn的形状',out_data_mean_different_cnn.shape)\n",
    "#return out_data\n",
    "    \n",
    "\n",
    "\n",
    "#========================CNN out_data =============================#\n",
    "#遍历时间步、纬度和经度\n",
    "for t in range(time_size):\n",
    "    sample_idx = 0\n",
    "    for lat in range(0, lat_size - box_size +1, step_size):\n",
    "        for lon in range(0, lon_size - box_size +1  , step_size):\n",
    "            # 计算当前矩形框的边界\n",
    "            lat_min = lat\n",
    "            lat_max = lat + box_size\n",
    "            lon_min = lon\n",
    "            lon_max = lon + box_size\n",
    "            #print(lat_min,lat_max,lon_min,lon_max)\n",
    "            # 获取当前矩形框的地图数据\n",
    "            box_data = cat_data_ss[t, lat_min:lat_max, lon_min:lon_max,:]\n",
    "            # 写入数组中\n",
    "#             lat_ = lat//4\n",
    "#             lon_ = lon//4\n",
    "            out_data[t,lat,lon, :, :, :] = box_data\n",
    "            box_data = []\n",
    "            #print(sample_idx)\n",
    "            # 增加样本计数器\n",
    "            sample_idx += 1\n",
    "\n",
    "print('out_data的形状',out_data.shape)\n",
    "#return out_data\n",
    "    \n",
    "#======================LSTM 与 y out_data==========================#   \n",
    "\n",
    "# 遍历时间步、纬度和经度\n",
    "for t in range(time_size):\n",
    "    sample_idx = 0\n",
    "    for lat in range(5, lat_size-5, step_size):\n",
    "        for lon in range(5, lon_size-5, step_size):\n",
    "            box_data_y = cat_data_depth[t, lat:lat+1, lon:lon+1,:]\n",
    "            out_data_y[t,lat-5,lon-5, :] = box_data_y\n",
    "            box_data_y = []\n",
    "            \n",
    "            box_data_lstm = cat_data_ss[t, lat:lat+1, lon:lon+1,:]\n",
    "            out_data_lstm[t,lat-5,lon-5, :] = box_data_lstm\n",
    "            box_data_lstm = []\n",
    "            \n",
    "            #print(sample_idx)\n",
    "            # 增加样本计数器\n",
    "            sample_idx += 1\n",
    "\n",
    "print('out_data_y的形状',out_data_y.shape)\n",
    "print('out_data_lstm的形状',out_data_lstm.shape)   \n",
    "# out_data_reshape = slider_value(cat_data)\n",
    "\n",
    "\n",
    "#======================与LSTM相匹配的差值==========================#   \n",
    "\n",
    "# 遍历时间步、纬度和经度\n",
    "for t in range(12):\n",
    "    sample_idx = 0\n",
    "    for lat in range(5, lat_size-5, step_size):\n",
    "        for lon in range(5, lon_size-5, step_size): \n",
    "            box_data_mean_different_lstm = mean_different[t, lat:lat+1, lon:lon+1,:]\n",
    "            out_data_mean_different_lstm[t,lat-5,lon-5, :] = box_data_mean_different_lstm\n",
    "            box_data_mean_different_lstm = []\n",
    "            \n",
    "            #print(sample_idx)\n",
    "            # 增加样本计数器\n",
    "            sample_idx += 1\n",
    "\n",
    "print('out_data_mean_different_lstm的形状',out_data_mean_different_lstm.shape)\n",
    "\n",
    "# out_data_reshape = slider_value(cat_data)"
   ]
  },
  {
   "cell_type": "markdown",
   "id": "f6995dcc",
   "metadata": {},
   "source": [
    "## 删除缺失值多于一半的数据"
   ]
  },
  {
   "cell_type": "markdown",
   "id": "c0b33fe5",
   "metadata": {},
   "source": [
    "### 获取Nan_mask"
   ]
  },
  {
   "cell_type": "code",
   "execution_count": 61,
   "id": "7db04274",
   "metadata": {
    "ExecuteTime": {
     "end_time": "2024-01-29T10:55:43.599905Z",
     "start_time": "2024-01-29T10:55:34.049286Z"
    }
   },
   "outputs": [
    {
     "name": "stdout",
     "output_type": "stream",
     "text": [
      "(132, 144000, 11, 11, 5)\n",
      "(132, 144000, 11, 11, 5)\n"
     ]
    }
   ],
   "source": [
    "# 修改变量形状\n",
    "out_data_reshape = out_data.reshape((132,-1,11,11,5))\n",
    "print(out_data_reshape.shape) \n",
    "# 获取变量nan掩码\n",
    "nan_mask_out_data = np.isnan(out_data_reshape)\n",
    "print(nan_mask_out_data.shape)"
   ]
  },
  {
   "cell_type": "code",
   "execution_count": 62,
   "id": "18e8ca66",
   "metadata": {
    "ExecuteTime": {
     "end_time": "2024-01-29T10:55:43.617876Z",
     "start_time": "2024-01-29T10:55:43.600903Z"
    }
   },
   "outputs": [
    {
     "data": {
      "text/plain": [
       "4500416"
      ]
     },
     "execution_count": 62,
     "metadata": {},
     "output_type": "execute_result"
    }
   ],
   "source": [
    "# （137344，9，9）中存在4500416个nan\n",
    "np.count_nonzero(nan_mask_out_data[3:4,:,:,:,1:2])"
   ]
  },
  {
   "cell_type": "code",
   "execution_count": 63,
   "id": "94f50792",
   "metadata": {
    "ExecuteTime": {
     "end_time": "2024-01-29T10:55:43.622868Z",
     "start_time": "2024-01-29T10:55:43.618874Z"
    }
   },
   "outputs": [],
   "source": [
    "# 选取一个作为代表\n",
    "nan_mask_out_data_one = nan_mask_out_data[0,:,:,:,0].reshape(-1,11*11) #161024, 9, 9) -->（161024，81）    # 其中true 代表Nan"
   ]
  },
  {
   "cell_type": "code",
   "execution_count": 64,
   "id": "0ffe7ba7",
   "metadata": {
    "ExecuteTime": {
     "end_time": "2024-01-29T10:55:43.627860Z",
     "start_time": "2024-01-29T10:55:43.623866Z"
    }
   },
   "outputs": [],
   "source": [
    "# # 查看mask中Nan 的个数\n",
    "# print(np.count_nonzero(nan_mask_out_data_one))    # 2724451\n",
    "# #查看形状\n",
    "# print(nan_mask_out_data_one.shape)     # (137344, 81)\n",
    "# # 查看内容\n",
    "# nan_mask_out_data_one"
   ]
  },
  {
   "cell_type": "markdown",
   "id": "0ee08f65",
   "metadata": {},
   "source": [
    "### 为有效值大于一半的方块标注True"
   ]
  },
  {
   "cell_type": "code",
   "execution_count": 65,
   "id": "517812d6",
   "metadata": {
    "ExecuteTime": {
     "end_time": "2024-01-29T10:55:43.836524Z",
     "start_time": "2024-01-29T10:55:43.628858Z"
    }
   },
   "outputs": [],
   "source": [
    "nan_mask = [] \n",
    "for i in nan_mask_out_data_one:\n",
    "    if(np.count_nonzero(i) <=61):    #True 代表nan，当nan小于等于61时，代表有效值大于一半\n",
    "        nan_mask.append(True)\n",
    "    else:\n",
    "        nan_mask.append(False)"
   ]
  },
  {
   "cell_type": "code",
   "execution_count": 66,
   "id": "005ffe06",
   "metadata": {
    "ExecuteTime": {
     "end_time": "2024-01-29T10:55:43.845510Z",
     "start_time": "2024-01-29T10:55:43.837523Z"
    }
   },
   "outputs": [
    {
     "data": {
      "text/plain": [
       "107191"
      ]
     },
     "execution_count": 66,
     "metadata": {},
     "output_type": "execute_result"
    }
   ],
   "source": [
    "np.count_nonzero(nan_mask)  # 查看有效值个数"
   ]
  },
  {
   "cell_type": "markdown",
   "id": "76e11a66",
   "metadata": {},
   "source": [
    "### 标注lstm中的缺失值"
   ]
  },
  {
   "cell_type": "code",
   "execution_count": 67,
   "id": "6b3b4225",
   "metadata": {
    "ExecuteTime": {
     "end_time": "2024-01-29T10:55:43.929413Z",
     "start_time": "2024-01-29T10:55:43.846508Z"
    }
   },
   "outputs": [
    {
     "name": "stdout",
     "output_type": "stream",
     "text": [
      "(132, 144000, 5)\n",
      "(132, 144000, 5)\n"
     ]
    }
   ],
   "source": [
    "## 标注lstm中的缺失值\n",
    "out_data_lstm_reshape = out_data_lstm.reshape((132,-1,5))\n",
    "print(out_data_lstm_reshape.shape)\n",
    "# 获取变量 nan 掩码\n",
    "nan_mask_lstm = np.isnan(out_data_lstm_reshape)\n",
    "print(nan_mask_lstm.shape)"
   ]
  },
  {
   "cell_type": "code",
   "execution_count": 68,
   "id": "82e9b44d",
   "metadata": {
    "ExecuteTime": {
     "end_time": "2024-01-29T10:55:43.934430Z",
     "start_time": "2024-01-29T10:55:43.930373Z"
    }
   },
   "outputs": [
    {
     "data": {
      "text/plain": [
       "106839"
      ]
     },
     "execution_count": 68,
     "metadata": {},
     "output_type": "execute_result"
    }
   ],
   "source": [
    "np.count_nonzero(~nan_mask_lstm[1,:,4])  "
   ]
  },
  {
   "cell_type": "markdown",
   "id": "19d4417e",
   "metadata": {},
   "source": [
    "### 合并缺失值"
   ]
  },
  {
   "cell_type": "code",
   "execution_count": 69,
   "id": "5fbb9201",
   "metadata": {
    "ExecuteTime": {
     "end_time": "2024-01-29T10:55:43.946365Z",
     "start_time": "2024-01-29T10:55:43.937362Z"
    }
   },
   "outputs": [],
   "source": [
    "nan_mask_cat = [a and b for a, b in zip(nan_mask, ~nan_mask_lstm[0,:,0])]"
   ]
  },
  {
   "cell_type": "code",
   "execution_count": 70,
   "id": "3fee519d",
   "metadata": {
    "ExecuteTime": {
     "end_time": "2024-01-29T10:55:43.957330Z",
     "start_time": "2024-01-29T10:55:43.947355Z"
    }
   },
   "outputs": [
    {
     "data": {
      "text/plain": [
       "106512"
      ]
     },
     "execution_count": 70,
     "metadata": {},
     "output_type": "execute_result"
    }
   ],
   "source": [
    "np.count_nonzero(nan_mask_cat)  "
   ]
  },
  {
   "cell_type": "code",
   "execution_count": 71,
   "id": "b7e4d066",
   "metadata": {
    "ExecuteTime": {
     "end_time": "2024-01-29T10:55:43.969311Z",
     "start_time": "2024-01-29T10:55:43.958328Z"
    }
   },
   "outputs": [],
   "source": [
    "np.save(\"../data_test/nan_mask_cat.npy\",nan_mask_cat)"
   ]
  },
  {
   "cell_type": "markdown",
   "id": "a2a5982c",
   "metadata": {},
   "source": [
    "### 修改数据形状，使其可以通过nan_mask_cat删除无效数据"
   ]
  },
  {
   "cell_type": "code",
   "execution_count": 72,
   "id": "38b1fa1e",
   "metadata": {
    "ExecuteTime": {
     "end_time": "2024-01-29T10:55:43.975301Z",
     "start_time": "2024-01-29T10:55:43.970309Z"
    }
   },
   "outputs": [
    {
     "data": {
      "text/plain": [
       "((12, 240, 600, 15), (132, 240, 600, 5))"
      ]
     },
     "execution_count": 72,
     "metadata": {},
     "output_type": "execute_result"
    }
   ],
   "source": [
    "out_data_mean_different_lstm.shape ,out_data_lstm.shape"
   ]
  },
  {
   "cell_type": "code",
   "execution_count": 73,
   "id": "92474bcf",
   "metadata": {
    "ExecuteTime": {
     "end_time": "2024-01-29T10:55:43.984286Z",
     "start_time": "2024-01-29T10:55:43.976299Z"
    }
   },
   "outputs": [
    {
     "name": "stdout",
     "output_type": "stream",
     "text": [
      "out_data_reshape: (144000, 132, 11, 11, 5)\n",
      "out_data_y_reshape: (240, 600, 132, 15)\n",
      "out_data_y_reshape: (144000, 132, 15)\n",
      "out_data_lstm_reshape: (240, 600, 132, 5)\n",
      "out_data_lstm_reshape: (144000, 132, 5)\n",
      "out_data_mean_different_cnn_reshape: (240, 600, 12, 11, 11, 15)\n",
      "out_data_mean_different_cnn_reshape: (144000, 12, 11, 11, 15)\n",
      "out_data_mean_different_lstm_reshape: (240, 600, 12, 15)\n",
      "out_data_mean_different_lstm_reshape: (144000, 12, 15)\n"
     ]
    }
   ],
   "source": [
    "out_data_reshape =  np.transpose(out_data_reshape,(1,0,2,3,4))\n",
    "print('out_data_reshape:',out_data_reshape.shape)\n",
    "\n",
    "out_data_y_reshape =  np.transpose(out_data_y,(1,2,0,3))\n",
    "print('out_data_y_reshape:',out_data_y_reshape.shape)\n",
    "out_data_y_reshape = out_data_y_reshape.reshape(-1,132,15)\n",
    "print('out_data_y_reshape:',out_data_y_reshape.shape)\n",
    "\n",
    "out_data_lstm_reshape =  np.transpose(out_data_lstm,(1,2,0,3))\n",
    "print('out_data_lstm_reshape:',out_data_lstm_reshape.shape)\n",
    "out_data_lstm_reshape = out_data_lstm_reshape.reshape(-1,132,5)\n",
    "print('out_data_lstm_reshape:',out_data_lstm_reshape.shape) \n",
    "\n",
    "#out_data_mean_different_cnn = np.array(out_data_mean_different_cnn)\n",
    "out_data_mean_different_cnn_reshape =  np.transpose(out_data_mean_different_cnn,(1,2,0,3,4,5))\n",
    "print('out_data_mean_different_cnn_reshape:',out_data_mean_different_cnn_reshape.shape)\n",
    "out_data_mean_different_cnn_reshape = out_data_mean_different_cnn_reshape.reshape(-1,12,11,11,15)\n",
    "print('out_data_mean_different_cnn_reshape:',out_data_mean_different_cnn_reshape.shape) \n",
    "\n",
    "out_data_mean_different_lstm_reshape =  np.transpose(out_data_mean_different_lstm,(1,2,0,3))\n",
    "print('out_data_mean_different_lstm_reshape:',out_data_mean_different_lstm_reshape.shape)\n",
    "out_data_mean_different_lstm_reshape = out_data_mean_different_lstm_reshape.reshape(-1,12,15)\n",
    "print('out_data_mean_different_lstm_reshape:',out_data_mean_different_lstm_reshape.shape) \n"
   ]
  },
  {
   "cell_type": "markdown",
   "id": "1c6c2d01",
   "metadata": {},
   "source": [
    "### 开始删除无效数据"
   ]
  },
  {
   "cell_type": "code",
   "execution_count": 74,
   "id": "77d6d2e4",
   "metadata": {
    "ExecuteTime": {
     "end_time": "2024-01-29T10:55:43.989282Z",
     "start_time": "2024-01-29T10:55:43.985285Z"
    }
   },
   "outputs": [
    {
     "data": {
      "text/plain": [
       "(144000, 132, 15)"
      ]
     },
     "execution_count": 74,
     "metadata": {},
     "output_type": "execute_result"
    }
   ],
   "source": [
    "out_data_y_reshape.shape"
   ]
  },
  {
   "cell_type": "code",
   "execution_count": 75,
   "id": "c76bfa7c",
   "metadata": {
    "ExecuteTime": {
     "end_time": "2024-01-29T10:56:22.793849Z",
     "start_time": "2024-01-29T10:55:43.990277Z"
    }
   },
   "outputs": [],
   "source": [
    "out_data_reshape = out_data_reshape[nan_mask_cat]\n",
    "out_data_y_reshape = out_data_y_reshape[nan_mask_cat]\n",
    "out_data_lstm_reshape = out_data_lstm_reshape[nan_mask_cat]\n",
    "out_data_mean_different_cnn_reshape = out_data_mean_different_cnn_reshape[nan_mask_cat]\n",
    "out_data_mean_different_lstm_reshape = out_data_mean_different_lstm_reshape[nan_mask_cat]"
   ]
  },
  {
   "cell_type": "code",
   "execution_count": 76,
   "id": "98a241ae",
   "metadata": {
    "ExecuteTime": {
     "end_time": "2024-01-29T10:56:22.799839Z",
     "start_time": "2024-01-29T10:56:22.794847Z"
    }
   },
   "outputs": [
    {
     "name": "stdout",
     "output_type": "stream",
     "text": [
      "(106512, 132, 11, 11, 5) (106512, 132, 15) (106512, 132, 5) (106512, 12, 11, 11, 15) (106512, 12, 15)\n"
     ]
    }
   ],
   "source": [
    "print(out_data_reshape.shape,out_data_y_reshape.shape,out_data_lstm_reshape.shape,\n",
    "      out_data_mean_different_cnn_reshape.shape,out_data_mean_different_lstm_reshape.shape)"
   ]
  },
  {
   "cell_type": "markdown",
   "id": "767a59a2",
   "metadata": {},
   "source": [
    "### 使用0来填充Nan"
   ]
  },
  {
   "cell_type": "code",
   "execution_count": 77,
   "id": "71ec57be",
   "metadata": {
    "ExecuteTime": {
     "end_time": "2024-01-29T10:58:56.578436Z",
     "start_time": "2024-01-29T10:56:22.800837Z"
    }
   },
   "outputs": [],
   "source": [
    "out_data_reshape = np.nan_to_num(out_data_reshape, nan=0)   # (103952, 132, 9, 9, 5) \n",
    "out_data_y_reshape = np.nan_to_num(out_data_y_reshape, nan=0)  #(103952, 132, 15)\n",
    "out_data_lstm_reshape = np.nan_to_num(out_data_lstm_reshape, nan=0)\n",
    "out_data_mean_different_cnn_reshape = np.nan_to_num(out_data_mean_different_cnn_reshape, nan=0)\n",
    "out_data_mean_different_lstm_reshape = np.nan_to_num(out_data_mean_different_lstm_reshape, nan=0)"
   ]
  },
  {
   "cell_type": "markdown",
   "id": "27e0c0a4",
   "metadata": {},
   "source": [
    "# 验证集和测试集的划分"
   ]
  },
  {
   "cell_type": "markdown",
   "id": "c55523f8",
   "metadata": {},
   "source": [
    "## 对数据进行reshape,以进行数据集的划分"
   ]
  },
  {
   "cell_type": "code",
   "execution_count": 78,
   "id": "430c4b21",
   "metadata": {
    "ExecuteTime": {
     "end_time": "2024-01-29T10:58:56.583428Z",
     "start_time": "2024-01-29T10:58:56.579435Z"
    },
    "code_folding": []
   },
   "outputs": [],
   "source": [
    "# print(out_data_mean_different_reshape.shape,mean_different.shape)"
   ]
  },
  {
   "cell_type": "code",
   "execution_count": 79,
   "id": "94f288cc",
   "metadata": {
    "ExecuteTime": {
     "end_time": "2024-01-29T10:58:56.590417Z",
     "start_time": "2024-01-29T10:58:56.584427Z"
    }
   },
   "outputs": [
    {
     "name": "stdout",
     "output_type": "stream",
     "text": [
      "out_data_reshape: (132, 106512, 11, 11, 5)\n",
      "out_data_y_reshape: (132, 106512, 15)\n",
      "out_data_lstm_reshape: (132, 106512, 5)\n",
      "out_data_mean_different_cnn_reshape (12, 106512, 11, 11, 15)\n",
      "out_data_mean_different_lstm_reshape (12, 106512, 15)\n"
     ]
    }
   ],
   "source": [
    "# 将时间放到前面\n",
    "out_data_reshape = np.transpose(out_data_reshape,(1,0,2,3,4))\n",
    "print('out_data_reshape:',out_data_reshape.shape)\n",
    "out_data_y_reshape =  np.transpose(out_data_y_reshape,(1,0,2))\n",
    "print('out_data_y_reshape:',out_data_y_reshape.shape)\n",
    "out_data_lstm_reshape =  np.transpose(out_data_lstm_reshape,(1,0,2))\n",
    "print('out_data_lstm_reshape:',out_data_lstm_reshape.shape)\n",
    "\n",
    "out_data_mean_different_cnn_reshape = np.transpose(out_data_mean_different_cnn_reshape,(1,0,2,3,4))\n",
    "print('out_data_mean_different_cnn_reshape',out_data_mean_different_cnn_reshape.shape)\n",
    "out_data_mean_different_lstm_reshape = np.transpose(out_data_mean_different_lstm_reshape,(1,0,2))\n",
    "print('out_data_mean_different_lstm_reshape',out_data_mean_different_lstm_reshape.shape)"
   ]
  },
  {
   "cell_type": "code",
   "execution_count": 80,
   "id": "2d4636b2",
   "metadata": {
    "ExecuteTime": {
     "end_time": "2024-01-29T10:58:56.594411Z",
     "start_time": "2024-01-29T10:58:56.591416Z"
    }
   },
   "outputs": [],
   "source": [
    "# np.save(\"../data_test/out_data_reshape.npy\",out_data_reshape)\n",
    "# np.save(\"../data_test/out_data_y_reshape.npy\",out_data_y_reshape)\n",
    "# np.save(\"../data_test/out_data_lstm_reshape.npy\",out_data_lstm_reshape)\n",
    "# np.save(\"../data_test/out_data_mean_different_cnn_reshape.npy\",out_data_mean_different_cnn_reshape)\n",
    "# np.save(\"../data_test/out_data_mean_different_lstm_reshape.npy\",out_data_mean_different_lstm_reshape)"
   ]
  },
  {
   "cell_type": "markdown",
   "id": "70afd9ec",
   "metadata": {},
   "source": [
    "### 使用每个表面数据减去平均差值"
   ]
  },
  {
   "cell_type": "code",
   "execution_count": 81,
   "id": "566290c4",
   "metadata": {
    "ExecuteTime": {
     "end_time": "2024-01-29T10:59:28.073766Z",
     "start_time": "2024-01-29T10:58:56.595409Z"
    }
   },
   "outputs": [
    {
     "name": "stdout",
     "output_type": "stream",
     "text": [
      "(1, 12, 106512, 11, 11, 5)\n",
      "(11, 12, 106512, 11, 11, 5)\n",
      "(132, 106512, 11, 11, 5)\n"
     ]
    }
   ],
   "source": [
    "'''当前运行的是30-150m的代码 因此写的是out_data_mean_different_cnn_reshape[:,:,:,:,:5]， 200-500m就是5:10 ,600-1000m就是10:'''\n",
    "\n",
    "out_data_mean_different_cnn_reshape_1 = np.expand_dims(out_data_mean_different_cnn_reshape[:,:,:,:,:5], axis=0)\n",
    "print(out_data_mean_different_cnn_reshape_1.shape) # 扩展第一个维度    (1, 12, 106512, 11, 11, 5)\n",
    "out_data_mean_different_cnn_reshape_1 = np.repeat(out_data_mean_different_cnn_reshape_1, repeats=11, axis=0)\n",
    "print(out_data_mean_different_cnn_reshape_1.shape) # 将第一个维度重复11次    (11, 12, 106512, 11, 11, 5)\n",
    "out_data_mean_different_cnn_reshape_1 = out_data_mean_different_cnn_reshape_1.reshape(-1,106512, 11, 11, 5)\n",
    "print(out_data_mean_different_cnn_reshape_1.shape) #将前两个维度相乘    (132, 106512, 11, 11, 5)"
   ]
  },
  {
   "cell_type": "code",
   "execution_count": 82,
   "id": "163be0ec",
   "metadata": {
    "ExecuteTime": {
     "end_time": "2024-01-29T11:01:17.760300Z",
     "start_time": "2024-01-29T10:59:28.074765Z"
    }
   },
   "outputs": [],
   "source": [
    "# 使用每个表面数据减去这个差值,得到最终结果。out_data_reshape[:,:,:,:,4:]代表sst\n",
    "end_cnn_different = (np.repeat(out_data_reshape[:,:,:,:,4:], repeats=5, axis=-1) \n",
    "                     -out_data_mean_different_cnn_reshape_1) "
   ]
  },
  {
   "cell_type": "code",
   "execution_count": 83,
   "id": "fbbb1655",
   "metadata": {
    "ExecuteTime": {
     "end_time": "2024-01-29T11:01:17.765292Z",
     "start_time": "2024-01-29T11:01:17.762297Z"
    }
   },
   "outputs": [],
   "source": [
    "#np.save(\"../data_test/end_cnn_different.npy\",end_cnn_different)"
   ]
  },
  {
   "cell_type": "code",
   "execution_count": 84,
   "id": "ebded1a9",
   "metadata": {
    "ExecuteTime": {
     "end_time": "2024-01-29T11:01:18.202588Z",
     "start_time": "2024-01-29T11:01:17.766290Z"
    }
   },
   "outputs": [
    {
     "name": "stdout",
     "output_type": "stream",
     "text": [
      "(1, 12, 106512, 5)\n",
      "(11, 12, 106512, 5)\n",
      "(132, 106512, 5)\n"
     ]
    }
   ],
   "source": [
    "'''当前运行的是30-150m的代码 因此写的是out_data_mean_different_lstm_reshape[:,:,:,:,:5]， 200-500m就是5:10 ,600-1000m就是10:'''\n",
    "\n",
    "out_data_mean_different_lstm_reshape_1 = np.expand_dims(out_data_mean_different_lstm_reshape[:,:,:5], axis=0)\n",
    "print(out_data_mean_different_lstm_reshape_1.shape)\n",
    "out_data_mean_different_lstm_reshape_1 = np.repeat(out_data_mean_different_lstm_reshape_1, repeats=11, axis=0)\n",
    "print(out_data_mean_different_lstm_reshape_1.shape)\n",
    "out_data_mean_different_lstm_reshape_1 = out_data_mean_different_lstm_reshape_1.reshape(-1,106512, 5)\n",
    "print(out_data_mean_different_lstm_reshape_1.shape)"
   ]
  },
  {
   "cell_type": "code",
   "execution_count": 85,
   "id": "693ba432",
   "metadata": {
    "ExecuteTime": {
     "end_time": "2024-01-29T11:01:19.268873Z",
     "start_time": "2024-01-29T11:01:18.203587Z"
    },
    "code_folding": []
   },
   "outputs": [],
   "source": [
    "# 使用每个表面数据减去这个差值,得到最终结果。out_data_lstm_reshape[:,:,4:]代表sst\n",
    "end_lstm_different = (np.repeat(out_data_lstm_reshape[:,:,4:], repeats=5, axis=-1) \n",
    "                     -out_data_mean_different_lstm_reshape_1) "
   ]
  },
  {
   "cell_type": "markdown",
   "id": "4b2e51ef",
   "metadata": {},
   "source": [
    "## 将数据进行堆叠"
   ]
  },
  {
   "cell_type": "code",
   "execution_count": 86,
   "id": "e5f03f08",
   "metadata": {
    "ExecuteTime": {
     "end_time": "2024-01-29T11:01:28.213516Z",
     "start_time": "2024-01-29T11:01:19.269871Z"
    }
   },
   "outputs": [
    {
     "name": "stdout",
     "output_type": "stream",
     "text": [
      "(123, 10, 106512, 5)\n"
     ]
    }
   ],
   "source": [
    "available = len(out_data_lstm_reshape) \n",
    "predict = 1\n",
    "\n",
    "out_data_lstm_reshape_shape = out_data_lstm_reshape.shape[1:]\n",
    "N_stack = 10\n",
    "X_len = available - (N_stack-1)\n",
    "\n",
    "X_lstm = np.zeros(shape = (X_len, N_stack,out_data_lstm_reshape_shape[0],out_data_lstm_reshape_shape[1]))  \n",
    "for i in range(X_len):\n",
    "    X_lstm[i] = np.stack(out_data_lstm_reshape[i:i+N_stack])\n",
    "    #print(i)\n",
    "\n",
    "print(X_lstm.shape)\n",
    "#print(Y.shape)"
   ]
  },
  {
   "cell_type": "code",
   "execution_count": 87,
   "id": "0a47af65",
   "metadata": {
    "ExecuteTime": {
     "end_time": "2024-01-29T11:01:36.211687Z",
     "start_time": "2024-01-29T11:01:28.214514Z"
    }
   },
   "outputs": [
    {
     "name": "stdout",
     "output_type": "stream",
     "text": [
      "(123, 10, 106512, 5)\n"
     ]
    }
   ],
   "source": [
    "# 对end_lstm_different进行堆叠\n",
    "\n",
    "available = len(end_lstm_different) \n",
    "predict = 1\n",
    "\n",
    "end_lstm_different_shape = end_lstm_different.shape[1:]  #(106512,16)\n",
    "\n",
    "N_stack = 10\n",
    "X_len = available - (N_stack-1)\n",
    "\n",
    "X_lstm_different = np.zeros(shape = (X_len, N_stack,end_lstm_different_shape[0],end_lstm_different_shape[1]))  \n",
    "\n",
    "for i in range(X_len):\n",
    "    X_lstm_different[i] = np.stack(end_lstm_different[i:i+N_stack])\n",
    "    #print(i)\n",
    "\n",
    "print(X_lstm_different.shape)\n",
    "#print(Y.shape)"
   ]
  },
  {
   "cell_type": "markdown",
   "id": "65e55969",
   "metadata": {},
   "source": [
    "## 统一时间"
   ]
  },
  {
   "cell_type": "code",
   "execution_count": 88,
   "id": "17139f60",
   "metadata": {
    "ExecuteTime": {
     "end_time": "2024-01-29T11:01:36.217678Z",
     "start_time": "2024-01-29T11:01:36.212686Z"
    }
   },
   "outputs": [
    {
     "name": "stdout",
     "output_type": "stream",
     "text": [
      "(123, 10, 106512, 5) (123, 106512, 15) (123, 106512, 11, 11, 5) (123, 106512, 11, 11, 5) (123, 10, 106512, 5)\n"
     ]
    }
   ],
   "source": [
    "Y = out_data_y_reshape[9:]\n",
    "X_cnn = out_data_reshape[9:]\n",
    "X_cnn_different = end_cnn_different[9:]\n",
    "print(X_lstm.shape,Y.shape,X_cnn.shape,X_cnn_different.shape,X_lstm_different.shape)"
   ]
  },
  {
   "cell_type": "markdown",
   "id": "050822a2",
   "metadata": {},
   "source": [
    "## 将差值合并"
   ]
  },
  {
   "cell_type": "code",
   "execution_count": 89,
   "id": "e0fc47d4",
   "metadata": {
    "ExecuteTime": {
     "end_time": "2024-01-29T11:10:04.811532Z",
     "start_time": "2024-01-29T11:01:36.218676Z"
    }
   },
   "outputs": [
    {
     "name": "stdout",
     "output_type": "stream",
     "text": [
      "X_cnn.shape: (123, 106512, 11, 11, 10) X_lstm.shape: (123, 10, 106512, 10)\n"
     ]
    }
   ],
   "source": [
    "X_cnn = np.concatenate((X_cnn,X_cnn_different),axis=-1)      # 表面数据和差值合并为X_cnn\n",
    "X_lstm = np.concatenate((X_lstm,X_lstm_different),axis=-1)\n",
    "\n",
    "print('X_cnn.shape:',X_cnn.shape,'X_lstm.shape:',X_lstm.shape)"
   ]
  },
  {
   "cell_type": "code",
   "execution_count": 3,
   "id": "c5ea45b8",
   "metadata": {
    "ExecuteTime": {
     "end_time": "2024-03-01T13:15:27.328483Z",
     "start_time": "2024-03-01T13:14:15.995142Z"
    },
    "code_folding": []
   },
   "outputs": [],
   "source": [
    "'''\n",
    "当前运行的是30-150m的代码 因此写的是X_cnn_30_150m.npy， \n",
    "200-500m就是X_cnn_200_500m.npy ,\n",
    "600-1000m就是X_cnn_600_1000m.npy'''\n",
    "\n",
    "# np.save(\"../data_test/xy/X_cnn_30_150m.npy\",X_cnn)\n",
    "# np.save(\"../data_test/xy/X_lstm_30_150m.npy\",X_lstm)\n",
    "# np.save(\"../data_test/xy/Y_30_150m.npy\",Y)\n",
    "\n",
    "#30,50,100,125,150\n",
    "X_cnn = np.load(\"../data_test/xy/X_cnn_30_150m.npy\")\n",
    "X_lstm = np.load(\"../data_test/xy/X_lstm_30_150m.npy\")\n",
    "Y = np.load(\"../data_test/xy/Y_30_150m.npy\")"
   ]
  },
  {
   "cell_type": "code",
   "execution_count": 4,
   "id": "9c05c192",
   "metadata": {
    "ExecuteTime": {
     "end_time": "2024-03-01T13:15:27.333475Z",
     "start_time": "2024-03-01T13:15:27.329481Z"
    }
   },
   "outputs": [],
   "source": [
    "# Y.shape \n",
    "# ## 获取Y的平均值\n",
    "# Y_mean = np.nanmean(Y,axis=0)\n",
    "# Y_mean.shape \n",
    "# Y_anom = Y - Y_mean\n",
    "# Y =  Y_anom"
   ]
  },
  {
   "cell_type": "code",
   "execution_count": 5,
   "id": "15eb01fa",
   "metadata": {
    "ExecuteTime": {
     "end_time": "2024-03-01T13:15:27.338467Z",
     "start_time": "2024-03-01T13:15:27.334473Z"
    },
    "code_folding": [
     0
    ]
   },
   "outputs": [],
   "source": [
    "# # 获取当前 Jupyter 环境中的所有全局变量\n",
    "# all_vars = list(globals().keys())\n",
    "\n",
    "# # 要保留的变量列表\n",
    "# keep_vars = ['X_cnn', 'X_lstm', 'Y']\n",
    "\n",
    "# # 删除除 keep_vars 中指定的变量以外的所有变量\n",
    "# for var in all_vars:\n",
    "#     if var not in keep_vars and not var.startswith('_'):\n",
    "#         del globals()[var]"
   ]
  },
  {
   "cell_type": "markdown",
   "id": "09f443c2",
   "metadata": {},
   "source": [
    "## 划分数据集"
   ]
  },
  {
   "cell_type": "code",
   "execution_count": 6,
   "id": "3c7084bb",
   "metadata": {
    "ExecuteTime": {
     "end_time": "2024-03-01T13:15:27.346455Z",
     "start_time": "2024-03-01T13:15:27.339465Z"
    }
   },
   "outputs": [
    {
     "name": "stdout",
     "output_type": "stream",
     "text": [
      "(111, 106512, 11, 11, 10) (111, 10, 106512, 10) (111, 106512, 15) (12, 106512, 11, 11, 10) (12, 10, 106512, 10) (12, 106512, 15)\n"
     ]
    }
   ],
   "source": [
    "# 最后十二个月的数据作为test\n",
    "test_num = 111\n",
    "x_cnn_train = X_cnn[:test_num]\n",
    "x_lstm_train = X_lstm[:test_num]\n",
    "y_train = Y[:test_num]\n",
    "\n",
    "x_cnn_test = X_cnn[test_num:]\n",
    "x_lstm_test = X_lstm[test_num:]\n",
    "y_test = Y[test_num:]\n",
    "\n",
    "print(x_cnn_train.shape,x_lstm_train.shape,y_train.shape,x_cnn_test.shape,x_lstm_test.shape,y_test.shape)"
   ]
  },
  {
   "cell_type": "code",
   "execution_count": 7,
   "id": "1956c2c2",
   "metadata": {
    "ExecuteTime": {
     "end_time": "2024-03-01T13:15:27.351446Z",
     "start_time": "2024-03-01T13:15:27.347452Z"
    }
   },
   "outputs": [],
   "source": [
    "# 将前两个维度进行合并  时间*(lat*lon) = batchsize\n",
    "x_cnn_train = np.reshape(x_cnn_train,(-1,11,11,10))\n",
    "x_cnn_test = np.reshape(x_cnn_test,(-1,11,11,10))\n",
    "\n",
    "y_train = np.reshape(y_train,(-1,15))\n",
    "y_test = np.reshape(y_test,(-1,15))"
   ]
  },
  {
   "cell_type": "code",
   "execution_count": 8,
   "id": "131d5503",
   "metadata": {
    "ExecuteTime": {
     "end_time": "2024-03-01T13:15:31.620583Z",
     "start_time": "2024-03-01T13:15:27.352445Z"
    }
   },
   "outputs": [],
   "source": [
    "x_lstm_train = np.transpose(x_lstm_train, (0,2,1,3))  # (115, 6, 103623, 5)  ---> (115, 103623, 6, 5)\n",
    "x_lstm_train = x_lstm_train.reshape((-1,10,10))          #(115, 103623, 6, 5)  ----->(115*103623, 6, 5)\n",
    "x_lstm_test = np.transpose(x_lstm_test, (0,2,1,3))\n",
    "x_lstm_test = x_lstm_test.reshape((-1,10,10))"
   ]
  },
  {
   "cell_type": "code",
   "execution_count": 9,
   "id": "e6d35745",
   "metadata": {
    "ExecuteTime": {
     "end_time": "2024-03-01T13:15:31.626574Z",
     "start_time": "2024-03-01T13:15:31.621582Z"
    }
   },
   "outputs": [
    {
     "name": "stdout",
     "output_type": "stream",
     "text": [
      "x_lstm_train (11822832, 10, 10)\n",
      "x_cnn_train (11822832, 11, 11, 10)\n",
      "y_train (11822832, 15)\n",
      "x_cnn_test: (1278144, 11, 11, 10)\n",
      "x_lstm_test: (1278144, 10, 10)\n",
      "y_test (1278144, 15)\n"
     ]
    }
   ],
   "source": [
    "print('x_lstm_train',x_lstm_train.shape)\n",
    "print('x_cnn_train',x_cnn_train.shape)\n",
    "print('y_train',y_train.shape)\n",
    "\n",
    "print('x_cnn_test:',x_cnn_test.shape)\n",
    "print('x_lstm_test:',x_lstm_test.shape)\n",
    "print('y_test',y_test.shape)"
   ]
  },
  {
   "cell_type": "markdown",
   "id": "ed49c22b",
   "metadata": {},
   "source": [
    "## 划分训练数据和目标数据"
   ]
  },
  {
   "cell_type": "code",
   "execution_count": 10,
   "id": "5cb18341",
   "metadata": {
    "ExecuteTime": {
     "end_time": "2024-03-01T13:16:34.836955Z",
     "start_time": "2024-03-01T13:15:31.627572Z"
    }
   },
   "outputs": [],
   "source": [
    "x_cnn_train_split, x_cnn_val, y_train_split, y_val = train_test_split(x_cnn_train , y_train, test_size=0.3, random_state=100)\n",
    "x_lstm_train_split, x_lstm_val, y_train_split_2, y_val_2 = train_test_split(x_lstm_train, y_train, test_size=0.3, random_state=100)"
   ]
  },
  {
   "cell_type": "code",
   "execution_count": 11,
   "id": "da724197",
   "metadata": {
    "ExecuteTime": {
     "end_time": "2024-03-01T13:16:34.842945Z",
     "start_time": "2024-03-01T13:16:34.837953Z"
    },
    "code_folding": [
     0
    ]
   },
   "outputs": [
    {
     "name": "stdout",
     "output_type": "stream",
     "text": [
      "x_cnn_train_split (8275982, 11, 11, 10)\n",
      "x_lstm_train_split (8275982, 10, 10)\n",
      "y_train_split (8275982, 15)\n",
      "x_cnn_test (1278144, 11, 11, 10)\n",
      "x_lstm_test (1278144, 10, 10)\n",
      "y_test (1278144, 15)\n",
      "x_cnn_val (3546850, 11, 11, 10)\n",
      "x_lstm_val (3546850, 10, 10)\n",
      "y_val (3546850, 15)\n"
     ]
    }
   ],
   "source": [
    "# 输出形状\n",
    "print('x_cnn_train_split',x_cnn_train_split.shape)\n",
    "print('x_lstm_train_split',x_lstm_train_split.shape)\n",
    "print('y_train_split',y_train_split.shape)\n",
    "\n",
    "print('x_cnn_test',x_cnn_test.shape)\n",
    "print('x_lstm_test',x_lstm_test.shape)\n",
    "print('y_test',y_test.shape)\n",
    "\n",
    "print('x_cnn_val',x_cnn_val.shape)\n",
    "print('x_lstm_val',x_lstm_val.shape)\n",
    "print('y_val',y_val.shape)"
   ]
  },
  {
   "cell_type": "markdown",
   "id": "78df89de",
   "metadata": {},
   "source": [
    "# 特征归一化"
   ]
  },
  {
   "cell_type": "code",
   "execution_count": 12,
   "id": "00456abf",
   "metadata": {
    "ExecuteTime": {
     "end_time": "2024-03-01T13:16:34.848936Z",
     "start_time": "2024-03-01T13:16:34.844942Z"
    },
    "code_folding": [
     0
    ]
   },
   "outputs": [],
   "source": [
    "# 记录数据集的形状\n",
    "# train \n",
    "x_cnn_train_split_shape = x_cnn_train_split.shape\n",
    "x_lstm_train_split_shape = x_lstm_train_split.shape \n",
    "y_train_split_shape  = y_train_split.shape\n",
    "\n",
    "# test \n",
    "x_cnn_test_shape = x_cnn_test.shape\n",
    "x_lstm_test_shape = x_lstm_test.shape\n",
    "y_test_shape = y_test.shape\n",
    "\n",
    "#val\n",
    "x_cnn_val_shape = x_cnn_val.shape\n",
    "x_lstm_val_shape = x_lstm_val.shape\n",
    "y_val_shape = y_val.shape"
   ]
  },
  {
   "cell_type": "code",
   "execution_count": 13,
   "id": "3f9f23c3",
   "metadata": {
    "ExecuteTime": {
     "end_time": "2024-03-01T13:21:32.155793Z",
     "start_time": "2024-03-01T13:16:34.849934Z"
    },
    "code_folding": [
     0
    ]
   },
   "outputs": [],
   "source": [
    "# 变量标准化\n",
    "scaler_f = StandardScaler()\n",
    "scaler_f_2 = StandardScaler()\n",
    "x_cnn_train_split = scaler_f.fit_transform(x_cnn_train_split.reshape(-1,x_cnn_train_split_shape[3])) \n",
    "x_lstm_train_split = scaler_f_2.fit_transform(x_lstm_train_split.reshape(-1,x_lstm_train_split_shape[2])) \n",
    "\n",
    "x_cnn_test = scaler_f.transform(x_cnn_test.reshape(-1,x_cnn_test_shape[3]))\n",
    "x_lstm_test = scaler_f_2.transform(x_lstm_test.reshape(-1,x_lstm_test_shape[2]))\n",
    "\n",
    "x_cnn_val = scaler_f.transform(x_cnn_val.reshape(-1,x_cnn_val_shape[3]))\n",
    "x_lstm_val = scaler_f_2.transform(x_lstm_val.reshape(-1,x_lstm_val_shape[2]))"
   ]
  },
  {
   "cell_type": "code",
   "execution_count": 14,
   "id": "7ca1f00d",
   "metadata": {
    "ExecuteTime": {
     "end_time": "2024-03-01T13:21:35.024176Z",
     "start_time": "2024-03-01T13:21:32.156792Z"
    },
    "code_folding": []
   },
   "outputs": [],
   "source": [
    "# 目标值标准化\n",
    "scaler_l = StandardScaler()\n",
    "y_train_split = scaler_l.fit_transform(y_train_split.reshape(-1,y_train_split_shape[1])) \n",
    "y_test = scaler_l.transform(y_test.reshape(-1,y_test_shape[1])) \n",
    "y_val = scaler_l.transform(y_val.reshape(-1,y_val_shape[1])) "
   ]
  },
  {
   "cell_type": "code",
   "execution_count": 15,
   "id": "3e5e1f3d",
   "metadata": {
    "ExecuteTime": {
     "end_time": "2024-03-01T13:21:35.030168Z",
     "start_time": "2024-03-01T13:21:35.025174Z"
    },
    "code_folding": [
     0
    ]
   },
   "outputs": [],
   "source": [
    "# reshape\n",
    "x_cnn_train_split = np.reshape(x_cnn_train_split,(-1,11,11,10))\n",
    "x_cnn_test = np.reshape(x_cnn_test,(-1,11,11,10))\n",
    "x_cnn_val = np.reshape(x_cnn_val,(-1,11,11,10))\n",
    "\n",
    "\n",
    "x_lstm_train_split = np.reshape(x_lstm_train_split,(-1,10,10))\n",
    "x_lstm_test = np.reshape(x_lstm_test,(-1,10,10))\n",
    "x_lstm_val = np.reshape(x_lstm_val,(-1,10,10))\n",
    "\n",
    "\n",
    "y_train_split = np.reshape(y_train_split,(-1,15))\n",
    "y_test = np.reshape(y_test,(-1,15))\n",
    "y_val = np.reshape(y_val,(-1,15))"
   ]
  },
  {
   "cell_type": "code",
   "execution_count": 16,
   "id": "5afd48c3",
   "metadata": {
    "ExecuteTime": {
     "end_time": "2024-03-01T13:21:35.036156Z",
     "start_time": "2024-03-01T13:21:35.031165Z"
    },
    "code_folding": [
     0
    ]
   },
   "outputs": [
    {
     "name": "stdout",
     "output_type": "stream",
     "text": [
      "x_cnn_train_split (8275982, 11, 11, 10)\n",
      "x_lstm_train_split (8275982, 10, 10)\n",
      "y_train_split (8275982, 15)\n",
      "x_cnn_test (1278144, 11, 11, 10)\n",
      "x_lstm_test (1278144, 10, 10)\n",
      "y_test (1278144, 15)\n",
      "x_cnn_val (3546850, 11, 11, 10)\n",
      "x_lstm_val (3546850, 10, 10)\n",
      "y_val (3546850, 15)\n"
     ]
    }
   ],
   "source": [
    "# 输出形状\n",
    "print('x_cnn_train_split',x_cnn_train_split.shape)\n",
    "print('x_lstm_train_split',x_lstm_train_split.shape)\n",
    "print('y_train_split',y_train_split.shape)\n",
    "\n",
    "print('x_cnn_test',x_cnn_test.shape)\n",
    "print('x_lstm_test',x_lstm_test.shape)\n",
    "print('y_test',y_test.shape)\n",
    "\n",
    "print('x_cnn_val',x_cnn_val.shape)\n",
    "print('x_lstm_val',x_lstm_val.shape)\n",
    "print('y_val',y_val.shape)"
   ]
  },
  {
   "cell_type": "code",
   "execution_count": null,
   "id": "838bc1e4",
   "metadata": {},
   "outputs": [],
   "source": []
  },
  {
   "cell_type": "markdown",
   "id": "04d445bc",
   "metadata": {},
   "source": [
    "# 定义网络结构"
   ]
  },
  {
   "cell_type": "markdown",
   "id": "101c2c59",
   "metadata": {},
   "source": [
    "## 卷积注意力"
   ]
  },
  {
   "cell_type": "code",
   "execution_count": 17,
   "id": "787e5c21",
   "metadata": {
    "ExecuteTime": {
     "end_time": "2024-03-01T13:21:35.040150Z",
     "start_time": "2024-03-01T13:21:35.037155Z"
    },
    "code_folding": []
   },
   "outputs": [],
   "source": [
    "# arr = np.random.rand(2,5, 5, 6)   \n",
    "# arr2 = np.random.rand(2,1, 1, 6)  \n",
    "# a = arr * arr2\n",
    "# print(a.shape)"
   ]
  },
  {
   "cell_type": "code",
   "execution_count": null,
   "id": "af5a1c04",
   "metadata": {
    "ExecuteTime": {
     "start_time": "2024-02-21T14:41:07.558Z"
    },
    "code_folding": []
   },
   "outputs": [],
   "source": [
    "# 卷积注意力\n",
    "def ChannelAttention(inputs,in_planes, ratio=2):\n",
    "    \n",
    "    avg_out= layers.GlobalAveragePooling2D()\n",
    "    max_out= layers.GlobalMaxPooling2D()\n",
    "\n",
    "    fc1 = layers.Dense(in_planes//ratio, kernel_initializer='he_normal',\n",
    "                            kernel_regularizer=regularizers.l2(5e-4),\n",
    "                            activation=tf.nn.relu,\n",
    "                            use_bias=True, bias_initializer='zeros')\n",
    "    fc2 = layers.Dense(in_planes, kernel_initializer='he_normal',\n",
    "                            kernel_regularizer=regularizers.l2(5e-4),\n",
    "                            use_bias=True, bias_initializer='zeros')\n",
    "\n",
    "    \n",
    "    avg_out = avg_out(inputs)\n",
    "    max_out = max_out(inputs)\n",
    "    out = tf.stack([avg_out, max_out], axis=1)  # shape=(None, 2, fea_num)\n",
    "    out = fc2(fc1(out))\n",
    "    out = tf.reduce_sum(out, axis=1)             # shape=(256, 512)\n",
    "    out = tf.nn.sigmoid(out)\n",
    "    out = layers.Reshape((1, 1, out.shape[1]))(out)\n",
    "\n",
    "    return  inputs * out\n",
    "\n",
    "def regularized_padded_conv(*args, **kwargs):\n",
    "    return layers.Conv2D(*args, **kwargs, padding='same', use_bias=False,\n",
    "                         kernel_initializer='he_normal',\n",
    "                         kernel_regularizer=regularizers.l2(5e-4))\n",
    "\n",
    "def SpatialAttention(inputs,kernel_size=5):\n",
    "    conv1 = regularized_padded_conv(1, kernel_size=kernel_size, strides=1, activation='sigmoid')\n",
    "    avg_out = tf.reduce_mean(inputs, axis=3)\n",
    "    max_out = tf.reduce_max(inputs, axis=3)\n",
    "    out = tf.stack([avg_out, max_out], axis=-1)             # 创建一个维度,拼接到一起concat。\n",
    "    out = conv1(out)\n",
    "    return inputs * out\n",
    "\n",
    "\n",
    "def cbam_block(inputs, in_planes,ratio=2):\n",
    "\n",
    "    cbam_feature = ChannelAttention(inputs, in_planes,ratio)\n",
    "    cbam_feature = SpatialAttention(cbam_feature)\n",
    "    return cbam_feature"
   ]
  },
  {
   "cell_type": "markdown",
   "id": "8d6d9dd5",
   "metadata": {},
   "source": [
    "## 一对多注意力"
   ]
  },
  {
   "cell_type": "code",
   "execution_count": null,
   "id": "152fff89",
   "metadata": {
    "ExecuteTime": {
     "start_time": "2024-02-21T14:41:08.366Z"
    },
    "code_folding": []
   },
   "outputs": [],
   "source": [
    "#  一对多注意力\n",
    "# 注意力层的定制实现，以适应多次注意力调用\n",
    "class Attention(Layer):\n",
    "    def __init__(self, units=128, **kwargs):\n",
    "        self.units = units\n",
    "        super().__init__(**kwargs)\n",
    "        \n",
    "    def __call__(self, inputs):\n",
    "        \"\"\"\n",
    "        Keras的多对一注意力机制。\n",
    "        @param inputs: 3D tensor with shape (batch_size, time_steps, input_dim).\n",
    "        @return: 2D tensor with shape (batch_size, 128)\n",
    "        \"\"\"\n",
    "        \n",
    "        hidden_states = inputs\n",
    "        hidden_size = int(hidden_states.shape[2])  \n",
    "        \n",
    "        # Inside dense layer 内部全连接层\n",
    "        #              hidden_states            dot               W            =>           score_first_part\n",
    "        # (batch_size, time_steps, hidden_size) dot (hidden_size, hidden_size) => (batch_size, time_steps, hidden_size)\n",
    "        # W是可训练权重矩阵 \n",
    "        \n",
    "        score_first_part = Dense(hidden_size, use_bias=False)(hidden_states) \n",
    "        # 进行一次全连接，本质上没有太大意义，只是为了增加一下模型复杂度，\n",
    "        # 并且改变一下前T个时间步的特征表示,这里其实也可以不进行全连接，直接使用hidden_states\n",
    "        \n",
    "        #            score_first_part           dot        last_hidden_state     => attention_weights\n",
    "        # (batch_size, time_steps, hidden_size) dot   (batch_size, hidden_size)  => (batch_size, time_steps)\n",
    "        # # 注意力，增加对最后一个时间步长的关注\n",
    "        \n",
    "        h_t = Lambda(lambda x: x[:, -1, :], output_shape=(hidden_size,))(hidden_states)  # 取出最后一个时间步的特征\n",
    "        score = Dot(axes=[1, 2])([h_t, score_first_part])  # 将最后一个时间步长与前T个时间步长进行点积\n",
    "        attention_weights = Activation('softmax')(score)   # 求权重（将权值通过softmax进行归一化，得到直接可用的权重）\n",
    "        \n",
    "        \n",
    "        # (batch_size, time_steps, hidden_size) dot (batch_size, time_steps) => (batch_size, hidden_size)\n",
    "        context_vector = Dot(axes=[1, 1])([hidden_states, attention_weights])  # 上下文向量\n",
    "        pre_activation = Concatenate()([context_vector, h_t]) #再次将最后一个时间步的信息加入，本质上是一个残差连接，这步可以省略\n",
    "        attention_vector = Dense(self.units, use_bias=False, activation='tanh')(pre_activation) # 用一个全连接层进行合并\n",
    "        \n",
    "        print('注意力被执行了一次')\n",
    "        return attention_vector\n",
    "\n",
    "    def get_config(self):\n",
    "        return {'units': self.units}\n",
    "\n",
    "    @classmethod\n",
    "    def from_config(cls, config):\n",
    "        return cls(**config)"
   ]
  },
  {
   "cell_type": "markdown",
   "id": "c5d9bd86",
   "metadata": {},
   "source": [
    "## 模型"
   ]
  },
  {
   "cell_type": "code",
   "execution_count": 27,
   "id": "d1a19e57",
   "metadata": {
    "ExecuteTime": {
     "end_time": "2024-02-16T15:47:28.830598Z",
     "start_time": "2024-02-16T15:47:28.821612Z"
    },
    "code_folding": []
   },
   "outputs": [],
   "source": [
    "def create_model():\n",
    "    # =========================================== CNN + CBAM ======================================== #\n",
    "    model_input= Input(shape=( 11, 11, 6))\n",
    "    output_size = 1\n",
    "    \n",
    "    x = cbam_block(model_input,6)\n",
    "    \n",
    "    x = Conv2D(filters=32, kernel_size=(3, 3),strides=1)(x)\n",
    "    x = BatchNormalization()(x)\n",
    "    x = Activation('relu')(x)\n",
    "    x = Dropout(rate=0.1)(x)\n",
    "\n",
    "    x = cbam_block(x,32)\n",
    "    \n",
    "    x = Conv2D(filters=64, kernel_size=(3, 3),strides=1)(x)\n",
    "    x = BatchNormalization()(x)\n",
    "    x = Activation('relu')(x)\n",
    "    x = Dropout(rate=0.1)(x)\n",
    "\n",
    "    x = cbam_block(x,64)\n",
    "    \n",
    "    x = Flatten()(x)\n",
    "    x = Dense(units=32,activation = 'relu')(x)\n",
    "    out = Dense(units=16,activation = 'relu')(x)\n",
    "    out = Dense(units=1)(x)\n",
    "    \n",
    "    # =========================================== LSTM =============================================== #\n",
    "    #MHA = tf.keras.layers.MultiHeadAttention(num_heads=8, key_dim=4)\n",
    "    \n",
    "    model2_input= Input(shape=(10,6))\n",
    "    \n",
    "    model2 = tf.keras.layers.Bidirectional(LSTM(64, return_sequences=True))(model2_input)   \n",
    "    model2 = Dropout(0.2)(model2)\n",
    "    \n",
    "    model2 = tf.keras.layers.Bidirectional(LSTM(32, return_sequences=True))(model2)\n",
    "\n",
    "    model2 = Attention()(model2)\n",
    "    \n",
    "    model2 = Flatten()(model2)\n",
    "    \n",
    "    out2 = Dense(1)(model2)\n",
    "    # =========================================== LSTM 2=============================================== #\n",
    "    \n",
    "    model3_input= Input(shape=(3,5))\n",
    "   \n",
    "    model3= tf.keras.layers.Bidirectional(LSTM(64, return_sequences=True))(model3_input)   \n",
    "    model3 = Dropout(0.2)(model3)\n",
    "    \n",
    "    model3 = tf.keras.layers.Bidirectional(LSTM(32, return_sequences=True))(model3)\n",
    "    model3 = Attention()(model3)\n",
    "    \n",
    "    model3 = Flatten()(model3)\n",
    "    \n",
    "    out3 = Dense(1)(model3)\n",
    "\n",
    "    \n",
    "    # ============================================ 合并 ========================================= #\n",
    "    ensemble = Concatenate()([out, out2])  \n",
    "    #ensemble=Dense(64)(ensemble) \n",
    "    ensemble=Dense(16)(ensemble) \n",
    "    merged_model=Dense(1)(ensemble) \n",
    "    \n",
    "    model = Model(inputs=[model_input,model2_input], outputs=merged_model)\n",
    "    #model = Model(inputs=model_input, outputs=out)\n",
    "    \n",
    "    #model.summary()\n",
    "    #model.compile(optimizer='adam', loss='mean_squared_error')\n",
    "    \n",
    "    return model "
   ]
  },
  {
   "cell_type": "code",
   "execution_count": 28,
   "id": "3caedeeb",
   "metadata": {
    "ExecuteTime": {
     "end_time": "2024-02-16T15:47:42.714271Z",
     "start_time": "2024-02-16T15:47:29.468572Z"
    }
   },
   "outputs": [
    {
     "name": "stdout",
     "output_type": "stream",
     "text": [
      "注意力被执行了一次\n",
      "注意力被执行了一次\n"
     ]
    }
   ],
   "source": [
    "model = create_model()\n",
    "#model.summary()"
   ]
  },
  {
   "cell_type": "markdown",
   "id": "dc8924bf",
   "metadata": {},
   "source": [
    "# 模型训练"
   ]
  },
  {
   "cell_type": "markdown",
   "id": "18961c96",
   "metadata": {},
   "source": [
    "## 对指定层进行训练"
   ]
  },
  {
   "cell_type": "code",
   "execution_count": 29,
   "id": "eeb331e0",
   "metadata": {
    "ExecuteTime": {
     "end_time": "2024-02-16T15:47:42.733241Z",
     "start_time": "2024-02-16T15:47:42.715270Z"
    }
   },
   "outputs": [],
   "source": [
    "# initial_learning_rate = 0.0005\n",
    "# optimizer = tf.keras.optimizers.Adam(learning_rate=initial_learning_rate)\n",
    "\n",
    "\n",
    "model.compile(optimizer='adam', loss='mean_squared_error')\n",
    "checkpoint_path='../model/cnn_lstm_jc_newVariable/anom/cnn_lstm_jc_model_newVariable__1000m.h5'\n",
    "keras_callbacks   = [\n",
    "      EarlyStopping(monitor='val_loss', patience=30, mode='min', min_delta=0.001),\n",
    "      ModelCheckpoint(checkpoint_path, monitor='val_loss', save_best_only=True, mode='min')\n",
    "]"
   ]
  },
  {
   "cell_type": "code",
   "execution_count": 21,
   "id": "024d2b7c",
   "metadata": {
    "ExecuteTime": {
     "end_time": "2023-11-22T10:58:07.660788Z",
     "start_time": "2023-11-22T10:57:19.140872Z"
    }
   },
   "outputs": [
    {
     "name": "stdout",
     "output_type": "stream",
     "text": [
      "(8328740, 11, 11, 6)\n",
      "(8328740, 10, 6)\n",
      "(3569461, 11, 11, 6)\n",
      "(3569461, 10, 6)\n"
     ]
    }
   ],
   "source": [
    "input_cnn_train = np.concatenate((x_cnn_train_split[:,:,:,:5],x_cnn_train_split[:,:,:,9:]),axis=-1) \n",
    "input_lstm_train = np.concatenate((x_lstm_train_split[:,:,:5],x_lstm_train_split[:,:,9:]),axis=-1)\n",
    "print(input_cnn_train.shape)\n",
    "print(input_lstm_train.shape)\n",
    "\n",
    "input_cnn_val = np.concatenate((x_cnn_val[:,:,:,:5],x_cnn_val[:,:,:,9:]),axis=-1)  \n",
    "input_lstm_val = np.concatenate((x_lstm_val[:,:,:5],x_lstm_val[:,:,9:]),axis=-1)  \n",
    "print(input_cnn_val.shape)\n",
    "print(input_lstm_val.shape)"
   ]
  },
  {
   "cell_type": "code",
   "execution_count": 24,
   "id": "70663cb3",
   "metadata": {
    "ExecuteTime": {
     "end_time": "2023-11-22T12:40:53.773990Z",
     "start_time": "2023-11-22T11:00:46.288548Z"
    },
    "collapsed": true
   },
   "outputs": [
    {
     "name": "stdout",
     "output_type": "stream",
     "text": [
      "Epoch 1/1000\n",
      "814/814 - 115s - loss: 0.0805 - val_loss: 0.0245\n",
      "Epoch 2/1000\n",
      "814/814 - 84s - loss: 0.0193 - val_loss: 0.0152\n",
      "Epoch 3/1000\n",
      "814/814 - 84s - loss: 0.0144 - val_loss: 0.0127\n",
      "Epoch 4/1000\n",
      "814/814 - 84s - loss: 0.0125 - val_loss: 0.0116\n",
      "Epoch 5/1000\n",
      "814/814 - 84s - loss: 0.0112 - val_loss: 0.0100\n",
      "Epoch 6/1000\n",
      "814/814 - 84s - loss: 0.0103 - val_loss: 0.0097\n",
      "Epoch 7/1000\n",
      "814/814 - 84s - loss: 0.0096 - val_loss: 0.0089\n",
      "Epoch 8/1000\n",
      "814/814 - 84s - loss: 0.0092 - val_loss: 0.0087\n",
      "Epoch 9/1000\n",
      "814/814 - 84s - loss: 0.0088 - val_loss: 0.0082\n",
      "Epoch 10/1000\n",
      "814/814 - 84s - loss: 0.0085 - val_loss: 0.0077\n",
      "Epoch 11/1000\n",
      "814/814 - 84s - loss: 0.0083 - val_loss: 0.0075\n",
      "Epoch 12/1000\n",
      "814/814 - 85s - loss: 0.0080 - val_loss: 0.0075\n",
      "Epoch 13/1000\n",
      "814/814 - 84s - loss: 0.0078 - val_loss: 0.0071\n",
      "Epoch 14/1000\n",
      "814/814 - 84s - loss: 0.0076 - val_loss: 0.0071\n",
      "Epoch 15/1000\n",
      "814/814 - 84s - loss: 0.0075 - val_loss: 0.0068\n",
      "Epoch 16/1000\n",
      "814/814 - 83s - loss: 0.0073 - val_loss: 0.0067\n",
      "Epoch 17/1000\n",
      "814/814 - 82s - loss: 0.0072 - val_loss: 0.0065\n",
      "Epoch 18/1000\n",
      "814/814 - 82s - loss: 0.0070 - val_loss: 0.0063\n",
      "Epoch 19/1000\n",
      "814/814 - 82s - loss: 0.0069 - val_loss: 0.0063\n",
      "Epoch 20/1000\n",
      "814/814 - 82s - loss: 0.0068 - val_loss: 0.0063\n",
      "Epoch 21/1000\n",
      "814/814 - 82s - loss: 0.0067 - val_loss: 0.0060\n",
      "Epoch 22/1000\n",
      "814/814 - 82s - loss: 0.0066 - val_loss: 0.0066\n",
      "Epoch 23/1000\n",
      "814/814 - 82s - loss: 0.0065 - val_loss: 0.0058\n",
      "Epoch 24/1000\n",
      "814/814 - 82s - loss: 0.0064 - val_loss: 0.0057\n",
      "Epoch 25/1000\n",
      "814/814 - 83s - loss: 0.0063 - val_loss: 0.0057\n",
      "Epoch 26/1000\n",
      "814/814 - 82s - loss: 0.0062 - val_loss: 0.0057\n",
      "Epoch 27/1000\n",
      "814/814 - 82s - loss: 0.0062 - val_loss: 0.0055\n",
      "Epoch 28/1000\n",
      "814/814 - 82s - loss: 0.0061 - val_loss: 0.0055\n",
      "Epoch 29/1000\n",
      "814/814 - 82s - loss: 0.0060 - val_loss: 0.0053\n",
      "Epoch 30/1000\n",
      "814/814 - 82s - loss: 0.0060 - val_loss: 0.0054\n",
      "Epoch 31/1000\n",
      "814/814 - 82s - loss: 0.0059 - val_loss: 0.0053\n",
      "Epoch 32/1000\n",
      "814/814 - 82s - loss: 0.0058 - val_loss: 0.0051\n",
      "Epoch 33/1000\n",
      "814/814 - 82s - loss: 0.0058 - val_loss: 0.0051\n",
      "Epoch 34/1000\n",
      "814/814 - 82s - loss: 0.0057 - val_loss: 0.0050\n",
      "Epoch 35/1000\n",
      "814/814 - 82s - loss: 0.0057 - val_loss: 0.0050\n",
      "Epoch 36/1000\n",
      "814/814 - 82s - loss: 0.0056 - val_loss: 0.0049\n",
      "Epoch 37/1000\n",
      "814/814 - 82s - loss: 0.0056 - val_loss: 0.0049\n",
      "Epoch 38/1000\n",
      "814/814 - 82s - loss: 0.0055 - val_loss: 0.0049\n",
      "Epoch 39/1000\n",
      "814/814 - 82s - loss: 0.0055 - val_loss: 0.0049\n",
      "Epoch 40/1000\n",
      "814/814 - 82s - loss: 0.0054 - val_loss: 0.0047\n",
      "Epoch 41/1000\n",
      "814/814 - 82s - loss: 0.0054 - val_loss: 0.0050\n",
      "Epoch 42/1000\n",
      "814/814 - 82s - loss: 0.0054 - val_loss: 0.0046\n",
      "Epoch 43/1000\n",
      "814/814 - 82s - loss: 0.0053 - val_loss: 0.0048\n",
      "Epoch 44/1000\n",
      "814/814 - 82s - loss: 0.0053 - val_loss: 0.0047\n",
      "Epoch 45/1000\n",
      "814/814 - 82s - loss: 0.0053 - val_loss: 0.0046\n",
      "Epoch 46/1000\n",
      "814/814 - 82s - loss: 0.0052 - val_loss: 0.0046\n",
      "Epoch 47/1000\n",
      "814/814 - 82s - loss: 0.0052 - val_loss: 0.0045\n",
      "Epoch 48/1000\n",
      "814/814 - 82s - loss: 0.0052 - val_loss: 0.0045\n",
      "Epoch 49/1000\n",
      "814/814 - 82s - loss: 0.0051 - val_loss: 0.0046\n",
      "Epoch 50/1000\n",
      "814/814 - 82s - loss: 0.0051 - val_loss: 0.0045\n",
      "Epoch 51/1000\n",
      "814/814 - 82s - loss: 0.0051 - val_loss: 0.0044\n",
      "Epoch 52/1000\n",
      "814/814 - 82s - loss: 0.0050 - val_loss: 0.0044\n",
      "Epoch 53/1000\n",
      "814/814 - 82s - loss: 0.0050 - val_loss: 0.0043\n",
      "Epoch 54/1000\n",
      "814/814 - 82s - loss: 0.0050 - val_loss: 0.0043\n",
      "Epoch 55/1000\n",
      "814/814 - 82s - loss: 0.0050 - val_loss: 0.0043\n",
      "Epoch 56/1000\n",
      "814/814 - 82s - loss: 0.0049 - val_loss: 0.0043\n",
      "Epoch 57/1000\n",
      "814/814 - 82s - loss: 0.0049 - val_loss: 0.0042\n",
      "Epoch 58/1000\n",
      "814/814 - 82s - loss: 0.0049 - val_loss: 0.0042\n",
      "Epoch 59/1000\n",
      "814/814 - 82s - loss: 0.0049 - val_loss: 0.0043\n",
      "Epoch 60/1000\n",
      "814/814 - 82s - loss: 0.0048 - val_loss: 0.0042\n",
      "Epoch 61/1000\n",
      "814/814 - 82s - loss: 0.0048 - val_loss: 0.0041\n",
      "Epoch 62/1000\n",
      "814/814 - 82s - loss: 0.0048 - val_loss: 0.0040\n",
      "Epoch 63/1000\n",
      "814/814 - 82s - loss: 0.0048 - val_loss: 0.0041\n",
      "Epoch 64/1000\n",
      "814/814 - 82s - loss: 0.0048 - val_loss: 0.0041\n",
      "Epoch 65/1000\n",
      "814/814 - 82s - loss: 0.0047 - val_loss: 0.0041\n",
      "Epoch 66/1000\n",
      "814/814 - 82s - loss: 0.0047 - val_loss: 0.0041\n",
      "Epoch 67/1000\n",
      "814/814 - 82s - loss: 0.0047 - val_loss: 0.0041\n",
      "Epoch 68/1000\n",
      "814/814 - 82s - loss: 0.0047 - val_loss: 0.0041\n",
      "Epoch 69/1000\n",
      "814/814 - 82s - loss: 0.0047 - val_loss: 0.0041\n",
      "Epoch 70/1000\n",
      "814/814 - 82s - loss: 0.0047 - val_loss: 0.0043\n",
      "Epoch 71/1000\n",
      "814/814 - 82s - loss: 0.0046 - val_loss: 0.0039\n",
      "Epoch 72/1000\n",
      "814/814 - 82s - loss: 0.0046 - val_loss: 0.0041\n"
     ]
    }
   ],
   "source": [
    "num_epochs = 1000\n",
    "batch_size = 10240\n",
    "\n",
    "\n",
    "history = model.fit([input_cnn_train,input_lstm_train], y_train_split[:,14:15],\n",
    "                    validation_data=([input_cnn_val,input_lstm_val],y_val[:,14:15]),\n",
    "                    epochs=num_epochs, batch_size=batch_size, verbose=2, callbacks=keras_callbacks)"
   ]
  },
  {
   "cell_type": "markdown",
   "id": "368523c0",
   "metadata": {},
   "source": [
    "## 对所有层进行训练"
   ]
  },
  {
   "cell_type": "code",
   "execution_count": 30,
   "id": "2ed3a5c7",
   "metadata": {
    "ExecuteTime": {
     "end_time": "2024-02-16T15:56:03.217476Z",
     "start_time": "2024-02-16T15:56:03.211486Z"
    },
    "code_folding": []
   },
   "outputs": [],
   "source": [
    "def train_model(x_train1,x_train2,y_train,x_val1,x_val2,y_val,name):\n",
    "    # 创建网络\n",
    "    model = create_model()\n",
    "    # 编译网络\n",
    "    model.compile(optimizer='adam', loss='mean_squared_error')\n",
    "    checkpoint_path=name\n",
    "    keras_callbacks   = [\n",
    "          EarlyStopping(monitor='val_loss', patience=30, mode='min', min_delta=0.001),\n",
    "          ModelCheckpoint(checkpoint_path, monitor='val_loss', save_best_only=True, mode='min')\n",
    "    ]\n",
    "    \n",
    "    model.fit([x_train1,x_train2], y_train, \n",
    "        validation_data=([x_val1,x_val2],y_val),\n",
    "        epochs=1000, batch_size=10240, verbose=2, callbacks=keras_callbacks)"
   ]
  },
  {
   "cell_type": "code",
   "execution_count": 31,
   "id": "20a26506",
   "metadata": {
    "ExecuteTime": {
     "end_time": "2024-02-16T15:56:03.577917Z",
     "start_time": "2024-02-16T15:56:03.573906Z"
    },
    "code_folding": [
     0
    ]
   },
   "outputs": [],
   "source": [
    "def train_cnn_model(x_train,y_train,x_val,y_val,name):\n",
    "    # 创建网络\n",
    "    model = create_model()\n",
    "    # 编译网络\n",
    "    model.compile(optimizer='adam', loss='mean_squared_error')\n",
    "    checkpoint_path=name\n",
    "    keras_callbacks   = [\n",
    "          EarlyStopping(monitor='val_loss', patience=30, mode='min', min_delta=0.001),\n",
    "          ModelCheckpoint(checkpoint_path, monitor='val_loss', save_best_only=True, mode='min')\n",
    "    ]\n",
    "    \n",
    "    model.fit(x_train, y_train, \n",
    "        validation_data=(x_val,y_val),\n",
    "        epochs=1000, batch_size=10240, verbose=2, callbacks=keras_callbacks)"
   ]
  },
  {
   "cell_type": "code",
   "execution_count": 32,
   "id": "7ed70d90",
   "metadata": {
    "ExecuteTime": {
     "end_time": "2024-02-16T15:56:03.903379Z",
     "start_time": "2024-02-16T15:56:03.898387Z"
    },
    "code_folding": [
     0
    ]
   },
   "outputs": [],
   "source": [
    "def train_lstm_model(x_train,y_train,x_val,y_val,name):\n",
    "    # 创建网络\n",
    "    model = create_model()\n",
    "    # 编译网络\n",
    "    model.compile(optimizer='adam', loss='mean_squared_error')\n",
    "    checkpoint_path=name\n",
    "    keras_callbacks   = [\n",
    "          EarlyStopping(monitor='val_loss', patience=30, mode='min', min_delta=0.001),\n",
    "          ModelCheckpoint(checkpoint_path, monitor='val_loss', save_best_only=True, mode='min')\n",
    "    ]\n",
    "    \n",
    "    model.fit(x_train, y_train, \n",
    "        validation_data=(x_val,y_val),\n",
    "        epochs=1000, batch_size=10240, verbose=2, callbacks=keras_callbacks)"
   ]
  },
  {
   "cell_type": "code",
   "execution_count": 23,
   "id": "83031180",
   "metadata": {
    "ExecuteTime": {
     "end_time": "2023-12-02T13:20:33.134859Z",
     "start_time": "2023-12-02T13:20:33.130866Z"
    },
    "code_folding": [
     0
    ]
   },
   "outputs": [],
   "source": [
    "# input_cnn_train = np.concatenate((x_cnn_train_split[:,:,:,:5],x_cnn_train_split[:,:,:,9:]),axis=-1) \n",
    "# input_lstm_train = np.concatenate((x_lstm_train_split[:,:,:5],x_lstm_train_split[:,:,9:]),axis=-1)\n",
    "# print(input_cnn_train.shape)\n",
    "# print(input_lstm_train.shape)\n",
    "\n",
    "# input_cnn_val = np.concatenate((x_cnn_val[:,:,:,:5],x_cnn_val[:,:,:,9:]),axis=-1)  \n",
    "# input_lstm_val = np.concatenate((x_lstm_val[:,:,:5],x_lstm_val[:,:,9:]),axis=-1)  \n",
    "# print(input_cnn_val.shape)\n",
    "# print(input_lstm_val.shape)"
   ]
  },
  {
   "cell_type": "code",
   "execution_count": 33,
   "id": "324f511c",
   "metadata": {
    "ExecuteTime": {
     "end_time": "2024-02-16T15:56:11.199867Z",
     "start_time": "2024-02-16T15:56:11.194875Z"
    }
   },
   "outputs": [
    {
     "data": {
      "text/plain": [
       "(8275982, 15)"
      ]
     },
     "execution_count": 33,
     "metadata": {},
     "output_type": "execute_result"
    }
   ],
   "source": [
    "y_train_split.shape"
   ]
  },
  {
   "cell_type": "markdown",
   "id": "6ddd5ae0",
   "metadata": {},
   "source": [
    "### 600-1000m"
   ]
  },
  {
   "cell_type": "code",
   "execution_count": 25,
   "id": "dca64cb9",
   "metadata": {
    "ExecuteTime": {
     "end_time": "2023-12-02T21:50:18.304089Z",
     "start_time": "2023-12-02T13:20:42.111417Z"
    },
    "code_folding": [
     0
    ],
    "collapsed": true
   },
   "outputs": [
    {
     "name": "stdout",
     "output_type": "stream",
     "text": [
      "注意力被执行了一次\n",
      "注意力被执行了一次\n",
      "Epoch 1/1000\n",
      "809/809 - 112s - loss: 0.1111 - val_loss: 0.0514\n",
      "Epoch 2/1000\n",
      "809/809 - 82s - loss: 0.0352 - val_loss: 0.0265\n",
      "Epoch 3/1000\n",
      "809/809 - 82s - loss: 0.0217 - val_loss: 0.0180\n",
      "Epoch 4/1000\n",
      "809/809 - 82s - loss: 0.0172 - val_loss: 0.0180\n",
      "Epoch 5/1000\n",
      "809/809 - 82s - loss: 0.0152 - val_loss: 0.0170\n",
      "Epoch 6/1000\n",
      "809/809 - 82s - loss: 0.0140 - val_loss: 0.0130\n",
      "Epoch 7/1000\n",
      "809/809 - 82s - loss: 0.0132 - val_loss: 0.0128\n",
      "Epoch 8/1000\n",
      "809/809 - 82s - loss: 0.0124 - val_loss: 0.0116\n",
      "Epoch 9/1000\n",
      "809/809 - 82s - loss: 0.0118 - val_loss: 0.0121\n",
      "Epoch 10/1000\n",
      "809/809 - 82s - loss: 0.0114 - val_loss: 0.0105\n",
      "Epoch 11/1000\n",
      "809/809 - 82s - loss: 0.0109 - val_loss: 0.0098\n",
      "Epoch 12/1000\n",
      "809/809 - 82s - loss: 0.0106 - val_loss: 0.0097\n",
      "Epoch 13/1000\n",
      "809/809 - 81s - loss: 0.0103 - val_loss: 0.0093\n",
      "Epoch 14/1000\n",
      "809/809 - 81s - loss: 0.0100 - val_loss: 0.0088\n",
      "Epoch 15/1000\n",
      "809/809 - 81s - loss: 0.0097 - val_loss: 0.0087\n",
      "Epoch 16/1000\n",
      "809/809 - 81s - loss: 0.0095 - val_loss: 0.0087\n",
      "Epoch 17/1000\n",
      "809/809 - 81s - loss: 0.0093 - val_loss: 0.0085\n",
      "Epoch 18/1000\n",
      "809/809 - 81s - loss: 0.0091 - val_loss: 0.0081\n",
      "Epoch 19/1000\n",
      "809/809 - 81s - loss: 0.0089 - val_loss: 0.0083\n",
      "Epoch 20/1000\n",
      "809/809 - 81s - loss: 0.0087 - val_loss: 0.0077\n",
      "Epoch 21/1000\n",
      "809/809 - 81s - loss: 0.0085 - val_loss: 0.0074\n",
      "Epoch 22/1000\n",
      "809/809 - 81s - loss: 0.0084 - val_loss: 0.0073\n",
      "Epoch 23/1000\n",
      "809/809 - 81s - loss: 0.0083 - val_loss: 0.0076\n",
      "Epoch 24/1000\n",
      "809/809 - 81s - loss: 0.0082 - val_loss: 0.0087\n",
      "Epoch 25/1000\n",
      "809/809 - 81s - loss: 0.0080 - val_loss: 0.0068\n",
      "Epoch 26/1000\n",
      "809/809 - 81s - loss: 0.0079 - val_loss: 0.0077\n",
      "Epoch 27/1000\n",
      "809/809 - 81s - loss: 0.0078 - val_loss: 0.0068\n",
      "Epoch 28/1000\n",
      "809/809 - 81s - loss: 0.0077 - val_loss: 0.0070\n",
      "Epoch 29/1000\n",
      "809/809 - 81s - loss: 0.0076 - val_loss: 0.0069\n",
      "Epoch 30/1000\n",
      "809/809 - 81s - loss: 0.0075 - val_loss: 0.0065\n",
      "Epoch 31/1000\n",
      "809/809 - 81s - loss: 0.0075 - val_loss: 0.0063\n",
      "Epoch 32/1000\n",
      "809/809 - 81s - loss: 0.0074 - val_loss: 0.0063\n",
      "Epoch 33/1000\n",
      "809/809 - 81s - loss: 0.0073 - val_loss: 0.0064\n",
      "Epoch 34/1000\n",
      "809/809 - 81s - loss: 0.0073 - val_loss: 0.0062\n",
      "Epoch 35/1000\n",
      "809/809 - 81s - loss: 0.0072 - val_loss: 0.0062\n",
      "Epoch 36/1000\n",
      "809/809 - 81s - loss: 0.0071 - val_loss: 0.0062\n",
      "Epoch 37/1000\n",
      "809/809 - 81s - loss: 0.0070 - val_loss: 0.0060\n",
      "Epoch 38/1000\n",
      "809/809 - 81s - loss: 0.0070 - val_loss: 0.0059\n",
      "Epoch 39/1000\n",
      "809/809 - 81s - loss: 0.0069 - val_loss: 0.0058\n",
      "Epoch 40/1000\n",
      "809/809 - 81s - loss: 0.0069 - val_loss: 0.0058\n",
      "Epoch 41/1000\n",
      "809/809 - 81s - loss: 0.0068 - val_loss: 0.0059\n",
      "Epoch 42/1000\n",
      "809/809 - 81s - loss: 0.0068 - val_loss: 0.0068\n",
      "Epoch 43/1000\n",
      "809/809 - 81s - loss: 0.0067 - val_loss: 0.0058\n",
      "Epoch 44/1000\n",
      "809/809 - 81s - loss: 0.0066 - val_loss: 0.0056\n",
      "Epoch 45/1000\n",
      "809/809 - 81s - loss: 0.0066 - val_loss: 0.0062\n",
      "Epoch 46/1000\n",
      "809/809 - 81s - loss: 0.0066 - val_loss: 0.0056\n",
      "Epoch 47/1000\n",
      "809/809 - 81s - loss: 0.0065 - val_loss: 0.0055\n",
      "Epoch 48/1000\n",
      "809/809 - 81s - loss: 0.0065 - val_loss: 0.0055\n",
      "Epoch 49/1000\n",
      "809/809 - 81s - loss: 0.0065 - val_loss: 0.0056\n",
      "Epoch 50/1000\n",
      "809/809 - 81s - loss: 0.0064 - val_loss: 0.0055\n",
      "Epoch 51/1000\n",
      "809/809 - 81s - loss: 0.0064 - val_loss: 0.0057\n",
      "Epoch 52/1000\n",
      "809/809 - 81s - loss: 0.0063 - val_loss: 0.0055\n",
      "Epoch 53/1000\n",
      "809/809 - 81s - loss: 0.0063 - val_loss: 0.0054\n",
      "Epoch 54/1000\n",
      "809/809 - 81s - loss: 0.0063 - val_loss: 0.0060\n",
      "Epoch 55/1000\n",
      "809/809 - 81s - loss: 0.0062 - val_loss: 0.0053\n",
      "Epoch 56/1000\n",
      "809/809 - 81s - loss: 0.0062 - val_loss: 0.0051\n",
      "Epoch 57/1000\n",
      "809/809 - 81s - loss: 0.0062 - val_loss: 0.0051\n",
      "Epoch 58/1000\n",
      "809/809 - 81s - loss: 0.0061 - val_loss: 0.0050\n",
      "Epoch 59/1000\n",
      "809/809 - 81s - loss: 0.0061 - val_loss: 0.0054\n",
      "Epoch 60/1000\n",
      "809/809 - 81s - loss: 0.0061 - val_loss: 0.0054\n",
      "Epoch 61/1000\n",
      "809/809 - 82s - loss: 0.0061 - val_loss: 0.0051\n",
      "Epoch 62/1000\n",
      "809/809 - 81s - loss: 0.0060 - val_loss: 0.0056\n",
      "Epoch 63/1000\n",
      "809/809 - 81s - loss: 0.0060 - val_loss: 0.0052\n",
      "Epoch 64/1000\n",
      "809/809 - 81s - loss: 0.0060 - val_loss: 0.0054\n",
      "Epoch 65/1000\n",
      "809/809 - 81s - loss: 0.0060 - val_loss: 0.0048\n",
      "Epoch 66/1000\n",
      "809/809 - 81s - loss: 0.0059 - val_loss: 0.0053\n",
      "Epoch 67/1000\n",
      "809/809 - 82s - loss: 0.0059 - val_loss: 0.0048\n",
      "Epoch 68/1000\n",
      "809/809 - 81s - loss: 0.0059 - val_loss: 0.0048\n",
      "Epoch 69/1000\n",
      "809/809 - 81s - loss: 0.0059 - val_loss: 0.0049\n",
      "注意力被执行了一次\n",
      "注意力被执行了一次\n",
      "Epoch 1/1000\n",
      "809/809 - 91s - loss: 0.0904 - val_loss: 0.0303\n",
      "Epoch 2/1000\n",
      "809/809 - 79s - loss: 0.0244 - val_loss: 0.0190\n",
      "Epoch 3/1000\n",
      "809/809 - 80s - loss: 0.0181 - val_loss: 0.0154\n",
      "Epoch 4/1000\n",
      "809/809 - 80s - loss: 0.0158 - val_loss: 0.0147\n",
      "Epoch 5/1000\n",
      "809/809 - 80s - loss: 0.0145 - val_loss: 0.0140\n",
      "Epoch 6/1000\n",
      "809/809 - 80s - loss: 0.0136 - val_loss: 0.0128\n",
      "Epoch 7/1000\n",
      "809/809 - 80s - loss: 0.0129 - val_loss: 0.0119\n",
      "Epoch 8/1000\n",
      "809/809 - 80s - loss: 0.0124 - val_loss: 0.0115\n",
      "Epoch 9/1000\n",
      "809/809 - 80s - loss: 0.0119 - val_loss: 0.0109\n",
      "Epoch 10/1000\n",
      "809/809 - 80s - loss: 0.0114 - val_loss: 0.0104\n",
      "Epoch 11/1000\n",
      "809/809 - 80s - loss: 0.0110 - val_loss: 0.0102\n",
      "Epoch 12/1000\n",
      "809/809 - 80s - loss: 0.0107 - val_loss: 0.0096\n",
      "Epoch 13/1000\n",
      "809/809 - 80s - loss: 0.0104 - val_loss: 0.0098\n",
      "Epoch 14/1000\n",
      "809/809 - 80s - loss: 0.0101 - val_loss: 0.0092\n",
      "Epoch 15/1000\n",
      "809/809 - 80s - loss: 0.0099 - val_loss: 0.0089\n",
      "Epoch 16/1000\n",
      "809/809 - 80s - loss: 0.0096 - val_loss: 0.0090\n",
      "Epoch 17/1000\n",
      "809/809 - 80s - loss: 0.0094 - val_loss: 0.0095\n",
      "Epoch 18/1000\n",
      "809/809 - 80s - loss: 0.0092 - val_loss: 0.0087\n",
      "Epoch 19/1000\n",
      "809/809 - 80s - loss: 0.0090 - val_loss: 0.0080\n",
      "Epoch 20/1000\n",
      "809/809 - 80s - loss: 0.0088 - val_loss: 0.0079\n",
      "Epoch 21/1000\n",
      "809/809 - 80s - loss: 0.0087 - val_loss: 0.0078\n",
      "Epoch 22/1000\n",
      "809/809 - 80s - loss: 0.0086 - val_loss: 0.0078\n",
      "Epoch 23/1000\n",
      "809/809 - 80s - loss: 0.0084 - val_loss: 0.0074\n",
      "Epoch 24/1000\n",
      "809/809 - 80s - loss: 0.0083 - val_loss: 0.0075\n",
      "Epoch 25/1000\n",
      "809/809 - 80s - loss: 0.0082 - val_loss: 0.0074\n",
      "Epoch 26/1000\n",
      "809/809 - 80s - loss: 0.0081 - val_loss: 0.0073\n",
      "Epoch 27/1000\n",
      "809/809 - 80s - loss: 0.0079 - val_loss: 0.0071\n",
      "Epoch 28/1000\n",
      "809/809 - 80s - loss: 0.0078 - val_loss: 0.0072\n",
      "Epoch 29/1000\n",
      "809/809 - 80s - loss: 0.0078 - val_loss: 0.0069\n",
      "Epoch 30/1000\n",
      "809/809 - 80s - loss: 0.0077 - val_loss: 0.0068\n",
      "Epoch 31/1000\n",
      "809/809 - 80s - loss: 0.0076 - val_loss: 0.0067\n",
      "Epoch 32/1000\n",
      "809/809 - 80s - loss: 0.0075 - val_loss: 0.0066\n",
      "Epoch 33/1000\n",
      "809/809 - 80s - loss: 0.0074 - val_loss: 0.0064\n",
      "Epoch 34/1000\n",
      "809/809 - 80s - loss: 0.0073 - val_loss: 0.0065\n",
      "Epoch 35/1000\n",
      "809/809 - 80s - loss: 0.0073 - val_loss: 0.0063\n",
      "Epoch 36/1000\n",
      "809/809 - 80s - loss: 0.0072 - val_loss: 0.0067\n",
      "Epoch 37/1000\n",
      "809/809 - 80s - loss: 0.0071 - val_loss: 0.0066\n",
      "Epoch 38/1000\n",
      "809/809 - 80s - loss: 0.0071 - val_loss: 0.0067\n",
      "Epoch 39/1000\n",
      "809/809 - 80s - loss: 0.0070 - val_loss: 0.0061\n",
      "Epoch 40/1000\n",
      "809/809 - 80s - loss: 0.0069 - val_loss: 0.0062\n",
      "Epoch 41/1000\n",
      "809/809 - 80s - loss: 0.0069 - val_loss: 0.0059\n",
      "Epoch 42/1000\n",
      "809/809 - 80s - loss: 0.0068 - val_loss: 0.0059\n",
      "Epoch 43/1000\n",
      "809/809 - 80s - loss: 0.0068 - val_loss: 0.0058\n",
      "Epoch 44/1000\n",
      "809/809 - 80s - loss: 0.0067 - val_loss: 0.0061\n",
      "Epoch 45/1000\n",
      "809/809 - 80s - loss: 0.0067 - val_loss: 0.0058\n",
      "Epoch 46/1000\n",
      "809/809 - 80s - loss: 0.0066 - val_loss: 0.0056\n",
      "Epoch 47/1000\n",
      "809/809 - 80s - loss: 0.0066 - val_loss: 0.0058\n",
      "Epoch 48/1000\n",
      "809/809 - 80s - loss: 0.0066 - val_loss: 0.0057\n",
      "Epoch 49/1000\n",
      "809/809 - 80s - loss: 0.0065 - val_loss: 0.0058\n",
      "Epoch 50/1000\n",
      "809/809 - 80s - loss: 0.0065 - val_loss: 0.0056\n",
      "Epoch 51/1000\n",
      "809/809 - 80s - loss: 0.0064 - val_loss: 0.0058\n",
      "Epoch 52/1000\n",
      "809/809 - 80s - loss: 0.0064 - val_loss: 0.0056\n",
      "Epoch 53/1000\n",
      "809/809 - 80s - loss: 0.0064 - val_loss: 0.0055\n",
      "Epoch 54/1000\n",
      "809/809 - 80s - loss: 0.0063 - val_loss: 0.0059\n",
      "Epoch 55/1000\n",
      "809/809 - 80s - loss: 0.0063 - val_loss: 0.0054\n",
      "Epoch 56/1000\n",
      "809/809 - 80s - loss: 0.0063 - val_loss: 0.0056\n",
      "Epoch 57/1000\n",
      "809/809 - 80s - loss: 0.0062 - val_loss: 0.0053\n",
      "Epoch 58/1000\n",
      "809/809 - 80s - loss: 0.0062 - val_loss: 0.0052\n",
      "Epoch 59/1000\n",
      "809/809 - 80s - loss: 0.0062 - val_loss: 0.0053\n",
      "Epoch 60/1000\n",
      "809/809 - 80s - loss: 0.0062 - val_loss: 0.0052\n",
      "Epoch 61/1000\n",
      "809/809 - 80s - loss: 0.0061 - val_loss: 0.0053\n",
      "Epoch 62/1000\n",
      "809/809 - 80s - loss: 0.0061 - val_loss: 0.0051\n",
      "Epoch 63/1000\n",
      "809/809 - 80s - loss: 0.0061 - val_loss: 0.0052\n"
     ]
    },
    {
     "name": "stdout",
     "output_type": "stream",
     "text": [
      "Epoch 64/1000\n",
      "809/809 - 80s - loss: 0.0061 - val_loss: 0.0050\n",
      "Epoch 65/1000\n",
      "809/809 - 80s - loss: 0.0060 - val_loss: 0.0051\n",
      "Epoch 66/1000\n",
      "809/809 - 80s - loss: 0.0060 - val_loss: 0.0051\n",
      "Epoch 67/1000\n",
      "809/809 - 80s - loss: 0.0060 - val_loss: 0.0052\n",
      "Epoch 68/1000\n",
      "809/809 - 80s - loss: 0.0059 - val_loss: 0.0051\n",
      "Epoch 69/1000\n",
      "809/809 - 80s - loss: 0.0059 - val_loss: 0.0051\n",
      "Epoch 70/1000\n",
      "809/809 - 80s - loss: 0.0059 - val_loss: 0.0050\n",
      "Epoch 71/1000\n",
      "809/809 - 80s - loss: 0.0059 - val_loss: 0.0051\n",
      "Epoch 72/1000\n",
      "809/809 - 80s - loss: 0.0059 - val_loss: 0.0051\n",
      "Epoch 73/1000\n",
      "809/809 - 80s - loss: 0.0058 - val_loss: 0.0050\n",
      "注意力被执行了一次\n",
      "注意力被执行了一次\n",
      "Epoch 1/1000\n",
      "809/809 - 91s - loss: 0.0796 - val_loss: 0.0278\n",
      "Epoch 2/1000\n",
      "809/809 - 77s - loss: 0.0221 - val_loss: 0.0185\n",
      "Epoch 3/1000\n",
      "809/809 - 78s - loss: 0.0172 - val_loss: 0.0155\n",
      "Epoch 4/1000\n",
      "809/809 - 78s - loss: 0.0153 - val_loss: 0.0144\n",
      "Epoch 5/1000\n",
      "809/809 - 78s - loss: 0.0141 - val_loss: 0.0127\n",
      "Epoch 6/1000\n",
      "809/809 - 78s - loss: 0.0130 - val_loss: 0.0120\n",
      "Epoch 7/1000\n",
      "809/809 - 78s - loss: 0.0122 - val_loss: 0.0108\n",
      "Epoch 8/1000\n",
      "809/809 - 78s - loss: 0.0116 - val_loss: 0.0106\n",
      "Epoch 9/1000\n",
      "809/809 - 78s - loss: 0.0111 - val_loss: 0.0100\n",
      "Epoch 10/1000\n",
      "809/809 - 78s - loss: 0.0107 - val_loss: 0.0097\n",
      "Epoch 11/1000\n",
      "809/809 - 78s - loss: 0.0103 - val_loss: 0.0091\n",
      "Epoch 12/1000\n",
      "809/809 - 78s - loss: 0.0100 - val_loss: 0.0090\n",
      "Epoch 13/1000\n",
      "809/809 - 78s - loss: 0.0097 - val_loss: 0.0091\n",
      "Epoch 14/1000\n",
      "809/809 - 78s - loss: 0.0094 - val_loss: 0.0087\n",
      "Epoch 15/1000\n",
      "809/809 - 78s - loss: 0.0092 - val_loss: 0.0081\n",
      "Epoch 16/1000\n",
      "809/809 - 78s - loss: 0.0090 - val_loss: 0.0079\n",
      "Epoch 17/1000\n",
      "809/809 - 78s - loss: 0.0088 - val_loss: 0.0078\n",
      "Epoch 18/1000\n",
      "809/809 - 78s - loss: 0.0086 - val_loss: 0.0076\n",
      "Epoch 19/1000\n",
      "809/809 - 78s - loss: 0.0085 - val_loss: 0.0078\n",
      "Epoch 20/1000\n",
      "809/809 - 78s - loss: 0.0083 - val_loss: 0.0075\n",
      "Epoch 21/1000\n",
      "809/809 - 78s - loss: 0.0082 - val_loss: 0.0073\n",
      "Epoch 22/1000\n",
      "809/809 - 78s - loss: 0.0081 - val_loss: 0.0078\n",
      "Epoch 23/1000\n",
      "809/809 - 78s - loss: 0.0080 - val_loss: 0.0073\n",
      "Epoch 24/1000\n",
      "809/809 - 78s - loss: 0.0078 - val_loss: 0.0073\n",
      "Epoch 25/1000\n",
      "809/809 - 78s - loss: 0.0077 - val_loss: 0.0068\n",
      "Epoch 26/1000\n",
      "809/809 - 78s - loss: 0.0076 - val_loss: 0.0065\n",
      "Epoch 27/1000\n",
      "809/809 - 78s - loss: 0.0075 - val_loss: 0.0065\n",
      "Epoch 28/1000\n",
      "809/809 - 78s - loss: 0.0074 - val_loss: 0.0065\n",
      "Epoch 29/1000\n",
      "809/809 - 78s - loss: 0.0073 - val_loss: 0.0067\n",
      "Epoch 30/1000\n",
      "809/809 - 78s - loss: 0.0073 - val_loss: 0.0064\n",
      "Epoch 31/1000\n",
      "809/809 - 78s - loss: 0.0072 - val_loss: 0.0062\n",
      "Epoch 32/1000\n",
      "809/809 - 78s - loss: 0.0071 - val_loss: 0.0061\n",
      "Epoch 33/1000\n",
      "809/809 - 78s - loss: 0.0071 - val_loss: 0.0061\n",
      "Epoch 34/1000\n",
      "809/809 - 78s - loss: 0.0070 - val_loss: 0.0061\n",
      "Epoch 35/1000\n",
      "809/809 - 78s - loss: 0.0069 - val_loss: 0.0064\n",
      "Epoch 36/1000\n",
      "809/809 - 78s - loss: 0.0069 - val_loss: 0.0058\n",
      "Epoch 37/1000\n",
      "809/809 - 78s - loss: 0.0068 - val_loss: 0.0061\n",
      "Epoch 38/1000\n",
      "809/809 - 78s - loss: 0.0067 - val_loss: 0.0058\n",
      "Epoch 39/1000\n",
      "809/809 - 78s - loss: 0.0067 - val_loss: 0.0059\n",
      "Epoch 40/1000\n",
      "809/809 - 78s - loss: 0.0067 - val_loss: 0.0059\n",
      "Epoch 41/1000\n",
      "809/809 - 78s - loss: 0.0066 - val_loss: 0.0061\n",
      "Epoch 42/1000\n",
      "809/809 - 78s - loss: 0.0066 - val_loss: 0.0056\n",
      "Epoch 43/1000\n",
      "809/809 - 78s - loss: 0.0065 - val_loss: 0.0055\n",
      "Epoch 44/1000\n",
      "809/809 - 78s - loss: 0.0065 - val_loss: 0.0056\n",
      "Epoch 45/1000\n",
      "809/809 - 78s - loss: 0.0064 - val_loss: 0.0056\n",
      "Epoch 46/1000\n",
      "809/809 - 78s - loss: 0.0064 - val_loss: 0.0054\n",
      "Epoch 47/1000\n",
      "809/809 - 78s - loss: 0.0063 - val_loss: 0.0054\n",
      "Epoch 48/1000\n",
      "809/809 - 78s - loss: 0.0063 - val_loss: 0.0054\n",
      "Epoch 49/1000\n",
      "809/809 - 78s - loss: 0.0063 - val_loss: 0.0055\n",
      "Epoch 50/1000\n",
      "809/809 - 78s - loss: 0.0062 - val_loss: 0.0056\n",
      "Epoch 51/1000\n",
      "809/809 - 78s - loss: 0.0062 - val_loss: 0.0056\n",
      "Epoch 52/1000\n",
      "809/809 - 78s - loss: 0.0062 - val_loss: 0.0052\n",
      "Epoch 53/1000\n",
      "809/809 - 78s - loss: 0.0062 - val_loss: 0.0053\n",
      "Epoch 54/1000\n",
      "809/809 - 78s - loss: 0.0061 - val_loss: 0.0054\n",
      "Epoch 55/1000\n",
      "809/809 - 78s - loss: 0.0061 - val_loss: 0.0051\n",
      "Epoch 56/1000\n",
      "809/809 - 78s - loss: 0.0061 - val_loss: 0.0052\n",
      "Epoch 57/1000\n",
      "809/809 - 78s - loss: 0.0060 - val_loss: 0.0054\n",
      "Epoch 58/1000\n",
      "809/809 - 78s - loss: 0.0060 - val_loss: 0.0055\n",
      "Epoch 59/1000\n",
      "809/809 - 78s - loss: 0.0060 - val_loss: 0.0051\n",
      "Epoch 60/1000\n",
      "809/809 - 78s - loss: 0.0060 - val_loss: 0.0052\n",
      "Epoch 61/1000\n",
      "809/809 - 78s - loss: 0.0059 - val_loss: 0.0055\n",
      "Epoch 62/1000\n",
      "809/809 - 78s - loss: 0.0059 - val_loss: 0.0053\n",
      "Epoch 63/1000\n",
      "809/809 - 78s - loss: 0.0059 - val_loss: 0.0049\n",
      "Epoch 64/1000\n",
      "809/809 - 78s - loss: 0.0059 - val_loss: 0.0052\n",
      "Epoch 65/1000\n",
      "809/809 - 78s - loss: 0.0059 - val_loss: 0.0053\n",
      "Epoch 66/1000\n",
      "809/809 - 78s - loss: 0.0058 - val_loss: 0.0050\n",
      "Epoch 67/1000\n",
      "809/809 - 78s - loss: 0.0058 - val_loss: 0.0049\n",
      "Epoch 68/1000\n",
      "809/809 - 78s - loss: 0.0058 - val_loss: 0.0050\n",
      "Epoch 69/1000\n",
      "809/809 - 78s - loss: 0.0057 - val_loss: 0.0048\n",
      "Epoch 70/1000\n",
      "809/809 - 78s - loss: 0.0057 - val_loss: 0.0049\n",
      "Epoch 71/1000\n",
      "809/809 - 78s - loss: 0.0057 - val_loss: 0.0049\n",
      "Epoch 72/1000\n",
      "809/809 - 78s - loss: 0.0057 - val_loss: 0.0049\n",
      "Epoch 73/1000\n",
      "809/809 - 78s - loss: 0.0057 - val_loss: 0.0050\n",
      "注意力被执行了一次\n",
      "注意力被执行了一次\n",
      "Epoch 1/1000\n",
      "809/809 - 92s - loss: 0.0833 - val_loss: 0.0279\n",
      "Epoch 2/1000\n",
      "809/809 - 79s - loss: 0.0222 - val_loss: 0.0182\n",
      "Epoch 3/1000\n",
      "809/809 - 79s - loss: 0.0168 - val_loss: 0.0147\n",
      "Epoch 4/1000\n",
      "809/809 - 79s - loss: 0.0146 - val_loss: 0.0133\n",
      "Epoch 5/1000\n",
      "809/809 - 79s - loss: 0.0132 - val_loss: 0.0121\n",
      "Epoch 6/1000\n",
      "809/809 - 79s - loss: 0.0123 - val_loss: 0.0114\n",
      "Epoch 7/1000\n",
      "809/809 - 79s - loss: 0.0116 - val_loss: 0.0107\n",
      "Epoch 8/1000\n",
      "809/809 - 79s - loss: 0.0111 - val_loss: 0.0102\n",
      "Epoch 9/1000\n",
      "809/809 - 79s - loss: 0.0106 - val_loss: 0.0100\n",
      "Epoch 10/1000\n",
      "809/809 - 79s - loss: 0.0103 - val_loss: 0.0094\n",
      "Epoch 11/1000\n",
      "809/809 - 79s - loss: 0.0100 - val_loss: 0.0092\n",
      "Epoch 12/1000\n",
      "809/809 - 79s - loss: 0.0097 - val_loss: 0.0086\n",
      "Epoch 13/1000\n",
      "809/809 - 79s - loss: 0.0094 - val_loss: 0.0086\n",
      "Epoch 14/1000\n",
      "809/809 - 79s - loss: 0.0092 - val_loss: 0.0081\n",
      "Epoch 15/1000\n",
      "809/809 - 79s - loss: 0.0090 - val_loss: 0.0088\n",
      "Epoch 16/1000\n",
      "809/809 - 79s - loss: 0.0088 - val_loss: 0.0078\n",
      "Epoch 17/1000\n",
      "809/809 - 79s - loss: 0.0086 - val_loss: 0.0078\n",
      "Epoch 18/1000\n",
      "809/809 - 79s - loss: 0.0084 - val_loss: 0.0075\n",
      "Epoch 19/1000\n",
      "809/809 - 79s - loss: 0.0082 - val_loss: 0.0075\n",
      "Epoch 20/1000\n",
      "809/809 - 79s - loss: 0.0081 - val_loss: 0.0073\n",
      "Epoch 21/1000\n",
      "809/809 - 79s - loss: 0.0080 - val_loss: 0.0070\n",
      "Epoch 22/1000\n",
      "809/809 - 79s - loss: 0.0078 - val_loss: 0.0074\n",
      "Epoch 23/1000\n",
      "809/809 - 79s - loss: 0.0077 - val_loss: 0.0069\n",
      "Epoch 24/1000\n",
      "809/809 - 79s - loss: 0.0076 - val_loss: 0.0074\n",
      "Epoch 25/1000\n",
      "809/809 - 79s - loss: 0.0075 - val_loss: 0.0068\n",
      "Epoch 26/1000\n",
      "809/809 - 79s - loss: 0.0074 - val_loss: 0.0067\n",
      "Epoch 27/1000\n",
      "809/809 - 79s - loss: 0.0073 - val_loss: 0.0064\n",
      "Epoch 28/1000\n",
      "809/809 - 79s - loss: 0.0073 - val_loss: 0.0066\n",
      "Epoch 29/1000\n",
      "809/809 - 79s - loss: 0.0072 - val_loss: 0.0064\n",
      "Epoch 30/1000\n",
      "809/809 - 79s - loss: 0.0071 - val_loss: 0.0063\n",
      "Epoch 31/1000\n",
      "809/809 - 79s - loss: 0.0070 - val_loss: 0.0063\n",
      "Epoch 32/1000\n",
      "809/809 - 79s - loss: 0.0070 - val_loss: 0.0064\n",
      "Epoch 33/1000\n",
      "809/809 - 79s - loss: 0.0069 - val_loss: 0.0060\n",
      "Epoch 34/1000\n",
      "809/809 - 79s - loss: 0.0069 - val_loss: 0.0061\n",
      "Epoch 35/1000\n",
      "809/809 - 79s - loss: 0.0068 - val_loss: 0.0060\n",
      "Epoch 36/1000\n",
      "809/809 - 79s - loss: 0.0067 - val_loss: 0.0063\n",
      "Epoch 37/1000\n",
      "809/809 - 79s - loss: 0.0067 - val_loss: 0.0059\n",
      "Epoch 38/1000\n",
      "809/809 - 79s - loss: 0.0066 - val_loss: 0.0058\n",
      "Epoch 39/1000\n",
      "809/809 - 79s - loss: 0.0066 - val_loss: 0.0057\n",
      "Epoch 40/1000\n",
      "809/809 - 79s - loss: 0.0065 - val_loss: 0.0058\n",
      "Epoch 41/1000\n",
      "809/809 - 79s - loss: 0.0065 - val_loss: 0.0056\n",
      "Epoch 42/1000\n",
      "809/809 - 79s - loss: 0.0064 - val_loss: 0.0056\n",
      "Epoch 43/1000\n",
      "809/809 - 79s - loss: 0.0064 - val_loss: 0.0058\n",
      "Epoch 44/1000\n",
      "809/809 - 79s - loss: 0.0064 - val_loss: 0.0055\n",
      "Epoch 45/1000\n",
      "809/809 - 79s - loss: 0.0063 - val_loss: 0.0055\n",
      "Epoch 46/1000\n",
      "809/809 - 79s - loss: 0.0063 - val_loss: 0.0054\n",
      "Epoch 47/1000\n",
      "809/809 - 79s - loss: 0.0062 - val_loss: 0.0059\n",
      "Epoch 48/1000\n",
      "809/809 - 79s - loss: 0.0062 - val_loss: 0.0056\n",
      "Epoch 49/1000\n",
      "809/809 - 79s - loss: 0.0062 - val_loss: 0.0054\n"
     ]
    },
    {
     "name": "stdout",
     "output_type": "stream",
     "text": [
      "Epoch 50/1000\n",
      "809/809 - 79s - loss: 0.0061 - val_loss: 0.0053\n",
      "Epoch 51/1000\n",
      "809/809 - 79s - loss: 0.0061 - val_loss: 0.0052\n",
      "Epoch 52/1000\n",
      "809/809 - 79s - loss: 0.0061 - val_loss: 0.0052\n",
      "Epoch 53/1000\n",
      "809/809 - 79s - loss: 0.0061 - val_loss: 0.0053\n",
      "Epoch 54/1000\n",
      "809/809 - 79s - loss: 0.0060 - val_loss: 0.0052\n",
      "Epoch 55/1000\n",
      "809/809 - 79s - loss: 0.0060 - val_loss: 0.0055\n",
      "Epoch 56/1000\n",
      "809/809 - 79s - loss: 0.0060 - val_loss: 0.0051\n",
      "Epoch 57/1000\n",
      "809/809 - 79s - loss: 0.0059 - val_loss: 0.0051\n",
      "Epoch 58/1000\n",
      "809/809 - 79s - loss: 0.0059 - val_loss: 0.0050\n",
      "Epoch 59/1000\n",
      "809/809 - 79s - loss: 0.0059 - val_loss: 0.0054\n",
      "Epoch 60/1000\n",
      "809/809 - 79s - loss: 0.0059 - val_loss: 0.0050\n",
      "Epoch 61/1000\n",
      "809/809 - 79s - loss: 0.0059 - val_loss: 0.0053\n",
      "Epoch 62/1000\n",
      "809/809 - 79s - loss: 0.0058 - val_loss: 0.0050\n",
      "Epoch 63/1000\n",
      "809/809 - 79s - loss: 0.0058 - val_loss: 0.0049\n",
      "Epoch 64/1000\n",
      "809/809 - 79s - loss: 0.0058 - val_loss: 0.0050\n",
      "Epoch 65/1000\n",
      "809/809 - 79s - loss: 0.0058 - val_loss: 0.0049\n",
      "Epoch 66/1000\n",
      "809/809 - 79s - loss: 0.0057 - val_loss: 0.0050\n",
      "Epoch 67/1000\n",
      "809/809 - 79s - loss: 0.0057 - val_loss: 0.0048\n",
      "Epoch 68/1000\n",
      "809/809 - 79s - loss: 0.0057 - val_loss: 0.0051\n",
      "Epoch 69/1000\n",
      "809/809 - 79s - loss: 0.0057 - val_loss: 0.0047\n",
      "Epoch 70/1000\n",
      "809/809 - 79s - loss: 0.0057 - val_loss: 0.0048\n",
      "Epoch 71/1000\n",
      "809/809 - 79s - loss: 0.0056 - val_loss: 0.0047\n",
      "Epoch 72/1000\n",
      "809/809 - 79s - loss: 0.0056 - val_loss: 0.0047\n",
      "Epoch 73/1000\n",
      "809/809 - 79s - loss: 0.0056 - val_loss: 0.0047\n",
      "Epoch 74/1000\n",
      "809/809 - 79s - loss: 0.0056 - val_loss: 0.0049\n",
      "Epoch 75/1000\n",
      "809/809 - 79s - loss: 0.0056 - val_loss: 0.0048\n",
      "Epoch 76/1000\n",
      "809/809 - 79s - loss: 0.0056 - val_loss: 0.0046\n",
      "Epoch 77/1000\n",
      "809/809 - 79s - loss: 0.0055 - val_loss: 0.0046\n",
      "Epoch 78/1000\n",
      "809/809 - 79s - loss: 0.0055 - val_loss: 0.0046\n",
      "Epoch 79/1000\n",
      "809/809 - 79s - loss: 0.0055 - val_loss: 0.0049\n",
      "Epoch 80/1000\n",
      "809/809 - 79s - loss: 0.0055 - val_loss: 0.0047\n",
      "Epoch 81/1000\n",
      "809/809 - 79s - loss: 0.0055 - val_loss: 0.0047\n",
      "Epoch 82/1000\n",
      "809/809 - 79s - loss: 0.0055 - val_loss: 0.0046\n",
      "Epoch 83/1000\n",
      "809/809 - 79s - loss: 0.0054 - val_loss: 0.0047\n",
      "Epoch 84/1000\n",
      "809/809 - 79s - loss: 0.0054 - val_loss: 0.0046\n",
      "Epoch 85/1000\n",
      "809/809 - 79s - loss: 0.0054 - val_loss: 0.0045\n",
      "Epoch 86/1000\n",
      "809/809 - 79s - loss: 0.0054 - val_loss: 0.0047\n",
      "Epoch 87/1000\n",
      "809/809 - 79s - loss: 0.0054 - val_loss: 0.0046\n",
      "Epoch 88/1000\n",
      "809/809 - 79s - loss: 0.0054 - val_loss: 0.0045\n",
      "Epoch 89/1000\n",
      "809/809 - 79s - loss: 0.0054 - val_loss: 0.0046\n",
      "Epoch 90/1000\n",
      "809/809 - 79s - loss: 0.0054 - val_loss: 0.0047\n",
      "Epoch 91/1000\n",
      "809/809 - 79s - loss: 0.0054 - val_loss: 0.0046\n",
      "Epoch 92/1000\n",
      "809/809 - 79s - loss: 0.0053 - val_loss: 0.0046\n",
      "Epoch 93/1000\n",
      "809/809 - 79s - loss: 0.0053 - val_loss: 0.0044\n",
      "Epoch 94/1000\n",
      "809/809 - 79s - loss: 0.0053 - val_loss: 0.0045\n",
      "Epoch 95/1000\n",
      "809/809 - 79s - loss: 0.0053 - val_loss: 0.0047\n",
      "Epoch 96/1000\n",
      "809/809 - 79s - loss: 0.0053 - val_loss: 0.0045\n",
      "Epoch 97/1000\n",
      "809/809 - 79s - loss: 0.0053 - val_loss: 0.0044\n",
      "注意力被执行了一次\n",
      "注意力被执行了一次\n",
      "Epoch 1/1000\n",
      "809/809 - 90s - loss: 0.0976 - val_loss: 0.0400\n",
      "Epoch 2/1000\n",
      "809/809 - 77s - loss: 0.0269 - val_loss: 0.0192\n",
      "Epoch 3/1000\n",
      "809/809 - 78s - loss: 0.0173 - val_loss: 0.0148\n",
      "Epoch 4/1000\n",
      "809/809 - 78s - loss: 0.0144 - val_loss: 0.0131\n",
      "Epoch 5/1000\n",
      "809/809 - 78s - loss: 0.0130 - val_loss: 0.0121\n",
      "Epoch 6/1000\n",
      "809/809 - 78s - loss: 0.0121 - val_loss: 0.0110\n",
      "Epoch 7/1000\n",
      "809/809 - 78s - loss: 0.0113 - val_loss: 0.0103\n",
      "Epoch 8/1000\n",
      "809/809 - 78s - loss: 0.0108 - val_loss: 0.0103\n",
      "Epoch 9/1000\n",
      "809/809 - 78s - loss: 0.0104 - val_loss: 0.0098\n",
      "Epoch 10/1000\n",
      "809/809 - 78s - loss: 0.0100 - val_loss: 0.0092\n",
      "Epoch 11/1000\n",
      "809/809 - 78s - loss: 0.0097 - val_loss: 0.0088\n",
      "Epoch 12/1000\n",
      "809/809 - 78s - loss: 0.0094 - val_loss: 0.0086\n",
      "Epoch 13/1000\n",
      "809/809 - 78s - loss: 0.0091 - val_loss: 0.0083\n",
      "Epoch 14/1000\n",
      "809/809 - 78s - loss: 0.0089 - val_loss: 0.0079\n",
      "Epoch 15/1000\n",
      "809/809 - 78s - loss: 0.0087 - val_loss: 0.0080\n",
      "Epoch 16/1000\n",
      "809/809 - 78s - loss: 0.0085 - val_loss: 0.0076\n",
      "Epoch 17/1000\n",
      "809/809 - 78s - loss: 0.0083 - val_loss: 0.0072\n",
      "Epoch 18/1000\n",
      "809/809 - 78s - loss: 0.0081 - val_loss: 0.0073\n",
      "Epoch 19/1000\n",
      "809/809 - 78s - loss: 0.0080 - val_loss: 0.0070\n",
      "Epoch 20/1000\n",
      "809/809 - 78s - loss: 0.0078 - val_loss: 0.0070\n",
      "Epoch 21/1000\n",
      "809/809 - 78s - loss: 0.0077 - val_loss: 0.0073\n",
      "Epoch 22/1000\n",
      "809/809 - 78s - loss: 0.0076 - val_loss: 0.0070\n",
      "Epoch 23/1000\n",
      "809/809 - 78s - loss: 0.0075 - val_loss: 0.0067\n",
      "Epoch 24/1000\n",
      "809/809 - 78s - loss: 0.0074 - val_loss: 0.0067\n",
      "Epoch 25/1000\n",
      "809/809 - 78s - loss: 0.0073 - val_loss: 0.0067\n",
      "Epoch 26/1000\n",
      "809/809 - 78s - loss: 0.0072 - val_loss: 0.0065\n",
      "Epoch 27/1000\n",
      "809/809 - 78s - loss: 0.0071 - val_loss: 0.0063\n",
      "Epoch 28/1000\n",
      "809/809 - 78s - loss: 0.0071 - val_loss: 0.0061\n",
      "Epoch 29/1000\n",
      "809/809 - 78s - loss: 0.0070 - val_loss: 0.0063\n",
      "Epoch 30/1000\n",
      "809/809 - 78s - loss: 0.0069 - val_loss: 0.0062\n",
      "Epoch 31/1000\n",
      "809/809 - 78s - loss: 0.0068 - val_loss: 0.0060\n",
      "Epoch 32/1000\n",
      "809/809 - 78s - loss: 0.0068 - val_loss: 0.0061\n",
      "Epoch 33/1000\n",
      "809/809 - 78s - loss: 0.0067 - val_loss: 0.0059\n",
      "Epoch 34/1000\n",
      "809/809 - 78s - loss: 0.0067 - val_loss: 0.0057\n",
      "Epoch 35/1000\n",
      "809/809 - 78s - loss: 0.0066 - val_loss: 0.0058\n",
      "Epoch 36/1000\n",
      "809/809 - 78s - loss: 0.0066 - val_loss: 0.0057\n",
      "Epoch 37/1000\n",
      "809/809 - 78s - loss: 0.0065 - val_loss: 0.0055\n",
      "Epoch 38/1000\n",
      "809/809 - 78s - loss: 0.0065 - val_loss: 0.0054\n",
      "Epoch 39/1000\n",
      "809/809 - 78s - loss: 0.0064 - val_loss: 0.0057\n",
      "Epoch 40/1000\n",
      "809/809 - 78s - loss: 0.0064 - val_loss: 0.0055\n",
      "Epoch 41/1000\n",
      "809/809 - 78s - loss: 0.0063 - val_loss: 0.0059\n",
      "Epoch 42/1000\n",
      "809/809 - 78s - loss: 0.0063 - val_loss: 0.0053\n",
      "Epoch 43/1000\n",
      "809/809 - 78s - loss: 0.0062 - val_loss: 0.0056\n",
      "Epoch 44/1000\n",
      "809/809 - 78s - loss: 0.0062 - val_loss: 0.0054\n",
      "Epoch 45/1000\n",
      "809/809 - 78s - loss: 0.0062 - val_loss: 0.0056\n",
      "Epoch 46/1000\n",
      "809/809 - 78s - loss: 0.0061 - val_loss: 0.0052\n",
      "Epoch 47/1000\n",
      "809/809 - 78s - loss: 0.0061 - val_loss: 0.0052\n",
      "Epoch 48/1000\n",
      "809/809 - 78s - loss: 0.0061 - val_loss: 0.0054\n",
      "Epoch 49/1000\n",
      "809/809 - 78s - loss: 0.0060 - val_loss: 0.0052\n",
      "Epoch 50/1000\n",
      "809/809 - 78s - loss: 0.0060 - val_loss: 0.0052\n",
      "Epoch 51/1000\n",
      "809/809 - 78s - loss: 0.0060 - val_loss: 0.0053\n",
      "Epoch 52/1000\n",
      "809/809 - 78s - loss: 0.0060 - val_loss: 0.0052\n",
      "Epoch 53/1000\n",
      "809/809 - 78s - loss: 0.0059 - val_loss: 0.0051\n",
      "Epoch 54/1000\n",
      "809/809 - 78s - loss: 0.0059 - val_loss: 0.0049\n",
      "Epoch 55/1000\n",
      "809/809 - 78s - loss: 0.0059 - val_loss: 0.0050\n",
      "Epoch 56/1000\n",
      "809/809 - 78s - loss: 0.0059 - val_loss: 0.0049\n",
      "Epoch 57/1000\n",
      "809/809 - 78s - loss: 0.0058 - val_loss: 0.0050\n",
      "Epoch 58/1000\n",
      "809/809 - 78s - loss: 0.0058 - val_loss: 0.0048\n",
      "Epoch 59/1000\n",
      "809/809 - 78s - loss: 0.0058 - val_loss: 0.0048\n",
      "Epoch 60/1000\n",
      "809/809 - 78s - loss: 0.0058 - val_loss: 0.0049\n",
      "Epoch 61/1000\n",
      "809/809 - 78s - loss: 0.0058 - val_loss: 0.0048\n",
      "Epoch 62/1000\n",
      "809/809 - 78s - loss: 0.0057 - val_loss: 0.0055\n",
      "Epoch 63/1000\n",
      "809/809 - 78s - loss: 0.0057 - val_loss: 0.0048\n",
      "Epoch 64/1000\n",
      "809/809 - 78s - loss: 0.0057 - val_loss: 0.0047\n",
      "Epoch 65/1000\n",
      "809/809 - 78s - loss: 0.0057 - val_loss: 0.0049\n",
      "Epoch 66/1000\n",
      "809/809 - 78s - loss: 0.0056 - val_loss: 0.0049\n",
      "Epoch 67/1000\n",
      "809/809 - 78s - loss: 0.0056 - val_loss: 0.0048\n",
      "Epoch 68/1000\n",
      "809/809 - 78s - loss: 0.0056 - val_loss: 0.0047\n"
     ]
    }
   ],
   "source": [
    "#depth = [30,50,100,125,150,200,250,300,400,500,600,700,800,900,1000]\n",
    "depth = [600,700,800,900,1000]\n",
    "for i in range(0,5):  #i = 0---14\n",
    "    input_cnn_train = np.concatenate((x_cnn_train_split[:,:,:,:5],x_cnn_train_split[:,:,:,i+5:i+6]),axis=-1) \n",
    "    input_lstm_train = np.concatenate((x_lstm_train_split[:,:,:5],x_lstm_train_split[:,:,i+5:i+6]),axis=-1)\n",
    "    input_cnn_val = np.concatenate((x_cnn_val[:,:,:,:5],x_cnn_val[:,:,:,i+5:i+6]),axis=-1)  \n",
    "    input_lstm_val = np.concatenate((x_lstm_val[:,:,:5],x_lstm_val[:,:,i+5:i+6]),axis=-1)  \n",
    "    \n",
    "    train_model(input_cnn_train,input_lstm_train,y_train_split[:,i+10:i+11],\n",
    "                input_cnn_val,input_lstm_val,y_val[:,i+10:i+11],\n",
    "                '../model/cnn_lstm_jc_model_newVariable4_'+str(depth[i])+'m.h5')"
   ]
  },
  {
   "cell_type": "markdown",
   "id": "d22eba26",
   "metadata": {},
   "source": [
    "### 200m-500m"
   ]
  },
  {
   "cell_type": "code",
   "execution_count": 21,
   "id": "c6902898",
   "metadata": {
    "ExecuteTime": {
     "end_time": "2023-12-03T13:59:42.149408Z",
     "start_time": "2023-12-03T05:43:06.406338Z"
    },
    "code_folding": [
     0
    ],
    "collapsed": true
   },
   "outputs": [
    {
     "name": "stdout",
     "output_type": "stream",
     "text": [
      "注意力被执行了一次\n",
      "注意力被执行了一次\n",
      "Epoch 1/1000\n",
      "809/809 - 113s - loss: 0.0961 - val_loss: 0.0423\n",
      "Epoch 2/1000\n",
      "809/809 - 83s - loss: 0.0259 - val_loss: 0.0168\n",
      "Epoch 3/1000\n",
      "809/809 - 83s - loss: 0.0133 - val_loss: 0.0112\n",
      "Epoch 4/1000\n",
      "809/809 - 83s - loss: 0.0099 - val_loss: 0.0088\n",
      "Epoch 5/1000\n",
      "809/809 - 83s - loss: 0.0087 - val_loss: 0.0083\n",
      "Epoch 6/1000\n",
      "809/809 - 82s - loss: 0.0081 - val_loss: 0.0076\n",
      "Epoch 7/1000\n",
      "809/809 - 81s - loss: 0.0076 - val_loss: 0.0067\n",
      "Epoch 8/1000\n",
      "809/809 - 81s - loss: 0.0073 - val_loss: 0.0068\n",
      "Epoch 9/1000\n",
      "809/809 - 81s - loss: 0.0069 - val_loss: 0.0062\n",
      "Epoch 10/1000\n",
      "809/809 - 81s - loss: 0.0066 - val_loss: 0.0059\n",
      "Epoch 11/1000\n",
      "809/809 - 81s - loss: 0.0064 - val_loss: 0.0059\n",
      "Epoch 12/1000\n",
      "809/809 - 81s - loss: 0.0062 - val_loss: 0.0055\n",
      "Epoch 13/1000\n",
      "809/809 - 81s - loss: 0.0060 - val_loss: 0.0059\n",
      "Epoch 14/1000\n",
      "809/809 - 81s - loss: 0.0058 - val_loss: 0.0052\n",
      "Epoch 15/1000\n",
      "809/809 - 81s - loss: 0.0057 - val_loss: 0.0049\n",
      "Epoch 16/1000\n",
      "809/809 - 81s - loss: 0.0055 - val_loss: 0.0050\n",
      "Epoch 17/1000\n",
      "809/809 - 81s - loss: 0.0054 - val_loss: 0.0062\n",
      "Epoch 18/1000\n",
      "809/809 - 81s - loss: 0.0053 - val_loss: 0.0047\n",
      "Epoch 19/1000\n",
      "809/809 - 81s - loss: 0.0052 - val_loss: 0.0045\n",
      "Epoch 20/1000\n",
      "809/809 - 81s - loss: 0.0051 - val_loss: 0.0050\n",
      "Epoch 21/1000\n",
      "809/809 - 81s - loss: 0.0050 - val_loss: 0.0044\n",
      "Epoch 22/1000\n",
      "809/809 - 81s - loss: 0.0049 - val_loss: 0.0043\n",
      "Epoch 23/1000\n",
      "809/809 - 81s - loss: 0.0048 - val_loss: 0.0045\n",
      "Epoch 24/1000\n",
      "809/809 - 81s - loss: 0.0048 - val_loss: 0.0041\n",
      "Epoch 25/1000\n",
      "809/809 - 81s - loss: 0.0047 - val_loss: 0.0040\n",
      "Epoch 26/1000\n",
      "809/809 - 81s - loss: 0.0046 - val_loss: 0.0042\n",
      "Epoch 27/1000\n",
      "809/809 - 81s - loss: 0.0046 - val_loss: 0.0039\n",
      "Epoch 28/1000\n",
      "809/809 - 82s - loss: 0.0045 - val_loss: 0.0038\n",
      "Epoch 29/1000\n",
      "809/809 - 81s - loss: 0.0045 - val_loss: 0.0043\n",
      "Epoch 30/1000\n",
      "809/809 - 81s - loss: 0.0044 - val_loss: 0.0038\n",
      "Epoch 31/1000\n",
      "809/809 - 81s - loss: 0.0044 - val_loss: 0.0039\n",
      "Epoch 32/1000\n",
      "809/809 - 81s - loss: 0.0043 - val_loss: 0.0040\n",
      "Epoch 33/1000\n",
      "809/809 - 82s - loss: 0.0043 - val_loss: 0.0036\n",
      "Epoch 34/1000\n",
      "809/809 - 81s - loss: 0.0042 - val_loss: 0.0038\n",
      "Epoch 35/1000\n",
      "809/809 - 81s - loss: 0.0042 - val_loss: 0.0052\n",
      "Epoch 36/1000\n",
      "809/809 - 81s - loss: 0.0042 - val_loss: 0.0036\n",
      "Epoch 37/1000\n",
      "809/809 - 81s - loss: 0.0041 - val_loss: 0.0034\n",
      "Epoch 38/1000\n",
      "809/809 - 81s - loss: 0.0041 - val_loss: 0.0035\n",
      "Epoch 39/1000\n",
      "809/809 - 81s - loss: 0.0040 - val_loss: 0.0035\n",
      "Epoch 40/1000\n",
      "809/809 - 82s - loss: 0.0040 - val_loss: 0.0035\n",
      "Epoch 41/1000\n",
      "809/809 - 82s - loss: 0.0040 - val_loss: 0.0035\n",
      "Epoch 42/1000\n",
      "809/809 - 81s - loss: 0.0040 - val_loss: 0.0033\n",
      "Epoch 43/1000\n",
      "809/809 - 82s - loss: 0.0039 - val_loss: 0.0033\n",
      "Epoch 44/1000\n",
      "809/809 - 82s - loss: 0.0039 - val_loss: 0.0037\n",
      "Epoch 45/1000\n",
      "809/809 - 82s - loss: 0.0039 - val_loss: 0.0034\n",
      "Epoch 46/1000\n",
      "809/809 - 82s - loss: 0.0039 - val_loss: 0.0034\n",
      "Epoch 47/1000\n",
      "809/809 - 82s - loss: 0.0038 - val_loss: 0.0037\n",
      "Epoch 48/1000\n",
      "809/809 - 81s - loss: 0.0038 - val_loss: 0.0035\n",
      "Epoch 49/1000\n",
      "809/809 - 81s - loss: 0.0038 - val_loss: 0.0032\n",
      "Epoch 50/1000\n",
      "809/809 - 81s - loss: 0.0038 - val_loss: 0.0032\n",
      "Epoch 51/1000\n",
      "809/809 - 82s - loss: 0.0037 - val_loss: 0.0034\n",
      "Epoch 52/1000\n",
      "809/809 - 81s - loss: 0.0037 - val_loss: 0.0037\n",
      "Epoch 53/1000\n",
      "809/809 - 81s - loss: 0.0037 - val_loss: 0.0033\n",
      "Epoch 54/1000\n",
      "809/809 - 82s - loss: 0.0037 - val_loss: 0.0033\n",
      "Epoch 55/1000\n",
      "809/809 - 83s - loss: 0.0037 - val_loss: 0.0030\n",
      "Epoch 56/1000\n",
      "809/809 - 83s - loss: 0.0036 - val_loss: 0.0030\n",
      "Epoch 57/1000\n",
      "809/809 - 83s - loss: 0.0036 - val_loss: 0.0032\n",
      "注意力被执行了一次\n",
      "注意力被执行了一次\n",
      "Epoch 1/1000\n",
      "809/809 - 91s - loss: 0.0778 - val_loss: 0.0275\n",
      "Epoch 2/1000\n",
      "809/809 - 78s - loss: 0.0177 - val_loss: 0.0117\n",
      "Epoch 3/1000\n",
      "809/809 - 78s - loss: 0.0101 - val_loss: 0.0088\n",
      "Epoch 4/1000\n",
      "809/809 - 78s - loss: 0.0082 - val_loss: 0.0080\n",
      "Epoch 5/1000\n",
      "809/809 - 78s - loss: 0.0074 - val_loss: 0.0070\n",
      "Epoch 6/1000\n",
      "809/809 - 78s - loss: 0.0070 - val_loss: 0.0075\n",
      "Epoch 7/1000\n",
      "809/809 - 79s - loss: 0.0066 - val_loss: 0.0061\n",
      "Epoch 8/1000\n",
      "809/809 - 79s - loss: 0.0063 - val_loss: 0.0059\n",
      "Epoch 9/1000\n",
      "809/809 - 78s - loss: 0.0060 - val_loss: 0.0061\n",
      "Epoch 10/1000\n",
      "809/809 - 79s - loss: 0.0058 - val_loss: 0.0056\n",
      "Epoch 11/1000\n",
      "809/809 - 79s - loss: 0.0056 - val_loss: 0.0052\n",
      "Epoch 12/1000\n",
      "809/809 - 79s - loss: 0.0054 - val_loss: 0.0053\n",
      "Epoch 13/1000\n",
      "809/809 - 79s - loss: 0.0053 - val_loss: 0.0049\n",
      "Epoch 14/1000\n",
      "809/809 - 79s - loss: 0.0051 - val_loss: 0.0055\n",
      "Epoch 15/1000\n",
      "809/809 - 79s - loss: 0.0050 - val_loss: 0.0046\n",
      "Epoch 16/1000\n",
      "809/809 - 79s - loss: 0.0049 - val_loss: 0.0045\n",
      "Epoch 17/1000\n",
      "809/809 - 78s - loss: 0.0048 - val_loss: 0.0049\n",
      "Epoch 18/1000\n",
      "809/809 - 78s - loss: 0.0047 - val_loss: 0.0046\n",
      "Epoch 19/1000\n",
      "809/809 - 79s - loss: 0.0046 - val_loss: 0.0043\n",
      "Epoch 20/1000\n",
      "809/809 - 78s - loss: 0.0045 - val_loss: 0.0043\n",
      "Epoch 21/1000\n",
      "809/809 - 79s - loss: 0.0044 - val_loss: 0.0040\n",
      "Epoch 22/1000\n",
      "809/809 - 78s - loss: 0.0043 - val_loss: 0.0045\n",
      "Epoch 23/1000\n",
      "809/809 - 79s - loss: 0.0043 - val_loss: 0.0040\n",
      "Epoch 24/1000\n",
      "809/809 - 79s - loss: 0.0042 - val_loss: 0.0038\n",
      "Epoch 25/1000\n",
      "809/809 - 79s - loss: 0.0042 - val_loss: 0.0036\n",
      "Epoch 26/1000\n",
      "809/809 - 79s - loss: 0.0041 - val_loss: 0.0040\n",
      "Epoch 27/1000\n",
      "809/809 - 78s - loss: 0.0041 - val_loss: 0.0036\n",
      "Epoch 28/1000\n",
      "809/809 - 78s - loss: 0.0040 - val_loss: 0.0037\n",
      "Epoch 29/1000\n",
      "809/809 - 78s - loss: 0.0040 - val_loss: 0.0035\n",
      "Epoch 30/1000\n",
      "809/809 - 79s - loss: 0.0039 - val_loss: 0.0037\n",
      "Epoch 31/1000\n",
      "809/809 - 79s - loss: 0.0039 - val_loss: 0.0038\n",
      "Epoch 32/1000\n",
      "809/809 - 78s - loss: 0.0038 - val_loss: 0.0035\n",
      "Epoch 33/1000\n",
      "809/809 - 79s - loss: 0.0038 - val_loss: 0.0034\n",
      "Epoch 34/1000\n",
      "809/809 - 79s - loss: 0.0038 - val_loss: 0.0032\n",
      "Epoch 35/1000\n",
      "809/809 - 79s - loss: 0.0037 - val_loss: 0.0036\n",
      "Epoch 36/1000\n",
      "809/809 - 79s - loss: 0.0037 - val_loss: 0.0034\n",
      "Epoch 37/1000\n",
      "809/809 - 78s - loss: 0.0037 - val_loss: 0.0033\n",
      "Epoch 38/1000\n",
      "809/809 - 79s - loss: 0.0036 - val_loss: 0.0037\n",
      "Epoch 39/1000\n",
      "809/809 - 78s - loss: 0.0036 - val_loss: 0.0035\n",
      "Epoch 40/1000\n",
      "809/809 - 79s - loss: 0.0036 - val_loss: 0.0037\n",
      "Epoch 41/1000\n",
      "809/809 - 78s - loss: 0.0036 - val_loss: 0.0031\n",
      "Epoch 42/1000\n",
      "809/809 - 79s - loss: 0.0035 - val_loss: 0.0031\n",
      "Epoch 43/1000\n",
      "809/809 - 79s - loss: 0.0035 - val_loss: 0.0030\n",
      "Epoch 44/1000\n",
      "809/809 - 78s - loss: 0.0035 - val_loss: 0.0032\n",
      "Epoch 45/1000\n",
      "809/809 - 78s - loss: 0.0034 - val_loss: 0.0030\n",
      "Epoch 46/1000\n",
      "809/809 - 79s - loss: 0.0034 - val_loss: 0.0031\n",
      "Epoch 47/1000\n",
      "809/809 - 78s - loss: 0.0034 - val_loss: 0.0030\n",
      "Epoch 48/1000\n",
      "809/809 - 79s - loss: 0.0034 - val_loss: 0.0034\n",
      "Epoch 49/1000\n",
      "809/809 - 78s - loss: 0.0034 - val_loss: 0.0039\n",
      "Epoch 50/1000\n",
      "809/809 - 78s - loss: 0.0033 - val_loss: 0.0028\n",
      "Epoch 51/1000\n",
      "809/809 - 78s - loss: 0.0033 - val_loss: 0.0029\n",
      "Epoch 52/1000\n",
      "809/809 - 78s - loss: 0.0033 - val_loss: 0.0027\n",
      "Epoch 53/1000\n",
      "809/809 - 79s - loss: 0.0033 - val_loss: 0.0030\n",
      "Epoch 54/1000\n",
      "809/809 - 78s - loss: 0.0033 - val_loss: 0.0027\n",
      "Epoch 55/1000\n",
      "809/809 - 78s - loss: 0.0033 - val_loss: 0.0029\n",
      "Epoch 56/1000\n",
      "809/809 - 79s - loss: 0.0032 - val_loss: 0.0030\n",
      "Epoch 57/1000\n",
      "809/809 - 79s - loss: 0.0032 - val_loss: 0.0028\n",
      "Epoch 58/1000\n",
      "809/809 - 78s - loss: 0.0032 - val_loss: 0.0028\n",
      "Epoch 59/1000\n",
      "809/809 - 79s - loss: 0.0032 - val_loss: 0.0027\n",
      "Epoch 60/1000\n",
      "809/809 - 78s - loss: 0.0032 - val_loss: 0.0027\n",
      "Epoch 61/1000\n",
      "809/809 - 78s - loss: 0.0032 - val_loss: 0.0030\n",
      "Epoch 62/1000\n",
      "809/809 - 79s - loss: 0.0031 - val_loss: 0.0034\n",
      "Epoch 63/1000\n",
      "809/809 - 78s - loss: 0.0031 - val_loss: 0.0029\n",
      "Epoch 64/1000\n",
      "809/809 - 78s - loss: 0.0031 - val_loss: 0.0026\n",
      "Epoch 65/1000\n",
      "809/809 - 78s - loss: 0.0031 - val_loss: 0.0026\n",
      "Epoch 66/1000\n",
      "809/809 - 78s - loss: 0.0031 - val_loss: 0.0026\n",
      "Epoch 67/1000\n",
      "809/809 - 79s - loss: 0.0031 - val_loss: 0.0027\n",
      "Epoch 68/1000\n",
      "809/809 - 78s - loss: 0.0031 - val_loss: 0.0026\n",
      "Epoch 69/1000\n",
      "809/809 - 78s - loss: 0.0030 - val_loss: 0.0026\n",
      "Epoch 70/1000\n",
      "809/809 - 79s - loss: 0.0031 - val_loss: 0.0027\n",
      "Epoch 71/1000\n",
      "809/809 - 79s - loss: 0.0030 - val_loss: 0.0027\n",
      "Epoch 72/1000\n",
      "809/809 - 78s - loss: 0.0030 - val_loss: 0.0028\n",
      "Epoch 73/1000\n",
      "809/809 - 79s - loss: 0.0030 - val_loss: 0.0025\n",
      "Epoch 74/1000\n",
      "809/809 - 78s - loss: 0.0030 - val_loss: 0.0027\n",
      "Epoch 75/1000\n",
      "809/809 - 78s - loss: 0.0030 - val_loss: 0.0026\n"
     ]
    },
    {
     "name": "stdout",
     "output_type": "stream",
     "text": [
      "Epoch 76/1000\n",
      "809/809 - 78s - loss: 0.0030 - val_loss: 0.0030\n",
      "Epoch 77/1000\n",
      "809/809 - 78s - loss: 0.0030 - val_loss: 0.0026\n",
      "Epoch 78/1000\n",
      "809/809 - 78s - loss: 0.0030 - val_loss: 0.0026\n",
      "Epoch 79/1000\n",
      "809/809 - 78s - loss: 0.0030 - val_loss: 0.0026\n",
      "Epoch 80/1000\n",
      "809/809 - 78s - loss: 0.0029 - val_loss: 0.0024\n",
      "Epoch 81/1000\n",
      "809/809 - 78s - loss: 0.0029 - val_loss: 0.0025\n",
      "Epoch 82/1000\n",
      "809/809 - 78s - loss: 0.0029 - val_loss: 0.0024\n",
      "注意力被执行了一次\n",
      "注意力被执行了一次\n",
      "Epoch 1/1000\n",
      "809/809 - 92s - loss: 0.0766 - val_loss: 0.0246\n",
      "Epoch 2/1000\n",
      "809/809 - 78s - loss: 0.0163 - val_loss: 0.0109\n",
      "Epoch 3/1000\n",
      "809/809 - 78s - loss: 0.0096 - val_loss: 0.0080\n",
      "Epoch 4/1000\n",
      "809/809 - 78s - loss: 0.0079 - val_loss: 0.0072\n",
      "Epoch 5/1000\n",
      "809/809 - 78s - loss: 0.0072 - val_loss: 0.0064\n",
      "Epoch 6/1000\n",
      "809/809 - 78s - loss: 0.0068 - val_loss: 0.0061\n",
      "Epoch 7/1000\n",
      "809/809 - 78s - loss: 0.0065 - val_loss: 0.0057\n",
      "Epoch 8/1000\n",
      "809/809 - 78s - loss: 0.0062 - val_loss: 0.0059\n",
      "Epoch 9/1000\n",
      "809/809 - 78s - loss: 0.0060 - val_loss: 0.0054\n",
      "Epoch 10/1000\n",
      "809/809 - 78s - loss: 0.0058 - val_loss: 0.0051\n",
      "Epoch 11/1000\n",
      "809/809 - 78s - loss: 0.0056 - val_loss: 0.0056\n",
      "Epoch 12/1000\n",
      "809/809 - 78s - loss: 0.0054 - val_loss: 0.0049\n",
      "Epoch 13/1000\n",
      "809/809 - 78s - loss: 0.0053 - val_loss: 0.0052\n",
      "Epoch 14/1000\n",
      "809/809 - 78s - loss: 0.0052 - val_loss: 0.0048\n",
      "Epoch 15/1000\n",
      "809/809 - 78s - loss: 0.0050 - val_loss: 0.0046\n",
      "Epoch 16/1000\n",
      "809/809 - 78s - loss: 0.0049 - val_loss: 0.0044\n",
      "Epoch 17/1000\n",
      "809/809 - 78s - loss: 0.0048 - val_loss: 0.0043\n",
      "Epoch 18/1000\n",
      "809/809 - 78s - loss: 0.0047 - val_loss: 0.0043\n",
      "Epoch 19/1000\n",
      "809/809 - 78s - loss: 0.0046 - val_loss: 0.0041\n",
      "Epoch 20/1000\n",
      "809/809 - 78s - loss: 0.0045 - val_loss: 0.0044\n",
      "Epoch 21/1000\n",
      "809/809 - 78s - loss: 0.0045 - val_loss: 0.0045\n",
      "Epoch 22/1000\n",
      "809/809 - 78s - loss: 0.0044 - val_loss: 0.0041\n",
      "Epoch 23/1000\n",
      "809/809 - 78s - loss: 0.0043 - val_loss: 0.0040\n",
      "Epoch 24/1000\n",
      "809/809 - 78s - loss: 0.0043 - val_loss: 0.0064\n",
      "Epoch 25/1000\n",
      "809/809 - 78s - loss: 0.0042 - val_loss: 0.0039\n",
      "Epoch 26/1000\n",
      "809/809 - 78s - loss: 0.0042 - val_loss: 0.0038\n",
      "Epoch 27/1000\n",
      "809/809 - 78s - loss: 0.0041 - val_loss: 0.0035\n",
      "Epoch 28/1000\n",
      "809/809 - 78s - loss: 0.0040 - val_loss: 0.0038\n",
      "Epoch 29/1000\n",
      "809/809 - 78s - loss: 0.0040 - val_loss: 0.0037\n",
      "Epoch 30/1000\n",
      "809/809 - 78s - loss: 0.0040 - val_loss: 0.0038\n",
      "Epoch 31/1000\n",
      "809/809 - 78s - loss: 0.0039 - val_loss: 0.0034\n",
      "Epoch 32/1000\n",
      "809/809 - 78s - loss: 0.0039 - val_loss: 0.0039\n",
      "Epoch 33/1000\n",
      "809/809 - 78s - loss: 0.0038 - val_loss: 0.0045\n",
      "Epoch 34/1000\n",
      "809/809 - 78s - loss: 0.0038 - val_loss: 0.0039\n",
      "Epoch 35/1000\n",
      "809/809 - 78s - loss: 0.0038 - val_loss: 0.0036\n",
      "Epoch 36/1000\n",
      "809/809 - 78s - loss: 0.0037 - val_loss: 0.0039\n",
      "Epoch 37/1000\n",
      "809/809 - 78s - loss: 0.0037 - val_loss: 0.0033\n",
      "Epoch 38/1000\n",
      "809/809 - 78s - loss: 0.0037 - val_loss: 0.0032\n",
      "Epoch 39/1000\n",
      "809/809 - 78s - loss: 0.0036 - val_loss: 0.0032\n",
      "Epoch 40/1000\n",
      "809/809 - 78s - loss: 0.0036 - val_loss: 0.0039\n",
      "Epoch 41/1000\n",
      "809/809 - 78s - loss: 0.0036 - val_loss: 0.0033\n",
      "Epoch 42/1000\n",
      "809/809 - 78s - loss: 0.0035 - val_loss: 0.0031\n",
      "Epoch 43/1000\n",
      "809/809 - 78s - loss: 0.0035 - val_loss: 0.0038\n",
      "Epoch 44/1000\n",
      "809/809 - 78s - loss: 0.0035 - val_loss: 0.0029\n",
      "Epoch 45/1000\n",
      "809/809 - 78s - loss: 0.0035 - val_loss: 0.0029\n",
      "Epoch 46/1000\n",
      "809/809 - 78s - loss: 0.0034 - val_loss: 0.0031\n",
      "Epoch 47/1000\n",
      "809/809 - 78s - loss: 0.0034 - val_loss: 0.0030\n",
      "Epoch 48/1000\n",
      "809/809 - 78s - loss: 0.0034 - val_loss: 0.0031\n",
      "Epoch 49/1000\n",
      "809/809 - 78s - loss: 0.0034 - val_loss: 0.0031\n",
      "Epoch 50/1000\n",
      "809/809 - 78s - loss: 0.0034 - val_loss: 0.0030\n",
      "Epoch 51/1000\n",
      "809/809 - 78s - loss: 0.0033 - val_loss: 0.0030\n",
      "Epoch 52/1000\n",
      "809/809 - 78s - loss: 0.0033 - val_loss: 0.0029\n",
      "Epoch 53/1000\n",
      "809/809 - 78s - loss: 0.0033 - val_loss: 0.0031\n",
      "Epoch 54/1000\n",
      "809/809 - 78s - loss: 0.0033 - val_loss: 0.0029\n",
      "Epoch 55/1000\n",
      "809/809 - 78s - loss: 0.0033 - val_loss: 0.0028\n",
      "Epoch 56/1000\n",
      "809/809 - 78s - loss: 0.0032 - val_loss: 0.0027\n",
      "Epoch 57/1000\n",
      "809/809 - 78s - loss: 0.0032 - val_loss: 0.0031\n",
      "Epoch 58/1000\n",
      "809/809 - 78s - loss: 0.0032 - val_loss: 0.0028\n",
      "Epoch 59/1000\n",
      "809/809 - 78s - loss: 0.0032 - val_loss: 0.0027\n",
      "Epoch 60/1000\n",
      "809/809 - 78s - loss: 0.0032 - val_loss: 0.0028\n",
      "Epoch 61/1000\n",
      "809/809 - 78s - loss: 0.0032 - val_loss: 0.0028\n",
      "Epoch 62/1000\n",
      "809/809 - 78s - loss: 0.0032 - val_loss: 0.0028\n",
      "Epoch 63/1000\n",
      "809/809 - 78s - loss: 0.0031 - val_loss: 0.0027\n",
      "Epoch 64/1000\n",
      "809/809 - 78s - loss: 0.0031 - val_loss: 0.0027\n",
      "Epoch 65/1000\n",
      "809/809 - 78s - loss: 0.0031 - val_loss: 0.0027\n",
      "Epoch 66/1000\n",
      "809/809 - 78s - loss: 0.0031 - val_loss: 0.0026\n",
      "Epoch 67/1000\n",
      "809/809 - 78s - loss: 0.0031 - val_loss: 0.0028\n",
      "注意力被执行了一次\n",
      "注意力被执行了一次\n",
      "Epoch 1/1000\n",
      "809/809 - 93s - loss: 0.0771 - val_loss: 0.0223\n",
      "Epoch 2/1000\n",
      "809/809 - 79s - loss: 0.0166 - val_loss: 0.0122\n",
      "Epoch 3/1000\n",
      "809/809 - 79s - loss: 0.0116 - val_loss: 0.0098\n",
      "Epoch 4/1000\n",
      "809/809 - 80s - loss: 0.0100 - val_loss: 0.0093\n",
      "Epoch 5/1000\n",
      "809/809 - 80s - loss: 0.0093 - val_loss: 0.0090\n",
      "Epoch 6/1000\n",
      "809/809 - 80s - loss: 0.0087 - val_loss: 0.0079\n",
      "Epoch 7/1000\n",
      "809/809 - 80s - loss: 0.0083 - val_loss: 0.0079\n",
      "Epoch 8/1000\n",
      "809/809 - 80s - loss: 0.0080 - val_loss: 0.0076\n",
      "Epoch 9/1000\n",
      "809/809 - 80s - loss: 0.0077 - val_loss: 0.0075\n",
      "Epoch 10/1000\n",
      "809/809 - 80s - loss: 0.0075 - val_loss: 0.0072\n",
      "Epoch 11/1000\n",
      "809/809 - 80s - loss: 0.0072 - val_loss: 0.0065\n",
      "Epoch 12/1000\n",
      "809/809 - 80s - loss: 0.0070 - val_loss: 0.0070\n",
      "Epoch 13/1000\n",
      "809/809 - 80s - loss: 0.0068 - val_loss: 0.0089\n",
      "Epoch 14/1000\n",
      "809/809 - 80s - loss: 0.0066 - val_loss: 0.0065\n",
      "Epoch 15/1000\n",
      "809/809 - 80s - loss: 0.0064 - val_loss: 0.0061\n",
      "Epoch 16/1000\n",
      "809/809 - 80s - loss: 0.0063 - val_loss: 0.0060\n",
      "Epoch 17/1000\n",
      "809/809 - 80s - loss: 0.0062 - val_loss: 0.0062\n",
      "Epoch 18/1000\n",
      "809/809 - 80s - loss: 0.0060 - val_loss: 0.0061\n",
      "Epoch 19/1000\n",
      "809/809 - 80s - loss: 0.0059 - val_loss: 0.0054\n",
      "Epoch 20/1000\n",
      "809/809 - 80s - loss: 0.0058 - val_loss: 0.0055\n",
      "Epoch 21/1000\n",
      "809/809 - 80s - loss: 0.0057 - val_loss: 0.0054\n",
      "Epoch 22/1000\n",
      "809/809 - 80s - loss: 0.0056 - val_loss: 0.0053\n",
      "Epoch 23/1000\n",
      "809/809 - 80s - loss: 0.0055 - val_loss: 0.0051\n",
      "Epoch 24/1000\n",
      "809/809 - 80s - loss: 0.0054 - val_loss: 0.0057\n",
      "Epoch 25/1000\n",
      "809/809 - 80s - loss: 0.0054 - val_loss: 0.0047\n",
      "Epoch 26/1000\n",
      "809/809 - 80s - loss: 0.0053 - val_loss: 0.0051\n",
      "Epoch 27/1000\n",
      "809/809 - 80s - loss: 0.0052 - val_loss: 0.0046\n",
      "Epoch 28/1000\n",
      "809/809 - 80s - loss: 0.0051 - val_loss: 0.0056\n",
      "Epoch 29/1000\n",
      "809/809 - 80s - loss: 0.0051 - val_loss: 0.0045\n",
      "Epoch 30/1000\n",
      "809/809 - 80s - loss: 0.0050 - val_loss: 0.0047\n",
      "Epoch 31/1000\n",
      "809/809 - 80s - loss: 0.0050 - val_loss: 0.0053\n",
      "Epoch 32/1000\n",
      "809/809 - 80s - loss: 0.0049 - val_loss: 0.0045\n",
      "Epoch 33/1000\n",
      "809/809 - 80s - loss: 0.0049 - val_loss: 0.0054\n",
      "Epoch 34/1000\n",
      "809/809 - 80s - loss: 0.0048 - val_loss: 0.0043\n",
      "Epoch 35/1000\n",
      "809/809 - 80s - loss: 0.0048 - val_loss: 0.0044\n",
      "Epoch 36/1000\n",
      "809/809 - 80s - loss: 0.0047 - val_loss: 0.0045\n",
      "Epoch 37/1000\n",
      "809/809 - 80s - loss: 0.0047 - val_loss: 0.0042\n",
      "Epoch 38/1000\n",
      "809/809 - 80s - loss: 0.0046 - val_loss: 0.0045\n",
      "Epoch 39/1000\n",
      "809/809 - 80s - loss: 0.0046 - val_loss: 0.0042\n",
      "Epoch 40/1000\n",
      "809/809 - 80s - loss: 0.0046 - val_loss: 0.0041\n",
      "Epoch 41/1000\n",
      "809/809 - 80s - loss: 0.0045 - val_loss: 0.0044\n",
      "Epoch 42/1000\n",
      "809/809 - 80s - loss: 0.0045 - val_loss: 0.0041\n",
      "Epoch 43/1000\n",
      "809/809 - 80s - loss: 0.0045 - val_loss: 0.0038\n",
      "Epoch 44/1000\n",
      "809/809 - 80s - loss: 0.0044 - val_loss: 0.0042\n",
      "Epoch 45/1000\n",
      "809/809 - 80s - loss: 0.0044 - val_loss: 0.0043\n",
      "Epoch 46/1000\n",
      "809/809 - 80s - loss: 0.0044 - val_loss: 0.0039\n",
      "Epoch 47/1000\n",
      "809/809 - 80s - loss: 0.0043 - val_loss: 0.0038\n",
      "Epoch 48/1000\n",
      "809/809 - 80s - loss: 0.0043 - val_loss: 0.0039\n",
      "Epoch 49/1000\n",
      "809/809 - 80s - loss: 0.0043 - val_loss: 0.0037\n",
      "Epoch 50/1000\n",
      "809/809 - 80s - loss: 0.0042 - val_loss: 0.0037\n",
      "Epoch 51/1000\n",
      "809/809 - 80s - loss: 0.0042 - val_loss: 0.0036\n",
      "Epoch 52/1000\n",
      "809/809 - 80s - loss: 0.0042 - val_loss: 0.0037\n",
      "Epoch 53/1000\n",
      "809/809 - 80s - loss: 0.0042 - val_loss: 0.0036\n",
      "Epoch 54/1000\n",
      "809/809 - 80s - loss: 0.0041 - val_loss: 0.0039\n",
      "Epoch 55/1000\n",
      "809/809 - 80s - loss: 0.0041 - val_loss: 0.0038\n",
      "Epoch 56/1000\n",
      "809/809 - 80s - loss: 0.0041 - val_loss: 0.0035\n",
      "Epoch 57/1000\n",
      "809/809 - 80s - loss: 0.0041 - val_loss: 0.0036\n",
      "Epoch 58/1000\n",
      "809/809 - 80s - loss: 0.0041 - val_loss: 0.0036\n"
     ]
    },
    {
     "name": "stdout",
     "output_type": "stream",
     "text": [
      "Epoch 59/1000\n",
      "809/809 - 80s - loss: 0.0040 - val_loss: 0.0035\n",
      "Epoch 60/1000\n",
      "809/809 - 80s - loss: 0.0040 - val_loss: 0.0034\n",
      "Epoch 61/1000\n",
      "809/809 - 80s - loss: 0.0040 - val_loss: 0.0036\n",
      "Epoch 62/1000\n",
      "809/809 - 80s - loss: 0.0040 - val_loss: 0.0037\n",
      "Epoch 63/1000\n",
      "809/809 - 80s - loss: 0.0040 - val_loss: 0.0040\n",
      "Epoch 64/1000\n",
      "809/809 - 79s - loss: 0.0040 - val_loss: 0.0033\n",
      "Epoch 65/1000\n",
      "809/809 - 80s - loss: 0.0039 - val_loss: 0.0033\n",
      "Epoch 66/1000\n",
      "809/809 - 80s - loss: 0.0039 - val_loss: 0.0036\n",
      "Epoch 67/1000\n",
      "809/809 - 79s - loss: 0.0039 - val_loss: 0.0034\n",
      "Epoch 68/1000\n",
      "809/809 - 80s - loss: 0.0039 - val_loss: 0.0038\n",
      "Epoch 69/1000\n",
      "809/809 - 80s - loss: 0.0039 - val_loss: 0.0032\n",
      "Epoch 70/1000\n",
      "809/809 - 80s - loss: 0.0039 - val_loss: 0.0036\n",
      "Epoch 71/1000\n",
      "809/809 - 79s - loss: 0.0038 - val_loss: 0.0035\n",
      "Epoch 72/1000\n",
      "809/809 - 79s - loss: 0.0038 - val_loss: 0.0038\n",
      "Epoch 73/1000\n",
      "809/809 - 79s - loss: 0.0038 - val_loss: 0.0035\n",
      "Epoch 74/1000\n",
      "809/809 - 79s - loss: 0.0038 - val_loss: 0.0033\n",
      "Epoch 75/1000\n",
      "809/809 - 79s - loss: 0.0038 - val_loss: 0.0032\n",
      "Epoch 76/1000\n",
      "809/809 - 79s - loss: 0.0038 - val_loss: 0.0032\n",
      "Epoch 77/1000\n",
      "809/809 - 79s - loss: 0.0037 - val_loss: 0.0032\n",
      "Epoch 78/1000\n",
      "809/809 - 79s - loss: 0.0038 - val_loss: 0.0032\n",
      "Epoch 79/1000\n",
      "809/809 - 79s - loss: 0.0037 - val_loss: 0.0032\n",
      "Epoch 80/1000\n",
      "809/809 - 79s - loss: 0.0037 - val_loss: 0.0032\n",
      "Epoch 81/1000\n",
      "809/809 - 79s - loss: 0.0037 - val_loss: 0.0033\n",
      "Epoch 82/1000\n",
      "809/809 - 79s - loss: 0.0037 - val_loss: 0.0034\n",
      "Epoch 83/1000\n",
      "809/809 - 79s - loss: 0.0037 - val_loss: 0.0033\n",
      "Epoch 84/1000\n",
      "809/809 - 79s - loss: 0.0037 - val_loss: 0.0031\n",
      "Epoch 85/1000\n",
      "809/809 - 79s - loss: 0.0037 - val_loss: 0.0032\n",
      "Epoch 86/1000\n",
      "809/809 - 79s - loss: 0.0037 - val_loss: 0.0032\n",
      "Epoch 87/1000\n",
      "809/809 - 79s - loss: 0.0036 - val_loss: 0.0031\n",
      "Epoch 88/1000\n",
      "809/809 - 79s - loss: 0.0036 - val_loss: 0.0036\n",
      "Epoch 89/1000\n",
      "809/809 - 79s - loss: 0.0036 - val_loss: 0.0031\n",
      "Epoch 90/1000\n",
      "809/809 - 79s - loss: 0.0036 - val_loss: 0.0033\n",
      "Epoch 91/1000\n",
      "809/809 - 79s - loss: 0.0036 - val_loss: 0.0031\n",
      "Epoch 92/1000\n",
      "809/809 - 79s - loss: 0.0036 - val_loss: 0.0031\n",
      "Epoch 93/1000\n",
      "809/809 - 79s - loss: 0.0036 - val_loss: 0.0031\n",
      "Epoch 94/1000\n",
      "809/809 - 79s - loss: 0.0036 - val_loss: 0.0031\n",
      "注意力被执行了一次\n",
      "注意力被执行了一次\n",
      "Epoch 1/1000\n",
      "809/809 - 92s - loss: 0.0889 - val_loss: 0.0316\n",
      "Epoch 2/1000\n",
      "809/809 - 80s - loss: 0.0219 - val_loss: 0.0157\n",
      "Epoch 3/1000\n",
      "809/809 - 80s - loss: 0.0151 - val_loss: 0.0129\n",
      "Epoch 4/1000\n",
      "809/809 - 80s - loss: 0.0129 - val_loss: 0.0113\n",
      "Epoch 5/1000\n",
      "809/809 - 80s - loss: 0.0117 - val_loss: 0.0106\n",
      "Epoch 6/1000\n",
      "809/809 - 80s - loss: 0.0111 - val_loss: 0.0104\n",
      "Epoch 7/1000\n",
      "809/809 - 80s - loss: 0.0105 - val_loss: 0.0100\n",
      "Epoch 8/1000\n",
      "809/809 - 80s - loss: 0.0101 - val_loss: 0.0101\n",
      "Epoch 9/1000\n",
      "809/809 - 80s - loss: 0.0097 - val_loss: 0.0094\n",
      "Epoch 10/1000\n",
      "809/809 - 80s - loss: 0.0094 - val_loss: 0.0085\n",
      "Epoch 11/1000\n",
      "809/809 - 80s - loss: 0.0091 - val_loss: 0.0083\n",
      "Epoch 12/1000\n",
      "809/809 - 80s - loss: 0.0088 - val_loss: 0.0081\n",
      "Epoch 13/1000\n",
      "809/809 - 80s - loss: 0.0086 - val_loss: 0.0079\n",
      "Epoch 14/1000\n",
      "809/809 - 80s - loss: 0.0084 - val_loss: 0.0075\n",
      "Epoch 15/1000\n",
      "809/809 - 80s - loss: 0.0082 - val_loss: 0.0072\n",
      "Epoch 16/1000\n",
      "809/809 - 80s - loss: 0.0080 - val_loss: 0.0072\n",
      "Epoch 17/1000\n",
      "809/809 - 80s - loss: 0.0078 - val_loss: 0.0069\n",
      "Epoch 18/1000\n",
      "809/809 - 80s - loss: 0.0077 - val_loss: 0.0069\n",
      "Epoch 19/1000\n",
      "809/809 - 80s - loss: 0.0075 - val_loss: 0.0069\n",
      "Epoch 20/1000\n",
      "809/809 - 80s - loss: 0.0074 - val_loss: 0.0070\n",
      "Epoch 21/1000\n",
      "809/809 - 79s - loss: 0.0073 - val_loss: 0.0066\n",
      "Epoch 22/1000\n",
      "809/809 - 80s - loss: 0.0071 - val_loss: 0.0063\n",
      "Epoch 23/1000\n",
      "809/809 - 80s - loss: 0.0070 - val_loss: 0.0061\n",
      "Epoch 24/1000\n",
      "809/809 - 80s - loss: 0.0069 - val_loss: 0.0067\n",
      "Epoch 25/1000\n",
      "809/809 - 80s - loss: 0.0068 - val_loss: 0.0060\n",
      "Epoch 26/1000\n",
      "809/809 - 80s - loss: 0.0067 - val_loss: 0.0062\n",
      "Epoch 27/1000\n",
      "809/809 - 80s - loss: 0.0066 - val_loss: 0.0059\n",
      "Epoch 28/1000\n",
      "809/809 - 80s - loss: 0.0065 - val_loss: 0.0059\n",
      "Epoch 29/1000\n",
      "809/809 - 80s - loss: 0.0064 - val_loss: 0.0056\n",
      "Epoch 30/1000\n",
      "809/809 - 80s - loss: 0.0064 - val_loss: 0.0062\n",
      "Epoch 31/1000\n",
      "809/809 - 80s - loss: 0.0063 - val_loss: 0.0055\n",
      "Epoch 32/1000\n",
      "809/809 - 80s - loss: 0.0062 - val_loss: 0.0054\n",
      "Epoch 33/1000\n",
      "809/809 - 80s - loss: 0.0062 - val_loss: 0.0055\n",
      "Epoch 34/1000\n",
      "809/809 - 80s - loss: 0.0061 - val_loss: 0.0058\n",
      "Epoch 35/1000\n",
      "809/809 - 80s - loss: 0.0061 - val_loss: 0.0052\n",
      "Epoch 36/1000\n",
      "809/809 - 80s - loss: 0.0060 - val_loss: 0.0053\n",
      "Epoch 37/1000\n",
      "809/809 - 80s - loss: 0.0059 - val_loss: 0.0051\n",
      "Epoch 38/1000\n",
      "809/809 - 80s - loss: 0.0059 - val_loss: 0.0052\n",
      "Epoch 39/1000\n",
      "809/809 - 80s - loss: 0.0058 - val_loss: 0.0050\n",
      "Epoch 40/1000\n",
      "809/809 - 80s - loss: 0.0058 - val_loss: 0.0052\n",
      "Epoch 41/1000\n",
      "809/809 - 79s - loss: 0.0057 - val_loss: 0.0058\n",
      "Epoch 42/1000\n",
      "809/809 - 80s - loss: 0.0057 - val_loss: 0.0049\n",
      "Epoch 43/1000\n",
      "809/809 - 80s - loss: 0.0056 - val_loss: 0.0048\n",
      "Epoch 44/1000\n",
      "809/809 - 80s - loss: 0.0056 - val_loss: 0.0048\n",
      "Epoch 45/1000\n",
      "809/809 - 80s - loss: 0.0055 - val_loss: 0.0047\n",
      "Epoch 46/1000\n",
      "809/809 - 80s - loss: 0.0055 - val_loss: 0.0048\n",
      "Epoch 47/1000\n",
      "809/809 - 80s - loss: 0.0055 - val_loss: 0.0046\n",
      "Epoch 48/1000\n",
      "809/809 - 80s - loss: 0.0054 - val_loss: 0.0047\n",
      "Epoch 49/1000\n",
      "809/809 - 80s - loss: 0.0054 - val_loss: 0.0047\n",
      "Epoch 50/1000\n",
      "809/809 - 80s - loss: 0.0054 - val_loss: 0.0048\n",
      "Epoch 51/1000\n",
      "809/809 - 79s - loss: 0.0053 - val_loss: 0.0046\n",
      "Epoch 52/1000\n",
      "809/809 - 80s - loss: 0.0053 - val_loss: 0.0045\n",
      "Epoch 53/1000\n",
      "809/809 - 80s - loss: 0.0053 - val_loss: 0.0045\n",
      "Epoch 54/1000\n",
      "809/809 - 80s - loss: 0.0052 - val_loss: 0.0046\n",
      "Epoch 55/1000\n",
      "809/809 - 80s - loss: 0.0052 - val_loss: 0.0046\n",
      "Epoch 56/1000\n",
      "809/809 - 80s - loss: 0.0052 - val_loss: 0.0044\n",
      "Epoch 57/1000\n",
      "809/809 - 79s - loss: 0.0052 - val_loss: 0.0051\n",
      "Epoch 58/1000\n",
      "809/809 - 79s - loss: 0.0052 - val_loss: 0.0044\n",
      "Epoch 59/1000\n",
      "809/809 - 80s - loss: 0.0051 - val_loss: 0.0045\n",
      "Epoch 60/1000\n",
      "809/809 - 79s - loss: 0.0051 - val_loss: 0.0046\n",
      "Epoch 61/1000\n",
      "809/809 - 80s - loss: 0.0051 - val_loss: 0.0045\n",
      "Epoch 62/1000\n",
      "809/809 - 80s - loss: 0.0051 - val_loss: 0.0047\n",
      "Epoch 63/1000\n",
      "809/809 - 80s - loss: 0.0050 - val_loss: 0.0048\n",
      "Epoch 64/1000\n",
      "809/809 - 80s - loss: 0.0050 - val_loss: 0.0042\n",
      "Epoch 65/1000\n",
      "809/809 - 80s - loss: 0.0050 - val_loss: 0.0042\n",
      "Epoch 66/1000\n",
      "809/809 - 80s - loss: 0.0050 - val_loss: 0.0042\n",
      "Epoch 67/1000\n",
      "809/809 - 80s - loss: 0.0050 - val_loss: 0.0041\n",
      "Epoch 68/1000\n",
      "809/809 - 80s - loss: 0.0049 - val_loss: 0.0042\n",
      "Epoch 69/1000\n",
      "809/809 - 80s - loss: 0.0049 - val_loss: 0.0045\n"
     ]
    }
   ],
   "source": [
    "#depth = [30,50,100,125,150,200,250,300,400,500,600,700,800,900,1000]\n",
    "depth = [200,250,300,400,500]\n",
    "for i in range(0,5): \n",
    "    input_cnn_train = np.concatenate((x_cnn_train_split[:,:,:,:5],x_cnn_train_split[:,:,:,i+5:i+6]),axis=-1) \n",
    "    input_lstm_train = np.concatenate((x_lstm_train_split[:,:,:5],x_lstm_train_split[:,:,i+5:i+6]),axis=-1)\n",
    "    input_cnn_val = np.concatenate((x_cnn_val[:,:,:,:5],x_cnn_val[:,:,:,i+5:i+6]),axis=-1)  \n",
    "    input_lstm_val = np.concatenate((x_lstm_val[:,:,:5],x_lstm_val[:,:,i+5:i+6]),axis=-1)  \n",
    "    \n",
    "    train_model(input_cnn_train,input_lstm_train,y_train_split[:,i+5:i+6],\n",
    "                input_cnn_val,input_lstm_val,y_val[:,i+5:i+6],\n",
    "                '../model/cnn_lstm_jc_model_newVariable3_'+str(depth[i])+'m.h5')"
   ]
  },
  {
   "cell_type": "markdown",
   "id": "6e31ae88",
   "metadata": {
    "ExecuteTime": {
     "end_time": "2023-12-03T22:20:22.560058Z",
     "start_time": "2023-12-03T13:59:42.150406Z"
    }
   },
   "source": [
    "### 30-150m"
   ]
  },
  {
   "cell_type": "code",
   "execution_count": 34,
   "id": "c0b45057",
   "metadata": {
    "ExecuteTime": {
     "end_time": "2024-02-17T01:02:49.063673Z",
     "start_time": "2024-02-16T15:56:38.869561Z"
    },
    "code_folding": [
     0
    ],
    "collapsed": true
   },
   "outputs": [
    {
     "name": "stdout",
     "output_type": "stream",
     "text": [
      "注意力被执行了一次\n",
      "注意力被执行了一次\n",
      "Epoch 1/1000\n",
      "809/809 - 112s - loss: 0.1836 - val_loss: 0.1105\n",
      "Epoch 2/1000\n",
      "809/809 - 81s - loss: 0.0958 - val_loss: 0.0824\n",
      "Epoch 3/1000\n",
      "809/809 - 81s - loss: 0.0788 - val_loss: 0.0702\n",
      "Epoch 4/1000\n",
      "809/809 - 82s - loss: 0.0693 - val_loss: 0.0633\n",
      "Epoch 5/1000\n",
      "809/809 - 82s - loss: 0.0639 - val_loss: 0.0603\n",
      "Epoch 6/1000\n",
      "809/809 - 82s - loss: 0.0588 - val_loss: 0.0527\n",
      "Epoch 7/1000\n",
      "809/809 - 82s - loss: 0.0552 - val_loss: 0.0490\n",
      "Epoch 8/1000\n",
      "809/809 - 82s - loss: 0.0525 - val_loss: 0.0471\n",
      "Epoch 9/1000\n",
      "809/809 - 82s - loss: 0.0493 - val_loss: 0.0427\n",
      "Epoch 10/1000\n",
      "809/809 - 82s - loss: 0.0471 - val_loss: 0.0433\n",
      "Epoch 11/1000\n",
      "809/809 - 82s - loss: 0.0451 - val_loss: 0.0420\n",
      "Epoch 12/1000\n",
      "809/809 - 82s - loss: 0.0433 - val_loss: 0.0405\n",
      "Epoch 13/1000\n",
      "809/809 - 82s - loss: 0.0415 - val_loss: 0.0370\n",
      "Epoch 14/1000\n",
      "809/809 - 82s - loss: 0.0401 - val_loss: 0.0376\n",
      "Epoch 15/1000\n",
      "809/809 - 82s - loss: 0.0390 - val_loss: 0.0330\n",
      "Epoch 16/1000\n",
      "809/809 - 82s - loss: 0.0376 - val_loss: 0.0335\n",
      "Epoch 17/1000\n",
      "809/809 - 82s - loss: 0.0366 - val_loss: 0.0324\n",
      "Epoch 18/1000\n",
      "809/809 - 82s - loss: 0.0356 - val_loss: 0.0319\n",
      "Epoch 19/1000\n",
      "809/809 - 82s - loss: 0.0348 - val_loss: 0.0299\n",
      "Epoch 20/1000\n",
      "809/809 - 82s - loss: 0.0339 - val_loss: 0.0292\n",
      "Epoch 21/1000\n",
      "809/809 - 82s - loss: 0.0331 - val_loss: 0.0291\n",
      "Epoch 22/1000\n",
      "809/809 - 82s - loss: 0.0323 - val_loss: 0.0275\n",
      "Epoch 23/1000\n",
      "809/809 - 82s - loss: 0.0317 - val_loss: 0.0273\n",
      "Epoch 24/1000\n",
      "809/809 - 82s - loss: 0.0311 - val_loss: 0.0302\n",
      "Epoch 25/1000\n",
      "809/809 - 82s - loss: 0.0306 - val_loss: 0.0280\n",
      "Epoch 26/1000\n",
      "809/809 - 82s - loss: 0.0300 - val_loss: 0.0251\n",
      "Epoch 27/1000\n",
      "809/809 - 82s - loss: 0.0296 - val_loss: 0.0271\n",
      "Epoch 28/1000\n",
      "809/809 - 82s - loss: 0.0290 - val_loss: 0.0265\n",
      "Epoch 29/1000\n",
      "809/809 - 82s - loss: 0.0286 - val_loss: 0.0242\n",
      "Epoch 30/1000\n",
      "809/809 - 82s - loss: 0.0282 - val_loss: 0.0236\n",
      "Epoch 31/1000\n",
      "809/809 - 82s - loss: 0.0277 - val_loss: 0.0231\n",
      "Epoch 32/1000\n",
      "809/809 - 82s - loss: 0.0274 - val_loss: 0.0239\n",
      "Epoch 33/1000\n",
      "809/809 - 82s - loss: 0.0271 - val_loss: 0.0223\n",
      "Epoch 34/1000\n",
      "809/809 - 82s - loss: 0.0267 - val_loss: 0.0224\n",
      "Epoch 35/1000\n",
      "809/809 - 82s - loss: 0.0263 - val_loss: 0.0243\n",
      "Epoch 36/1000\n",
      "809/809 - 82s - loss: 0.0261 - val_loss: 0.0218\n",
      "Epoch 37/1000\n",
      "809/809 - 82s - loss: 0.0257 - val_loss: 0.0265\n",
      "Epoch 38/1000\n",
      "809/809 - 82s - loss: 0.0255 - val_loss: 0.0227\n",
      "Epoch 39/1000\n",
      "809/809 - 82s - loss: 0.0252 - val_loss: 0.0202\n",
      "Epoch 40/1000\n",
      "809/809 - 82s - loss: 0.0248 - val_loss: 0.0225\n",
      "Epoch 41/1000\n",
      "809/809 - 82s - loss: 0.0245 - val_loss: 0.0203\n",
      "Epoch 42/1000\n",
      "809/809 - 82s - loss: 0.0244 - val_loss: 0.0204\n",
      "Epoch 43/1000\n",
      "809/809 - 82s - loss: 0.0242 - val_loss: 0.0198\n",
      "Epoch 44/1000\n",
      "809/809 - 82s - loss: 0.0239 - val_loss: 0.0199\n",
      "Epoch 45/1000\n",
      "809/809 - 82s - loss: 0.0237 - val_loss: 0.0201\n",
      "Epoch 46/1000\n",
      "809/809 - 82s - loss: 0.0234 - val_loss: 0.0194\n",
      "Epoch 47/1000\n",
      "809/809 - 82s - loss: 0.0233 - val_loss: 0.0210\n",
      "Epoch 48/1000\n",
      "809/809 - 82s - loss: 0.0230 - val_loss: 0.0190\n",
      "Epoch 49/1000\n",
      "809/809 - 82s - loss: 0.0229 - val_loss: 0.0185\n",
      "Epoch 50/1000\n",
      "809/809 - 82s - loss: 0.0228 - val_loss: 0.0204\n",
      "Epoch 51/1000\n",
      "809/809 - 82s - loss: 0.0224 - val_loss: 0.0185\n",
      "Epoch 52/1000\n",
      "809/809 - 82s - loss: 0.0223 - val_loss: 0.0178\n",
      "Epoch 53/1000\n",
      "809/809 - 82s - loss: 0.0223 - val_loss: 0.0196\n",
      "Epoch 54/1000\n",
      "809/809 - 82s - loss: 0.0220 - val_loss: 0.0176\n",
      "Epoch 55/1000\n",
      "809/809 - 82s - loss: 0.0219 - val_loss: 0.0196\n",
      "Epoch 56/1000\n",
      "809/809 - 82s - loss: 0.0218 - val_loss: 0.0181\n",
      "Epoch 57/1000\n",
      "809/809 - 82s - loss: 0.0216 - val_loss: 0.0195\n",
      "Epoch 58/1000\n",
      "809/809 - 82s - loss: 0.0214 - val_loss: 0.0178\n",
      "Epoch 59/1000\n",
      "809/809 - 82s - loss: 0.0213 - val_loss: 0.0193\n",
      "Epoch 60/1000\n",
      "809/809 - 82s - loss: 0.0212 - val_loss: 0.0180\n",
      "Epoch 61/1000\n",
      "809/809 - 82s - loss: 0.0210 - val_loss: 0.0177\n",
      "Epoch 62/1000\n",
      "809/809 - 82s - loss: 0.0209 - val_loss: 0.0189\n",
      "Epoch 63/1000\n",
      "809/809 - 82s - loss: 0.0208 - val_loss: 0.0195\n",
      "Epoch 64/1000\n",
      "809/809 - 82s - loss: 0.0207 - val_loss: 0.0201\n",
      "Epoch 65/1000\n",
      "809/809 - 82s - loss: 0.0205 - val_loss: 0.0176\n",
      "Epoch 66/1000\n",
      "809/809 - 82s - loss: 0.0205 - val_loss: 0.0185\n",
      "Epoch 67/1000\n",
      "809/809 - 82s - loss: 0.0203 - val_loss: 0.0184\n",
      "Epoch 68/1000\n",
      "809/809 - 82s - loss: 0.0203 - val_loss: 0.0177\n",
      "Epoch 69/1000\n",
      "809/809 - 82s - loss: 0.0202 - val_loss: 0.0168\n",
      "Epoch 70/1000\n",
      "809/809 - 82s - loss: 0.0200 - val_loss: 0.0169\n",
      "Epoch 71/1000\n",
      "809/809 - 82s - loss: 0.0199 - val_loss: 0.0180\n",
      "Epoch 72/1000\n",
      "809/809 - 82s - loss: 0.0198 - val_loss: 0.0160\n",
      "Epoch 73/1000\n",
      "809/809 - 82s - loss: 0.0197 - val_loss: 0.0158\n",
      "Epoch 74/1000\n",
      "809/809 - 82s - loss: 0.0197 - val_loss: 0.0159\n",
      "Epoch 75/1000\n",
      "809/809 - 82s - loss: 0.0195 - val_loss: 0.0195\n",
      "Epoch 76/1000\n",
      "809/809 - 82s - loss: 0.0195 - val_loss: 0.0158\n",
      "Epoch 77/1000\n",
      "809/809 - 82s - loss: 0.0193 - val_loss: 0.0161\n",
      "Epoch 78/1000\n",
      "809/809 - 82s - loss: 0.0193 - val_loss: 0.0160\n",
      "Epoch 79/1000\n",
      "809/809 - 82s - loss: 0.0192 - val_loss: 0.0181\n",
      "Epoch 80/1000\n",
      "809/809 - 82s - loss: 0.0191 - val_loss: 0.0159\n",
      "Epoch 81/1000\n",
      "809/809 - 82s - loss: 0.0191 - val_loss: 0.0153\n",
      "Epoch 82/1000\n",
      "809/809 - 82s - loss: 0.0189 - val_loss: 0.0204\n",
      "Epoch 83/1000\n",
      "809/809 - 82s - loss: 0.0189 - val_loss: 0.0153\n",
      "Epoch 84/1000\n",
      "809/809 - 82s - loss: 0.0188 - val_loss: 0.0162\n",
      "Epoch 85/1000\n",
      "809/809 - 82s - loss: 0.0187 - val_loss: 0.0156\n",
      "Epoch 86/1000\n",
      "809/809 - 82s - loss: 0.0187 - val_loss: 0.0151\n",
      "Epoch 87/1000\n",
      "809/809 - 82s - loss: 0.0186 - val_loss: 0.0148\n",
      "Epoch 88/1000\n",
      "809/809 - 82s - loss: 0.0185 - val_loss: 0.0151\n",
      "Epoch 89/1000\n",
      "809/809 - 82s - loss: 0.0184 - val_loss: 0.0164\n",
      "Epoch 90/1000\n",
      "809/809 - 82s - loss: 0.0183 - val_loss: 0.0161\n",
      "Epoch 91/1000\n",
      "809/809 - 82s - loss: 0.0183 - val_loss: 0.0151\n",
      "Epoch 92/1000\n",
      "809/809 - 82s - loss: 0.0182 - val_loss: 0.0168\n",
      "Epoch 93/1000\n",
      "809/809 - 82s - loss: 0.0182 - val_loss: 0.0146\n",
      "Epoch 94/1000\n",
      "809/809 - 82s - loss: 0.0181 - val_loss: 0.0157\n",
      "Epoch 95/1000\n",
      "809/809 - 82s - loss: 0.0181 - val_loss: 0.0149\n",
      "Epoch 96/1000\n",
      "809/809 - 82s - loss: 0.0180 - val_loss: 0.0149\n",
      "Epoch 97/1000\n",
      "809/809 - 82s - loss: 0.0179 - val_loss: 0.0159\n",
      "Epoch 98/1000\n",
      "809/809 - 82s - loss: 0.0179 - val_loss: 0.0161\n",
      "Epoch 99/1000\n",
      "809/809 - 82s - loss: 0.0179 - val_loss: 0.0147\n",
      "Epoch 100/1000\n",
      "809/809 - 82s - loss: 0.0178 - val_loss: 0.0147\n",
      "Epoch 101/1000\n",
      "809/809 - 82s - loss: 0.0178 - val_loss: 0.0155\n",
      "Epoch 102/1000\n",
      "809/809 - 82s - loss: 0.0177 - val_loss: 0.0143\n",
      "Epoch 103/1000\n",
      "809/809 - 82s - loss: 0.0175 - val_loss: 0.0161\n",
      "Epoch 104/1000\n",
      "809/809 - 82s - loss: 0.0175 - val_loss: 0.0159\n",
      "Epoch 105/1000\n",
      "809/809 - 82s - loss: 0.0175 - val_loss: 0.0141\n",
      "Epoch 106/1000\n",
      "809/809 - 82s - loss: 0.0174 - val_loss: 0.0141\n",
      "Epoch 107/1000\n",
      "809/809 - 82s - loss: 0.0174 - val_loss: 0.0164\n",
      "Epoch 108/1000\n",
      "809/809 - 82s - loss: 0.0174 - val_loss: 0.0159\n",
      "Epoch 109/1000\n",
      "809/809 - 82s - loss: 0.0173 - val_loss: 0.0137\n",
      "Epoch 110/1000\n",
      "809/809 - 82s - loss: 0.0173 - val_loss: 0.0145\n",
      "Epoch 111/1000\n",
      "809/809 - 82s - loss: 0.0172 - val_loss: 0.0163\n",
      "Epoch 112/1000\n",
      "809/809 - 82s - loss: 0.0172 - val_loss: 0.0155\n",
      "Epoch 113/1000\n",
      "809/809 - 82s - loss: 0.0172 - val_loss: 0.0143\n",
      "Epoch 114/1000\n",
      "809/809 - 82s - loss: 0.0171 - val_loss: 0.0137\n",
      "Epoch 115/1000\n",
      "809/809 - 82s - loss: 0.0170 - val_loss: 0.0149\n",
      "Epoch 116/1000\n",
      "809/809 - 82s - loss: 0.0170 - val_loss: 0.0138\n",
      "Epoch 117/1000\n",
      "809/809 - 82s - loss: 0.0170 - val_loss: 0.0163\n",
      "Epoch 118/1000\n",
      "809/809 - 82s - loss: 0.0170 - val_loss: 0.0158\n",
      "Epoch 119/1000\n",
      "809/809 - 82s - loss: 0.0168 - val_loss: 0.0135\n",
      "Epoch 120/1000\n",
      "809/809 - 82s - loss: 0.0167 - val_loss: 0.0133\n",
      "Epoch 121/1000\n",
      "809/809 - 82s - loss: 0.0168 - val_loss: 0.0157\n",
      "Epoch 122/1000\n",
      "809/809 - 82s - loss: 0.0168 - val_loss: 0.0141\n",
      "Epoch 123/1000\n",
      "809/809 - 82s - loss: 0.0167 - val_loss: 0.0135\n",
      "Epoch 124/1000\n",
      "809/809 - 82s - loss: 0.0167 - val_loss: 0.0158\n",
      "Epoch 125/1000\n",
      "809/809 - 82s - loss: 0.0166 - val_loss: 0.0141\n",
      "Epoch 126/1000\n",
      "809/809 - 82s - loss: 0.0165 - val_loss: 0.0139\n",
      "Epoch 127/1000\n",
      "809/809 - 82s - loss: 0.0165 - val_loss: 0.0163\n",
      "Epoch 128/1000\n",
      "809/809 - 82s - loss: 0.0165 - val_loss: 0.0183\n",
      "Epoch 129/1000\n",
      "809/809 - 82s - loss: 0.0165 - val_loss: 0.0146\n",
      "Epoch 130/1000\n",
      "809/809 - 82s - loss: 0.0164 - val_loss: 0.0138\n",
      "Epoch 131/1000\n",
      "809/809 - 82s - loss: 0.0164 - val_loss: 0.0147\n",
      "Epoch 132/1000\n",
      "809/809 - 82s - loss: 0.0164 - val_loss: 0.0143\n"
     ]
    },
    {
     "name": "stdout",
     "output_type": "stream",
     "text": [
      "注意力被执行了一次\n",
      "注意力被执行了一次\n",
      "Epoch 1/1000\n",
      "809/809 - 95s - loss: 0.2911 - val_loss: 0.1984\n",
      "Epoch 2/1000\n",
      "809/809 - 79s - loss: 0.1723 - val_loss: 0.1572\n",
      "Epoch 3/1000\n",
      "809/809 - 80s - loss: 0.1438 - val_loss: 0.1281\n",
      "Epoch 4/1000\n",
      "809/809 - 80s - loss: 0.1278 - val_loss: 0.1196\n",
      "Epoch 5/1000\n",
      "809/809 - 80s - loss: 0.1165 - val_loss: 0.1034\n",
      "Epoch 6/1000\n",
      "809/809 - 80s - loss: 0.1088 - val_loss: 0.1001\n",
      "Epoch 7/1000\n",
      "809/809 - 80s - loss: 0.1022 - val_loss: 0.0967\n",
      "Epoch 8/1000\n",
      "809/809 - 80s - loss: 0.0966 - val_loss: 0.1049\n",
      "Epoch 9/1000\n",
      "809/809 - 80s - loss: 0.0920 - val_loss: 0.0878\n",
      "Epoch 10/1000\n",
      "809/809 - 80s - loss: 0.0877 - val_loss: 0.0796\n",
      "Epoch 11/1000\n",
      "809/809 - 80s - loss: 0.0841 - val_loss: 0.0763\n",
      "Epoch 12/1000\n",
      "809/809 - 80s - loss: 0.0809 - val_loss: 0.0790\n",
      "Epoch 13/1000\n",
      "809/809 - 80s - loss: 0.0784 - val_loss: 0.0768\n",
      "Epoch 14/1000\n",
      "809/809 - 80s - loss: 0.0757 - val_loss: 0.0665\n",
      "Epoch 15/1000\n",
      "809/809 - 80s - loss: 0.0734 - val_loss: 0.0735\n",
      "Epoch 16/1000\n",
      "809/809 - 80s - loss: 0.0714 - val_loss: 0.0630\n",
      "Epoch 17/1000\n",
      "809/809 - 80s - loss: 0.0695 - val_loss: 0.0633\n",
      "Epoch 18/1000\n",
      "809/809 - 80s - loss: 0.0678 - val_loss: 0.0621\n",
      "Epoch 19/1000\n",
      "809/809 - 79s - loss: 0.0664 - val_loss: 0.0607\n",
      "Epoch 20/1000\n",
      "809/809 - 80s - loss: 0.0646 - val_loss: 0.0613\n",
      "Epoch 21/1000\n",
      "809/809 - 80s - loss: 0.0633 - val_loss: 0.0579\n",
      "Epoch 22/1000\n",
      "809/809 - 80s - loss: 0.0621 - val_loss: 0.0579\n",
      "Epoch 23/1000\n",
      "809/809 - 80s - loss: 0.0607 - val_loss: 0.0546\n",
      "Epoch 24/1000\n",
      "809/809 - 80s - loss: 0.0598 - val_loss: 0.0521\n",
      "Epoch 25/1000\n",
      "809/809 - 80s - loss: 0.0586 - val_loss: 0.0526\n",
      "Epoch 26/1000\n",
      "809/809 - 80s - loss: 0.0575 - val_loss: 0.0512\n",
      "Epoch 27/1000\n",
      "809/809 - 80s - loss: 0.0569 - val_loss: 0.0492\n",
      "Epoch 28/1000\n",
      "809/809 - 80s - loss: 0.0557 - val_loss: 0.0480\n",
      "Epoch 29/1000\n",
      "809/809 - 80s - loss: 0.0550 - val_loss: 0.0481\n",
      "Epoch 30/1000\n",
      "809/809 - 80s - loss: 0.0544 - val_loss: 0.0502\n",
      "Epoch 31/1000\n",
      "809/809 - 80s - loss: 0.0534 - val_loss: 0.0481\n",
      "Epoch 32/1000\n",
      "809/809 - 80s - loss: 0.0528 - val_loss: 0.0458\n",
      "Epoch 33/1000\n",
      "809/809 - 80s - loss: 0.0520 - val_loss: 0.0458\n",
      "Epoch 34/1000\n",
      "809/809 - 80s - loss: 0.0515 - val_loss: 0.0440\n",
      "Epoch 35/1000\n",
      "809/809 - 80s - loss: 0.0508 - val_loss: 0.0452\n",
      "Epoch 36/1000\n",
      "809/809 - 80s - loss: 0.0501 - val_loss: 0.0436\n",
      "Epoch 37/1000\n",
      "809/809 - 80s - loss: 0.0497 - val_loss: 0.0436\n",
      "Epoch 38/1000\n",
      "809/809 - 80s - loss: 0.0490 - val_loss: 0.0436\n",
      "Epoch 39/1000\n",
      "809/809 - 80s - loss: 0.0484 - val_loss: 0.0407\n",
      "Epoch 40/1000\n",
      "809/809 - 80s - loss: 0.0480 - val_loss: 0.0405\n",
      "Epoch 41/1000\n",
      "809/809 - 80s - loss: 0.0477 - val_loss: 0.0406\n",
      "Epoch 42/1000\n",
      "809/809 - 80s - loss: 0.0471 - val_loss: 0.0390\n",
      "Epoch 43/1000\n",
      "809/809 - 80s - loss: 0.0466 - val_loss: 0.0399\n",
      "Epoch 44/1000\n",
      "809/809 - 80s - loss: 0.0462 - val_loss: 0.0388\n",
      "Epoch 45/1000\n",
      "809/809 - 80s - loss: 0.0458 - val_loss: 0.0385\n",
      "Epoch 46/1000\n",
      "809/809 - 80s - loss: 0.0456 - val_loss: 0.0376\n",
      "Epoch 47/1000\n",
      "809/809 - 80s - loss: 0.0449 - val_loss: 0.0411\n",
      "Epoch 48/1000\n",
      "809/809 - 80s - loss: 0.0447 - val_loss: 0.0367\n",
      "Epoch 49/1000\n",
      "809/809 - 80s - loss: 0.0443 - val_loss: 0.0367\n",
      "Epoch 50/1000\n",
      "809/809 - 80s - loss: 0.0440 - val_loss: 0.0394\n",
      "Epoch 51/1000\n",
      "809/809 - 80s - loss: 0.0437 - val_loss: 0.0388\n",
      "Epoch 52/1000\n",
      "809/809 - 80s - loss: 0.0434 - val_loss: 0.0377\n",
      "Epoch 53/1000\n",
      "809/809 - 80s - loss: 0.0430 - val_loss: 0.0374\n",
      "Epoch 54/1000\n",
      "809/809 - 80s - loss: 0.0427 - val_loss: 0.0351\n",
      "Epoch 55/1000\n",
      "809/809 - 80s - loss: 0.0426 - val_loss: 0.0381\n",
      "Epoch 56/1000\n",
      "809/809 - 80s - loss: 0.0421 - val_loss: 0.0352\n",
      "Epoch 57/1000\n",
      "809/809 - 80s - loss: 0.0418 - val_loss: 0.0346\n",
      "Epoch 58/1000\n",
      "809/809 - 80s - loss: 0.0417 - val_loss: 0.0351\n",
      "Epoch 59/1000\n",
      "809/809 - 80s - loss: 0.0414 - val_loss: 0.0363\n",
      "Epoch 60/1000\n",
      "809/809 - 80s - loss: 0.0412 - val_loss: 0.0369\n",
      "Epoch 61/1000\n",
      "809/809 - 80s - loss: 0.0409 - val_loss: 0.0345\n",
      "Epoch 62/1000\n",
      "809/809 - 80s - loss: 0.0407 - val_loss: 0.0333\n",
      "Epoch 63/1000\n",
      "809/809 - 80s - loss: 0.0405 - val_loss: 0.0331\n",
      "Epoch 64/1000\n",
      "809/809 - 80s - loss: 0.0402 - val_loss: 0.0346\n",
      "Epoch 65/1000\n",
      "809/809 - 80s - loss: 0.0401 - val_loss: 0.0328\n",
      "Epoch 66/1000\n",
      "809/809 - 80s - loss: 0.0400 - val_loss: 0.0342\n",
      "Epoch 67/1000\n",
      "809/809 - 80s - loss: 0.0397 - val_loss: 0.0326\n",
      "Epoch 68/1000\n",
      "809/809 - 80s - loss: 0.0395 - val_loss: 0.0328\n",
      "Epoch 69/1000\n",
      "809/809 - 80s - loss: 0.0392 - val_loss: 0.0344\n",
      "Epoch 70/1000\n",
      "809/809 - 80s - loss: 0.0391 - val_loss: 0.0350\n",
      "Epoch 71/1000\n",
      "809/809 - 80s - loss: 0.0389 - val_loss: 0.0341\n",
      "Epoch 72/1000\n",
      "809/809 - 80s - loss: 0.0387 - val_loss: 0.0328\n",
      "Epoch 73/1000\n",
      "809/809 - 80s - loss: 0.0386 - val_loss: 0.0328\n",
      "Epoch 74/1000\n",
      "809/809 - 80s - loss: 0.0383 - val_loss: 0.0345\n",
      "Epoch 75/1000\n",
      "809/809 - 80s - loss: 0.0383 - val_loss: 0.0309\n",
      "Epoch 76/1000\n",
      "809/809 - 80s - loss: 0.0381 - val_loss: 0.0312\n",
      "Epoch 77/1000\n",
      "809/809 - 80s - loss: 0.0379 - val_loss: 0.0322\n",
      "Epoch 78/1000\n",
      "809/809 - 80s - loss: 0.0379 - val_loss: 0.0319\n",
      "Epoch 79/1000\n",
      "809/809 - 80s - loss: 0.0375 - val_loss: 0.0313\n",
      "Epoch 80/1000\n",
      "809/809 - 80s - loss: 0.0375 - val_loss: 0.0359\n",
      "Epoch 81/1000\n",
      "809/809 - 80s - loss: 0.0374 - val_loss: 0.0302\n",
      "Epoch 82/1000\n",
      "809/809 - 80s - loss: 0.0371 - val_loss: 0.0311\n",
      "Epoch 83/1000\n",
      "809/809 - 80s - loss: 0.0371 - val_loss: 0.0309\n",
      "Epoch 84/1000\n",
      "809/809 - 80s - loss: 0.0369 - val_loss: 0.0308\n",
      "Epoch 85/1000\n",
      "809/809 - 80s - loss: 0.0368 - val_loss: 0.0307\n",
      "Epoch 86/1000\n",
      "809/809 - 80s - loss: 0.0367 - val_loss: 0.0339\n",
      "Epoch 87/1000\n",
      "809/809 - 80s - loss: 0.0364 - val_loss: 0.0352\n",
      "Epoch 88/1000\n",
      "809/809 - 80s - loss: 0.0365 - val_loss: 0.0326\n",
      "Epoch 89/1000\n",
      "809/809 - 80s - loss: 0.0362 - val_loss: 0.0301\n",
      "Epoch 90/1000\n",
      "809/809 - 80s - loss: 0.0361 - val_loss: 0.0299\n",
      "Epoch 91/1000\n",
      "809/809 - 80s - loss: 0.0360 - val_loss: 0.0300\n",
      "Epoch 92/1000\n",
      "809/809 - 80s - loss: 0.0359 - val_loss: 0.0318\n",
      "Epoch 93/1000\n",
      "809/809 - 80s - loss: 0.0359 - val_loss: 0.0318\n",
      "Epoch 94/1000\n",
      "809/809 - 80s - loss: 0.0358 - val_loss: 0.0307\n",
      "Epoch 95/1000\n",
      "809/809 - 80s - loss: 0.0356 - val_loss: 0.0304\n",
      "Epoch 96/1000\n",
      "809/809 - 80s - loss: 0.0356 - val_loss: 0.0326\n",
      "Epoch 97/1000\n",
      "809/809 - 80s - loss: 0.0354 - val_loss: 0.0292\n",
      "Epoch 98/1000\n",
      "809/809 - 80s - loss: 0.0354 - val_loss: 0.0306\n",
      "Epoch 99/1000\n",
      "809/809 - 80s - loss: 0.0351 - val_loss: 0.0325\n",
      "Epoch 100/1000\n",
      "809/809 - 80s - loss: 0.0351 - val_loss: 0.0291\n",
      "Epoch 101/1000\n",
      "809/809 - 80s - loss: 0.0350 - val_loss: 0.0313\n",
      "Epoch 102/1000\n",
      "809/809 - 80s - loss: 0.0350 - val_loss: 0.0349\n",
      "Epoch 103/1000\n",
      "809/809 - 80s - loss: 0.0349 - val_loss: 0.0294\n",
      "Epoch 104/1000\n",
      "809/809 - 80s - loss: 0.0348 - val_loss: 0.0315\n",
      "Epoch 105/1000\n",
      "809/809 - 80s - loss: 0.0347 - val_loss: 0.0284\n",
      "Epoch 106/1000\n",
      "809/809 - 80s - loss: 0.0346 - val_loss: 0.0280\n",
      "Epoch 107/1000\n",
      "809/809 - 80s - loss: 0.0345 - val_loss: 0.0292\n",
      "Epoch 108/1000\n",
      "809/809 - 80s - loss: 0.0344 - val_loss: 0.0281\n",
      "Epoch 109/1000\n",
      "809/809 - 80s - loss: 0.0344 - val_loss: 0.0283\n",
      "Epoch 110/1000\n",
      "809/809 - 80s - loss: 0.0342 - val_loss: 0.0280\n",
      "Epoch 111/1000\n",
      "809/809 - 80s - loss: 0.0341 - val_loss: 0.0276\n",
      "Epoch 112/1000\n",
      "809/809 - 80s - loss: 0.0341 - val_loss: 0.0330\n",
      "Epoch 113/1000\n",
      "809/809 - 80s - loss: 0.0340 - val_loss: 0.0278\n",
      "Epoch 114/1000\n",
      "809/809 - 80s - loss: 0.0339 - val_loss: 0.0323\n",
      "Epoch 115/1000\n",
      "809/809 - 80s - loss: 0.0339 - val_loss: 0.0276\n",
      "Epoch 116/1000\n",
      "809/809 - 80s - loss: 0.0338 - val_loss: 0.0277\n",
      "Epoch 117/1000\n",
      "809/809 - 80s - loss: 0.0336 - val_loss: 0.0292\n",
      "Epoch 118/1000\n",
      "809/809 - 80s - loss: 0.0336 - val_loss: 0.0282\n",
      "Epoch 119/1000\n",
      "809/809 - 80s - loss: 0.0336 - val_loss: 0.0275\n",
      "Epoch 120/1000\n",
      "809/809 - 80s - loss: 0.0335 - val_loss: 0.0287\n",
      "Epoch 121/1000\n",
      "809/809 - 80s - loss: 0.0334 - val_loss: 0.0296\n",
      "Epoch 122/1000\n",
      "809/809 - 80s - loss: 0.0334 - val_loss: 0.0277\n",
      "Epoch 123/1000\n",
      "809/809 - 80s - loss: 0.0333 - val_loss: 0.0315\n",
      "Epoch 124/1000\n",
      "809/809 - 80s - loss: 0.0332 - val_loss: 0.0264\n",
      "Epoch 125/1000\n",
      "809/809 - 80s - loss: 0.0332 - val_loss: 0.0280\n",
      "Epoch 126/1000\n",
      "809/809 - 80s - loss: 0.0332 - val_loss: 0.0278\n",
      "Epoch 127/1000\n",
      "809/809 - 80s - loss: 0.0330 - val_loss: 0.0294\n",
      "Epoch 128/1000\n",
      "809/809 - 80s - loss: 0.0330 - val_loss: 0.0267\n",
      "Epoch 129/1000\n",
      "809/809 - 80s - loss: 0.0330 - val_loss: 0.0263\n",
      "Epoch 130/1000\n",
      "809/809 - 80s - loss: 0.0329 - val_loss: 0.0279\n",
      "Epoch 131/1000\n",
      "809/809 - 80s - loss: 0.0327 - val_loss: 0.0271\n",
      "Epoch 132/1000\n",
      "809/809 - 80s - loss: 0.0328 - val_loss: 0.0316\n"
     ]
    },
    {
     "name": "stdout",
     "output_type": "stream",
     "text": [
      "Epoch 133/1000\n",
      "809/809 - 80s - loss: 0.0327 - val_loss: 0.0302\n",
      "Epoch 134/1000\n",
      "809/809 - 80s - loss: 0.0326 - val_loss: 0.0315\n",
      "Epoch 135/1000\n",
      "809/809 - 80s - loss: 0.0326 - val_loss: 0.0287\n",
      "Epoch 136/1000\n",
      "809/809 - 80s - loss: 0.0325 - val_loss: 0.0281\n",
      "Epoch 137/1000\n",
      "809/809 - 80s - loss: 0.0325 - val_loss: 0.0266\n",
      "Epoch 138/1000\n",
      "809/809 - 80s - loss: 0.0324 - val_loss: 0.0275\n",
      "Epoch 139/1000\n",
      "809/809 - 80s - loss: 0.0325 - val_loss: 0.0268\n",
      "Epoch 140/1000\n",
      "809/809 - 80s - loss: 0.0324 - val_loss: 0.0277\n",
      "Epoch 141/1000\n",
      "809/809 - 80s - loss: 0.0322 - val_loss: 0.0269\n",
      "Epoch 142/1000\n",
      "809/809 - 80s - loss: 0.0323 - val_loss: 0.0260\n",
      "Epoch 143/1000\n",
      "809/809 - 80s - loss: 0.0322 - val_loss: 0.0271\n",
      "Epoch 144/1000\n",
      "809/809 - 80s - loss: 0.0321 - val_loss: 0.0267\n",
      "Epoch 145/1000\n",
      "809/809 - 80s - loss: 0.0321 - val_loss: 0.0265\n",
      "Epoch 146/1000\n",
      "809/809 - 80s - loss: 0.0320 - val_loss: 0.0280\n",
      "Epoch 147/1000\n",
      "809/809 - 80s - loss: 0.0320 - val_loss: 0.0276\n",
      "Epoch 148/1000\n",
      "809/809 - 80s - loss: 0.0319 - val_loss: 0.0268\n",
      "Epoch 149/1000\n",
      "809/809 - 80s - loss: 0.0320 - val_loss: 0.0265\n",
      "Epoch 150/1000\n",
      "809/809 - 80s - loss: 0.0319 - val_loss: 0.0264\n",
      "Epoch 151/1000\n",
      "809/809 - 80s - loss: 0.0318 - val_loss: 0.0280\n",
      "Epoch 152/1000\n",
      "809/809 - 80s - loss: 0.0317 - val_loss: 0.0259\n",
      "Epoch 153/1000\n",
      "809/809 - 80s - loss: 0.0318 - val_loss: 0.0264\n",
      "Epoch 154/1000\n",
      "809/809 - 80s - loss: 0.0317 - val_loss: 0.0273\n",
      "注意力被执行了一次\n",
      "注意力被执行了一次\n",
      "Epoch 1/1000\n",
      "809/809 - 91s - loss: 0.3494 - val_loss: 0.2553\n",
      "Epoch 2/1000\n",
      "809/809 - 78s - loss: 0.2208 - val_loss: 0.1935\n",
      "Epoch 3/1000\n",
      "809/809 - 78s - loss: 0.1842 - val_loss: 0.1744\n",
      "Epoch 4/1000\n",
      "809/809 - 78s - loss: 0.1643 - val_loss: 0.1520\n",
      "Epoch 5/1000\n",
      "809/809 - 78s - loss: 0.1508 - val_loss: 0.1370\n",
      "Epoch 6/1000\n",
      "809/809 - 78s - loss: 0.1411 - val_loss: 0.1329\n",
      "Epoch 7/1000\n",
      "809/809 - 78s - loss: 0.1336 - val_loss: 0.1230\n",
      "Epoch 8/1000\n",
      "809/809 - 78s - loss: 0.1269 - val_loss: 0.1228\n",
      "Epoch 9/1000\n",
      "809/809 - 78s - loss: 0.1220 - val_loss: 0.1109\n",
      "Epoch 10/1000\n",
      "809/809 - 78s - loss: 0.1170 - val_loss: 0.1076\n",
      "Epoch 11/1000\n",
      "809/809 - 78s - loss: 0.1127 - val_loss: 0.1131\n",
      "Epoch 12/1000\n",
      "809/809 - 78s - loss: 0.1096 - val_loss: 0.1071\n",
      "Epoch 13/1000\n",
      "809/809 - 78s - loss: 0.1059 - val_loss: 0.0971\n",
      "Epoch 14/1000\n",
      "809/809 - 78s - loss: 0.1038 - val_loss: 0.0950\n",
      "Epoch 15/1000\n",
      "809/809 - 78s - loss: 0.1008 - val_loss: 0.0927\n",
      "Epoch 16/1000\n",
      "809/809 - 78s - loss: 0.0979 - val_loss: 0.0904\n",
      "Epoch 17/1000\n",
      "809/809 - 78s - loss: 0.0964 - val_loss: 0.0855\n",
      "Epoch 18/1000\n",
      "809/809 - 78s - loss: 0.0939 - val_loss: 0.0821\n",
      "Epoch 19/1000\n",
      "809/809 - 78s - loss: 0.0920 - val_loss: 0.0836\n",
      "Epoch 20/1000\n",
      "809/809 - 78s - loss: 0.0906 - val_loss: 0.0844\n",
      "Epoch 21/1000\n",
      "809/809 - 78s - loss: 0.0888 - val_loss: 0.0791\n",
      "Epoch 22/1000\n",
      "809/809 - 78s - loss: 0.0872 - val_loss: 0.0773\n",
      "Epoch 23/1000\n",
      "809/809 - 78s - loss: 0.0859 - val_loss: 0.0745\n",
      "Epoch 24/1000\n",
      "809/809 - 78s - loss: 0.0847 - val_loss: 0.0749\n",
      "Epoch 25/1000\n",
      "809/809 - 78s - loss: 0.0833 - val_loss: 0.0729\n",
      "Epoch 26/1000\n",
      "809/809 - 78s - loss: 0.0823 - val_loss: 0.0742\n",
      "Epoch 27/1000\n",
      "809/809 - 78s - loss: 0.0809 - val_loss: 0.0735\n",
      "Epoch 28/1000\n",
      "809/809 - 78s - loss: 0.0800 - val_loss: 0.0684\n",
      "Epoch 29/1000\n",
      "809/809 - 78s - loss: 0.0789 - val_loss: 0.0667\n",
      "Epoch 30/1000\n",
      "809/809 - 78s - loss: 0.0782 - val_loss: 0.0665\n",
      "Epoch 31/1000\n",
      "809/809 - 78s - loss: 0.0776 - val_loss: 0.0671\n",
      "Epoch 32/1000\n",
      "809/809 - 78s - loss: 0.0763 - val_loss: 0.0683\n",
      "Epoch 33/1000\n",
      "809/809 - 78s - loss: 0.0755 - val_loss: 0.0647\n",
      "Epoch 34/1000\n",
      "809/809 - 78s - loss: 0.0748 - val_loss: 0.0676\n",
      "Epoch 35/1000\n",
      "809/809 - 78s - loss: 0.0742 - val_loss: 0.0627\n",
      "Epoch 36/1000\n",
      "809/809 - 78s - loss: 0.0732 - val_loss: 0.0629\n",
      "Epoch 37/1000\n",
      "809/809 - 78s - loss: 0.0727 - val_loss: 0.0618\n",
      "Epoch 38/1000\n",
      "809/809 - 78s - loss: 0.0721 - val_loss: 0.0598\n",
      "Epoch 39/1000\n",
      "809/809 - 78s - loss: 0.0716 - val_loss: 0.0619\n",
      "Epoch 40/1000\n",
      "809/809 - 78s - loss: 0.0707 - val_loss: 0.0597\n",
      "Epoch 41/1000\n",
      "809/809 - 78s - loss: 0.0701 - val_loss: 0.0591\n",
      "Epoch 42/1000\n",
      "809/809 - 78s - loss: 0.0696 - val_loss: 0.0592\n",
      "Epoch 43/1000\n",
      "809/809 - 78s - loss: 0.0692 - val_loss: 0.0577\n",
      "Epoch 44/1000\n",
      "809/809 - 78s - loss: 0.0685 - val_loss: 0.0615\n",
      "Epoch 45/1000\n",
      "809/809 - 78s - loss: 0.0681 - val_loss: 0.0593\n",
      "Epoch 46/1000\n",
      "809/809 - 78s - loss: 0.0679 - val_loss: 0.0554\n",
      "Epoch 47/1000\n",
      "809/809 - 78s - loss: 0.0670 - val_loss: 0.0556\n",
      "Epoch 48/1000\n",
      "809/809 - 78s - loss: 0.0666 - val_loss: 0.0641\n",
      "Epoch 49/1000\n",
      "809/809 - 78s - loss: 0.0663 - val_loss: 0.0584\n",
      "Epoch 50/1000\n",
      "809/809 - 78s - loss: 0.0660 - val_loss: 0.0559\n",
      "Epoch 51/1000\n",
      "809/809 - 78s - loss: 0.0655 - val_loss: 0.0537\n",
      "Epoch 52/1000\n",
      "809/809 - 78s - loss: 0.0650 - val_loss: 0.0568\n",
      "Epoch 53/1000\n",
      "809/809 - 78s - loss: 0.0648 - val_loss: 0.0541\n",
      "Epoch 54/1000\n",
      "809/809 - 78s - loss: 0.0645 - val_loss: 0.0530\n",
      "Epoch 55/1000\n",
      "809/809 - 78s - loss: 0.0639 - val_loss: 0.0520\n",
      "Epoch 56/1000\n",
      "809/809 - 78s - loss: 0.0635 - val_loss: 0.0537\n",
      "Epoch 57/1000\n",
      "809/809 - 78s - loss: 0.0633 - val_loss: 0.0559\n",
      "Epoch 58/1000\n",
      "809/809 - 78s - loss: 0.0628 - val_loss: 0.0535\n",
      "Epoch 59/1000\n",
      "809/809 - 78s - loss: 0.0626 - val_loss: 0.0572\n",
      "Epoch 60/1000\n",
      "809/809 - 78s - loss: 0.0624 - val_loss: 0.0533\n",
      "Epoch 61/1000\n",
      "809/809 - 78s - loss: 0.0620 - val_loss: 0.0525\n",
      "Epoch 62/1000\n",
      "809/809 - 78s - loss: 0.0618 - val_loss: 0.0532\n",
      "Epoch 63/1000\n",
      "809/809 - 78s - loss: 0.0615 - val_loss: 0.0498\n",
      "Epoch 64/1000\n",
      "809/809 - 78s - loss: 0.0611 - val_loss: 0.0506\n",
      "Epoch 65/1000\n",
      "809/809 - 78s - loss: 0.0608 - val_loss: 0.0532\n",
      "Epoch 66/1000\n",
      "809/809 - 78s - loss: 0.0606 - val_loss: 0.0502\n",
      "Epoch 67/1000\n",
      "809/809 - 78s - loss: 0.0603 - val_loss: 0.0486\n",
      "Epoch 68/1000\n",
      "809/809 - 78s - loss: 0.0601 - val_loss: 0.0497\n",
      "Epoch 69/1000\n",
      "809/809 - 78s - loss: 0.0599 - val_loss: 0.0492\n",
      "Epoch 70/1000\n",
      "809/809 - 78s - loss: 0.0596 - val_loss: 0.0501\n",
      "Epoch 71/1000\n",
      "809/809 - 78s - loss: 0.0594 - val_loss: 0.0492\n",
      "Epoch 72/1000\n",
      "809/809 - 78s - loss: 0.0593 - val_loss: 0.0510\n",
      "Epoch 73/1000\n",
      "809/809 - 78s - loss: 0.0590 - val_loss: 0.0501\n",
      "Epoch 74/1000\n",
      "809/809 - 78s - loss: 0.0585 - val_loss: 0.0499\n",
      "Epoch 75/1000\n",
      "809/809 - 78s - loss: 0.0585 - val_loss: 0.0476\n",
      "Epoch 76/1000\n",
      "809/809 - 78s - loss: 0.0584 - val_loss: 0.0496\n",
      "Epoch 77/1000\n",
      "809/809 - 78s - loss: 0.0580 - val_loss: 0.0506\n",
      "Epoch 78/1000\n",
      "809/809 - 78s - loss: 0.0579 - val_loss: 0.0462\n",
      "Epoch 79/1000\n",
      "809/809 - 78s - loss: 0.0576 - val_loss: 0.0470\n",
      "Epoch 80/1000\n",
      "809/809 - 78s - loss: 0.0576 - val_loss: 0.0469\n",
      "Epoch 81/1000\n",
      "809/809 - 78s - loss: 0.0574 - val_loss: 0.0475\n",
      "Epoch 82/1000\n",
      "809/809 - 78s - loss: 0.0572 - val_loss: 0.0479\n",
      "Epoch 83/1000\n",
      "809/809 - 78s - loss: 0.0571 - val_loss: 0.0484\n",
      "Epoch 84/1000\n",
      "809/809 - 78s - loss: 0.0567 - val_loss: 0.0482\n",
      "Epoch 85/1000\n",
      "809/809 - 78s - loss: 0.0565 - val_loss: 0.0488\n",
      "Epoch 86/1000\n",
      "809/809 - 78s - loss: 0.0564 - val_loss: 0.0455\n",
      "Epoch 87/1000\n",
      "809/809 - 78s - loss: 0.0563 - val_loss: 0.0452\n",
      "Epoch 88/1000\n",
      "809/809 - 78s - loss: 0.0561 - val_loss: 0.0497\n",
      "Epoch 89/1000\n",
      "809/809 - 78s - loss: 0.0560 - val_loss: 0.0449\n",
      "Epoch 90/1000\n",
      "809/809 - 78s - loss: 0.0558 - val_loss: 0.0457\n",
      "Epoch 91/1000\n",
      "809/809 - 78s - loss: 0.0557 - val_loss: 0.0451\n",
      "Epoch 92/1000\n",
      "809/809 - 78s - loss: 0.0555 - val_loss: 0.0449\n",
      "Epoch 93/1000\n",
      "809/809 - 78s - loss: 0.0554 - val_loss: 0.0456\n",
      "Epoch 94/1000\n",
      "809/809 - 78s - loss: 0.0553 - val_loss: 0.0449\n",
      "Epoch 95/1000\n",
      "809/809 - 78s - loss: 0.0549 - val_loss: 0.0456\n",
      "Epoch 96/1000\n",
      "809/809 - 78s - loss: 0.0550 - val_loss: 0.0444\n",
      "Epoch 97/1000\n",
      "809/809 - 78s - loss: 0.0548 - val_loss: 0.0454\n",
      "Epoch 98/1000\n",
      "809/809 - 78s - loss: 0.0546 - val_loss: 0.0460\n",
      "Epoch 99/1000\n",
      "809/809 - 78s - loss: 0.0546 - val_loss: 0.0454\n",
      "Epoch 100/1000\n",
      "809/809 - 78s - loss: 0.0543 - val_loss: 0.0433\n",
      "Epoch 101/1000\n",
      "809/809 - 78s - loss: 0.0544 - val_loss: 0.0445\n",
      "Epoch 102/1000\n",
      "809/809 - 78s - loss: 0.0541 - val_loss: 0.0433\n",
      "Epoch 103/1000\n",
      "809/809 - 78s - loss: 0.0541 - val_loss: 0.0429\n",
      "Epoch 104/1000\n",
      "809/809 - 78s - loss: 0.0538 - val_loss: 0.0428\n",
      "Epoch 105/1000\n",
      "809/809 - 78s - loss: 0.0538 - val_loss: 0.0454\n",
      "Epoch 106/1000\n",
      "809/809 - 78s - loss: 0.0536 - val_loss: 0.0446\n",
      "Epoch 107/1000\n",
      "809/809 - 78s - loss: 0.0538 - val_loss: 0.0456\n",
      "Epoch 108/1000\n",
      "809/809 - 78s - loss: 0.0534 - val_loss: 0.0450\n",
      "Epoch 109/1000\n",
      "809/809 - 78s - loss: 0.0533 - val_loss: 0.0441\n",
      "Epoch 110/1000\n",
      "809/809 - 78s - loss: 0.0532 - val_loss: 0.0473\n"
     ]
    },
    {
     "name": "stdout",
     "output_type": "stream",
     "text": [
      "Epoch 111/1000\n",
      "809/809 - 78s - loss: 0.0532 - val_loss: 0.0428\n",
      "Epoch 112/1000\n",
      "809/809 - 78s - loss: 0.0530 - val_loss: 0.0426\n",
      "Epoch 113/1000\n",
      "809/809 - 78s - loss: 0.0530 - val_loss: 0.0445\n",
      "Epoch 114/1000\n",
      "809/809 - 78s - loss: 0.0528 - val_loss: 0.0419\n",
      "Epoch 115/1000\n",
      "809/809 - 78s - loss: 0.0526 - val_loss: 0.0468\n",
      "Epoch 116/1000\n",
      "809/809 - 78s - loss: 0.0527 - val_loss: 0.0439\n",
      "Epoch 117/1000\n",
      "809/809 - 78s - loss: 0.0525 - val_loss: 0.0430\n",
      "Epoch 118/1000\n",
      "809/809 - 78s - loss: 0.0523 - val_loss: 0.0485\n",
      "Epoch 119/1000\n",
      "809/809 - 78s - loss: 0.0523 - val_loss: 0.0444\n",
      "Epoch 120/1000\n",
      "809/809 - 78s - loss: 0.0522 - val_loss: 0.0481\n",
      "Epoch 121/1000\n"
     ]
    },
    {
     "ename": "KeyboardInterrupt",
     "evalue": "",
     "output_type": "error",
     "traceback": [
      "\u001b[1;31m---------------------------------------------------------------------------\u001b[0m",
      "\u001b[1;31mKeyboardInterrupt\u001b[0m                         Traceback (most recent call last)",
      "Cell \u001b[1;32mIn[34], line 9\u001b[0m\n\u001b[0;32m      6\u001b[0m input_cnn_val \u001b[38;5;241m=\u001b[39m np\u001b[38;5;241m.\u001b[39mconcatenate((x_cnn_val[:,:,:,:\u001b[38;5;241m5\u001b[39m],x_cnn_val[:,:,:,i\u001b[38;5;241m+\u001b[39m\u001b[38;5;241m5\u001b[39m:i\u001b[38;5;241m+\u001b[39m\u001b[38;5;241m6\u001b[39m]),axis\u001b[38;5;241m=\u001b[39m\u001b[38;5;241m-\u001b[39m\u001b[38;5;241m1\u001b[39m)  \n\u001b[0;32m      7\u001b[0m input_lstm_val \u001b[38;5;241m=\u001b[39m np\u001b[38;5;241m.\u001b[39mconcatenate((x_lstm_val[:,:,:\u001b[38;5;241m5\u001b[39m],x_lstm_val[:,:,i\u001b[38;5;241m+\u001b[39m\u001b[38;5;241m5\u001b[39m:i\u001b[38;5;241m+\u001b[39m\u001b[38;5;241m6\u001b[39m]),axis\u001b[38;5;241m=\u001b[39m\u001b[38;5;241m-\u001b[39m\u001b[38;5;241m1\u001b[39m)  \n\u001b[1;32m----> 9\u001b[0m \u001b[43mtrain_model\u001b[49m\u001b[43m(\u001b[49m\u001b[43minput_cnn_train\u001b[49m\u001b[43m,\u001b[49m\u001b[43minput_lstm_train\u001b[49m\u001b[43m,\u001b[49m\u001b[43my_train_split\u001b[49m\u001b[43m[\u001b[49m\u001b[43m:\u001b[49m\u001b[43m,\u001b[49m\u001b[43mi\u001b[49m\u001b[43m:\u001b[49m\u001b[43mi\u001b[49m\u001b[38;5;241;43m+\u001b[39;49m\u001b[38;5;241;43m1\u001b[39;49m\u001b[43m]\u001b[49m\u001b[43m,\u001b[49m\n\u001b[0;32m     10\u001b[0m \u001b[43m            \u001b[49m\u001b[43minput_cnn_val\u001b[49m\u001b[43m,\u001b[49m\u001b[43minput_lstm_val\u001b[49m\u001b[43m,\u001b[49m\u001b[43my_val\u001b[49m\u001b[43m[\u001b[49m\u001b[43m:\u001b[49m\u001b[43m,\u001b[49m\u001b[43mi\u001b[49m\u001b[43m:\u001b[49m\u001b[43mi\u001b[49m\u001b[38;5;241;43m+\u001b[39;49m\u001b[38;5;241;43m1\u001b[39;49m\u001b[43m]\u001b[49m\u001b[43m,\u001b[49m\n\u001b[0;32m     11\u001b[0m \u001b[43m            \u001b[49m\u001b[38;5;124;43m'\u001b[39;49m\u001b[38;5;124;43m../model/cnn_lstm_jc_newVariable/anom/cnn_lstm_jc_model_newVariable_\u001b[39;49m\u001b[38;5;124;43m'\u001b[39;49m\u001b[38;5;241;43m+\u001b[39;49m\u001b[38;5;28;43mstr\u001b[39;49m\u001b[43m(\u001b[49m\u001b[43mdepth\u001b[49m\u001b[43m[\u001b[49m\u001b[43mi\u001b[49m\u001b[43m]\u001b[49m\u001b[43m)\u001b[49m\u001b[38;5;241;43m+\u001b[39;49m\u001b[38;5;124;43m'\u001b[39;49m\u001b[38;5;124;43mm.h5\u001b[39;49m\u001b[38;5;124;43m'\u001b[39;49m\u001b[43m)\u001b[49m\n",
      "Cell \u001b[1;32mIn[30], line 12\u001b[0m, in \u001b[0;36mtrain_model\u001b[1;34m(x_train1, x_train2, y_train, x_val1, x_val2, y_val, name)\u001b[0m\n\u001b[0;32m      6\u001b[0m checkpoint_path\u001b[38;5;241m=\u001b[39mname\n\u001b[0;32m      7\u001b[0m keras_callbacks   \u001b[38;5;241m=\u001b[39m [\n\u001b[0;32m      8\u001b[0m       EarlyStopping(monitor\u001b[38;5;241m=\u001b[39m\u001b[38;5;124m'\u001b[39m\u001b[38;5;124mval_loss\u001b[39m\u001b[38;5;124m'\u001b[39m, patience\u001b[38;5;241m=\u001b[39m\u001b[38;5;241m30\u001b[39m, mode\u001b[38;5;241m=\u001b[39m\u001b[38;5;124m'\u001b[39m\u001b[38;5;124mmin\u001b[39m\u001b[38;5;124m'\u001b[39m, min_delta\u001b[38;5;241m=\u001b[39m\u001b[38;5;241m0.001\u001b[39m),\n\u001b[0;32m      9\u001b[0m       ModelCheckpoint(checkpoint_path, monitor\u001b[38;5;241m=\u001b[39m\u001b[38;5;124m'\u001b[39m\u001b[38;5;124mval_loss\u001b[39m\u001b[38;5;124m'\u001b[39m, save_best_only\u001b[38;5;241m=\u001b[39m\u001b[38;5;28;01mTrue\u001b[39;00m, mode\u001b[38;5;241m=\u001b[39m\u001b[38;5;124m'\u001b[39m\u001b[38;5;124mmin\u001b[39m\u001b[38;5;124m'\u001b[39m)\n\u001b[0;32m     10\u001b[0m ]\n\u001b[1;32m---> 12\u001b[0m \u001b[43mmodel\u001b[49m\u001b[38;5;241;43m.\u001b[39;49m\u001b[43mfit\u001b[49m\u001b[43m(\u001b[49m\u001b[43m[\u001b[49m\u001b[43mx_train1\u001b[49m\u001b[43m,\u001b[49m\u001b[43mx_train2\u001b[49m\u001b[43m]\u001b[49m\u001b[43m,\u001b[49m\u001b[43m \u001b[49m\u001b[43my_train\u001b[49m\u001b[43m,\u001b[49m\u001b[43m \u001b[49m\n\u001b[0;32m     13\u001b[0m \u001b[43m    \u001b[49m\u001b[43mvalidation_data\u001b[49m\u001b[38;5;241;43m=\u001b[39;49m\u001b[43m(\u001b[49m\u001b[43m[\u001b[49m\u001b[43mx_val1\u001b[49m\u001b[43m,\u001b[49m\u001b[43mx_val2\u001b[49m\u001b[43m]\u001b[49m\u001b[43m,\u001b[49m\u001b[43my_val\u001b[49m\u001b[43m)\u001b[49m\u001b[43m,\u001b[49m\n\u001b[0;32m     14\u001b[0m \u001b[43m    \u001b[49m\u001b[43mepochs\u001b[49m\u001b[38;5;241;43m=\u001b[39;49m\u001b[38;5;241;43m1000\u001b[39;49m\u001b[43m,\u001b[49m\u001b[43m \u001b[49m\u001b[43mbatch_size\u001b[49m\u001b[38;5;241;43m=\u001b[39;49m\u001b[38;5;241;43m10240\u001b[39;49m\u001b[43m,\u001b[49m\u001b[43m \u001b[49m\u001b[43mverbose\u001b[49m\u001b[38;5;241;43m=\u001b[39;49m\u001b[38;5;241;43m2\u001b[39;49m\u001b[43m,\u001b[49m\u001b[43m \u001b[49m\u001b[43mcallbacks\u001b[49m\u001b[38;5;241;43m=\u001b[39;49m\u001b[43mkeras_callbacks\u001b[49m\u001b[43m)\u001b[49m\n",
      "File \u001b[1;32mD:\\tools\\Anaconda\\envs\\python\\lib\\site-packages\\tensorflow\\python\\keras\\engine\\training.py:1100\u001b[0m, in \u001b[0;36mModel.fit\u001b[1;34m(self, x, y, batch_size, epochs, verbose, callbacks, validation_split, validation_data, shuffle, class_weight, sample_weight, initial_epoch, steps_per_epoch, validation_steps, validation_batch_size, validation_freq, max_queue_size, workers, use_multiprocessing)\u001b[0m\n\u001b[0;32m   1093\u001b[0m \u001b[38;5;28;01mwith\u001b[39;00m trace\u001b[38;5;241m.\u001b[39mTrace(\n\u001b[0;32m   1094\u001b[0m     \u001b[38;5;124m'\u001b[39m\u001b[38;5;124mtrain\u001b[39m\u001b[38;5;124m'\u001b[39m,\n\u001b[0;32m   1095\u001b[0m     epoch_num\u001b[38;5;241m=\u001b[39mepoch,\n\u001b[0;32m   1096\u001b[0m     step_num\u001b[38;5;241m=\u001b[39mstep,\n\u001b[0;32m   1097\u001b[0m     batch_size\u001b[38;5;241m=\u001b[39mbatch_size,\n\u001b[0;32m   1098\u001b[0m     _r\u001b[38;5;241m=\u001b[39m\u001b[38;5;241m1\u001b[39m):\n\u001b[0;32m   1099\u001b[0m   callbacks\u001b[38;5;241m.\u001b[39mon_train_batch_begin(step)\n\u001b[1;32m-> 1100\u001b[0m   tmp_logs \u001b[38;5;241m=\u001b[39m \u001b[38;5;28;43mself\u001b[39;49m\u001b[38;5;241;43m.\u001b[39;49m\u001b[43mtrain_function\u001b[49m\u001b[43m(\u001b[49m\u001b[43miterator\u001b[49m\u001b[43m)\u001b[49m\n\u001b[0;32m   1101\u001b[0m   \u001b[38;5;28;01mif\u001b[39;00m data_handler\u001b[38;5;241m.\u001b[39mshould_sync:\n\u001b[0;32m   1102\u001b[0m     context\u001b[38;5;241m.\u001b[39masync_wait()\n",
      "File \u001b[1;32mD:\\tools\\Anaconda\\envs\\python\\lib\\site-packages\\tensorflow\\python\\eager\\def_function.py:828\u001b[0m, in \u001b[0;36mFunction.__call__\u001b[1;34m(self, *args, **kwds)\u001b[0m\n\u001b[0;32m    826\u001b[0m tracing_count \u001b[38;5;241m=\u001b[39m \u001b[38;5;28mself\u001b[39m\u001b[38;5;241m.\u001b[39mexperimental_get_tracing_count()\n\u001b[0;32m    827\u001b[0m \u001b[38;5;28;01mwith\u001b[39;00m trace\u001b[38;5;241m.\u001b[39mTrace(\u001b[38;5;28mself\u001b[39m\u001b[38;5;241m.\u001b[39m_name) \u001b[38;5;28;01mas\u001b[39;00m tm:\n\u001b[1;32m--> 828\u001b[0m   result \u001b[38;5;241m=\u001b[39m \u001b[38;5;28;43mself\u001b[39;49m\u001b[38;5;241;43m.\u001b[39;49m\u001b[43m_call\u001b[49m\u001b[43m(\u001b[49m\u001b[38;5;241;43m*\u001b[39;49m\u001b[43margs\u001b[49m\u001b[43m,\u001b[49m\u001b[43m \u001b[49m\u001b[38;5;241;43m*\u001b[39;49m\u001b[38;5;241;43m*\u001b[39;49m\u001b[43mkwds\u001b[49m\u001b[43m)\u001b[49m\n\u001b[0;32m    829\u001b[0m   compiler \u001b[38;5;241m=\u001b[39m \u001b[38;5;124m\"\u001b[39m\u001b[38;5;124mxla\u001b[39m\u001b[38;5;124m\"\u001b[39m \u001b[38;5;28;01mif\u001b[39;00m \u001b[38;5;28mself\u001b[39m\u001b[38;5;241m.\u001b[39m_experimental_compile \u001b[38;5;28;01melse\u001b[39;00m \u001b[38;5;124m\"\u001b[39m\u001b[38;5;124mnonXla\u001b[39m\u001b[38;5;124m\"\u001b[39m\n\u001b[0;32m    830\u001b[0m   new_tracing_count \u001b[38;5;241m=\u001b[39m \u001b[38;5;28mself\u001b[39m\u001b[38;5;241m.\u001b[39mexperimental_get_tracing_count()\n",
      "File \u001b[1;32mD:\\tools\\Anaconda\\envs\\python\\lib\\site-packages\\tensorflow\\python\\eager\\def_function.py:855\u001b[0m, in \u001b[0;36mFunction._call\u001b[1;34m(self, *args, **kwds)\u001b[0m\n\u001b[0;32m    852\u001b[0m   \u001b[38;5;28mself\u001b[39m\u001b[38;5;241m.\u001b[39m_lock\u001b[38;5;241m.\u001b[39mrelease()\n\u001b[0;32m    853\u001b[0m   \u001b[38;5;66;03m# In this case we have created variables on the first call, so we run the\u001b[39;00m\n\u001b[0;32m    854\u001b[0m   \u001b[38;5;66;03m# defunned version which is guaranteed to never create variables.\u001b[39;00m\n\u001b[1;32m--> 855\u001b[0m   \u001b[38;5;28;01mreturn\u001b[39;00m \u001b[38;5;28;43mself\u001b[39;49m\u001b[38;5;241;43m.\u001b[39;49m\u001b[43m_stateless_fn\u001b[49m\u001b[43m(\u001b[49m\u001b[38;5;241;43m*\u001b[39;49m\u001b[43margs\u001b[49m\u001b[43m,\u001b[49m\u001b[43m \u001b[49m\u001b[38;5;241;43m*\u001b[39;49m\u001b[38;5;241;43m*\u001b[39;49m\u001b[43mkwds\u001b[49m\u001b[43m)\u001b[49m  \u001b[38;5;66;03m# pylint: disable=not-callable\u001b[39;00m\n\u001b[0;32m    856\u001b[0m \u001b[38;5;28;01melif\u001b[39;00m \u001b[38;5;28mself\u001b[39m\u001b[38;5;241m.\u001b[39m_stateful_fn \u001b[38;5;129;01mis\u001b[39;00m \u001b[38;5;129;01mnot\u001b[39;00m \u001b[38;5;28;01mNone\u001b[39;00m:\n\u001b[0;32m    857\u001b[0m   \u001b[38;5;66;03m# Release the lock early so that multiple threads can perform the call\u001b[39;00m\n\u001b[0;32m    858\u001b[0m   \u001b[38;5;66;03m# in parallel.\u001b[39;00m\n\u001b[0;32m    859\u001b[0m   \u001b[38;5;28mself\u001b[39m\u001b[38;5;241m.\u001b[39m_lock\u001b[38;5;241m.\u001b[39mrelease()\n",
      "File \u001b[1;32mD:\\tools\\Anaconda\\envs\\python\\lib\\site-packages\\tensorflow\\python\\eager\\function.py:2942\u001b[0m, in \u001b[0;36mFunction.__call__\u001b[1;34m(self, *args, **kwargs)\u001b[0m\n\u001b[0;32m   2939\u001b[0m \u001b[38;5;28;01mwith\u001b[39;00m \u001b[38;5;28mself\u001b[39m\u001b[38;5;241m.\u001b[39m_lock:\n\u001b[0;32m   2940\u001b[0m   (graph_function,\n\u001b[0;32m   2941\u001b[0m    filtered_flat_args) \u001b[38;5;241m=\u001b[39m \u001b[38;5;28mself\u001b[39m\u001b[38;5;241m.\u001b[39m_maybe_define_function(args, kwargs)\n\u001b[1;32m-> 2942\u001b[0m \u001b[38;5;28;01mreturn\u001b[39;00m \u001b[43mgraph_function\u001b[49m\u001b[38;5;241;43m.\u001b[39;49m\u001b[43m_call_flat\u001b[49m\u001b[43m(\u001b[49m\n\u001b[0;32m   2943\u001b[0m \u001b[43m    \u001b[49m\u001b[43mfiltered_flat_args\u001b[49m\u001b[43m,\u001b[49m\u001b[43m \u001b[49m\u001b[43mcaptured_inputs\u001b[49m\u001b[38;5;241;43m=\u001b[39;49m\u001b[43mgraph_function\u001b[49m\u001b[38;5;241;43m.\u001b[39;49m\u001b[43mcaptured_inputs\u001b[49m\u001b[43m)\u001b[49m\n",
      "File \u001b[1;32mD:\\tools\\Anaconda\\envs\\python\\lib\\site-packages\\tensorflow\\python\\eager\\function.py:1918\u001b[0m, in \u001b[0;36mConcreteFunction._call_flat\u001b[1;34m(self, args, captured_inputs, cancellation_manager)\u001b[0m\n\u001b[0;32m   1914\u001b[0m possible_gradient_type \u001b[38;5;241m=\u001b[39m gradients_util\u001b[38;5;241m.\u001b[39mPossibleTapeGradientTypes(args)\n\u001b[0;32m   1915\u001b[0m \u001b[38;5;28;01mif\u001b[39;00m (possible_gradient_type \u001b[38;5;241m==\u001b[39m gradients_util\u001b[38;5;241m.\u001b[39mPOSSIBLE_GRADIENT_TYPES_NONE\n\u001b[0;32m   1916\u001b[0m     \u001b[38;5;129;01mand\u001b[39;00m executing_eagerly):\n\u001b[0;32m   1917\u001b[0m   \u001b[38;5;66;03m# No tape is watching; skip to running the function.\u001b[39;00m\n\u001b[1;32m-> 1918\u001b[0m   \u001b[38;5;28;01mreturn\u001b[39;00m \u001b[38;5;28mself\u001b[39m\u001b[38;5;241m.\u001b[39m_build_call_outputs(\u001b[38;5;28;43mself\u001b[39;49m\u001b[38;5;241;43m.\u001b[39;49m\u001b[43m_inference_function\u001b[49m\u001b[38;5;241;43m.\u001b[39;49m\u001b[43mcall\u001b[49m\u001b[43m(\u001b[49m\n\u001b[0;32m   1919\u001b[0m \u001b[43m      \u001b[49m\u001b[43mctx\u001b[49m\u001b[43m,\u001b[49m\u001b[43m \u001b[49m\u001b[43margs\u001b[49m\u001b[43m,\u001b[49m\u001b[43m \u001b[49m\u001b[43mcancellation_manager\u001b[49m\u001b[38;5;241;43m=\u001b[39;49m\u001b[43mcancellation_manager\u001b[49m\u001b[43m)\u001b[49m)\n\u001b[0;32m   1920\u001b[0m forward_backward \u001b[38;5;241m=\u001b[39m \u001b[38;5;28mself\u001b[39m\u001b[38;5;241m.\u001b[39m_select_forward_and_backward_functions(\n\u001b[0;32m   1921\u001b[0m     args,\n\u001b[0;32m   1922\u001b[0m     possible_gradient_type,\n\u001b[0;32m   1923\u001b[0m     executing_eagerly)\n\u001b[0;32m   1924\u001b[0m forward_function, args_with_tangents \u001b[38;5;241m=\u001b[39m forward_backward\u001b[38;5;241m.\u001b[39mforward()\n",
      "File \u001b[1;32mD:\\tools\\Anaconda\\envs\\python\\lib\\site-packages\\tensorflow\\python\\eager\\function.py:555\u001b[0m, in \u001b[0;36m_EagerDefinedFunction.call\u001b[1;34m(self, ctx, args, cancellation_manager)\u001b[0m\n\u001b[0;32m    553\u001b[0m \u001b[38;5;28;01mwith\u001b[39;00m _InterpolateFunctionError(\u001b[38;5;28mself\u001b[39m):\n\u001b[0;32m    554\u001b[0m   \u001b[38;5;28;01mif\u001b[39;00m cancellation_manager \u001b[38;5;129;01mis\u001b[39;00m \u001b[38;5;28;01mNone\u001b[39;00m:\n\u001b[1;32m--> 555\u001b[0m     outputs \u001b[38;5;241m=\u001b[39m \u001b[43mexecute\u001b[49m\u001b[38;5;241;43m.\u001b[39;49m\u001b[43mexecute\u001b[49m\u001b[43m(\u001b[49m\n\u001b[0;32m    556\u001b[0m \u001b[43m        \u001b[49m\u001b[38;5;28;43mstr\u001b[39;49m\u001b[43m(\u001b[49m\u001b[38;5;28;43mself\u001b[39;49m\u001b[38;5;241;43m.\u001b[39;49m\u001b[43msignature\u001b[49m\u001b[38;5;241;43m.\u001b[39;49m\u001b[43mname\u001b[49m\u001b[43m)\u001b[49m\u001b[43m,\u001b[49m\n\u001b[0;32m    557\u001b[0m \u001b[43m        \u001b[49m\u001b[43mnum_outputs\u001b[49m\u001b[38;5;241;43m=\u001b[39;49m\u001b[38;5;28;43mself\u001b[39;49m\u001b[38;5;241;43m.\u001b[39;49m\u001b[43m_num_outputs\u001b[49m\u001b[43m,\u001b[49m\n\u001b[0;32m    558\u001b[0m \u001b[43m        \u001b[49m\u001b[43minputs\u001b[49m\u001b[38;5;241;43m=\u001b[39;49m\u001b[43margs\u001b[49m\u001b[43m,\u001b[49m\n\u001b[0;32m    559\u001b[0m \u001b[43m        \u001b[49m\u001b[43mattrs\u001b[49m\u001b[38;5;241;43m=\u001b[39;49m\u001b[43mattrs\u001b[49m\u001b[43m,\u001b[49m\n\u001b[0;32m    560\u001b[0m \u001b[43m        \u001b[49m\u001b[43mctx\u001b[49m\u001b[38;5;241;43m=\u001b[39;49m\u001b[43mctx\u001b[49m\u001b[43m)\u001b[49m\n\u001b[0;32m    561\u001b[0m   \u001b[38;5;28;01melse\u001b[39;00m:\n\u001b[0;32m    562\u001b[0m     outputs \u001b[38;5;241m=\u001b[39m execute\u001b[38;5;241m.\u001b[39mexecute_with_cancellation(\n\u001b[0;32m    563\u001b[0m         \u001b[38;5;28mstr\u001b[39m(\u001b[38;5;28mself\u001b[39m\u001b[38;5;241m.\u001b[39msignature\u001b[38;5;241m.\u001b[39mname),\n\u001b[0;32m    564\u001b[0m         num_outputs\u001b[38;5;241m=\u001b[39m\u001b[38;5;28mself\u001b[39m\u001b[38;5;241m.\u001b[39m_num_outputs,\n\u001b[1;32m   (...)\u001b[0m\n\u001b[0;32m    567\u001b[0m         ctx\u001b[38;5;241m=\u001b[39mctx,\n\u001b[0;32m    568\u001b[0m         cancellation_manager\u001b[38;5;241m=\u001b[39mcancellation_manager)\n",
      "File \u001b[1;32mD:\\tools\\Anaconda\\envs\\python\\lib\\site-packages\\tensorflow\\python\\eager\\execute.py:59\u001b[0m, in \u001b[0;36mquick_execute\u001b[1;34m(op_name, num_outputs, inputs, attrs, ctx, name)\u001b[0m\n\u001b[0;32m     57\u001b[0m \u001b[38;5;28;01mtry\u001b[39;00m:\n\u001b[0;32m     58\u001b[0m   ctx\u001b[38;5;241m.\u001b[39mensure_initialized()\n\u001b[1;32m---> 59\u001b[0m   tensors \u001b[38;5;241m=\u001b[39m \u001b[43mpywrap_tfe\u001b[49m\u001b[38;5;241;43m.\u001b[39;49m\u001b[43mTFE_Py_Execute\u001b[49m\u001b[43m(\u001b[49m\u001b[43mctx\u001b[49m\u001b[38;5;241;43m.\u001b[39;49m\u001b[43m_handle\u001b[49m\u001b[43m,\u001b[49m\u001b[43m \u001b[49m\u001b[43mdevice_name\u001b[49m\u001b[43m,\u001b[49m\u001b[43m \u001b[49m\u001b[43mop_name\u001b[49m\u001b[43m,\u001b[49m\n\u001b[0;32m     60\u001b[0m \u001b[43m                                      \u001b[49m\u001b[43minputs\u001b[49m\u001b[43m,\u001b[49m\u001b[43m \u001b[49m\u001b[43mattrs\u001b[49m\u001b[43m,\u001b[49m\u001b[43m \u001b[49m\u001b[43mnum_outputs\u001b[49m\u001b[43m)\u001b[49m\n\u001b[0;32m     61\u001b[0m \u001b[38;5;28;01mexcept\u001b[39;00m core\u001b[38;5;241m.\u001b[39m_NotOkStatusException \u001b[38;5;28;01mas\u001b[39;00m e:\n\u001b[0;32m     62\u001b[0m   \u001b[38;5;28;01mif\u001b[39;00m name \u001b[38;5;129;01mis\u001b[39;00m \u001b[38;5;129;01mnot\u001b[39;00m \u001b[38;5;28;01mNone\u001b[39;00m:\n",
      "\u001b[1;31mKeyboardInterrupt\u001b[0m: "
     ]
    }
   ],
   "source": [
    "#depth = [30,50,100,125,150,200,250,300,400,500,600,700,800,900,1000]\n",
    "depth = [30,50,100,125,150]\n",
    "for i in range(0,5): \n",
    "    input_cnn_train = np.concatenate((x_cnn_train_split[:,:,:,:5],x_cnn_train_split[:,:,:,i+5:i+6]),axis=-1) \n",
    "    input_lstm_train = np.concatenate((x_lstm_train_split[:,:,:5],x_lstm_train_split[:,:,i+5:i+6]),axis=-1)\n",
    "    input_cnn_val = np.concatenate((x_cnn_val[:,:,:,:5],x_cnn_val[:,:,:,i+5:i+6]),axis=-1)  \n",
    "    input_lstm_val = np.concatenate((x_lstm_val[:,:,:5],x_lstm_val[:,:,i+5:i+6]),axis=-1)  \n",
    "    \n",
    "    train_model(input_cnn_train,input_lstm_train,y_train_split[:,i:i+1],\n",
    "                input_cnn_val,input_lstm_val,y_val[:,i:i+1],\n",
    "                '../model/cnn_lstm_jc_newVariable/anom/cnn_lstm_jc_model_newVariable_'+str(depth[i])+'m.h5')"
   ]
  },
  {
   "cell_type": "markdown",
   "id": "79bda096",
   "metadata": {},
   "source": [
    "# 模型评估"
   ]
  },
  {
   "cell_type": "code",
   "execution_count": 35,
   "id": "74b34726",
   "metadata": {
    "ExecuteTime": {
     "end_time": "2024-02-17T01:02:53.463556Z",
     "start_time": "2024-02-17T01:02:53.453572Z"
    },
    "code_folding": [
     0
    ]
   },
   "outputs": [],
   "source": [
    "# 评估函数定义\n",
    "# 异常相关系数\n",
    "import math\n",
    "def acc(actual, predicted):\n",
    "    pred_avg = np.average(predicted)\n",
    "\n",
    "    act_avg = np.average(actual)\n",
    "    diff_pred = predicted - pred_avg\n",
    "    diff_act = actual - act_avg\n",
    "    numerator = np.mean(np.sum(diff_pred*diff_act, axis=0))\n",
    "    denominator = math.sqrt(np.mean(np.sum(diff_pred**2, axis=0)) * np.mean(np.sum(diff_act**2, axis=0)))\n",
    "    ret_val = numerator/denominator\n",
    "    return (100 * ret_val)\n",
    "\n",
    "\n",
    "# 查看损失\n",
    "def look_loss(history):\n",
    "    plt.figure(figsize=(6.3, 2.5), dpi = 100)\n",
    "    plt.plot(history.history['loss'], label='training data')\n",
    "    plt.plot(history.history['val_loss'], label='validation data')\n",
    "    plt.title('Loss')\n",
    "    plt.ylabel('MSE Loss')\n",
    "    plt.xlabel('Number of epochs')\n",
    "    plt.grid()\n",
    "    plt.legend(loc=\"upper right\")\n",
    "    plt.show()\n",
    "\n",
    "\n",
    "# 模型预测\n",
    "def all_estimate(best_model,x_test,y_test):\n",
    "    testPred_1 = best_model.predict(x_test)\n",
    "    a = y_test\n",
    "    y_test_p = a.reshape(-1,1)\n",
    "    testPred_p = testPred_1.reshape(-1,1)\n",
    "\n",
    "\n",
    "    rmse = sqrt(mean_squared_error(y_test_p,testPred_p))\n",
    "    print('Test RMSE: %.3f' % rmse)\n",
    "\n",
    "    print('acc:',acc(y_test_p,testPred_p))\n",
    "\n",
    "    r2 = r2_score(y_test_p,testPred_p)\n",
    "    print(\"R² score:\", r2)  \n",
    "    \n",
    "\n",
    "def respective_estimate(best_model,x_test,y_test):\n",
    "    re2_list = []\n",
    "    rmse_list = []\n",
    "    for i in range(6):\n",
    "        # 模型预测\n",
    "        testPred = best_model.predict(x_test[i:i+1])\n",
    "        a = y_test[i:i+1]\n",
    "        y_test_p = a.reshape(-1,1)\n",
    "        testPred_p = testPred.reshape(-1,1)\n",
    "        r2 = r2_score(y_test_p,testPred_p)\n",
    "        rmse = sqrt(mean_squared_error(y_test_p,testPred_p))\n",
    "        re2_list.append(r2)\n",
    "        rmse_list.append(rmse)    \n",
    "    return re2_list,rmse_list"
   ]
  },
  {
   "cell_type": "code",
   "execution_count": 37,
   "id": "e2a7c1f2",
   "metadata": {
    "ExecuteTime": {
     "end_time": "2024-02-17T01:02:56.641066Z",
     "start_time": "2024-02-17T01:02:56.638051Z"
    },
    "code_folding": []
   },
   "outputs": [],
   "source": [
    "#look_loss(history)"
   ]
  },
  {
   "cell_type": "markdown",
   "id": "a4d334cc",
   "metadata": {},
   "source": [
    "## 对指定层进行评估"
   ]
  },
  {
   "cell_type": "code",
   "execution_count": 23,
   "id": "d8f0494e",
   "metadata": {
    "ExecuteTime": {
     "end_time": "2023-11-28T02:02:12.168468Z",
     "start_time": "2023-11-28T02:02:07.132574Z"
    }
   },
   "outputs": [],
   "source": [
    "input_cnn_test = np.concatenate((x_cnn_test[:,:,:,:5],x_cnn_test[:,:,:,9:]),axis=-1)  \n",
    "input_lstm_test = np.concatenate((x_lstm_test[:,:,:5],x_lstm_test[:,:,9:]),axis=-1)  "
   ]
  },
  {
   "cell_type": "code",
   "execution_count": 24,
   "id": "c701965b",
   "metadata": {
    "ExecuteTime": {
     "end_time": "2023-11-28T02:02:12.174459Z",
     "start_time": "2023-11-28T02:02:12.170465Z"
    }
   },
   "outputs": [
    {
     "data": {
      "text/plain": [
       "(1278144, 15)"
      ]
     },
     "execution_count": 24,
     "metadata": {},
     "output_type": "execute_result"
    }
   ],
   "source": [
    "y_test.shape"
   ]
  },
  {
   "cell_type": "code",
   "execution_count": 30,
   "id": "91dc316c",
   "metadata": {
    "ExecuteTime": {
     "end_time": "2023-11-28T02:05:50.325983Z",
     "start_time": "2023-11-28T02:04:33.217076Z"
    }
   },
   "outputs": [
    {
     "name": "stdout",
     "output_type": "stream",
     "text": [
      "Test RMSE: 0.146\n",
      "acc: 99.04137843484156\n",
      "R² score: 0.9783923597387845\n"
     ]
    }
   ],
   "source": [
    "best_model = tf.keras.models.load_model('../model/cnn_lstm_jc_model_newVariable3_1000m.h5')                                      \n",
    "all_estimate(best_model,[input_cnn_test,input_lstm_test],y_test[:,14:])"
   ]
  },
  {
   "cell_type": "markdown",
   "id": "1dd6914b",
   "metadata": {},
   "source": [
    "## 对所有层进行评估"
   ]
  },
  {
   "cell_type": "code",
   "execution_count": 30,
   "id": "e98883f9",
   "metadata": {
    "ExecuteTime": {
     "end_time": "2023-12-04T02:51:44.291573Z",
     "start_time": "2023-12-04T02:51:44.068931Z"
    }
   },
   "outputs": [
    {
     "data": {
      "text/plain": [
       "0"
      ]
     },
     "execution_count": 30,
     "metadata": {},
     "output_type": "execute_result"
    }
   ],
   "source": [
    "gc.collect()"
   ]
  },
  {
   "cell_type": "code",
   "execution_count": 38,
   "id": "797554c9",
   "metadata": {
    "ExecuteTime": {
     "end_time": "2024-02-17T01:06:32.652026Z",
     "start_time": "2024-02-17T01:03:56.335464Z"
    },
    "code_folding": []
   },
   "outputs": [
    {
     "name": "stdout",
     "output_type": "stream",
     "text": [
      "30m温度异常：测试集：\n",
      "Test RMSE: 0.308\n",
      "acc: 95.29316325196781\n",
      "R² score: 0.9055007658567773\n",
      "50m温度异常：测试集：\n",
      "Test RMSE: 0.415\n",
      "acc: 91.11582825096627\n",
      "R² score: 0.8301545888386728\n"
     ]
    }
   ],
   "source": [
    "# 模型预测30-150m\n",
    "depth = [30,50,100,125,150]\n",
    "for i in range(0,2):\n",
    "    best_model = tf.keras.models.load_model('../model/cnn_lstm_jc_newVariable/anom/cnn_lstm_jc_model_newVariable_'+str(depth[i])+'m.h5')                                       \n",
    "    print(str(depth[i])+'m温度异常：测试集：')\n",
    "    input_cnn_test = np.concatenate((x_cnn_test[:,:,:,:5],x_cnn_test[:,:,:,i+5:i+6]),axis=-1)  \n",
    "    input_lstm_test = np.concatenate((x_lstm_test[:,:,:5],x_lstm_test[:,:,i+5:i+6]),axis=-1)  \n",
    "    #all_estimate(best_model,x_test,y_test[:,i:i+1])\n",
    "    all_estimate(best_model,[input_cnn_test,input_lstm_test],y_test[:,i:i+1])"
   ]
  },
  {
   "cell_type": "code",
   "execution_count": null,
   "id": "2cc43eaa",
   "metadata": {},
   "outputs": [],
   "source": [
    "Y_true = np.load(\"../data_test/xy/Y_30_150m.npy\")"
   ]
  },
  {
   "cell_type": "code",
   "execution_count": null,
   "id": "6ecf2375",
   "metadata": {
    "ExecuteTime": {
     "start_time": "2023-12-04T02:51:58.544Z"
    },
    "code_folding": [
     0
    ],
    "collapsed": true
   },
   "outputs": [
    {
     "name": "stdout",
     "output_type": "stream",
     "text": [
      "200m温度：测试集：\n",
      "Test RMSE: 0.117\n",
      "acc: 99.39993303620793\n",
      "R² score: 0.9865203293157211\n",
      "250m温度：测试集：\n",
      "Test RMSE: 0.106\n",
      "acc: 99.49293516745465\n",
      "R² score: 0.9886119740543015\n",
      "300m温度：测试集：\n",
      "Test RMSE: 0.105\n",
      "acc: 99.49908900642988\n",
      "R² score: 0.9887504195253631\n",
      "400m温度：测试集：\n",
      "Test RMSE: 0.121\n",
      "acc: 99.3497877332884\n",
      "R² score: 0.9844467380580297\n",
      "500m温度：测试集：\n"
     ]
    }
   ],
   "source": [
    "# 模型预测200 - 500\n",
    "depth =[200,250,300,400,500]\n",
    "for i in range(0,5):\n",
    "    best_model = tf.keras.models.load_model('../model/cnn_lstm_jc_newVariable/cnn_lstm_jc_model_newVariable_end_'+str(depth[i])+'m.h5')                                       \n",
    "    print(str(depth[i])+'m温度：测试集：')\n",
    "    input_cnn_test = np.concatenate((x_cnn_test[:,:,:,:5],x_cnn_test[:,:,:,i+5:i+6]),axis=-1)  \n",
    "    input_lstm_test = np.concatenate((x_lstm_test[:,:,:5],x_lstm_test[:,:,i+5:i+6]),axis=-1)  \n",
    "    #all_estimate(best_model,x_test,y_test[:,i:i+1])\n",
    "    all_estimate(best_model,[input_cnn_test,input_lstm_test],y_test[:,i+5:i+6])"
   ]
  },
  {
   "cell_type": "code",
   "execution_count": 23,
   "id": "125ab440",
   "metadata": {
    "ExecuteTime": {
     "end_time": "2023-12-03T03:33:37.908411Z",
     "start_time": "2023-12-03T03:27:10.263790Z"
    },
    "code_folding": [
     0
    ],
    "collapsed": true
   },
   "outputs": [
    {
     "name": "stdout",
     "output_type": "stream",
     "text": [
      "600m温度：测试集：\n",
      "Test RMSE: 0.158\n",
      "acc: 98.81586119523365\n",
      "R² score: 0.9733420890594672\n",
      "700m温度：测试集：\n",
      "Test RMSE: 0.158\n",
      "acc: 98.8341717224862\n",
      "R² score: 0.9737155012463298\n",
      "800m温度：测试集：\n",
      "Test RMSE: 0.144\n",
      "acc: 99.01211432084158\n",
      "R² score: 0.9785477221984661\n",
      "900m温度：测试集：\n",
      "Test RMSE: 0.147\n",
      "acc: 99.04171927215309\n",
      "R² score: 0.9779162080885253\n",
      "1000m温度：测试集：\n",
      "Test RMSE: 0.144\n",
      "acc: 99.04718753622689\n",
      "R² score: 0.9787711702624015\n"
     ]
    }
   ],
   "source": [
    "# 模型预测600 - 1000\n",
    "depth =[600, 700, 800, 900, 1000]\n",
    "for i in range(0,5):\n",
    "    best_model = tf.keras.models.load_model('../model/cnn_lstm_jc_newVariable/cnn_lstm_jc_model_newVariable_end_'+str(depth[i])+'m.h5')                                       \n",
    "    print(str(depth[i])+'m温度：测试集：')\n",
    "    input_cnn_test = np.concatenate((x_cnn_test[:,:,:,:5],x_cnn_test[:,:,:,i+5:i+6]),axis=-1)  \n",
    "    input_lstm_test = np.concatenate((x_lstm_test[:,:,:5],x_lstm_test[:,:,i+5:i+6]),axis=-1)  \n",
    "    #all_estimate(best_model,x_test,y_test[:,i:i+1])\n",
    "    all_estimate(best_model,[input_cnn_test,input_lstm_test],y_test[:,i+10:i+11])"
   ]
  },
  {
   "cell_type": "markdown",
   "id": "8979d6a8",
   "metadata": {},
   "source": [
    "# 模型预测结果保存"
   ]
  },
  {
   "cell_type": "markdown",
   "id": "f44c01ec",
   "metadata": {},
   "source": [
    "## 获取所有层的预测结果"
   ]
  },
  {
   "cell_type": "code",
   "execution_count": 24,
   "id": "acf295b6",
   "metadata": {
    "ExecuteTime": {
     "end_time": "2023-12-04T12:41:12.544209Z",
     "start_time": "2023-12-04T12:33:58.530331Z"
    },
    "code_folding": []
   },
   "outputs": [
    {
     "name": "stdout",
     "output_type": "stream",
     "text": [
      "预测第30m的温度\n",
      "预测第50m的温度\n",
      "预测第100m的温度\n",
      "预测第125m的温度\n",
      "预测第150m的温度\n"
     ]
    }
   ],
   "source": [
    "# 模型预测\n",
    "depth = [30,50,100,125,150]\n",
    "result = [] \n",
    "for i in range(0,5):\n",
    "    best_model = tf.keras.models.load_model('../model/cnn_lstm_jc_model_newVariable3_'+str(depth[i])+'m.h5')\n",
    "    print('预测第'+str(depth[i])+'m的温度')\n",
    "    input_cnn_test = np.concatenate((x_cnn_test[:,:,:,:5],x_cnn_test[:,:,:,i+5:i+6]),axis=-1)  \n",
    "    input_lstm_test = np.concatenate((x_lstm_test[:,:,:5],x_lstm_test[:,:,i+5:i+6]),axis=-1) \n",
    "    testPred = best_model.predict([input_cnn_test,input_lstm_test])\n",
    "    result.append(testPred)"
   ]
  },
  {
   "cell_type": "markdown",
   "id": "fc14f760",
   "metadata": {},
   "source": [
    "## 对预测结果进行反归一化"
   ]
  },
  {
   "cell_type": "markdown",
   "id": "825e4076",
   "metadata": {},
   "source": [
    "### 保存预测结果"
   ]
  },
  {
   "cell_type": "code",
   "execution_count": 26,
   "id": "ee3ec68d",
   "metadata": {
    "ExecuteTime": {
     "end_time": "2023-12-04T12:44:23.684235Z",
     "start_time": "2023-12-04T12:44:23.661272Z"
    }
   },
   "outputs": [
    {
     "name": "stdout",
     "output_type": "stream",
     "text": [
      "(5, 1278144, 1)\n",
      "(1278144, 1, 5)\n",
      "(1278144, 5)\n"
     ]
    }
   ],
   "source": [
    "result = np.array(result)\n",
    "print(result.shape)\n",
    "result = np.transpose(result,(1,2,0))\n",
    "print(result.shape)\n",
    "result = result.reshape(-1,5)\n",
    "print(result.shape)"
   ]
  },
  {
   "cell_type": "code",
   "execution_count": 8,
   "id": "37c81e69",
   "metadata": {
    "ExecuteTime": {
     "end_time": "2023-12-04T12:57:13.193318Z",
     "start_time": "2023-12-04T12:57:13.154381Z"
    }
   },
   "outputs": [],
   "source": [
    "#np.save(\"../data_test/result/result_30_150.npy\",result)\n",
    "\n",
    "# result_30_150 = np.load(\"../data_test/result/result_30_150.npy\")\n",
    "# result_200_500 = np.load(\"../data_test/result/result_200_500.npy\")\n",
    "# result_600_1000 = np.load(\"../data_test/result/result_600_1000.npy\")"
   ]
  },
  {
   "cell_type": "code",
   "execution_count": 20,
   "id": "3157eda9",
   "metadata": {
    "ExecuteTime": {
     "end_time": "2023-12-04T13:01:08.907790Z",
     "start_time": "2023-12-04T13:01:08.860865Z"
    }
   },
   "outputs": [],
   "source": [
    "result_30_1000 = np.hstack((result_30_150, result_200_500, result_600_1000))"
   ]
  },
  {
   "cell_type": "code",
   "execution_count": 18,
   "id": "bcfbabd9",
   "metadata": {
    "ExecuteTime": {
     "end_time": "2024-03-01T13:22:50.063659Z",
     "start_time": "2024-03-01T13:22:48.339435Z"
    }
   },
   "outputs": [],
   "source": [
    "#np.save(\"../data_test/result/result_30_1000.npy\",result_30_1000)\n",
    "result_30_1000 = np.load(\"../data_test/result/result_30_1000.npy\")"
   ]
  },
  {
   "cell_type": "code",
   "execution_count": null,
   "id": "9e5be8a2",
   "metadata": {},
   "outputs": [],
   "source": []
  },
  {
   "cell_type": "markdown",
   "id": "bac08888",
   "metadata": {},
   "source": [
    "### 反归一化"
   ]
  },
  {
   "cell_type": "code",
   "execution_count": 19,
   "id": "34fd5749",
   "metadata": {
    "ExecuteTime": {
     "end_time": "2024-03-01T13:23:04.123758Z",
     "start_time": "2024-03-01T13:23:03.910102Z"
    }
   },
   "outputs": [],
   "source": [
    "result_unscaled = scaler_l.inverse_transform(result_30_1000)\n",
    "y_test_unscaled = scaler_l.inverse_transform(y_test)"
   ]
  },
  {
   "cell_type": "code",
   "execution_count": 20,
   "id": "26019b83",
   "metadata": {
    "ExecuteTime": {
     "end_time": "2024-03-01T13:23:06.235360Z",
     "start_time": "2024-03-01T13:23:06.231366Z"
    }
   },
   "outputs": [
    {
     "data": {
      "text/plain": [
       "((1278144, 15), (1278144, 15))"
      ]
     },
     "execution_count": 20,
     "metadata": {},
     "output_type": "execute_result"
    }
   ],
   "source": [
    "y_test_unscaled.shape,result_unscaled.shape"
   ]
  },
  {
   "cell_type": "markdown",
   "id": "f8473490",
   "metadata": {},
   "source": [
    "### 评估反归一化之后的结果"
   ]
  },
  {
   "cell_type": "code",
   "execution_count": 48,
   "id": "06e87938",
   "metadata": {
    "ExecuteTime": {
     "end_time": "2023-12-04T13:13:26.695058Z",
     "start_time": "2023-12-04T13:13:26.390533Z"
    },
    "collapsed": true
   },
   "outputs": [
    {
     "name": "stdout",
     "output_type": "stream",
     "text": [
      "30m Test mse: 0.1894\n",
      "50m Test mse: 0.3868\n",
      "100m Test mse: 0.4537\n",
      "125m Test mse: 0.4602\n",
      "150m Test mse: 0.4742\n",
      "200m Test mse: 0.3267\n",
      "250m Test mse: 0.1919\n",
      "300m Test mse: 0.1473\n",
      "400m Test mse: 0.1230\n",
      "500m Test mse: 0.0901\n",
      "600m Test mse: 0.0596\n",
      "700m Test mse: 0.0334\n",
      "800m Test mse: 0.0179\n",
      "900m Test mse: 0.0131\n",
      "1000m Test mse: 0.0094\n"
     ]
    }
   ],
   "source": [
    "depth = [30,50,100,125,150,200,250,300,400,500,600,700,800,900,1000]\n",
    "for i in range(0,15):\n",
    "    mse =  mean_squared_error(y_test_unscaled[:,i],result_unscaled[:,i])\n",
    "    print(str(depth[i])+'m Test mse: %.4f' % mse)"
   ]
  },
  {
   "cell_type": "code",
   "execution_count": 50,
   "id": "15a0164b",
   "metadata": {
    "ExecuteTime": {
     "end_time": "2023-12-04T13:13:42.096188Z",
     "start_time": "2023-12-04T13:13:41.793641Z"
    },
    "collapsed": true
   },
   "outputs": [
    {
     "name": "stdout",
     "output_type": "stream",
     "text": [
      "30m Test rmse: 0.4352\n",
      "50m Test rmse: 0.6220\n",
      "100m Test rmse: 0.6736\n",
      "125m Test rmse: 0.6784\n",
      "150m Test rmse: 0.6886\n",
      "200m Test rmse: 0.5716\n",
      "250m Test rmse: 0.4381\n",
      "300m Test rmse: 0.3838\n",
      "400m Test rmse: 0.3508\n",
      "500m Test rmse: 0.3001\n",
      "600m Test rmse: 0.2442\n",
      "700m Test rmse: 0.1827\n",
      "800m Test rmse: 0.1338\n",
      "900m Test rmse: 0.1146\n",
      "1000m Test rmse: 0.0970\n"
     ]
    }
   ],
   "source": [
    "for i in range(0,15):\n",
    "    mse =  mean_squared_error(y_test_unscaled[:,i],result_unscaled[:,i])\n",
    "    rmse = np.sqrt(mse)\n",
    "    print(str(depth[i])+'m Test rmse: %.4f' % rmse)"
   ]
  },
  {
   "cell_type": "markdown",
   "id": "59180d08",
   "metadata": {},
   "source": [
    "### 计算相对误差"
   ]
  },
  {
   "cell_type": "code",
   "execution_count": 21,
   "id": "a01b38b0",
   "metadata": {
    "ExecuteTime": {
     "end_time": "2024-03-01T13:23:34.747882Z",
     "start_time": "2024-03-01T13:23:34.742890Z"
    }
   },
   "outputs": [],
   "source": [
    "def relative_error(result_unscaled, y_test_unscaled):   # 反演值   真实值\n",
    "    # 处理真实值为零的情况\n",
    "    y_test_unscaled_abs = np.abs(y_test_unscaled)\n",
    "    \n",
    "    # 计算相对误差\n",
    "    absolute_errors = np.abs(result_unscaled - y_test_unscaled) #\\反演值 - 真实值\\\n",
    "    \n",
    "    mask = y_test_unscaled_abs>0.1\n",
    "    \n",
    "    relative_errors = np.zeros_like(absolute_errors)\n",
    "    relative_errors[mask] = (absolute_errors[mask] / y_test_unscaled_abs[mask]) * 100\n",
    "    \n",
    "    #relative_errors = (absolute_errors / y_test_unscaled_abs) * 100\n",
    "    print(relative_errors.shape)\n",
    "    print(relative_errors[mask].shape)\n",
    "    return relative_errors[mask]"
   ]
  },
  {
   "cell_type": "code",
   "execution_count": 22,
   "id": "230479f3",
   "metadata": {
    "ExecuteTime": {
     "end_time": "2024-03-01T13:23:39.035981Z",
     "start_time": "2024-03-01T13:23:38.096493Z"
    },
    "collapsed": true
   },
   "outputs": [
    {
     "name": "stdout",
     "output_type": "stream",
     "text": [
      "(1278144,)\n",
      "(1277699,)\n",
      "相对误差数组为: 2.0158266878960776\n",
      "(1278144,)\n",
      "(1277394,)\n",
      "相对误差数组为: 3.2796243981492186\n",
      "(1278144,)\n",
      "(1277309,)\n",
      "相对误差数组为: 4.232329226864575\n",
      "(1278144,)\n",
      "(1277245,)\n",
      "相对误差数组为: 4.498242758347381\n",
      "(1278144,)\n",
      "(1277614,)\n",
      "相对误差数组为: 4.257922895630924\n",
      "(1278144,)\n",
      "(1277551,)\n",
      "相对误差数组为: 3.978629649399007\n",
      "(1278144,)\n",
      "(1277664,)\n",
      "相对误差数组为: 3.461387209941452\n",
      "(1278144,)\n",
      "(1277951,)\n",
      "相对误差数组为: 3.0403223027609427\n",
      "(1278144,)\n",
      "(1278134,)\n",
      "相对误差数组为: 2.9840189428768333\n",
      "(1278144,)\n",
      "(1278144,)\n",
      "相对误差数组为: 2.828082263391153\n",
      "(1278144,)\n",
      "(1278144,)\n",
      "相对误差数组为: 2.636054132857473\n",
      "(1278144,)\n",
      "(1278144,)\n",
      "相对误差数组为: 2.2715606109777675\n",
      "(1278144,)\n",
      "(1278144,)\n",
      "相对误差数组为: 2.015759374065442\n",
      "(1278144,)\n",
      "(1278144,)\n",
      "相对误差数组为: 1.9648972223668462\n",
      "(1278144,)\n",
      "(1278144,)\n",
      "相对误差数组为: 1.790255424188912\n"
     ]
    }
   ],
   "source": [
    "depth = [30,50,100,125,150,200,250,300,400,500,600,700,800,900,1000]\n",
    "for i in range(0,15):\n",
    "    a = relative_error(result_unscaled[:,i],y_test_unscaled[:,i])\n",
    "    print(f\"相对误差数组为:\",np.mean(a))"
   ]
  },
  {
   "cell_type": "markdown",
   "id": "41d05bd0",
   "metadata": {},
   "source": [
    "### 按照月份来计算R^2 和RMSE "
   ]
  },
  {
   "cell_type": "code",
   "execution_count": 76,
   "id": "d1ff88bb",
   "metadata": {
    "ExecuteTime": {
     "end_time": "2023-12-05T07:33:49.540474Z",
     "start_time": "2023-12-05T07:33:49.535482Z"
    }
   },
   "outputs": [
    {
     "data": {
      "text/plain": [
       "((1278144, 15), (1278144, 15))"
      ]
     },
     "execution_count": 76,
     "metadata": {},
     "output_type": "execute_result"
    }
   ],
   "source": [
    "y_test_unscaled.shape,result_unscaled.shape "
   ]
  },
  {
   "cell_type": "code",
   "execution_count": 86,
   "id": "83af5601",
   "metadata": {
    "ExecuteTime": {
     "end_time": "2023-12-05T07:51:24.755000Z",
     "start_time": "2023-12-05T07:51:24.751003Z"
    }
   },
   "outputs": [],
   "source": [
    "result_unscaled_month  = result_unscaled.reshape(12,-1,15)\n",
    "y_test_unscaled_month  = y_test_unscaled.reshape(12,-1,15)"
   ]
  },
  {
   "cell_type": "code",
   "execution_count": 87,
   "id": "b855ed4e",
   "metadata": {
    "ExecuteTime": {
     "end_time": "2023-12-05T07:51:25.277157Z",
     "start_time": "2023-12-05T07:51:25.273163Z"
    }
   },
   "outputs": [
    {
     "data": {
      "text/plain": [
       "(12, 106512, 15)"
      ]
     },
     "execution_count": 87,
     "metadata": {},
     "output_type": "execute_result"
    }
   ],
   "source": [
    "result_unscaled_month.shape "
   ]
  },
  {
   "cell_type": "code",
   "execution_count": 109,
   "id": "5e8aa2d8",
   "metadata": {
    "ExecuteTime": {
     "end_time": "2023-12-05T07:57:23.635985Z",
     "start_time": "2023-12-05T07:57:23.630993Z"
    }
   },
   "outputs": [],
   "source": [
    "def respective_estimate(month,result,y_test):\n",
    "    re2_list = []\n",
    "    rmse_list = []\n",
    "    for i in range(15):  # 15代表15个深度级\n",
    "        # 模型预测\n",
    "        testPred =result[(month-1),:,i:i+1]\n",
    "        a = y_test[(month-1),:,i:i+1]\n",
    "        r2 = r2_score(a,testPred)\n",
    "        rmse = sqrt(mean_squared_error(a,testPred))\n",
    "        re2_list.append(r2)\n",
    "        rmse_list.append(rmse)    \n",
    "    return re2_list,rmse_list"
   ]
  },
  {
   "cell_type": "code",
   "execution_count": 131,
   "id": "47f96722",
   "metadata": {
    "ExecuteTime": {
     "end_time": "2023-12-05T08:32:07.106976Z",
     "start_time": "2023-12-05T08:32:07.058054Z"
    }
   },
   "outputs": [
    {
     "data": {
      "text/plain": [
       "([0.9983942257968306,\n",
       "  0.9952239259620208,\n",
       "  0.990665471427948,\n",
       "  0.990545579448546,\n",
       "  0.9837646654456049,\n",
       "  0.9837520202175121,\n",
       "  0.987363462206706,\n",
       "  0.9862904154851098,\n",
       "  0.9811371726327283,\n",
       "  0.9735540295997779,\n",
       "  0.9682056570094634,\n",
       "  0.9651267528269689,\n",
       "  0.9750055546788515,\n",
       "  0.9748213589918855,\n",
       "  0.9777062749987364],\n",
       " [0.35006147014310945,\n",
       "  0.5891170879127386,\n",
       "  0.7605341981134914,\n",
       "  0.7100527725700463,\n",
       "  0.8283546191177457,\n",
       "  0.6400132124641215,\n",
       "  0.46626538933321404,\n",
       "  0.4277273616675807,\n",
       "  0.38983938467727985,\n",
       "  0.3442235549662269,\n",
       "  0.26997391646310714,\n",
       "  0.21091643334477014,\n",
       "  0.1442357556628954,\n",
       "  0.12209441988016205,\n",
       "  0.09887022482908689])"
      ]
     },
     "execution_count": 131,
     "metadata": {},
     "output_type": "execute_result"
    }
   ],
   "source": [
    "# 4月的R² 和 RMSE\n",
    "respective_estimate(4,result_unscaled_month,y_test_unscaled_month)"
   ]
  },
  {
   "cell_type": "markdown",
   "id": "ffc0a05d",
   "metadata": {},
   "source": [
    "### 计算不同深度的温度变化的平均均方根（RMS）值"
   ]
  },
  {
   "cell_type": "code",
   "execution_count": 198,
   "id": "f2178f4e",
   "metadata": {
    "ExecuteTime": {
     "end_time": "2023-12-05T13:20:23.923472Z",
     "start_time": "2023-12-05T13:20:23.755743Z"
    }
   },
   "outputs": [],
   "source": [
    "# 计算每一年的平均值\n",
    "months_per_year = 12\n",
    "num_years = 11\n",
    "data_shape = (132, 250, 610, 15)\n",
    "averaged_data = np.mean(temp_depth_use.reshape(num_years, months_per_year, *data_shape[1:]), axis=1)"
   ]
  },
  {
   "cell_type": "code",
   "execution_count": 201,
   "id": "7f009013",
   "metadata": {
    "ExecuteTime": {
     "end_time": "2023-12-05T13:21:14.066849Z",
     "start_time": "2023-12-05T13:21:14.061857Z"
    }
   },
   "outputs": [
    {
     "data": {
      "text/plain": [
       "(11, 250, 610, 15)"
      ]
     },
     "execution_count": 201,
     "metadata": {},
     "output_type": "execute_result"
    }
   ],
   "source": [
    "averaged_data.shape "
   ]
  },
  {
   "cell_type": "code",
   "execution_count": 200,
   "id": "e67ba94c",
   "metadata": {
    "ExecuteTime": {
     "end_time": "2023-12-05T13:20:24.997744Z",
     "start_time": "2023-12-05T13:20:24.736165Z"
    }
   },
   "outputs": [
    {
     "name": "stdout",
     "output_type": "stream",
     "text": [
      "(10, 250, 610, 15)\n",
      "(1525000, 15)\n",
      "不同深度的温度年际变化的平均 RMS: [0.62744355 0.8121952  1.0274146  0.9404541  0.8155954  0.5527513\n",
      " 0.4246711  0.37204105 0.33037296 0.28008792 0.20921904 0.14691857\n",
      " 0.10419048 0.08102585 0.06601328]\n"
     ]
    }
   ],
   "source": [
    "# 计算每个深度的年际温度变化\n",
    "yearly_changes_2 = np.diff(averaged_data, axis=0)\n",
    "print(yearly_changes_2.shape)\n",
    "yearly_changes_2 = yearly_changes_2.reshape(-1,15)\n",
    "print(yearly_changes_2.shape)\n",
    "rms_per_depth_2 = np.sqrt(np.nanmean(np.square(yearly_changes_2), axis=0))\n",
    "print(\"不同深度的温度年际变化的平均 RMS:\", rms_per_depth_2)"
   ]
  },
  {
   "cell_type": "markdown",
   "id": "36c5d07e",
   "metadata": {},
   "source": [
    "### 计算不同深度水平的垂直温度梯度"
   ]
  },
  {
   "cell_type": "code",
   "execution_count": 93,
   "id": "01a24042",
   "metadata": {
    "ExecuteTime": {
     "end_time": "2023-12-09T03:31:04.479385Z",
     "start_time": "2023-12-09T03:31:04.475391Z"
    }
   },
   "outputs": [],
   "source": [
    "depth = [30,50,100,125,150,200,250,300,400,500,600,700,800,900,1000]"
   ]
  },
  {
   "cell_type": "code",
   "execution_count": 112,
   "id": "ff68ab5e",
   "metadata": {
    "ExecuteTime": {
     "end_time": "2023-12-09T07:28:41.764814Z",
     "start_time": "2023-12-09T07:28:38.050794Z"
    }
   },
   "outputs": [
    {
     "name": "stderr",
     "output_type": "stream",
     "text": [
      "C:\\Users\\Administrator\\AppData\\Local\\Temp\\ipykernel_20292\\93721926.py:14: RuntimeWarning: Mean of empty slice\n",
      "  average_vertical_temperature_gradient = np.nanmean(vertical_temperature_gradient_per_month, axis=0)\n"
     ]
    }
   ],
   "source": [
    "# 计算深度差\n",
    "delta_depth = np.diff(depth)  # 深度差\n",
    "\n",
    "# 扩展 delta_depth 以匹配温度差的维度\n",
    "delta_depth_expanded = delta_depth[np.newaxis, np.newaxis, np.newaxis, :]  #(1, 1, 1, 14)\n",
    "\n",
    "# 计算每个月份的温度差\n",
    "delta_temperature = np.diff(temp_depth_use, axis=-1)  # 在深度维度上计算差值\n",
    "\n",
    "# 计算每个月份的垂直温度梯度\n",
    "vertical_temperature_gradient_per_month = delta_temperature / delta_depth_expanded\n",
    "\n",
    "# 计算所有月份的平均垂直温度梯度\n",
    "average_vertical_temperature_gradient = np.nanmean(vertical_temperature_gradient_per_month, axis=0)"
   ]
  },
  {
   "cell_type": "code",
   "execution_count": 113,
   "id": "ea27a6e9",
   "metadata": {
    "ExecuteTime": {
     "end_time": "2023-12-09T07:28:41.769806Z",
     "start_time": "2023-12-09T07:28:41.765812Z"
    }
   },
   "outputs": [
    {
     "name": "stdout",
     "output_type": "stream",
     "text": [
      "(1, 1, 1, 14)\n",
      "(132, 250, 610, 14)\n",
      "(132, 250, 610, 14)\n",
      "(250, 610, 14)\n"
     ]
    }
   ],
   "source": [
    "print(delta_depth_expanded.shape)\n",
    "print(delta_temperature.shape)\n",
    "print(vertical_temperature_gradient_per_month.shape)\n",
    "print(average_vertical_temperature_gradient.shape)"
   ]
  },
  {
   "cell_type": "code",
   "execution_count": 114,
   "id": "84239a84",
   "metadata": {
    "ExecuteTime": {
     "end_time": "2023-12-09T07:28:48.354352Z",
     "start_time": "2023-12-09T07:28:48.327395Z"
    }
   },
   "outputs": [
    {
     "data": {
      "text/plain": [
       "array([-0.0540533 , -0.05762655, -0.05383809, -0.05034414, -0.04223369,\n",
       "       -0.0277066 , -0.01938522, -0.01563386, -0.01306995, -0.0103042 ,\n",
       "       -0.00751749, -0.00544361, -0.00422482, -0.00350151])"
      ]
     },
     "execution_count": 114,
     "metadata": {},
     "output_type": "execute_result"
    }
   ],
   "source": [
    "average_vertical_temperature_gradient  = average_vertical_temperature_gradient.reshape(-1,14)\n",
    "average_vertical_temperature_gradient  = np.nanmean(average_vertical_temperature_gradient,axis = 0)\n",
    "average_vertical_temperature_gradient"
   ]
  },
  {
   "cell_type": "code",
   "execution_count": null,
   "id": "6adf2fc5",
   "metadata": {},
   "outputs": [],
   "source": []
  },
  {
   "cell_type": "markdown",
   "id": "f84f1217",
   "metadata": {},
   "source": [
    "# 预测结果可视化"
   ]
  },
  {
   "cell_type": "markdown",
   "id": "f61e34aa",
   "metadata": {},
   "source": [
    "## 为归一化之后的预测值和真实值填充nan"
   ]
  },
  {
   "cell_type": "code",
   "execution_count": 51,
   "id": "c19ade46",
   "metadata": {
    "ExecuteTime": {
     "end_time": "2023-12-04T13:21:09.090445Z",
     "start_time": "2023-12-04T13:21:09.076467Z"
    }
   },
   "outputs": [],
   "source": [
    "nan_mask_cat = np.load(\"../data_test/nan_mask_cat.npy\")"
   ]
  },
  {
   "cell_type": "code",
   "execution_count": 52,
   "id": "76353454",
   "metadata": {
    "ExecuteTime": {
     "end_time": "2023-12-04T13:21:18.928607Z",
     "start_time": "2023-12-04T13:21:18.924613Z"
    }
   },
   "outputs": [
    {
     "data": {
      "text/plain": [
       "(144000,)"
      ]
     },
     "execution_count": 52,
     "metadata": {},
     "output_type": "execute_result"
    }
   ],
   "source": [
    "nan_mask_cat.shape "
   ]
  },
  {
   "cell_type": "code",
   "execution_count": 53,
   "id": "44402e00",
   "metadata": {
    "ExecuteTime": {
     "end_time": "2023-12-04T13:22:50.124813Z",
     "start_time": "2023-12-04T13:22:49.980047Z"
    }
   },
   "outputs": [
    {
     "name": "stdout",
     "output_type": "stream",
     "text": [
      "(144000, 180)\n",
      "(144000, 180)\n"
     ]
    }
   ],
   "source": [
    "### 创建一个形状与nan_masks相同且全是nan的数组\n",
    "testPred_with_nan = np.full((144000,12*15), np.nan)  \n",
    "print(testPred_with_nan.shape)\n",
    "y_test_with_nan = np.full((144000,12*15), np.nan)  \n",
    "print(y_test_with_nan.shape)"
   ]
  },
  {
   "cell_type": "code",
   "execution_count": 55,
   "id": "9c9dc395",
   "metadata": {
    "ExecuteTime": {
     "end_time": "2023-12-04T13:24:04.808743Z",
     "start_time": "2023-12-04T13:24:04.715850Z"
    }
   },
   "outputs": [
    {
     "name": "stdout",
     "output_type": "stream",
     "text": [
      "(12, 106512, 15)\n",
      "(106512, 12, 15)\n",
      "(106512, 180)\n",
      "(12, 106512, 15)\n",
      "(106512, 12, 15)\n",
      "(106512, 180)\n"
     ]
    }
   ],
   "source": [
    "result_unscaled_reshape = result_unscaled.reshape(12,-1,15)\n",
    "print(result_unscaled_reshape.shape)\n",
    "result_unscaled_reshape = np.transpose(result_unscaled_reshape,(1,0,2))\n",
    "print(result_unscaled_reshape.shape)\n",
    "result_unscaled_reshape = result_unscaled_reshape.reshape(-1,12*15)\n",
    "print(result_unscaled_reshape.shape)\n",
    "\n",
    "# ======================================== #\n",
    "y_test_unscaled_reshape = y_test_unscaled.reshape(12,-1,15)\n",
    "print(y_test_unscaled_reshape.shape)\n",
    "y_test_unscaled_reshape = np.transpose(y_test_unscaled_reshape,(1,0,2))\n",
    "print(y_test_unscaled_reshape.shape)\n",
    "y_test_unscaled_reshape = y_test_unscaled_reshape.reshape(-1,12*15)\n",
    "print(y_test_unscaled_reshape.shape)\n"
   ]
  },
  {
   "cell_type": "code",
   "execution_count": 60,
   "id": "3c600f56",
   "metadata": {
    "ExecuteTime": {
     "end_time": "2023-12-04T13:30:42.394643Z",
     "start_time": "2023-12-04T13:30:42.119086Z"
    }
   },
   "outputs": [
    {
     "name": "stdout",
     "output_type": "stream",
     "text": [
      "106512\n"
     ]
    }
   ],
   "source": [
    "num = 0\n",
    "for i,nan_mask in enumerate(nan_mask_cat):   # i从0开始  在nan_mask_cat中true代表有效值，False代表无效值\n",
    "\n",
    "    if (nan_mask == True): # true 代表没有nan，使用预测值进行填充\n",
    "        testPred_with_nan[i] = result_unscaled_reshape[num]\n",
    "        y_test_with_nan[i] = y_test_unscaled_reshape[num]\n",
    "        num = num + 1\n",
    "        \n",
    "print(num)"
   ]
  },
  {
   "cell_type": "code",
   "execution_count": 62,
   "id": "bc74f6ab",
   "metadata": {
    "ExecuteTime": {
     "end_time": "2023-12-04T13:32:31.868826Z",
     "start_time": "2023-12-04T13:32:31.863834Z"
    }
   },
   "outputs": [
    {
     "name": "stdout",
     "output_type": "stream",
     "text": [
      "(12, 15, 240, 600) (12, 15, 240, 600)\n"
     ]
    }
   ],
   "source": [
    "testPred_with_nan = testPred_with_nan.reshape(240, 600,12,15)   #(144000, 180) --> (240, 600,12,15) \n",
    "testPred_with_nan = np.transpose(testPred_with_nan,(2,3,0,1))  \n",
    "\n",
    "\n",
    "y_test_with_nan = y_test_with_nan.reshape(240, 600,12,15)\n",
    "y_test_with_nan = np.transpose(y_test_with_nan,(2,3,0,1))\n",
    "\n",
    "print(testPred_with_nan.shape,y_test_with_nan.shape)"
   ]
  },
  {
   "cell_type": "markdown",
   "id": "eaa1eaaf",
   "metadata": {},
   "source": [
    "## 保存"
   ]
  },
  {
   "cell_type": "code",
   "execution_count": 70,
   "id": "5e595ef4",
   "metadata": {
    "ExecuteTime": {
     "end_time": "2023-12-04T13:35:43.085869Z",
     "start_time": "2023-12-04T13:35:43.082869Z"
    }
   },
   "outputs": [],
   "source": [
    "lat = []\n",
    "lon = []\n",
    "time = []\n",
    "lon.append(data_ssw['lon'][480:1080].data)\n",
    "lat.append(data_ssh1['lat'][360:600].data)"
   ]
  },
  {
   "cell_type": "code",
   "execution_count": 73,
   "id": "85368059",
   "metadata": {
    "ExecuteTime": {
     "end_time": "2023-12-04T13:36:47.414557Z",
     "start_time": "2023-12-04T13:36:47.310707Z"
    }
   },
   "outputs": [],
   "source": [
    "start_year = 2021\n",
    "end_year =2021\n",
    "time = []\n",
    "date_range = pd.date_range(datetime(start_year,1,1),datetime(end_year+1,1,1),freq='1M')\n",
    "len(date_range)\n",
    "for i in range(len(date_range)):\n",
    "    time.append(i)"
   ]
  },
  {
   "cell_type": "code",
   "execution_count": 74,
   "id": "66ceef19",
   "metadata": {
    "ExecuteTime": {
     "end_time": "2023-12-04T13:37:35.575906Z",
     "start_time": "2023-12-04T13:37:34.983860Z"
    }
   },
   "outputs": [],
   "source": [
    "new_NC = nc.Dataset(\"result30_1000m_jc.nc\", 'w', format='NETCDF4')\n",
    "\n",
    "\n",
    "\n",
    "new_NC.createDimension('lat', len(lat[0]))\n",
    "new_NC.createDimension('lon', len(lon[0]))\n",
    "new_NC.createDimension('depth', 15)\n",
    "new_NC.createDimension('time', len(time))\n",
    "\n",
    "\n",
    "new_NC.createVariable('lat', 'f', (\"lat\"))\n",
    "new_NC.createVariable('lon', 'f', (\"lon\"))\n",
    "new_NC.createVariable('depth', 'f', (\"depth\"))\n",
    "new_NC.createVariable('true_sta', 'f',(\"time\",\"depth\",\"lat\",\"lon\"))\n",
    "new_NC.createVariable('pred_sta', 'f',(\"time\",\"depth\",\"lat\",\"lon\"))\n",
    "\n",
    "time_var = new_NC.createVariable('time', 'f4',(\"time\"))\n",
    "time_var.units = 'months since 2021-01-15'\n",
    "time_var.long_name = 'Months in Monthly Means'\n",
    "time_var.axis = 'T'\n",
    "\n",
    "\n",
    "#向变量中填充数据\n",
    "new_NC.variables['lat'][:] = lat[0]\n",
    "new_NC.variables['lon'][:] = lon[0]\n",
    "new_NC.variables['time'][:] = np.array(time)\n",
    "new_NC.variables['depth'][:] = depth\n",
    "\n",
    "new_NC.variables['true_sta'][:]=np.array(y_test_with_nan)\n",
    "new_NC.variables['pred_sta'][:]=np.array(testPred_with_nan)\n",
    "\n",
    "\n",
    "#最后记得关闭文件\n",
    "new_NC.close()\n"
   ]
  },
  {
   "cell_type": "code",
   "execution_count": null,
   "id": "781ffa10",
   "metadata": {},
   "outputs": [],
   "source": []
  }
 ],
 "metadata": {
  "kernelspec": {
   "display_name": "Python [conda env:python] *",
   "language": "python",
   "name": "conda-env-python-py"
  },
  "language_info": {
   "codemirror_mode": {
    "name": "ipython",
    "version": 3
   },
   "file_extension": ".py",
   "mimetype": "text/x-python",
   "name": "python",
   "nbconvert_exporter": "python",
   "pygments_lexer": "ipython3",
   "version": "3.8.17"
  },
  "toc": {
   "base_numbering": 1,
   "nav_menu": {},
   "number_sections": true,
   "sideBar": true,
   "skip_h1_title": false,
   "title_cell": "Table of Contents",
   "title_sidebar": "Contents",
   "toc_cell": false,
   "toc_position": {
    "height": "calc(100% - 180px)",
    "left": "10px",
    "top": "150px",
    "width": "402.107px"
   },
   "toc_section_display": true,
   "toc_window_display": true
  }
 },
 "nbformat": 4,
 "nbformat_minor": 5
}
