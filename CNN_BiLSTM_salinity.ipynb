{
 "cells": [
  {
   "cell_type": "code",
   "execution_count": 1,
   "id": "5a6decf6",
   "metadata": {
    "ExecuteTime": {
     "end_time": "2024-01-29T15:42:06.464035Z",
     "start_time": "2024-01-29T15:42:03.049526Z"
    },
    "code_folding": [
     0
    ]
   },
   "outputs": [],
   "source": [
    "#导包\n",
    "from netCDF4 import Dataset\n",
    "from tensorflow.keras import layers, models\n",
    "from tensorflow.keras.layers import ConvLSTM2D,LSTM, BatchNormalization, LayerNormalization,Input, Conv3D, TimeDistributed, Flatten\n",
    "from tensorflow.keras.layers import Concatenate,Conv2D,TimeDistributed, MaxPooling2D, Input, MaxPooling3D\n",
    "from tensorflow.keras.layers import  Reshape,multiply\n",
    "from tensorflow.keras.layers import Layer,Lambda,Dot,ReLU, Dense, Dropout, Activation, Flatten,Attention\n",
    "from tensorflow.keras.utils import plot_model\n",
    "from tensorflow.keras.models import Sequential,Model,load_model\n",
    "from tensorflow.keras.optimizers import Adam,SGD\n",
    "from sklearn.model_selection import train_test_split\n",
    "from tensorflow.keras.callbacks import EarlyStopping, ModelCheckpoint\n",
    "from sklearn.preprocessing import MinMaxScaler, StandardScaler\n",
    "from tensorflow.keras.losses import MeanSquaredError\n",
    "from sklearn.metrics import r2_score,accuracy_score,precision_score\n",
    "from tensorflow.keras.metrics import RootMeanSquaredError\n",
    "from tensorflow.keras import regularizers\n",
    "import tensorflow as tf\n",
    "from datetime import datetime\n",
    "from sklearn.model_selection import cross_val_score\n",
    "from sklearn.model_selection import GridSearchCV\n",
    "from tensorflow.keras import models, layers\n",
    "from tensorflow.keras.wrappers.scikit_learn import KerasRegressor\n",
    "import tensorflow.keras as keras\n",
    "from tensorflow.keras import layers, Sequential, regularizers\n",
    "# calculate RMSE\n",
    "from sklearn.metrics import mean_squared_error\n",
    "from math import sqrt\n",
    "import pandas as pd \n",
    "import tensorflow as tf\n",
    "import gc \n",
    "import gzip\n",
    "import matplotlib.pyplot as plt\n",
    "import numpy as np\n",
    "import netCDF4 as nc\n",
    "import match\n",
    "import numpy as np\n",
    "import matplotlib.pyplot as plt\n",
    "import xarray as xr\n",
    "import os \n",
    "%matplotlib inline"
   ]
  },
  {
   "cell_type": "code",
   "execution_count": 2,
   "id": "09ebd19b",
   "metadata": {
    "ExecuteTime": {
     "end_time": "2024-01-29T15:42:06.606805Z",
     "start_time": "2024-01-29T15:42:06.466032Z"
    }
   },
   "outputs": [
    {
     "data": {
      "text/plain": [
       "1"
      ]
     },
     "execution_count": 2,
     "metadata": {},
     "output_type": "execute_result"
    }
   ],
   "source": [
    "# 检查可用GPU数量\n",
    "len(tf.config.experimental.list_physical_devices('GPU'))"
   ]
  },
  {
   "cell_type": "markdown",
   "id": "7e62d1f3",
   "metadata": {},
   "source": [
    "# 读取数据"
   ]
  },
  {
   "cell_type": "markdown",
   "id": "353333a8",
   "metadata": {},
   "source": [
    "## SSH"
   ]
  },
  {
   "cell_type": "code",
   "execution_count": 119,
   "id": "0a10df6b",
   "metadata": {
    "ExecuteTime": {
     "end_time": "2023-12-12T08:57:26.458192Z",
     "start_time": "2023-12-12T08:57:26.404279Z"
    }
   },
   "outputs": [],
   "source": [
    "data_ssh1 = nc.Dataset(r'D:/data/SSH/SSH_2011-2015_month.nc')\n",
    "data_ssh2 = nc.Dataset(r'D:/data/SSH/SSH_2016-2021_month.nc')"
   ]
  },
  {
   "cell_type": "code",
   "execution_count": 120,
   "id": "d29342ee",
   "metadata": {
    "ExecuteTime": {
     "end_time": "2023-12-12T08:57:26.542058Z",
     "start_time": "2023-12-12T08:57:26.537066Z"
    }
   },
   "outputs": [
    {
     "name": "stdout",
     "output_type": "stream",
     "text": [
      "60\n",
      "72\n"
     ]
    }
   ],
   "source": [
    "time_ssh1 = data_ssh1['time'][:]\n",
    "print(len(time_ssh1))\n",
    "time_ssh2 = data_ssh2['time'][:]\n",
    "print(len(time_ssh2))"
   ]
  },
  {
   "cell_type": "code",
   "execution_count": 121,
   "id": "b8338256",
   "metadata": {
    "ExecuteTime": {
     "end_time": "2023-12-12T08:57:26.663876Z",
     "start_time": "2023-12-12T08:57:26.658870Z"
    }
   },
   "outputs": [],
   "source": [
    "# 查看研究区域经纬度（120°E - 90°W , 0 - 60°N）\n",
    "\n",
    "ssh_lat = data_ssh1['lat'][:].data\n",
    "#print(ssh_lat[360:600])                   # 0.125 --- 59.875\n",
    "ssh_lon = data_ssh1['lon'][:].data\n",
    "# print(ssh_lon[720+480:])                 # 120.125 ---  179.875    240\n",
    "# print(ssh_lon[:360])                     #-179.875 ---  -90.125    360"
   ]
  },
  {
   "cell_type": "code",
   "execution_count": 122,
   "id": "bb10db3f",
   "metadata": {
    "ExecuteTime": {
     "end_time": "2023-12-12T08:57:26.796690Z",
     "start_time": "2023-12-12T08:57:26.792654Z"
    }
   },
   "outputs": [],
   "source": [
    "extend_num = 5"
   ]
  },
  {
   "cell_type": "code",
   "execution_count": 123,
   "id": "db987a0c",
   "metadata": {
    "ExecuteTime": {
     "end_time": "2023-12-12T08:57:28.009696Z",
     "start_time": "2023-12-12T08:57:26.908468Z"
    }
   },
   "outputs": [],
   "source": [
    "ssh1 = np.concatenate((data_ssh1['ssh'][:,360-extend_num:600+extend_num,1200-extend_num:].data,data_ssh1['ssh'][:,360-extend_num:600+extend_num,:360+extend_num].data),axis=2)\n",
    "ssh2 = np.concatenate((data_ssh2['ssh'][:,360-extend_num:600+extend_num,1200-extend_num:].data,data_ssh2['ssh'][:,360-extend_num:600+extend_num,:360+extend_num].data),axis=2)\n",
    "\n",
    "ssh =  np.concatenate((ssh1,ssh2),axis=0)"
   ]
  },
  {
   "cell_type": "code",
   "execution_count": 124,
   "id": "c70caa2a",
   "metadata": {
    "ExecuteTime": {
     "end_time": "2023-12-12T08:57:28.069618Z",
     "start_time": "2023-12-12T08:57:28.011693Z"
    }
   },
   "outputs": [
    {
     "name": "stdout",
     "output_type": "stream",
     "text": [
      "(132, 250, 610)\n",
      "2.266329 -0.19670714\n"
     ]
    }
   ],
   "source": [
    "print(ssh.shape)\n",
    "print(np.nanmax(ssh),np.nanmin(ssh))"
   ]
  },
  {
   "cell_type": "code",
   "execution_count": 125,
   "id": "0a784508",
   "metadata": {
    "ExecuteTime": {
     "end_time": "2023-12-12T08:57:28.075636Z",
     "start_time": "2023-12-12T08:57:28.070649Z"
    }
   },
   "outputs": [
    {
     "data": {
      "text/plain": [
       "31583"
      ]
     },
     "execution_count": 125,
     "metadata": {},
     "output_type": "execute_result"
    }
   ],
   "source": [
    "np.sum(np.isnan(ssh[5:6,:,:]))"
   ]
  },
  {
   "cell_type": "markdown",
   "id": "e36d2bd5",
   "metadata": {
    "ExecuteTime": {
     "end_time": "2023-11-12T09:21:49.138834Z",
     "start_time": "2023-11-12T09:21:49.135838Z"
    }
   },
   "source": [
    "## SSS"
   ]
  },
  {
   "cell_type": "code",
   "execution_count": 126,
   "id": "cbc48bcf",
   "metadata": {
    "ExecuteTime": {
     "end_time": "2023-12-12T08:57:28.093608Z",
     "start_time": "2023-12-12T08:57:28.077598Z"
    }
   },
   "outputs": [],
   "source": [
    "data_sss = nc.Dataset(r'D:/data/SSS/2011-2021_SSS_correct.nc')"
   ]
  },
  {
   "cell_type": "code",
   "execution_count": 127,
   "id": "30e0801c",
   "metadata": {
    "ExecuteTime": {
     "end_time": "2023-12-12T08:57:28.099551Z",
     "start_time": "2023-12-12T08:57:28.094626Z"
    }
   },
   "outputs": [
    {
     "name": "stdout",
     "output_type": "stream",
     "text": [
      "132\n"
     ]
    }
   ],
   "source": [
    "# 确定时间\n",
    "time_sss = data_sss['time'][:]\n",
    "print(len(time_sss))"
   ]
  },
  {
   "cell_type": "code",
   "execution_count": 128,
   "id": "722bf284",
   "metadata": {
    "ExecuteTime": {
     "end_time": "2023-12-12T08:57:28.105542Z",
     "start_time": "2023-12-12T08:57:28.100550Z"
    }
   },
   "outputs": [],
   "source": [
    "# 获取研究位置经纬度\n",
    "sss_lat = data_sss['lat'][:].data\n",
    "#print(sss_lat[360:600])                  # 0.125 ---- 59.875\n",
    "sss_lon = data_sss['lon'][:].data\n",
    "#print(sss_lon[480:480+600])              # 120.125 ----- 269.875"
   ]
  },
  {
   "cell_type": "code",
   "execution_count": 129,
   "id": "89c69839",
   "metadata": {
    "ExecuteTime": {
     "end_time": "2023-12-12T08:57:28.955175Z",
     "start_time": "2023-12-12T08:57:28.106541Z"
    }
   },
   "outputs": [
    {
     "name": "stdout",
     "output_type": "stream",
     "text": [
      "(132, 250, 610)\n",
      "(132, 250, 610)\n"
     ]
    }
   ],
   "source": [
    "sss = data_sss['sos'][:,360-extend_num:600+extend_num,480-extend_num:1080+extend_num].data \n",
    "print(sss.shape)\n",
    "sss = np.squeeze(sss) # 移除大小为一的维度\n",
    "print(sss.shape)"
   ]
  },
  {
   "cell_type": "code",
   "execution_count": 130,
   "id": "26dca328",
   "metadata": {
    "ExecuteTime": {
     "end_time": "2023-12-12T08:57:29.015104Z",
     "start_time": "2023-12-12T08:57:28.957172Z"
    }
   },
   "outputs": [
    {
     "data": {
      "text/plain": [
       "(36.945, 18.755253)"
      ]
     },
     "execution_count": 130,
     "metadata": {},
     "output_type": "execute_result"
    }
   ],
   "source": [
    "np.nanmax(sss),np.nanmin(sss)"
   ]
  },
  {
   "cell_type": "code",
   "execution_count": 131,
   "id": "3bbd00c5",
   "metadata": {
    "ExecuteTime": {
     "end_time": "2023-12-12T08:57:29.021167Z",
     "start_time": "2023-12-12T08:57:29.016125Z"
    }
   },
   "outputs": [
    {
     "data": {
      "text/plain": [
       "31355"
      ]
     },
     "execution_count": 131,
     "metadata": {},
     "output_type": "execute_result"
    }
   ],
   "source": [
    "np.sum(np.isnan(sss[5:6,:,:]))"
   ]
  },
  {
   "cell_type": "markdown",
   "id": "54fffab1",
   "metadata": {},
   "source": [
    "## SSW"
   ]
  },
  {
   "cell_type": "code",
   "execution_count": 132,
   "id": "4238b0f1",
   "metadata": {
    "ExecuteTime": {
     "end_time": "2023-12-12T08:57:29.051089Z",
     "start_time": "2023-12-12T08:57:29.022149Z"
    }
   },
   "outputs": [],
   "source": [
    "data_ssw = nc.Dataset(r'D:/data/SSW/2011-2021_SSW_correct.nc')"
   ]
  },
  {
   "cell_type": "code",
   "execution_count": 133,
   "id": "b24ce8a5",
   "metadata": {
    "ExecuteTime": {
     "end_time": "2023-12-12T08:57:29.056038Z",
     "start_time": "2023-12-12T08:57:29.052061Z"
    }
   },
   "outputs": [
    {
     "name": "stdout",
     "output_type": "stream",
     "text": [
      "132\n"
     ]
    }
   ],
   "source": [
    "# 确定时间\n",
    "time_ssw = data_ssw['time'][:132]\n",
    "print(len(time_ssw))"
   ]
  },
  {
   "cell_type": "code",
   "execution_count": 134,
   "id": "1ffdb1de",
   "metadata": {
    "ExecuteTime": {
     "end_time": "2023-12-12T08:57:29.061121Z",
     "start_time": "2023-12-12T08:57:29.057045Z"
    }
   },
   "outputs": [],
   "source": [
    "lat_ssw = data_ssw['lat'][:].data\n",
    "#print(lat_ssw[360:600])      # 0.125   ---- 59.875\n",
    "lon_ssw = data_ssw['lon'][:].data\n",
    "#print(lon_ssw[480:1080])      # 120.125  ---- 269.875"
   ]
  },
  {
   "cell_type": "code",
   "execution_count": 135,
   "id": "d39b1c71",
   "metadata": {
    "ExecuteTime": {
     "end_time": "2023-12-12T08:57:30.731318Z",
     "start_time": "2023-12-12T08:57:29.062091Z"
    }
   },
   "outputs": [],
   "source": [
    "uwnd = data_ssw['u'][:,360-extend_num:600+extend_num,480-extend_num:1080+extend_num].data  \n",
    "vwnd = data_ssw['v'][:,360-extend_num:600+extend_num,480-extend_num:1080+extend_num].data"
   ]
  },
  {
   "cell_type": "code",
   "execution_count": 136,
   "id": "e2d52ba0",
   "metadata": {
    "ExecuteTime": {
     "end_time": "2023-12-12T08:57:30.737308Z",
     "start_time": "2023-12-12T08:57:30.733314Z"
    }
   },
   "outputs": [
    {
     "name": "stdout",
     "output_type": "stream",
     "text": [
      "(132, 250, 610)\n",
      "(132, 250, 610)\n"
     ]
    }
   ],
   "source": [
    "print(uwnd.shape)\n",
    "print(vwnd.shape)"
   ]
  },
  {
   "cell_type": "code",
   "execution_count": 137,
   "id": "9c705291",
   "metadata": {
    "ExecuteTime": {
     "end_time": "2023-12-12T08:57:30.792219Z",
     "start_time": "2023-12-12T08:57:30.738306Z"
    }
   },
   "outputs": [
    {
     "data": {
      "text/plain": [
       "(12.203712, -13.459349, 9.599683, -14.963859)"
      ]
     },
     "execution_count": 137,
     "metadata": {},
     "output_type": "execute_result"
    }
   ],
   "source": [
    "np.nanmax(uwnd),np.nanmin(uwnd),np.nanmax(vwnd),np.nanmin(vwnd)"
   ]
  },
  {
   "cell_type": "code",
   "execution_count": 138,
   "id": "e60c244c",
   "metadata": {
    "ExecuteTime": {
     "end_time": "2023-12-12T08:57:30.799244Z",
     "start_time": "2023-12-12T08:57:30.794216Z"
    }
   },
   "outputs": [
    {
     "name": "stdout",
     "output_type": "stream",
     "text": [
      "0\n",
      "0\n"
     ]
    }
   ],
   "source": [
    "print(np.sum(np.isnan(uwnd[5:6,:,:])))\n",
    "print(np.sum(np.isnan(vwnd[5:6,:,:])))"
   ]
  },
  {
   "cell_type": "markdown",
   "id": "a5d70081",
   "metadata": {},
   "source": [
    "## 3DTS  30-2000m盐度数据"
   ]
  },
  {
   "cell_type": "code",
   "execution_count": 83,
   "id": "cca5d086",
   "metadata": {
    "ExecuteTime": {
     "end_time": "2023-12-12T07:09:35.647092Z",
     "start_time": "2023-12-12T07:09:35.642100Z"
    }
   },
   "outputs": [],
   "source": [
    "data_3dt = nc.Dataset(r'D:/data/3DTS/2011-2021_3dt_correct.nc')"
   ]
  },
  {
   "cell_type": "code",
   "execution_count": 84,
   "id": "67451b8e",
   "metadata": {
    "ExecuteTime": {
     "end_time": "2023-12-12T07:09:35.841778Z",
     "start_time": "2023-12-12T07:09:35.837785Z"
    }
   },
   "outputs": [],
   "source": [
    "# 确定区域\n",
    "lat_3dt = data_3dt['lat'][:].data\n",
    "#print(lat_3dt[329:329+240])        #0.125 --- 59.875\n",
    "lon_3dt = data_3dt['lon'][:].data    \n",
    "#print(lon_3dt[480:1080])            #120.125 --- 269.875"
   ]
  },
  {
   "cell_type": "code",
   "execution_count": 85,
   "id": "feaf19d4",
   "metadata": {
    "ExecuteTime": {
     "end_time": "2023-12-12T07:10:16.317879Z",
     "start_time": "2023-12-12T07:09:36.003518Z"
    }
   },
   "outputs": [],
   "source": [
    "sali_depth = data_3dt['so'][:,:,329-extend_num:569+extend_num,480-extend_num:1080+extend_num].data"
   ]
  },
  {
   "cell_type": "code",
   "execution_count": 86,
   "id": "40a7f7f4",
   "metadata": {
    "ExecuteTime": {
     "end_time": "2023-12-12T07:10:16.323870Z",
     "start_time": "2023-12-12T07:10:16.319876Z"
    }
   },
   "outputs": [
    {
     "name": "stdout",
     "output_type": "stream",
     "text": [
      "(132, 50, 250, 610)\n"
     ]
    }
   ],
   "source": [
    "print(sali_depth.shape)"
   ]
  },
  {
   "cell_type": "code",
   "execution_count": 87,
   "id": "e0cde92f",
   "metadata": {
    "ExecuteTime": {
     "end_time": "2023-12-12T07:10:16.329860Z",
     "start_time": "2023-12-12T07:10:16.324868Z"
    }
   },
   "outputs": [],
   "source": [
    "depths = [0,5,10,15,20,25,30,35,40,45,50,55,60,65,70,80,90,100,125,150,175,200,225,250,275,300,350,400,\n",
    "         450,500,550,600,700,800,900,1000,1100,1200,1300,1400,1500,1750,2000]\n",
    "depths_use = [50,100,125,150,200,250,300,400,500,600,700,800,900,1000]"
   ]
  },
  {
   "cell_type": "code",
   "execution_count": 88,
   "id": "ef0b305b",
   "metadata": {
    "ExecuteTime": {
     "end_time": "2023-12-12T07:10:16.333856Z",
     "start_time": "2023-12-12T07:10:16.330859Z"
    }
   },
   "outputs": [],
   "source": [
    "sali_depth_use = sali_depth[:,6:7]"
   ]
  },
  {
   "cell_type": "code",
   "execution_count": 89,
   "id": "f8ba5d69",
   "metadata": {
    "ExecuteTime": {
     "end_time": "2023-12-12T07:10:23.518290Z",
     "start_time": "2023-12-12T07:10:16.334852Z"
    }
   },
   "outputs": [],
   "source": [
    "for i,depth in enumerate(depths):\n",
    "    if(depth in depths_use):\n",
    "        #print(depths[i])\n",
    "        sali_depth_use = np.concatenate((sali_depth_use,sali_depth[:,i:i+1]),axis=1)    "
   ]
  },
  {
   "cell_type": "code",
   "execution_count": 90,
   "id": "dfeeeb6d",
   "metadata": {
    "ExecuteTime": {
     "end_time": "2023-12-12T07:10:23.524281Z",
     "start_time": "2023-12-12T07:10:23.519288Z"
    },
    "scrolled": true
   },
   "outputs": [
    {
     "name": "stdout",
     "output_type": "stream",
     "text": [
      "(132, 15, 250, 610)\n",
      "(132, 250, 610, 15)\n"
     ]
    }
   ],
   "source": [
    "print(sali_depth_use.shape)\n",
    "sali_depth_use = np.transpose(sali_depth_use, ( 0, 2,3,1))\n",
    "print(sali_depth_use.shape)"
   ]
  },
  {
   "cell_type": "code",
   "execution_count": 91,
   "id": "483a8f5e",
   "metadata": {
    "ExecuteTime": {
     "end_time": "2023-12-12T07:10:24.474751Z",
     "start_time": "2023-12-12T07:10:23.525279Z"
    }
   },
   "outputs": [
    {
     "data": {
      "text/plain": [
       "(38.37, 26.586)"
      ]
     },
     "execution_count": 91,
     "metadata": {},
     "output_type": "execute_result"
    }
   ],
   "source": [
    "np.nanmax(sali_depth_use),np.nanmin(sali_depth_use)"
   ]
  },
  {
   "cell_type": "code",
   "execution_count": 92,
   "id": "026ab53d",
   "metadata": {
    "ExecuteTime": {
     "end_time": "2023-12-12T07:10:24.479752Z",
     "start_time": "2023-12-12T07:10:24.475749Z"
    }
   },
   "outputs": [
    {
     "name": "stdout",
     "output_type": "stream",
     "text": [
      "31362\n",
      "40029\n"
     ]
    }
   ],
   "source": [
    "print(np.sum(np.isnan(sali_depth_use[5:6,:,:,0:1])))\n",
    "print(np.sum(np.isnan(sali_depth_use[5:6,:,:,14:])))"
   ]
  },
  {
   "cell_type": "markdown",
   "id": "0101820e",
   "metadata": {},
   "source": [
    "## SST表面温度数据"
   ]
  },
  {
   "cell_type": "code",
   "execution_count": 33,
   "id": "24ea8dd9",
   "metadata": {
    "ExecuteTime": {
     "end_time": "2023-12-11T05:19:33.437378Z",
     "start_time": "2023-12-11T05:19:33.417410Z"
    }
   },
   "outputs": [],
   "source": [
    "data_sst = nc.Dataset(r'D:/data/SST/SST_2011-2021_month_sheshidu_interp.nc')"
   ]
  },
  {
   "cell_type": "code",
   "execution_count": 34,
   "id": "1a869da0",
   "metadata": {
    "ExecuteTime": {
     "end_time": "2023-12-11T05:19:33.442370Z",
     "start_time": "2023-12-11T05:19:33.438377Z"
    }
   },
   "outputs": [
    {
     "name": "stdout",
     "output_type": "stream",
     "text": [
      "132\n"
     ]
    }
   ],
   "source": [
    "# 确定时间\n",
    "time_sst = data_sst['time'][:]\n",
    "print(len(time_sst))"
   ]
  },
  {
   "cell_type": "code",
   "execution_count": 35,
   "id": "827769d1",
   "metadata": {
    "ExecuteTime": {
     "end_time": "2023-12-11T05:19:33.447362Z",
     "start_time": "2023-12-11T05:19:33.443369Z"
    }
   },
   "outputs": [],
   "source": [
    "lat_sst = data_sst['lat'][:].data\n",
    "#print(lat_sst[360:600])             #0.125 --- 59.875\n",
    "lon_sst = data_sst['lon'][:].data\n",
    "# print(lon_sst[720+480:])             #120.125 --- 179.875\n",
    "# print(lon_sst[:360])                 #179.875 --- -90.125"
   ]
  },
  {
   "cell_type": "code",
   "execution_count": 36,
   "id": "86433432",
   "metadata": {
    "ExecuteTime": {
     "end_time": "2023-12-11T05:19:34.422792Z",
     "start_time": "2023-12-11T05:19:33.448361Z"
    }
   },
   "outputs": [],
   "source": [
    "sst = np.concatenate((data_sst['sst'][:,360-extend_num:600+extend_num,1200-extend_num:].data,data_sst['sst'][:,360-extend_num:600+extend_num,:360+extend_num].data),axis=2)"
   ]
  },
  {
   "cell_type": "code",
   "execution_count": 37,
   "id": "ab261314",
   "metadata": {
    "ExecuteTime": {
     "end_time": "2023-12-11T05:19:34.427784Z",
     "start_time": "2023-12-11T05:19:34.423791Z"
    }
   },
   "outputs": [
    {
     "name": "stdout",
     "output_type": "stream",
     "text": [
      "(132, 250, 610)\n"
     ]
    }
   ],
   "source": [
    "print(sst.shape)"
   ]
  },
  {
   "cell_type": "code",
   "execution_count": 38,
   "id": "527b8944",
   "metadata": {
    "ExecuteTime": {
     "end_time": "2023-12-11T05:19:34.515643Z",
     "start_time": "2023-12-11T05:19:34.428783Z"
    }
   },
   "outputs": [
    {
     "data": {
      "text/plain": [
       "(32.69934, -1.8612671)"
      ]
     },
     "execution_count": 38,
     "metadata": {},
     "output_type": "execute_result"
    }
   ],
   "source": [
    "np.nanmax(sst),np.nanmin(sst)"
   ]
  },
  {
   "cell_type": "code",
   "execution_count": 39,
   "id": "77a1c7cd",
   "metadata": {
    "ExecuteTime": {
     "end_time": "2023-12-11T05:19:34.528656Z",
     "start_time": "2023-12-11T05:19:34.517676Z"
    }
   },
   "outputs": [
    {
     "name": "stdout",
     "output_type": "stream",
     "text": [
      "31574\n"
     ]
    }
   ],
   "source": [
    "print(np.sum(np.isnan(sst[5:6,:,:])))"
   ]
  },
  {
   "cell_type": "markdown",
   "id": "ea44f2e0",
   "metadata": {},
   "source": [
    "## 盐度差值"
   ]
  },
  {
   "cell_type": "markdown",
   "id": "dbceab94",
   "metadata": {},
   "source": [
    "### 计算表面盐度平均值与深度盐度平均值"
   ]
  },
  {
   "cell_type": "code",
   "execution_count": 40,
   "id": "940498a6",
   "metadata": {
    "ExecuteTime": {
     "end_time": "2023-12-11T05:19:34.880057Z",
     "start_time": "2023-12-11T05:19:34.537608Z"
    }
   },
   "outputs": [],
   "source": [
    "# 将填充值替换为nan\n",
    "mean_sali = sali_depth_use\n",
    "mean_sali[mean_sali == 32767] = np.nan\n",
    "mean_sss =sss\n",
    "mean_sss[mean_sss == 32767] = np.nan"
   ]
  },
  {
   "cell_type": "code",
   "execution_count": 41,
   "id": "ce8df31f",
   "metadata": {
    "ExecuteTime": {
     "end_time": "2023-12-11T05:19:37.131434Z",
     "start_time": "2023-12-11T05:19:34.881055Z"
    }
   },
   "outputs": [
    {
     "name": "stdout",
     "output_type": "stream",
     "text": [
      "水下盐度平均值： (12, 250, 610, 15)\n",
      "表面盐度平均值： (12, 250, 610)\n"
     ]
    },
    {
     "name": "stderr",
     "output_type": "stream",
     "text": [
      "C:\\Users\\Administrator\\AppData\\Local\\Temp\\ipykernel_22496\\1352162512.py:6: RuntimeWarning: Mean of empty slice\n",
      "  mean_sali = np.nanmean(mean_sali, axis=0)\n",
      "C:\\Users\\Administrator\\AppData\\Local\\Temp\\ipykernel_22496\\1352162512.py:9: RuntimeWarning: Mean of empty slice\n",
      "  mean_sss = np.nanmean(mean_sss, axis=0)\n"
     ]
    }
   ],
   "source": [
    "# 重构数组\n",
    "mean_sali = mean_sali.reshape(11,12,250,610,15)    #(132, 250, 610, 15)   --->(11，12, 250, 610, 15)  \n",
    "mean_sss = mean_sss.reshape(11,12,250,610)\n",
    "\n",
    "#沿年份维度（即第一个维度）计算平均值\n",
    "mean_sali = np.nanmean(mean_sali, axis=0)\n",
    "print('水下盐度平均值：',mean_sali.shape)\n",
    "\n",
    "mean_sss = np.nanmean(mean_sss, axis=0)\n",
    "print('表面盐度平均值：',mean_sss.shape)"
   ]
  },
  {
   "cell_type": "markdown",
   "id": "ed3a9e8a",
   "metadata": {},
   "source": [
    "### 表面盐度的平均值  减去 0-1000m盐度的平均值"
   ]
  },
  {
   "cell_type": "code",
   "execution_count": 42,
   "id": "ee1c098a",
   "metadata": {
    "ExecuteTime": {
     "end_time": "2023-12-11T05:19:37.136426Z",
     "start_time": "2023-12-11T05:19:37.132432Z"
    }
   },
   "outputs": [
    {
     "name": "stdout",
     "output_type": "stream",
     "text": [
      "(12, 250, 610) (12, 250, 610, 15)\n"
     ]
    }
   ],
   "source": [
    "print(mean_sss.shape,mean_sali.shape)"
   ]
  },
  {
   "cell_type": "code",
   "execution_count": 43,
   "id": "1f68e415",
   "metadata": {
    "ExecuteTime": {
     "end_time": "2023-12-11T05:19:37.303157Z",
     "start_time": "2023-12-11T05:19:37.137424Z"
    }
   },
   "outputs": [
    {
     "name": "stdout",
     "output_type": "stream",
     "text": [
      "(12, 250, 610, 15)\n"
     ]
    }
   ],
   "source": [
    "mean_sss = np.expand_dims(mean_sss,axis=-1) #扩展维度 \n",
    "mean_sss = np.repeat(mean_sss, repeats=15,axis=-1)  #(12, 250, 610)  --》(12, 250, 610，15)  \n",
    "print(mean_sss.shape)"
   ]
  },
  {
   "cell_type": "code",
   "execution_count": 44,
   "id": "38cbefc0",
   "metadata": {
    "ExecuteTime": {
     "end_time": "2023-12-11T05:19:37.443931Z",
     "start_time": "2023-12-11T05:19:37.304156Z"
    }
   },
   "outputs": [
    {
     "name": "stdout",
     "output_type": "stream",
     "text": [
      "(12, 250, 610, 15)\n"
     ]
    }
   ],
   "source": [
    "mean_different = mean_sss - mean_sali\n",
    "print(mean_different.shape)"
   ]
  },
  {
   "cell_type": "markdown",
   "id": "ee5ea2b1",
   "metadata": {},
   "source": [
    "# 数据预处理"
   ]
  },
  {
   "cell_type": "markdown",
   "id": "1248f79d",
   "metadata": {},
   "source": [
    "## 数据合并"
   ]
  },
  {
   "cell_type": "code",
   "execution_count": 45,
   "id": "16a998ab",
   "metadata": {
    "ExecuteTime": {
     "end_time": "2023-12-11T05:19:37.834302Z",
     "start_time": "2023-12-11T05:19:37.444929Z"
    }
   },
   "outputs": [
    {
     "name": "stdout",
     "output_type": "stream",
     "text": [
      "(132, 250, 610) (132, 250, 610) (132, 250, 610) (132, 250, 610) (132, 250, 610)\n"
     ]
    },
    {
     "data": {
      "text/plain": [
       "(132, 250, 610, 5)"
      ]
     },
     "execution_count": 45,
     "metadata": {},
     "output_type": "execute_result"
    }
   ],
   "source": [
    "print(ssh.shape,sst.shape,uwnd.shape,vwnd.shape,sss.shape)\n",
    "cat_data =np.stack((ssh,sst,uwnd,vwnd,sss),axis=3)\n",
    "cat_data.shape"
   ]
  },
  {
   "cell_type": "markdown",
   "id": "14025788",
   "metadata": {},
   "source": [
    "## 将两个温度异常区域的数据设置为Nan"
   ]
  },
  {
   "cell_type": "code",
   "execution_count": 46,
   "id": "e3165330",
   "metadata": {
    "ExecuteTime": {
     "end_time": "2023-12-11T05:19:37.839295Z",
     "start_time": "2023-12-11T05:19:37.835301Z"
    }
   },
   "outputs": [],
   "source": [
    "# lat = sss_lat[360:600]\n",
    "# lon = sss_lon[480:1080]"
   ]
  },
  {
   "cell_type": "code",
   "execution_count": 47,
   "id": "aa5d3851",
   "metadata": {
    "ExecuteTime": {
     "end_time": "2023-12-11T05:19:37.843288Z",
     "start_time": "2023-12-11T05:19:37.840293Z"
    }
   },
   "outputs": [],
   "source": [
    "#lat[140:192]   # 35.125 ... 47.875\n",
    "#lon[24:88]     #126.125 ... 141.875\n",
    "\n",
    "#lat[72:112]   # 18.125 ... 27.875\n",
    "#lon[564:600]  #261.125 ... 269.875 "
   ]
  },
  {
   "cell_type": "code",
   "execution_count": 48,
   "id": "9c65c7f8",
   "metadata": {
    "ExecuteTime": {
     "end_time": "2023-12-11T05:19:37.847282Z",
     "start_time": "2023-12-11T05:19:37.844287Z"
    }
   },
   "outputs": [],
   "source": [
    "# sali_depth_use[:,140:192,24:88,:] =  np.nan\n",
    "# sali_depth_use[:,72:112,564:600,:] =  np.nan"
   ]
  },
  {
   "cell_type": "code",
   "execution_count": 49,
   "id": "c0ff7fb6",
   "metadata": {
    "ExecuteTime": {
     "end_time": "2023-12-11T05:19:38.710892Z",
     "start_time": "2023-12-11T05:19:37.848280Z"
    }
   },
   "outputs": [],
   "source": [
    "# 将表面数据和水下数据在最后一个维度拼接，将空值删除。\n",
    "cat_data_ss_depth = np.concatenate((cat_data,sali_depth_use),axis=-1)"
   ]
  },
  {
   "cell_type": "code",
   "execution_count": 50,
   "id": "1f35996f",
   "metadata": {
    "ExecuteTime": {
     "end_time": "2023-12-11T05:19:38.716882Z",
     "start_time": "2023-12-11T05:19:38.711890Z"
    }
   },
   "outputs": [
    {
     "data": {
      "text/plain": [
       "(132, 250, 610, 20)"
      ]
     },
     "execution_count": 50,
     "metadata": {},
     "output_type": "execute_result"
    }
   ],
   "source": [
    "cat_data_ss_depth.shape "
   ]
  },
  {
   "cell_type": "markdown",
   "id": "f114cc1e",
   "metadata": {
    "ExecuteTime": {
     "end_time": "2023-11-12T11:42:58.855286Z",
     "start_time": "2023-11-12T11:42:58.851293Z"
    }
   },
   "source": [
    "## 将填充值赋值为Nan,且一个点中有一个维度为nan,则将这个点的所有维度都设置为nan"
   ]
  },
  {
   "cell_type": "markdown",
   "id": "46e3cf9f",
   "metadata": {},
   "source": [
    "### 塑形，将长*宽放在前面"
   ]
  },
  {
   "cell_type": "code",
   "execution_count": 51,
   "id": "e6f69cf3",
   "metadata": {
    "ExecuteTime": {
     "end_time": "2023-12-11T05:19:39.501620Z",
     "start_time": "2023-12-11T05:19:38.717881Z"
    }
   },
   "outputs": [
    {
     "name": "stdout",
     "output_type": "stream",
     "text": [
      "(250, 610, 132, 20)\n",
      "(152500, 2640)\n"
     ]
    }
   ],
   "source": [
    "## 先对合并的数据进行reshape成（长*宽，时间*通道）\n",
    "cat_data_ss_depth_reshape  = np.transpose(cat_data_ss_depth,(1,2,0,3))   # (132, 250, 610, 20) ---》 (250, 610, 132, 20)\n",
    "print(cat_data_ss_depth_reshape.shape)\n",
    "cat_data_ss_depth_reshape = cat_data_ss_depth_reshape.reshape ((-1,132*20))  #  (250, 610, 132, 20)---》(250*610, 132*20)\n",
    "print(cat_data_ss_depth_reshape.shape)"
   ]
  },
  {
   "cell_type": "markdown",
   "id": "80553601",
   "metadata": {},
   "source": [
    "### 一个点中只要有一个维度为nan,则将这个点的所有维度都设置为nan "
   ]
  },
  {
   "cell_type": "code",
   "execution_count": 52,
   "id": "0bfabce3",
   "metadata": {
    "ExecuteTime": {
     "end_time": "2023-12-11T05:19:39.841073Z",
     "start_time": "2023-12-11T05:19:39.502618Z"
    }
   },
   "outputs": [
    {
     "name": "stdout",
     "output_type": "stream",
     "text": [
      "cat_data_ss_depth_reshape: (152500, 2640)\n"
     ]
    }
   ],
   "source": [
    "# # 将填充值赋值为nan\n",
    "# cat_data_ss_depth_reshape[cat_data_ss_depth_reshape == 32767] = np.nan\n",
    "\n",
    "nan_mask = np.isnan(cat_data_ss_depth_reshape)\n",
    "# nan_mask.any(axis=1)==true,只要第一个维度中含有nan就将所有设置为nan   (维度从0开始算起)\n",
    "cat_data_ss_depth_reshape[nan_mask.any(axis=1) == True] = np.nan   \n",
    "print('cat_data_ss_depth_reshape:',cat_data_ss_depth_reshape.shape)"
   ]
  },
  {
   "cell_type": "markdown",
   "id": "dff31975",
   "metadata": {},
   "source": [
    "### 将处理好的数据进行转化形状  (152500, 2772) --》(132, 250, 610, 21)"
   ]
  },
  {
   "cell_type": "code",
   "execution_count": 53,
   "id": "acad1212",
   "metadata": {
    "ExecuteTime": {
     "end_time": "2023-12-11T05:19:39.848062Z",
     "start_time": "2023-12-11T05:19:39.843070Z"
    }
   },
   "outputs": [
    {
     "name": "stdout",
     "output_type": "stream",
     "text": [
      "(152500, 132, 20)\n",
      "(132, 152500, 20)\n"
     ]
    }
   ],
   "source": [
    "# 转化形状\n",
    "cat_data_ss_depth_reshape = cat_data_ss_depth_reshape.reshape(-1,132,20)\n",
    "print(cat_data_ss_depth_reshape.shape)\n",
    "cat_data_ss_depth_reshape = np.transpose(cat_data_ss_depth_reshape,(1,0,2))\n",
    "print(cat_data_ss_depth_reshape.shape)\n",
    "cat_data_ss_depth_reshape = cat_data_ss_depth_reshape.reshape(-1,250,610,20)\n",
    "print(cat_data_ss_depth_reshape.shape)"
   ]
  },
  {
   "cell_type": "code",
   "execution_count": 55,
   "id": "d20aefe0",
   "metadata": {
    "ExecuteTime": {
     "end_time": "2023-12-11T05:19:43.222661Z",
     "start_time": "2023-12-11T05:19:43.215673Z"
    }
   },
   "outputs": [
    {
     "data": {
      "text/plain": [
       "40285"
      ]
     },
     "execution_count": 55,
     "metadata": {},
     "output_type": "execute_result"
    }
   ],
   "source": [
    "np.sum(np.isnan(cat_data_ss_depth_reshape[5:6,:,:,2:3]))"
   ]
  },
  {
   "cell_type": "markdown",
   "id": "62fd84d7",
   "metadata": {},
   "source": [
    "## 将数据分成小块"
   ]
  },
  {
   "cell_type": "code",
   "execution_count": 56,
   "id": "d511709d",
   "metadata": {
    "ExecuteTime": {
     "end_time": "2023-12-11T05:19:45.257564Z",
     "start_time": "2023-12-11T05:19:45.253570Z"
    }
   },
   "outputs": [
    {
     "name": "stdout",
     "output_type": "stream",
     "text": [
      "(132, 250, 610, 5) (132, 250, 610, 15)\n"
     ]
    }
   ],
   "source": [
    "# 表面数据\n",
    "cat_data_ss = cat_data_ss_depth_reshape[:,:,:,:5]\n",
    "# 深度数据\n",
    "cat_data_sali= cat_data_ss_depth_reshape[:,:,:,5:]\n",
    "\n",
    "print(cat_data_ss.shape,cat_data_sali.shape)"
   ]
  },
  {
   "cell_type": "code",
   "execution_count": 57,
   "id": "66988643",
   "metadata": {
    "ExecuteTime": {
     "end_time": "2023-12-11T05:19:45.912510Z",
     "start_time": "2023-12-11T05:19:45.904522Z"
    }
   },
   "outputs": [
    {
     "data": {
      "text/plain": [
       "40285"
      ]
     },
     "execution_count": 57,
     "metadata": {},
     "output_type": "execute_result"
    }
   ],
   "source": [
    "np.sum(np.isnan(cat_data_sali[1:2,:,:,5:6]))"
   ]
  },
  {
   "cell_type": "code",
   "execution_count": 58,
   "id": "24ead7ab",
   "metadata": {
    "ExecuteTime": {
     "end_time": "2023-12-11T05:19:46.249985Z",
     "start_time": "2023-12-11T05:19:46.246971Z"
    }
   },
   "outputs": [
    {
     "name": "stdout",
     "output_type": "stream",
     "text": [
      "(12, 250, 610, 15)\n"
     ]
    }
   ],
   "source": [
    "# 查看差值的形状\n",
    "print(mean_different.shape)"
   ]
  },
  {
   "cell_type": "markdown",
   "id": "71490059",
   "metadata": {},
   "source": [
    "### 移动滑块将数据处理成小块"
   ]
  },
  {
   "cell_type": "code",
   "execution_count": 59,
   "id": "76c9dc99",
   "metadata": {
    "ExecuteTime": {
     "end_time": "2023-12-11T05:22:00.395097Z",
     "start_time": "2023-12-11T05:19:47.799473Z"
    },
    "code_folding": [
     0
    ]
   },
   "outputs": [
    {
     "name": "stdout",
     "output_type": "stream",
     "text": [
      "time_size: 132 lat_size: 250 lon_size: 610\n",
      "240 600\n",
      "out_data_mean_different_cnn的形状 (12, 240, 600, 11, 11, 15)\n",
      "out_data的形状 (132, 240, 600, 11, 11, 5)\n",
      "out_data_y的形状 (132, 240, 600, 15)\n",
      "out_data_lstm的形状 (132, 240, 600, 5)\n",
      "out_data_mean_different_lstm的形状 (12, 240, 600, 15)\n"
     ]
    }
   ],
   "source": [
    "# 移动滑块\n",
    "import numpy as np\n",
    "import pandas as pd\n",
    "\n",
    "time_size, lat_size, lon_size, channel = cat_data_ss.shape   # （132，280，600，5）\n",
    "\n",
    "# 定义矩形框的大小和步幅           \n",
    "box_size = 11  # 单位为度\n",
    "step_size = 1  # 滑动步幅\n",
    "\n",
    "# 计算输出网格的形状\n",
    "out_lat_size = (lat_size - box_size) // step_size  + 1 \n",
    "out_lon_size = (lon_size - box_size) // step_size  + 1 \n",
    "\n",
    "print('time_size:',time_size,'lat_size:',lat_size,'lon_size:',lon_size)   #(132 280 600)\n",
    "\n",
    "print(out_lat_size,out_lon_size)  #(240 600)\n",
    "\n",
    "#输出数组 \n",
    "out_data = np.zeros((time_size, out_lat_size , out_lon_size, box_size, box_size, channel)) #(132, 240, 600, 9,9,5)\n",
    "\n",
    "out_data_y = np.zeros((time_size, out_lat_size , out_lon_size, 15)) #(132, 272, 592,16)\n",
    "\n",
    "out_data_lstm = np.zeros((time_size, out_lat_size , out_lon_size, 5))\n",
    "\n",
    "out_data_mean_different_cnn = np.zeros((12, out_lat_size , out_lon_size, box_size, box_size, 15))\n",
    "\n",
    "out_data_mean_different_lstm = np.zeros((12, out_lat_size , out_lon_size, 15))\n",
    "\n",
    "\n",
    "#============================与CNN相匹配的差值===========================#\n",
    "# 遍历时间步、纬度和经度\n",
    "for t in range(12):\n",
    "    sample_idx = 0\n",
    "    for lat in range(0, lat_size - box_size +1, step_size):\n",
    "        for lon in range(0, lon_size - box_size +1  , step_size):\n",
    "            # 计算当前矩形框的边界\n",
    "            lat_min = lat\n",
    "            lat_max = lat + box_size\n",
    "            lon_min = lon\n",
    "            lon_max = lon + box_size\n",
    "            #print(lat_min,lat_max,lon_min,lon_max)\n",
    "            # 获取当前矩形框的地图数据\n",
    "            box_data = mean_different[t, lat_min:lat_max, lon_min:lon_max,:]\n",
    "            # 写入数组中\n",
    "#             lat_ = lat//4\n",
    "#             lon_ = lon//4\n",
    "            out_data_mean_different_cnn[t,lat,lon, :, :, :] = box_data\n",
    "            box_data = []\n",
    "            #print(sample_idx)\n",
    "            # 增加样本计数器\n",
    "            sample_idx += 1\n",
    "\n",
    "print('out_data_mean_different_cnn的形状',out_data_mean_different_cnn.shape)\n",
    "#return out_data\n",
    "    \n",
    "\n",
    "\n",
    "#========================CNN out_data =============================#\n",
    "#遍历时间步、纬度和经度\n",
    "for t in range(time_size):\n",
    "    sample_idx = 0\n",
    "    for lat in range(0, lat_size - box_size +1, step_size):\n",
    "        for lon in range(0, lon_size - box_size +1  , step_size):\n",
    "            # 计算当前矩形框的边界\n",
    "            lat_min = lat\n",
    "            lat_max = lat + box_size\n",
    "            lon_min = lon\n",
    "            lon_max = lon + box_size\n",
    "            #print(lat_min,lat_max,lon_min,lon_max)\n",
    "            # 获取当前矩形框的地图数据\n",
    "            box_data = cat_data_ss[t, lat_min:lat_max, lon_min:lon_max,:]\n",
    "            # 写入数组中\n",
    "#             lat_ = lat//4\n",
    "#             lon_ = lon//4\n",
    "            out_data[t,lat,lon, :, :, :] = box_data\n",
    "            box_data = []\n",
    "            #print(sample_idx)\n",
    "            # 增加样本计数器\n",
    "            sample_idx += 1\n",
    "\n",
    "print('out_data的形状',out_data.shape)\n",
    "#return out_data\n",
    "    \n",
    "#======================LSTM 与 y out_data==========================#   \n",
    "\n",
    "# 遍历时间步、纬度和经度\n",
    "for t in range(time_size):\n",
    "    sample_idx = 0\n",
    "    for lat in range(5, lat_size-5, step_size):\n",
    "        for lon in range(5, lon_size-5, step_size):\n",
    "            box_data_y = cat_data_sali[t, lat:lat+1, lon:lon+1,:]\n",
    "            out_data_y[t,lat-5,lon-5, :] = box_data_y\n",
    "            box_data_y = []\n",
    "            \n",
    "            box_data_lstm = cat_data_ss[t, lat:lat+1, lon:lon+1,:]\n",
    "            out_data_lstm[t,lat-5,lon-5, :] = box_data_lstm\n",
    "            box_data_lstm = []\n",
    "            \n",
    "            #print(sample_idx)\n",
    "            # 增加样本计数器\n",
    "            sample_idx += 1\n",
    "\n",
    "print('out_data_y的形状',out_data_y.shape)\n",
    "print('out_data_lstm的形状',out_data_lstm.shape)   \n",
    "# out_data_reshape = slider_value(cat_data)\n",
    "\n",
    "\n",
    "#======================与LSTM相匹配的差值==========================#   \n",
    "\n",
    "# 遍历时间步、纬度和经度\n",
    "for t in range(12):\n",
    "    sample_idx = 0\n",
    "    for lat in range(5, lat_size-5, step_size):\n",
    "        for lon in range(5, lon_size-5, step_size): \n",
    "            box_data_mean_different_lstm = mean_different[t, lat:lat+1, lon:lon+1,:]\n",
    "            out_data_mean_different_lstm[t,lat-5,lon-5, :] = box_data_mean_different_lstm\n",
    "            box_data_mean_different_lstm = []\n",
    "            \n",
    "            #print(sample_idx)\n",
    "            # 增加样本计数器\n",
    "            sample_idx += 1\n",
    "\n",
    "print('out_data_mean_different_lstm的形状',out_data_mean_different_lstm.shape)\n",
    "\n",
    "# out_data_reshape = slider_value(cat_data)"
   ]
  },
  {
   "cell_type": "code",
   "execution_count": null,
   "id": "227cfa3f",
   "metadata": {},
   "outputs": [],
   "source": []
  },
  {
   "cell_type": "markdown",
   "id": "f6995dcc",
   "metadata": {},
   "source": [
    "## 删除缺失值多于一半的数据"
   ]
  },
  {
   "cell_type": "markdown",
   "id": "c0b33fe5",
   "metadata": {},
   "source": [
    "### 获取Nan_mask"
   ]
  },
  {
   "cell_type": "code",
   "execution_count": 61,
   "id": "7db04274",
   "metadata": {
    "ExecuteTime": {
     "end_time": "2023-12-11T12:54:00.896660Z",
     "start_time": "2023-12-11T12:53:51.331066Z"
    }
   },
   "outputs": [
    {
     "name": "stdout",
     "output_type": "stream",
     "text": [
      "(132, 144000, 11, 11, 5)\n",
      "(132, 144000, 11, 11, 5)\n"
     ]
    }
   ],
   "source": [
    "# 修改变量形状\n",
    "out_data_reshape = out_data.reshape((132,-1,11,11,5))\n",
    "print(out_data_reshape.shape) \n",
    "# 获取变量nan掩码\n",
    "nan_mask_out_data = np.isnan(out_data_reshape)\n",
    "print(nan_mask_out_data.shape)"
   ]
  },
  {
   "cell_type": "code",
   "execution_count": 62,
   "id": "18e8ca66",
   "metadata": {
    "ExecuteTime": {
     "end_time": "2023-12-11T12:54:00.914631Z",
     "start_time": "2023-12-11T12:54:00.897659Z"
    }
   },
   "outputs": [
    {
     "data": {
      "text/plain": [
       "4314362"
      ]
     },
     "execution_count": 62,
     "metadata": {},
     "output_type": "execute_result"
    }
   ],
   "source": [
    "# （137344，9，9）中存在4500416个nan\n",
    "np.count_nonzero(nan_mask_out_data[4:5,:,:,:,3:4])"
   ]
  },
  {
   "cell_type": "code",
   "execution_count": 63,
   "id": "94f50792",
   "metadata": {
    "ExecuteTime": {
     "end_time": "2023-12-11T12:54:00.918625Z",
     "start_time": "2023-12-11T12:54:00.915630Z"
    }
   },
   "outputs": [],
   "source": [
    "# 选取一个作为代表\n",
    "nan_mask_out_data_one = nan_mask_out_data[0,:,:,:,0].reshape(-1,11*11) #161024, 9, 9) -->（161024，81）    # 其中true 代表Nan"
   ]
  },
  {
   "cell_type": "code",
   "execution_count": 64,
   "id": "0ffe7ba7",
   "metadata": {
    "ExecuteTime": {
     "end_time": "2023-12-11T12:54:00.923617Z",
     "start_time": "2023-12-11T12:54:00.919623Z"
    }
   },
   "outputs": [],
   "source": [
    "# # 查看mask中Nan 的个数\n",
    "# print(np.count_nonzero(nan_mask_out_data_one))    # 2724451\n",
    "# #查看形状\n",
    "# print(nan_mask_out_data_one.shape)     # (137344, 81)\n",
    "# # 查看内容\n",
    "# nan_mask_out_data_one"
   ]
  },
  {
   "cell_type": "markdown",
   "id": "0ee08f65",
   "metadata": {},
   "source": [
    "### 为有效值大于一半的方块标注True"
   ]
  },
  {
   "cell_type": "code",
   "execution_count": 65,
   "id": "517812d6",
   "metadata": {
    "ExecuteTime": {
     "end_time": "2023-12-11T12:54:01.080364Z",
     "start_time": "2023-12-11T12:54:00.924615Z"
    }
   },
   "outputs": [],
   "source": [
    "nan_mask = [] \n",
    "for i in nan_mask_out_data_one:\n",
    "    if(np.count_nonzero(i) <=61):    #True 代表nan，当nan小于等于61时，代表有效值大于一半\n",
    "        nan_mask.append(True)\n",
    "    else:\n",
    "        nan_mask.append(False)"
   ]
  },
  {
   "cell_type": "code",
   "execution_count": 66,
   "id": "005ffe06",
   "metadata": {
    "ExecuteTime": {
     "end_time": "2023-12-11T12:54:01.088352Z",
     "start_time": "2023-12-11T12:54:01.081362Z"
    }
   },
   "outputs": [
    {
     "data": {
      "text/plain": [
       "108693"
      ]
     },
     "execution_count": 66,
     "metadata": {},
     "output_type": "execute_result"
    }
   ],
   "source": [
    "np.count_nonzero(nan_mask)  # 查看有效值个数"
   ]
  },
  {
   "cell_type": "markdown",
   "id": "76e11a66",
   "metadata": {},
   "source": [
    "### 标注lstm中的缺失值"
   ]
  },
  {
   "cell_type": "code",
   "execution_count": 67,
   "id": "6b3b4225",
   "metadata": {
    "ExecuteTime": {
     "end_time": "2023-12-11T12:54:01.169294Z",
     "start_time": "2023-12-11T12:54:01.089350Z"
    }
   },
   "outputs": [
    {
     "name": "stdout",
     "output_type": "stream",
     "text": [
      "(132, 144000, 5)\n",
      "(132, 144000, 5)\n"
     ]
    }
   ],
   "source": [
    "## 标注lstm中的缺失值\n",
    "out_data_lstm_reshape = out_data_lstm.reshape((132,-1,5))\n",
    "print(out_data_lstm_reshape.shape)\n",
    "# 获取变量 nan 掩码\n",
    "nan_mask_lstm = np.isnan(out_data_lstm_reshape)\n",
    "print(nan_mask_lstm.shape)"
   ]
  },
  {
   "cell_type": "code",
   "execution_count": 68,
   "id": "82e9b44d",
   "metadata": {
    "ExecuteTime": {
     "end_time": "2023-12-11T12:54:01.174340Z",
     "start_time": "2023-12-11T12:54:01.170237Z"
    }
   },
   "outputs": [
    {
     "data": {
      "text/plain": [
       "108378"
      ]
     },
     "execution_count": 68,
     "metadata": {},
     "output_type": "execute_result"
    }
   ],
   "source": [
    "np.count_nonzero(~nan_mask_lstm[1,:,4])  "
   ]
  },
  {
   "cell_type": "markdown",
   "id": "19d4417e",
   "metadata": {},
   "source": [
    "### 合并缺失值"
   ]
  },
  {
   "cell_type": "code",
   "execution_count": 69,
   "id": "5fbb9201",
   "metadata": {
    "ExecuteTime": {
     "end_time": "2023-12-11T12:54:01.202214Z",
     "start_time": "2023-12-11T12:54:01.193183Z"
    }
   },
   "outputs": [],
   "source": [
    "nan_mask_cat = [a and b for a, b in zip(nan_mask, ~nan_mask_lstm[0,:,0])]"
   ]
  },
  {
   "cell_type": "code",
   "execution_count": 70,
   "id": "3fee519d",
   "metadata": {
    "ExecuteTime": {
     "end_time": "2023-12-11T12:54:02.293410Z",
     "start_time": "2023-12-11T12:54:02.283427Z"
    }
   },
   "outputs": [
    {
     "data": {
      "text/plain": [
       "107913"
      ]
     },
     "execution_count": 70,
     "metadata": {},
     "output_type": "execute_result"
    }
   ],
   "source": [
    "np.count_nonzero(nan_mask_cat)  "
   ]
  },
  {
   "cell_type": "code",
   "execution_count": 70,
   "id": "b7e4d066",
   "metadata": {
    "ExecuteTime": {
     "end_time": "2023-12-10T11:39:00.501877Z",
     "start_time": "2023-12-10T11:39:00.451958Z"
    }
   },
   "outputs": [],
   "source": [
    "np.save(\"../data_test/mask_cat/nan_mask_cat_sali.npy\",nan_mask_cat)"
   ]
  },
  {
   "cell_type": "markdown",
   "id": "a2a5982c",
   "metadata": {},
   "source": [
    "### 修改数据形状，使其可以通过nan_mask_cat删除无效数据"
   ]
  },
  {
   "cell_type": "code",
   "execution_count": 71,
   "id": "38b1fa1e",
   "metadata": {
    "ExecuteTime": {
     "end_time": "2023-12-11T12:54:14.074476Z",
     "start_time": "2023-12-11T12:54:14.069484Z"
    }
   },
   "outputs": [
    {
     "data": {
      "text/plain": [
       "((12, 240, 600, 15), (132, 240, 600, 5))"
      ]
     },
     "execution_count": 71,
     "metadata": {},
     "output_type": "execute_result"
    }
   ],
   "source": [
    "out_data_mean_different_lstm.shape ,out_data_lstm.shape"
   ]
  },
  {
   "cell_type": "code",
   "execution_count": 72,
   "id": "92474bcf",
   "metadata": {
    "ExecuteTime": {
     "end_time": "2023-12-11T12:54:16.443698Z",
     "start_time": "2023-12-11T12:54:16.436710Z"
    }
   },
   "outputs": [
    {
     "name": "stdout",
     "output_type": "stream",
     "text": [
      "out_data_reshape: (144000, 132, 11, 11, 5)\n",
      "out_data_y_reshape: (240, 600, 132, 15)\n",
      "out_data_y_reshape: (144000, 132, 15)\n",
      "out_data_lstm_reshape: (240, 600, 132, 5)\n",
      "out_data_lstm_reshape: (144000, 132, 5)\n",
      "out_data_mean_different_cnn_reshape: (240, 600, 12, 11, 11, 15)\n",
      "out_data_mean_different_cnn_reshape: (144000, 12, 11, 11, 15)\n",
      "out_data_mean_different_lstm_reshape: (240, 600, 12, 15)\n",
      "out_data_mean_different_lstm_reshape: (144000, 12, 15)\n"
     ]
    }
   ],
   "source": [
    "out_data_reshape =  np.transpose(out_data_reshape,(1,0,2,3,4))\n",
    "print('out_data_reshape:',out_data_reshape.shape)\n",
    "\n",
    "out_data_y_reshape =  np.transpose(out_data_y,(1,2,0,3))\n",
    "print('out_data_y_reshape:',out_data_y_reshape.shape)\n",
    "out_data_y_reshape = out_data_y_reshape.reshape(-1,132,15)\n",
    "print('out_data_y_reshape:',out_data_y_reshape.shape)\n",
    "\n",
    "out_data_lstm_reshape =  np.transpose(out_data_lstm,(1,2,0,3))\n",
    "print('out_data_lstm_reshape:',out_data_lstm_reshape.shape)\n",
    "out_data_lstm_reshape = out_data_lstm_reshape.reshape(-1,132,5)\n",
    "print('out_data_lstm_reshape:',out_data_lstm_reshape.shape) \n",
    "\n",
    "#out_data_mean_different_cnn = np.array(out_data_mean_different_cnn)\n",
    "out_data_mean_different_cnn_reshape =  np.transpose(out_data_mean_different_cnn,(1,2,0,3,4,5))\n",
    "print('out_data_mean_different_cnn_reshape:',out_data_mean_different_cnn_reshape.shape)\n",
    "out_data_mean_different_cnn_reshape = out_data_mean_different_cnn_reshape.reshape(-1,12,11,11,15)\n",
    "print('out_data_mean_different_cnn_reshape:',out_data_mean_different_cnn_reshape.shape) \n",
    "\n",
    "out_data_mean_different_lstm_reshape =  np.transpose(out_data_mean_different_lstm,(1,2,0,3))\n",
    "print('out_data_mean_different_lstm_reshape:',out_data_mean_different_lstm_reshape.shape)\n",
    "out_data_mean_different_lstm_reshape = out_data_mean_different_lstm_reshape.reshape(-1,12,15)\n",
    "print('out_data_mean_different_lstm_reshape:',out_data_mean_different_lstm_reshape.shape) \n"
   ]
  },
  {
   "cell_type": "markdown",
   "id": "1c6c2d01",
   "metadata": {},
   "source": [
    "### 开始删除无效数据"
   ]
  },
  {
   "cell_type": "code",
   "execution_count": 73,
   "id": "77d6d2e4",
   "metadata": {
    "ExecuteTime": {
     "end_time": "2023-12-11T12:54:18.621882Z",
     "start_time": "2023-12-11T12:54:18.617888Z"
    }
   },
   "outputs": [
    {
     "data": {
      "text/plain": [
       "(144000, 132, 15)"
      ]
     },
     "execution_count": 73,
     "metadata": {},
     "output_type": "execute_result"
    }
   ],
   "source": [
    "out_data_y_reshape.shape"
   ]
  },
  {
   "cell_type": "code",
   "execution_count": 74,
   "id": "c76bfa7c",
   "metadata": {
    "ExecuteTime": {
     "end_time": "2023-12-11T12:54:53.689411Z",
     "start_time": "2023-12-11T12:54:18.785618Z"
    }
   },
   "outputs": [],
   "source": [
    "out_data_reshape = out_data_reshape[nan_mask_cat]\n",
    "out_data_y_reshape = out_data_y_reshape[nan_mask_cat]\n",
    "out_data_lstm_reshape = out_data_lstm_reshape[nan_mask_cat]\n",
    "out_data_mean_different_cnn_reshape = out_data_mean_different_cnn_reshape[nan_mask_cat]\n",
    "out_data_mean_different_lstm_reshape = out_data_mean_different_lstm_reshape[nan_mask_cat]"
   ]
  },
  {
   "cell_type": "code",
   "execution_count": 75,
   "id": "98a241ae",
   "metadata": {
    "ExecuteTime": {
     "end_time": "2023-12-11T12:54:53.694403Z",
     "start_time": "2023-12-11T12:54:53.690410Z"
    }
   },
   "outputs": [
    {
     "name": "stdout",
     "output_type": "stream",
     "text": [
      "(107913, 132, 11, 11, 5) (107913, 132, 15) (107913, 132, 5) (107913, 12, 11, 11, 15) (107913, 12, 15)\n"
     ]
    }
   ],
   "source": [
    "print(out_data_reshape.shape,out_data_y_reshape.shape,out_data_lstm_reshape.shape,\n",
    "      out_data_mean_different_cnn_reshape.shape,out_data_mean_different_lstm_reshape.shape)"
   ]
  },
  {
   "cell_type": "markdown",
   "id": "767a59a2",
   "metadata": {},
   "source": [
    "### 使用0来填充Nan"
   ]
  },
  {
   "cell_type": "code",
   "execution_count": 76,
   "id": "71ec57be",
   "metadata": {
    "ExecuteTime": {
     "end_time": "2023-12-11T12:57:29.156132Z",
     "start_time": "2023-12-11T12:54:53.695402Z"
    }
   },
   "outputs": [],
   "source": [
    "out_data_reshape = np.nan_to_num(out_data_reshape, nan=0)   # (103952, 132, 9, 9, 5) \n",
    "out_data_y_reshape = np.nan_to_num(out_data_y_reshape, nan=0)  #(103952, 132, 15)\n",
    "out_data_lstm_reshape = np.nan_to_num(out_data_lstm_reshape, nan=0)\n",
    "out_data_mean_different_cnn_reshape = np.nan_to_num(out_data_mean_different_cnn_reshape, nan=0)\n",
    "out_data_mean_different_lstm_reshape = np.nan_to_num(out_data_mean_different_lstm_reshape, nan=0)"
   ]
  },
  {
   "cell_type": "markdown",
   "id": "27e0c0a4",
   "metadata": {},
   "source": [
    "# 验证集和测试集的划分"
   ]
  },
  {
   "cell_type": "markdown",
   "id": "c55523f8",
   "metadata": {},
   "source": [
    "## 对数据进行reshape,以进行数据集的划分"
   ]
  },
  {
   "cell_type": "code",
   "execution_count": 77,
   "id": "430c4b21",
   "metadata": {
    "ExecuteTime": {
     "end_time": "2023-12-11T12:57:29.161124Z",
     "start_time": "2023-12-11T12:57:29.158129Z"
    }
   },
   "outputs": [],
   "source": [
    "# print(out_data_mean_different_reshape.shape,mean_different.shape)"
   ]
  },
  {
   "cell_type": "code",
   "execution_count": 78,
   "id": "94f288cc",
   "metadata": {
    "ExecuteTime": {
     "end_time": "2023-12-11T12:57:29.168113Z",
     "start_time": "2023-12-11T12:57:29.162123Z"
    }
   },
   "outputs": [
    {
     "name": "stdout",
     "output_type": "stream",
     "text": [
      "out_data_reshape: (132, 107913, 11, 11, 5)\n",
      "out_data_y_reshape: (132, 107913, 15)\n",
      "out_data_lstm_reshape: (132, 107913, 5)\n",
      "out_data_mean_different_cnn_reshape (12, 107913, 11, 11, 15)\n",
      "out_data_mean_different_lstm_reshape (12, 107913, 15)\n"
     ]
    }
   ],
   "source": [
    "# 将时间放到前面\n",
    "out_data_reshape = np.transpose(out_data_reshape,(1,0,2,3,4))\n",
    "print('out_data_reshape:',out_data_reshape.shape)\n",
    "out_data_y_reshape =  np.transpose(out_data_y_reshape,(1,0,2))\n",
    "print('out_data_y_reshape:',out_data_y_reshape.shape)\n",
    "out_data_lstm_reshape =  np.transpose(out_data_lstm_reshape,(1,0,2))\n",
    "print('out_data_lstm_reshape:',out_data_lstm_reshape.shape)\n",
    "\n",
    "out_data_mean_different_cnn_reshape = np.transpose(out_data_mean_different_cnn_reshape,(1,0,2,3,4))\n",
    "print('out_data_mean_different_cnn_reshape',out_data_mean_different_cnn_reshape.shape)\n",
    "out_data_mean_different_lstm_reshape = np.transpose(out_data_mean_different_lstm_reshape,(1,0,2))\n",
    "print('out_data_mean_different_lstm_reshape',out_data_mean_different_lstm_reshape.shape)"
   ]
  },
  {
   "cell_type": "code",
   "execution_count": 79,
   "id": "2d4636b2",
   "metadata": {
    "ExecuteTime": {
     "end_time": "2023-12-11T12:57:29.172107Z",
     "start_time": "2023-12-11T12:57:29.169111Z"
    }
   },
   "outputs": [],
   "source": [
    "# np.save(\"../data_test/out_data_reshape.npy\",out_data_reshape)\n",
    "# np.save(\"../data_test/out_data_y_reshape.npy\",out_data_y_reshape)\n",
    "# np.save(\"../data_test/out_data_lstm_reshape.npy\",out_data_lstm_reshape)\n",
    "# np.save(\"../data_test/out_data_mean_different_cnn_reshape.npy\",out_data_mean_different_cnn_reshape)\n",
    "# np.save(\"../data_test/out_data_mean_different_lstm_reshape.npy\",out_data_mean_different_lstm_reshape)"
   ]
  },
  {
   "cell_type": "markdown",
   "id": "70afd9ec",
   "metadata": {},
   "source": [
    "## 使用每个表面数据减去平均差值"
   ]
  },
  {
   "cell_type": "code",
   "execution_count": 80,
   "id": "b7ab9d9c",
   "metadata": {
    "ExecuteTime": {
     "end_time": "2023-12-11T12:57:29.177098Z",
     "start_time": "2023-12-11T12:57:29.173105Z"
    }
   },
   "outputs": [
    {
     "data": {
      "text/plain": [
       "(12, 107913, 11, 11, 5)"
      ]
     },
     "execution_count": 80,
     "metadata": {},
     "output_type": "execute_result"
    }
   ],
   "source": [
    "out_data_mean_different_cnn_reshape[:,:,:,:,:5].shape "
   ]
  },
  {
   "cell_type": "code",
   "execution_count": 81,
   "id": "566290c4",
   "metadata": {
    "ExecuteTime": {
     "end_time": "2023-12-11T12:57:59.334560Z",
     "start_time": "2023-12-11T12:57:29.178097Z"
    }
   },
   "outputs": [
    {
     "name": "stdout",
     "output_type": "stream",
     "text": [
      "(1, 12, 107913, 11, 11, 5)\n",
      "(11, 12, 107913, 11, 11, 5)\n",
      "(132, 107913, 11, 11, 5)\n"
     ]
    }
   ],
   "source": [
    "out_data_mean_different_cnn_reshape_1 = np.expand_dims(out_data_mean_different_cnn_reshape[:,:,:,:,:5], axis=0)\n",
    "print(out_data_mean_different_cnn_reshape_1.shape) # 扩展第一个维度    (1, 12, 106512, 11, 11, 5)\n",
    "out_data_mean_different_cnn_reshape_1 = np.repeat(out_data_mean_different_cnn_reshape_1, repeats=11, axis=0)\n",
    "print(out_data_mean_different_cnn_reshape_1.shape) # 将第一个维度重复11次    (11, 12, 106512, 11, 11, 5)\n",
    "out_data_mean_different_cnn_reshape_1 = out_data_mean_different_cnn_reshape_1.reshape(-1,107913, 11, 11, 5)\n",
    "print(out_data_mean_different_cnn_reshape_1.shape) #将前两个维度相乘    (132, 106512, 11, 11, 5)"
   ]
  },
  {
   "cell_type": "code",
   "execution_count": 82,
   "id": "e27080c7",
   "metadata": {
    "ExecuteTime": {
     "end_time": "2023-12-11T12:59:48.829345Z",
     "start_time": "2023-12-11T12:57:59.335558Z"
    }
   },
   "outputs": [],
   "source": [
    "# 使用每个表面数据减去这个差值\n",
    "end_cnn_different = (np.repeat(out_data_reshape[:,:,:,:,4:], repeats=5, axis=-1) \n",
    "                     -out_data_mean_different_cnn_reshape_1) \n",
    "# end_cnn_different_2 = (np.repeat(out_data_reshape[:,:,:,:,4:], repeats=8, axis=-1) \n",
    "#                      -np.repeat(out_data_mean_different_cnn_reshape[:,:,:,:,:8], repeats=11, axis=0)) \n",
    "#end_cnn_different = np.concatenate((end_cnn_different_2,end_cnn_different),axis=-1)"
   ]
  },
  {
   "cell_type": "code",
   "execution_count": 83,
   "id": "fbbb1655",
   "metadata": {
    "ExecuteTime": {
     "end_time": "2023-12-11T12:59:48.834339Z",
     "start_time": "2023-12-11T12:59:48.831342Z"
    }
   },
   "outputs": [],
   "source": [
    "#np.save(\"../data_test/end_cnn_different.npy\",end_cnn_different)"
   ]
  },
  {
   "cell_type": "code",
   "execution_count": 84,
   "id": "ebded1a9",
   "metadata": {
    "ExecuteTime": {
     "end_time": "2023-12-11T12:59:49.279620Z",
     "start_time": "2023-12-11T12:59:48.835336Z"
    }
   },
   "outputs": [
    {
     "name": "stdout",
     "output_type": "stream",
     "text": [
      "(1, 12, 107913, 5)\n",
      "(11, 12, 107913, 5)\n",
      "(132, 107913, 5)\n"
     ]
    }
   ],
   "source": [
    "out_data_mean_different_lstm_reshape_1 = np.expand_dims(out_data_mean_different_lstm_reshape[:,:,:5], axis=0)\n",
    "print(out_data_mean_different_lstm_reshape_1.shape)\n",
    "out_data_mean_different_lstm_reshape_1 = np.repeat(out_data_mean_different_lstm_reshape_1, repeats=11, axis=0)\n",
    "print(out_data_mean_different_lstm_reshape_1.shape)\n",
    "out_data_mean_different_lstm_reshape_1 = out_data_mean_different_lstm_reshape_1.reshape(-1,107913, 5)\n",
    "print(out_data_mean_different_lstm_reshape_1.shape)"
   ]
  },
  {
   "cell_type": "code",
   "execution_count": 85,
   "id": "693ba432",
   "metadata": {
    "ExecuteTime": {
     "end_time": "2023-12-11T12:59:50.293988Z",
     "start_time": "2023-12-11T12:59:49.280619Z"
    },
    "code_folding": []
   },
   "outputs": [],
   "source": [
    "end_lstm_different = (np.repeat(out_data_lstm_reshape[:,:,4:], repeats=5, axis=-1) \n",
    "                     -out_data_mean_different_lstm_reshape_1) "
   ]
  },
  {
   "cell_type": "markdown",
   "id": "4b2e51ef",
   "metadata": {},
   "source": [
    "## 将数据进行堆叠"
   ]
  },
  {
   "cell_type": "code",
   "execution_count": 86,
   "id": "e5f03f08",
   "metadata": {
    "ExecuteTime": {
     "end_time": "2023-12-11T12:59:58.778335Z",
     "start_time": "2023-12-11T12:59:50.294987Z"
    }
   },
   "outputs": [
    {
     "name": "stdout",
     "output_type": "stream",
     "text": [
      "(123, 10, 107913, 5)\n"
     ]
    }
   ],
   "source": [
    "available = len(out_data_lstm_reshape) \n",
    "predict = 1\n",
    "\n",
    "out_data_lstm_reshape_shape = out_data_lstm_reshape.shape[1:]\n",
    "N_stack = 10\n",
    "X_len = available - (N_stack-1)\n",
    "\n",
    "\n",
    "X_lstm = np.zeros(shape = (X_len, N_stack,out_data_lstm_reshape_shape[0],out_data_lstm_reshape_shape[1]))  \n",
    "for i in range(X_len):\n",
    "    X_lstm[i] = np.stack(out_data_lstm_reshape[i:i+N_stack])\n",
    "    #print(i)\n",
    "\n",
    "print(X_lstm.shape)\n",
    "#print(Y.shape)"
   ]
  },
  {
   "cell_type": "code",
   "execution_count": 87,
   "id": "0a47af65",
   "metadata": {
    "ExecuteTime": {
     "end_time": "2023-12-11T13:00:06.571794Z",
     "start_time": "2023-12-11T12:59:58.779334Z"
    },
    "code_folding": [
     0
    ]
   },
   "outputs": [
    {
     "name": "stdout",
     "output_type": "stream",
     "text": [
      "(123, 10, 107913, 5)\n"
     ]
    }
   ],
   "source": [
    "# 对end_lstm_different进行堆叠\n",
    "\n",
    "available = len(end_lstm_different) \n",
    "predict = 1\n",
    "\n",
    "end_lstm_different_shape = end_lstm_different.shape[1:]  #(106512,16)\n",
    "\n",
    "N_stack = 10\n",
    "X_len = available - (N_stack-1)\n",
    "\n",
    "X_lstm_different = np.zeros(shape = (X_len, N_stack,end_lstm_different_shape[0],end_lstm_different_shape[1]))  \n",
    "\n",
    "for i in range(X_len):\n",
    "    X_lstm_different[i] = np.stack(end_lstm_different[i:i+N_stack])\n",
    "    #print(i)\n",
    "\n",
    "print(X_lstm_different.shape)\n",
    "#print(Y.shape)"
   ]
  },
  {
   "cell_type": "markdown",
   "id": "65e55969",
   "metadata": {},
   "source": [
    "## 统一时间"
   ]
  },
  {
   "cell_type": "code",
   "execution_count": 88,
   "id": "17139f60",
   "metadata": {
    "ExecuteTime": {
     "end_time": "2023-12-11T13:00:06.576786Z",
     "start_time": "2023-12-11T13:00:06.572792Z"
    }
   },
   "outputs": [
    {
     "name": "stdout",
     "output_type": "stream",
     "text": [
      "(123, 10, 107913, 5) (123, 107913, 15) (123, 107913, 11, 11, 5) (123, 107913, 11, 11, 5) (123, 10, 107913, 5)\n"
     ]
    }
   ],
   "source": [
    "Y = out_data_y_reshape[9:]\n",
    "X_cnn = out_data_reshape[9:]\n",
    "X_cnn_different = end_cnn_different[9:]\n",
    "print(X_lstm.shape,Y.shape,X_cnn.shape,X_cnn_different.shape,X_lstm_different.shape)"
   ]
  },
  {
   "cell_type": "markdown",
   "id": "050822a2",
   "metadata": {},
   "source": [
    "## 将差值合并"
   ]
  },
  {
   "cell_type": "code",
   "execution_count": 89,
   "id": "e0fc47d4",
   "metadata": {
    "ExecuteTime": {
     "end_time": "2023-12-11T13:08:34.816976Z",
     "start_time": "2023-12-11T13:00:06.577784Z"
    }
   },
   "outputs": [
    {
     "name": "stdout",
     "output_type": "stream",
     "text": [
      "X_cnn.shape: (123, 107913, 11, 11, 10) X_lstm.shape: (123, 10, 107913, 10)\n"
     ]
    }
   ],
   "source": [
    "X_cnn = np.concatenate((X_cnn,X_cnn_different),axis=-1)\n",
    "X_lstm = np.concatenate((X_lstm,X_lstm_different),axis=-1)\n",
    "\n",
    "print('X_cnn.shape:',X_cnn.shape,'X_lstm.shape:',X_lstm.shape)"
   ]
  },
  {
   "cell_type": "code",
   "execution_count": 4,
   "id": "c5ea45b8",
   "metadata": {
    "ExecuteTime": {
     "end_time": "2024-01-29T15:49:04.785739Z",
     "start_time": "2024-01-29T15:45:17.733385Z"
    },
    "code_folding": []
   },
   "outputs": [],
   "source": [
    "# np.save(\"../data_test/xy_sali/X_cnn_30_150m.npy\",X_cnn)\n",
    "# np.save(\"../data_test/xy_sali/X_lstm_30_150m.npy\",X_lstm)\n",
    "# np.save(\"../data_test/xy_sali/Y_30_150m.npy\",Y)\n",
    "# #30,50,100,125,150\n",
    "X_cnn = np.load(\"../data_test/xy_sali/new/X_cnn_30_150m.npy\")\n",
    "X_lstm = np.load(\"../data_test/xy_sali/new/X_lstm_30_150m.npy\")\n",
    "Y = np.load(\"../data_test/xy_sali/new/Y_30_150m.npy\")"
   ]
  },
  {
   "cell_type": "code",
   "execution_count": 5,
   "id": "9c05c192",
   "metadata": {
    "ExecuteTime": {
     "end_time": "2024-01-29T15:49:04.791730Z",
     "start_time": "2024-01-29T15:49:04.786738Z"
    }
   },
   "outputs": [
    {
     "data": {
      "text/plain": [
       "(123, 107913, 15)"
      ]
     },
     "execution_count": 5,
     "metadata": {},
     "output_type": "execute_result"
    }
   ],
   "source": [
    "Y.shape "
   ]
  },
  {
   "cell_type": "code",
   "execution_count": 6,
   "id": "15eb01fa",
   "metadata": {
    "ExecuteTime": {
     "end_time": "2024-01-29T15:49:04.794749Z",
     "start_time": "2024-01-29T15:49:04.792728Z"
    },
    "code_folding": [
     0
    ]
   },
   "outputs": [],
   "source": [
    "# # 获取当前 Jupyter 环境中的所有全局变量\n",
    "# all_vars = list(globals().keys())\n",
    "\n",
    "# # 要保留的变量列表\n",
    "# keep_vars = ['X_cnn', 'X_lstm', 'Y']\n",
    "\n",
    "# # 删除除 keep_vars 中指定的变量以外的所有变量\n",
    "# for var in all_vars:\n",
    "#     if var not in keep_vars and not var.startswith('_'):\n",
    "#         del globals()[var]"
   ]
  },
  {
   "cell_type": "markdown",
   "id": "09f443c2",
   "metadata": {},
   "source": [
    "## 划分数据集"
   ]
  },
  {
   "cell_type": "code",
   "execution_count": 7,
   "id": "3c7084bb",
   "metadata": {
    "ExecuteTime": {
     "end_time": "2024-01-29T15:49:04.802712Z",
     "start_time": "2024-01-29T15:49:04.796722Z"
    }
   },
   "outputs": [
    {
     "name": "stdout",
     "output_type": "stream",
     "text": [
      "(111, 107913, 11, 11, 10) (111, 10, 107913, 10) (111, 107913, 15) (12, 107913, 11, 11, 10) (12, 10, 107913, 10) (12, 107913, 15)\n"
     ]
    }
   ],
   "source": [
    "# 最后十二个月的数据作为test\n",
    "test_num = 111\n",
    "x_cnn_train = X_cnn[:test_num]\n",
    "x_lstm_train = X_lstm[:test_num]\n",
    "y_train = Y[:test_num]\n",
    "\n",
    "x_cnn_test = X_cnn[test_num:]\n",
    "x_lstm_test = X_lstm[test_num:]\n",
    "y_test = Y[test_num:]\n",
    "\n",
    "print(x_cnn_train.shape,x_lstm_train.shape,y_train.shape,x_cnn_test.shape,x_lstm_test.shape,y_test.shape)"
   ]
  },
  {
   "cell_type": "code",
   "execution_count": 8,
   "id": "1956c2c2",
   "metadata": {
    "ExecuteTime": {
     "end_time": "2024-01-29T15:49:04.807704Z",
     "start_time": "2024-01-29T15:49:04.803711Z"
    }
   },
   "outputs": [],
   "source": [
    "# 将前两个维度进行合并  时间*(lat*lon) = batchsize\n",
    "x_cnn_train = np.reshape(x_cnn_train,(-1,11,11,10))\n",
    "x_cnn_test = np.reshape(x_cnn_test,(-1,11,11,10))\n",
    "\n",
    "y_train = np.reshape(y_train,(-1,15))\n",
    "y_test = np.reshape(y_test,(-1,15))"
   ]
  },
  {
   "cell_type": "code",
   "execution_count": 9,
   "id": "131d5503",
   "metadata": {
    "ExecuteTime": {
     "end_time": "2024-01-29T15:49:08.805275Z",
     "start_time": "2024-01-29T15:49:04.808703Z"
    }
   },
   "outputs": [],
   "source": [
    "x_lstm_train = np.transpose(x_lstm_train, (0,2,1,3))  # (115, 6, 103623, 5)  ---> (115, 103623, 6, 5)\n",
    "x_lstm_train = x_lstm_train.reshape((-1,10,10))          #(115, 103623, 6, 5)  ----->(115*103623, 6, 5)\n",
    "x_lstm_test = np.transpose(x_lstm_test, (0,2,1,3))\n",
    "x_lstm_test = x_lstm_test.reshape((-1,10,10))"
   ]
  },
  {
   "cell_type": "code",
   "execution_count": 10,
   "id": "e6d35745",
   "metadata": {
    "ExecuteTime": {
     "end_time": "2024-01-29T15:49:08.811266Z",
     "start_time": "2024-01-29T15:49:08.806273Z"
    }
   },
   "outputs": [
    {
     "name": "stdout",
     "output_type": "stream",
     "text": [
      "x_lstm_train (11978343, 10, 10)\n",
      "x_cnn_train (11978343, 11, 11, 10)\n",
      "y_train (11978343, 15)\n",
      "x_cnn_test: (1294956, 11, 11, 10)\n",
      "x_lstm_test: (1294956, 10, 10)\n",
      "y_test (1294956, 15)\n"
     ]
    }
   ],
   "source": [
    "print('x_lstm_train',x_lstm_train.shape)\n",
    "print('x_cnn_train',x_cnn_train.shape)\n",
    "print('y_train',y_train.shape)\n",
    "\n",
    "print('x_cnn_test:',x_cnn_test.shape)\n",
    "print('x_lstm_test:',x_lstm_test.shape)\n",
    "print('y_test',y_test.shape)"
   ]
  },
  {
   "cell_type": "markdown",
   "id": "ed49c22b",
   "metadata": {},
   "source": [
    "## 划分训练数据和目标数据"
   ]
  },
  {
   "cell_type": "code",
   "execution_count": 11,
   "id": "5cb18341",
   "metadata": {
    "ExecuteTime": {
     "end_time": "2024-01-29T15:50:12.607660Z",
     "start_time": "2024-01-29T15:49:08.812263Z"
    }
   },
   "outputs": [],
   "source": [
    "x_cnn_train_split, x_cnn_val, y_train_split, y_val = train_test_split(x_cnn_train , y_train, test_size=0.3, random_state=100)\n",
    "x_lstm_train_split, x_lstm_val, y_train_split_2, y_val_2 = train_test_split(x_lstm_train, y_train, test_size=0.3, random_state=100)"
   ]
  },
  {
   "cell_type": "code",
   "execution_count": 12,
   "id": "da724197",
   "metadata": {
    "ExecuteTime": {
     "end_time": "2024-01-29T15:50:12.613651Z",
     "start_time": "2024-01-29T15:50:12.608659Z"
    },
    "code_folding": [
     0
    ]
   },
   "outputs": [
    {
     "name": "stdout",
     "output_type": "stream",
     "text": [
      "x_cnn_train_split (8384840, 11, 11, 10)\n",
      "x_lstm_train_split (8384840, 10, 10)\n",
      "y_train_split (8384840, 15)\n",
      "x_cnn_test (1294956, 11, 11, 10)\n",
      "x_lstm_test (1294956, 10, 10)\n",
      "y_test (1294956, 15)\n",
      "x_cnn_val (3593503, 11, 11, 10)\n",
      "x_lstm_val (3593503, 10, 10)\n",
      "y_val (3593503, 15)\n"
     ]
    }
   ],
   "source": [
    "# 输出形状\n",
    "print('x_cnn_train_split',x_cnn_train_split.shape)\n",
    "print('x_lstm_train_split',x_lstm_train_split.shape)\n",
    "print('y_train_split',y_train_split.shape)\n",
    "\n",
    "print('x_cnn_test',x_cnn_test.shape)\n",
    "print('x_lstm_test',x_lstm_test.shape)\n",
    "print('y_test',y_test.shape)\n",
    "\n",
    "print('x_cnn_val',x_cnn_val.shape)\n",
    "print('x_lstm_val',x_lstm_val.shape)\n",
    "print('y_val',y_val.shape)"
   ]
  },
  {
   "cell_type": "markdown",
   "id": "78df89de",
   "metadata": {},
   "source": [
    "# 特征归一化"
   ]
  },
  {
   "cell_type": "code",
   "execution_count": 13,
   "id": "00456abf",
   "metadata": {
    "ExecuteTime": {
     "end_time": "2024-01-29T15:50:12.619641Z",
     "start_time": "2024-01-29T15:50:12.615647Z"
    },
    "code_folding": []
   },
   "outputs": [],
   "source": [
    "# 记录数据集的形状\n",
    "# train \n",
    "x_cnn_train_split_shape = x_cnn_train_split.shape\n",
    "x_lstm_train_split_shape = x_lstm_train_split.shape \n",
    "y_train_split_shape  = y_train_split.shape\n",
    "\n",
    "# test \n",
    "x_cnn_test_shape = x_cnn_test.shape\n",
    "x_lstm_test_shape = x_lstm_test.shape\n",
    "y_test_shape = y_test.shape\n",
    "\n",
    "#val\n",
    "x_cnn_val_shape = x_cnn_val.shape\n",
    "x_lstm_val_shape = x_lstm_val.shape\n",
    "y_val_shape = y_val.shape"
   ]
  },
  {
   "cell_type": "code",
   "execution_count": 14,
   "id": "3f9f23c3",
   "metadata": {
    "ExecuteTime": {
     "end_time": "2024-01-29T15:55:41.604518Z",
     "start_time": "2024-01-29T15:50:12.620639Z"
    },
    "code_folding": []
   },
   "outputs": [],
   "source": [
    "# 变量标准化\n",
    "scaler_f = StandardScaler()\n",
    "scaler_f_2 = StandardScaler()\n",
    "x_cnn_train_split = scaler_f.fit_transform(x_cnn_train_split.reshape(-1,x_cnn_train_split_shape[3])) \n",
    "x_lstm_train_split = scaler_f_2.fit_transform(x_lstm_train_split.reshape(-1,x_lstm_train_split_shape[2])) \n",
    "\n",
    "x_cnn_test = scaler_f.transform(x_cnn_test.reshape(-1,x_cnn_test_shape[3]))\n",
    "x_lstm_test = scaler_f_2.transform(x_lstm_test.reshape(-1,x_lstm_test_shape[2]))\n",
    "\n",
    "x_cnn_val = scaler_f.transform(x_cnn_val.reshape(-1,x_cnn_val_shape[3]))\n",
    "x_lstm_val = scaler_f_2.transform(x_lstm_val.reshape(-1,x_lstm_val_shape[2]))"
   ]
  },
  {
   "cell_type": "code",
   "execution_count": 15,
   "id": "7ca1f00d",
   "metadata": {
    "ExecuteTime": {
     "end_time": "2024-01-29T15:55:44.601697Z",
     "start_time": "2024-01-29T15:55:41.605516Z"
    },
    "code_folding": []
   },
   "outputs": [],
   "source": [
    "# 目标值标准化\n",
    "scaler_l = StandardScaler()\n",
    "y_train_split = scaler_l.fit_transform(y_train_split.reshape(-1,y_train_split_shape[1])) \n",
    "y_test = scaler_l.transform(y_test.reshape(-1,y_test_shape[1])) \n",
    "y_val = scaler_l.transform(y_val.reshape(-1,y_val_shape[1])) "
   ]
  },
  {
   "cell_type": "code",
   "execution_count": 16,
   "id": "3e5e1f3d",
   "metadata": {
    "ExecuteTime": {
     "end_time": "2024-01-29T15:55:44.608686Z",
     "start_time": "2024-01-29T15:55:44.602696Z"
    },
    "code_folding": []
   },
   "outputs": [],
   "source": [
    "# reshape\n",
    "x_cnn_train_split = np.reshape(x_cnn_train_split,(-1,11,11,10))\n",
    "x_cnn_test = np.reshape(x_cnn_test,(-1,11,11,10))\n",
    "x_cnn_val = np.reshape(x_cnn_val,(-1,11,11,10))\n",
    "\n",
    "\n",
    "x_lstm_train_split = np.reshape(x_lstm_train_split,(-1,10,10))\n",
    "x_lstm_test = np.reshape(x_lstm_test,(-1,10,10))\n",
    "x_lstm_val = np.reshape(x_lstm_val,(-1,10,10))\n",
    "\n",
    "\n",
    "y_train_split = np.reshape(y_train_split,(-1,15))\n",
    "y_test = np.reshape(y_test,(-1,15))\n",
    "y_val = np.reshape(y_val,(-1,15))"
   ]
  },
  {
   "cell_type": "code",
   "execution_count": 17,
   "id": "5afd48c3",
   "metadata": {
    "ExecuteTime": {
     "end_time": "2024-01-29T15:55:44.614677Z",
     "start_time": "2024-01-29T15:55:44.609684Z"
    },
    "code_folding": [
     0
    ]
   },
   "outputs": [
    {
     "name": "stdout",
     "output_type": "stream",
     "text": [
      "x_cnn_train_split (8384840, 11, 11, 10)\n",
      "x_lstm_train_split (8384840, 10, 10)\n",
      "y_train_split (8384840, 15)\n",
      "x_cnn_test (1294956, 11, 11, 10)\n",
      "x_lstm_test (1294956, 10, 10)\n",
      "y_test (1294956, 15)\n",
      "x_cnn_val (3593503, 11, 11, 10)\n",
      "x_lstm_val (3593503, 10, 10)\n",
      "y_val (3593503, 15)\n"
     ]
    }
   ],
   "source": [
    "# 输出形状\n",
    "print('x_cnn_train_split',x_cnn_train_split.shape)\n",
    "print('x_lstm_train_split',x_lstm_train_split.shape)\n",
    "print('y_train_split',y_train_split.shape)\n",
    "\n",
    "print('x_cnn_test',x_cnn_test.shape)\n",
    "print('x_lstm_test',x_lstm_test.shape)\n",
    "print('y_test',y_test.shape)\n",
    "\n",
    "print('x_cnn_val',x_cnn_val.shape)\n",
    "print('x_lstm_val',x_lstm_val.shape)\n",
    "print('y_val',y_val.shape)"
   ]
  },
  {
   "cell_type": "code",
   "execution_count": null,
   "id": "838bc1e4",
   "metadata": {},
   "outputs": [],
   "source": []
  },
  {
   "cell_type": "markdown",
   "id": "04d445bc",
   "metadata": {},
   "source": [
    "# 定义网络结构"
   ]
  },
  {
   "cell_type": "markdown",
   "id": "101c2c59",
   "metadata": {},
   "source": [
    "## 卷积注意力"
   ]
  },
  {
   "cell_type": "code",
   "execution_count": 17,
   "id": "787e5c21",
   "metadata": {
    "ExecuteTime": {
     "end_time": "2023-12-11T13:39:26.190144Z",
     "start_time": "2023-12-11T13:39:26.187149Z"
    }
   },
   "outputs": [],
   "source": [
    "# arr = np.random.rand(2,5, 5, 6)   \n",
    "# arr2 = np.random.rand(2,1, 1, 6)  \n",
    "# a = arr * arr2\n",
    "# print(a.shape)"
   ]
  },
  {
   "cell_type": "code",
   "execution_count": 18,
   "id": "af5a1c04",
   "metadata": {
    "ExecuteTime": {
     "end_time": "2023-12-11T13:39:26.203123Z",
     "start_time": "2023-12-11T13:39:26.191143Z"
    },
    "code_folding": [
     0
    ]
   },
   "outputs": [],
   "source": [
    "# 卷积注意力\n",
    "def ChannelAttention(inputs,in_planes, ratio=2):\n",
    "    \n",
    "    avg_out= layers.GlobalAveragePooling2D()\n",
    "    max_out= layers.GlobalMaxPooling2D()\n",
    "\n",
    "    fc1 = layers.Dense(in_planes//ratio, kernel_initializer='he_normal',\n",
    "                            kernel_regularizer=regularizers.l2(5e-4),\n",
    "                            activation=tf.nn.relu,\n",
    "                            use_bias=True, bias_initializer='zeros')\n",
    "    fc2 = layers.Dense(in_planes, kernel_initializer='he_normal',\n",
    "                            kernel_regularizer=regularizers.l2(5e-4),\n",
    "                            use_bias=True, bias_initializer='zeros')\n",
    "\n",
    "    \n",
    "    avg_out = avg_out(inputs)\n",
    "    max_out = max_out(inputs)\n",
    "    out = tf.stack([avg_out, max_out], axis=1)  # shape=(None, 2, fea_num)\n",
    "    out = fc2(fc1(out))\n",
    "    out = tf.reduce_sum(out, axis=1)             # shape=(256, 512)\n",
    "    out = tf.nn.sigmoid(out)\n",
    "    out = layers.Reshape((1, 1, out.shape[1]))(out)\n",
    "\n",
    "    return  inputs * out\n",
    "\n",
    "def regularized_padded_conv(*args, **kwargs):\n",
    "    return layers.Conv2D(*args, **kwargs, padding='same', use_bias=False,\n",
    "                         kernel_initializer='he_normal',\n",
    "                         kernel_regularizer=regularizers.l2(5e-4))\n",
    "\n",
    "def SpatialAttention(inputs,kernel_size=5):\n",
    "    conv1 = regularized_padded_conv(1, kernel_size=kernel_size, strides=1, activation='sigmoid')\n",
    "    avg_out = tf.reduce_mean(inputs, axis=3)\n",
    "    max_out = tf.reduce_max(inputs, axis=3)\n",
    "    out = tf.stack([avg_out, max_out], axis=-1)             # 创建一个维度,拼接到一起concat。\n",
    "    out = conv1(out)\n",
    "    return inputs * out\n",
    "\n",
    "\n",
    "def cbam_block(inputs, in_planes,ratio=2):\n",
    "\n",
    "    cbam_feature = ChannelAttention(inputs, in_planes,ratio)\n",
    "    cbam_feature = SpatialAttention(cbam_feature)\n",
    "    return cbam_feature"
   ]
  },
  {
   "cell_type": "markdown",
   "id": "8d6d9dd5",
   "metadata": {},
   "source": [
    "## 一对多注意力"
   ]
  },
  {
   "cell_type": "code",
   "execution_count": 19,
   "id": "152fff89",
   "metadata": {
    "ExecuteTime": {
     "end_time": "2023-12-11T13:39:26.212109Z",
     "start_time": "2023-12-11T13:39:26.204122Z"
    },
    "code_folding": [
     0
    ]
   },
   "outputs": [],
   "source": [
    "#  一对多注意力\n",
    "# 注意力层的定制实现，以适应多次注意力调用\n",
    "class Attention(Layer):\n",
    "    def __init__(self, units=128, **kwargs):\n",
    "        self.units = units\n",
    "        super().__init__(**kwargs)\n",
    "        \n",
    "    def __call__(self, inputs):\n",
    "        \"\"\"\n",
    "        Keras的多对一注意力机制。\n",
    "        @param inputs: 3D tensor with shape (batch_size, time_steps, input_dim).\n",
    "        @return: 2D tensor with shape (batch_size, 128)\n",
    "        \"\"\"\n",
    "        \n",
    "        hidden_states = inputs\n",
    "        hidden_size = int(hidden_states.shape[2])  \n",
    "        \n",
    "        # Inside dense layer 内部全连接层\n",
    "        #              hidden_states            dot               W            =>           score_first_part\n",
    "        # (batch_size, time_steps, hidden_size) dot (hidden_size, hidden_size) => (batch_size, time_steps, hidden_size)\n",
    "        # W是可训练权重矩阵 \n",
    "        \n",
    "        score_first_part = Dense(hidden_size, use_bias=False)(hidden_states) \n",
    "        # 进行一次全连接，本质上没有太大意义，只是为了增加一下模型复杂度，\n",
    "        # 并且改变一下前T个时间步的特征表示,这里其实也可以不进行全连接，直接使用hidden_states\n",
    "        \n",
    "        #            score_first_part           dot        last_hidden_state     => attention_weights\n",
    "        # (batch_size, time_steps, hidden_size) dot   (batch_size, hidden_size)  => (batch_size, time_steps)\n",
    "        # # 注意力，增加对最后一个时间步长的关注\n",
    "        \n",
    "        h_t = Lambda(lambda x: x[:, -1, :], output_shape=(hidden_size,))(hidden_states)  # 取出最后一个时间步的特征\n",
    "        score = Dot(axes=[1, 2])([h_t, score_first_part])  # 将最后一个时间步长与前T个时间步长进行点积\n",
    "        attention_weights = Activation('softmax')(score)   # 求权重（将权值通过softmax进行归一化，得到直接可用的权重）\n",
    "        \n",
    "        \n",
    "        # (batch_size, time_steps, hidden_size) dot (batch_size, time_steps) => (batch_size, hidden_size)\n",
    "        context_vector = Dot(axes=[1, 1])([hidden_states, attention_weights])  # 上下文向量\n",
    "        pre_activation = Concatenate()([context_vector, h_t]) #再次将最后一个时间步的信息加入，本质上是一个残差连接，这步可以省略\n",
    "        attention_vector = Dense(self.units, use_bias=False, activation='tanh')(pre_activation) # 用一个全连接层进行合并\n",
    "        \n",
    "        print('注意力被执行了一次')\n",
    "        return attention_vector\n",
    "\n",
    "    def get_config(self):\n",
    "        return {'units': self.units}\n",
    "\n",
    "    @classmethod\n",
    "    def from_config(cls, config):\n",
    "        return cls(**config)"
   ]
  },
  {
   "cell_type": "markdown",
   "id": "c5d9bd86",
   "metadata": {},
   "source": [
    "## 模型"
   ]
  },
  {
   "cell_type": "code",
   "execution_count": 20,
   "id": "d1a19e57",
   "metadata": {
    "ExecuteTime": {
     "end_time": "2023-12-11T13:39:26.223095Z",
     "start_time": "2023-12-11T13:39:26.213107Z"
    },
    "code_folding": [
     0
    ]
   },
   "outputs": [],
   "source": [
    "def create_model():\n",
    "    # =========================================== CNN + CBAM ======================================== #\n",
    "    model_input= Input(shape=( 11, 11, 6))\n",
    "    output_size = 1\n",
    "    \n",
    "    x = cbam_block(model_input,6)\n",
    "    \n",
    "    x = Conv2D(filters=32, kernel_size=(3, 3),strides=1)(x)\n",
    "    x = BatchNormalization()(x)\n",
    "    x = Activation('relu')(x)\n",
    "    x = Dropout(rate=0.1)(x)\n",
    "\n",
    "    x = cbam_block(x,32)\n",
    "    \n",
    "    x = Conv2D(filters=64, kernel_size=(3, 3),strides=1)(x)\n",
    "    x = BatchNormalization()(x)\n",
    "    x = Activation('relu')(x)\n",
    "    x = Dropout(rate=0.1)(x)\n",
    "\n",
    "    x = cbam_block(x,64)\n",
    "    \n",
    "    x = Flatten()(x)\n",
    "    x = Dense(units=32,activation = 'relu')(x)\n",
    "    out = Dense(units=16,activation = 'relu')(x)\n",
    "    out = Dense(units=1)(x)\n",
    "    \n",
    "    # =========================================== LSTM =============================================== #\n",
    "    #MHA = tf.keras.layers.MultiHeadAttention(num_heads=8, key_dim=4)\n",
    "    \n",
    "    model2_input= Input(shape=(10,6))\n",
    "    \n",
    "    model2 = tf.keras.layers.Bidirectional(LSTM(64, return_sequences=True))(model2_input)   \n",
    "    model2 = Dropout(0.2)(model2)\n",
    "    \n",
    "    model2 = tf.keras.layers.Bidirectional(LSTM(32, return_sequences=True))(model2)\n",
    "\n",
    "    model2 = Attention()(model2)\n",
    "    \n",
    "    model2 = Flatten()(model2)\n",
    "    \n",
    "    out2 = Dense(1)(model2)\n",
    "    # =========================================== LSTM 2=============================================== #\n",
    "    \n",
    "    model3_input= Input(shape=(3,5))\n",
    "   \n",
    "    model3= tf.keras.layers.Bidirectional(LSTM(64, return_sequences=True))(model3_input)   \n",
    "    model3 = Dropout(0.2)(model3)\n",
    "    \n",
    "    model3 = tf.keras.layers.Bidirectional(LSTM(32, return_sequences=True))(model3)\n",
    "    model3 = Attention()(model3)\n",
    "    \n",
    "    model3 = Flatten()(model3)\n",
    "    \n",
    "    out3 = Dense(1)(model3)\n",
    "\n",
    "    \n",
    "    # ============================================ 合并 ========================================= #\n",
    "    ensemble = Concatenate()([out, out2])  \n",
    "    #ensemble=Dense(64)(ensemble) \n",
    "    ensemble=Dense(16)(ensemble) \n",
    "    merged_model=Dense(1)(ensemble) \n",
    "    \n",
    "    model = Model(inputs=[model_input,model2_input], outputs=merged_model)\n",
    "    #model = Model(inputs=model_input, outputs=out)\n",
    "    \n",
    "    #model.summary()\n",
    "    #model.compile(optimizer='adam', loss='mean_squared_error')\n",
    "    \n",
    "    return model "
   ]
  },
  {
   "cell_type": "code",
   "execution_count": 21,
   "id": "3caedeeb",
   "metadata": {
    "ExecuteTime": {
     "end_time": "2023-12-11T13:39:35.254562Z",
     "start_time": "2023-12-11T13:39:26.224090Z"
    }
   },
   "outputs": [
    {
     "name": "stdout",
     "output_type": "stream",
     "text": [
      "注意力被执行了一次\n",
      "注意力被执行了一次\n"
     ]
    }
   ],
   "source": [
    "model = create_model()\n",
    "#model.summary()"
   ]
  },
  {
   "cell_type": "markdown",
   "id": "dc8924bf",
   "metadata": {},
   "source": [
    "# 模型训练"
   ]
  },
  {
   "cell_type": "markdown",
   "id": "18961c96",
   "metadata": {},
   "source": [
    "## 对指定层进行训练"
   ]
  },
  {
   "cell_type": "code",
   "execution_count": 26,
   "id": "eeb331e0",
   "metadata": {
    "ExecuteTime": {
     "end_time": "2023-12-10T07:28:47.658039Z",
     "start_time": "2023-12-10T07:28:47.643063Z"
    }
   },
   "outputs": [],
   "source": [
    "# initial_learning_rate = 0.0005\n",
    "# optimizer = tf.keras.optimizers.Adam(learning_rate=initial_learning_rate)\n",
    "\n",
    "\n",
    "model.compile(optimizer='adam', loss='mean_squared_error')\n",
    "checkpoint_path='../model/cnn_lstm_jc_newVariable_sali/cnn_lstm_jc_model_newVariable_sali1000m_2.h5'\n",
    "keras_callbacks   = [\n",
    "      EarlyStopping(monitor='val_loss', patience=30, mode='min', min_delta=0.001),\n",
    "      ModelCheckpoint(checkpoint_path, monitor='val_loss', save_best_only=True, mode='min')\n",
    "]"
   ]
  },
  {
   "cell_type": "code",
   "execution_count": 27,
   "id": "024d2b7c",
   "metadata": {
    "ExecuteTime": {
     "end_time": "2023-12-10T07:31:56.839777Z",
     "start_time": "2023-12-10T07:31:09.854380Z"
    }
   },
   "outputs": [
    {
     "name": "stdout",
     "output_type": "stream",
     "text": [
      "(8230527, 11, 11, 6)\n",
      "(8230527, 10, 6)\n",
      "(3527370, 11, 11, 6)\n",
      "(3527370, 10, 6)\n"
     ]
    }
   ],
   "source": [
    "input_cnn_train = np.concatenate((x_cnn_train_split[:,:,:,:5],x_cnn_train_split[:,:,:,9:]),axis=-1) \n",
    "input_lstm_train = np.concatenate((x_lstm_train_split[:,:,:5],x_lstm_train_split[:,:,9:]),axis=-1)\n",
    "print(input_cnn_train.shape)\n",
    "print(input_lstm_train.shape)\n",
    "\n",
    "input_cnn_val = np.concatenate((x_cnn_val[:,:,:,:5],x_cnn_val[:,:,:,9:]),axis=-1)  \n",
    "input_lstm_val = np.concatenate((x_lstm_val[:,:,:5],x_lstm_val[:,:,9:]),axis=-1)  \n",
    "print(input_cnn_val.shape)\n",
    "print(input_lstm_val.shape)"
   ]
  },
  {
   "cell_type": "code",
   "execution_count": 28,
   "id": "70663cb3",
   "metadata": {
    "ExecuteTime": {
     "end_time": "2023-12-10T09:15:57.576686Z",
     "start_time": "2023-12-10T07:32:13.573398Z"
    },
    "collapsed": true
   },
   "outputs": [
    {
     "name": "stdout",
     "output_type": "stream",
     "text": [
      "Epoch 1/1000\n",
      "804/804 - 112s - loss: 0.1011 - val_loss: 0.0414\n",
      "Epoch 2/1000\n",
      "804/804 - 82s - loss: 0.0298 - val_loss: 0.0219\n",
      "Epoch 3/1000\n",
      "804/804 - 82s - loss: 0.0202 - val_loss: 0.0172\n",
      "Epoch 4/1000\n",
      "804/804 - 82s - loss: 0.0169 - val_loss: 0.0147\n",
      "Epoch 5/1000\n",
      "804/804 - 82s - loss: 0.0150 - val_loss: 0.0134\n",
      "Epoch 6/1000\n",
      "804/804 - 82s - loss: 0.0138 - val_loss: 0.0122\n",
      "Epoch 7/1000\n",
      "804/804 - 82s - loss: 0.0128 - val_loss: 0.0118\n",
      "Epoch 8/1000\n",
      "804/804 - 82s - loss: 0.0121 - val_loss: 0.0109\n",
      "Epoch 9/1000\n",
      "804/804 - 83s - loss: 0.0115 - val_loss: 0.0103\n",
      "Epoch 10/1000\n",
      "804/804 - 83s - loss: 0.0111 - val_loss: 0.0098\n",
      "Epoch 11/1000\n",
      "804/804 - 82s - loss: 0.0107 - val_loss: 0.0098\n",
      "Epoch 12/1000\n",
      "804/804 - 83s - loss: 0.0103 - val_loss: 0.0091\n",
      "Epoch 13/1000\n",
      "804/804 - 83s - loss: 0.0100 - val_loss: 0.0090\n",
      "Epoch 14/1000\n",
      "804/804 - 83s - loss: 0.0097 - val_loss: 0.0085\n",
      "Epoch 15/1000\n",
      "804/804 - 83s - loss: 0.0095 - val_loss: 0.0086\n",
      "Epoch 16/1000\n",
      "804/804 - 82s - loss: 0.0092 - val_loss: 0.0081\n",
      "Epoch 17/1000\n",
      "804/804 - 82s - loss: 0.0090 - val_loss: 0.0079\n",
      "Epoch 18/1000\n",
      "804/804 - 83s - loss: 0.0088 - val_loss: 0.0080\n",
      "Epoch 19/1000\n",
      "804/804 - 82s - loss: 0.0086 - val_loss: 0.0075\n",
      "Epoch 20/1000\n",
      "804/804 - 82s - loss: 0.0085 - val_loss: 0.0074\n",
      "Epoch 21/1000\n",
      "804/804 - 83s - loss: 0.0083 - val_loss: 0.0073\n",
      "Epoch 22/1000\n",
      "804/804 - 83s - loss: 0.0082 - val_loss: 0.0071\n",
      "Epoch 23/1000\n",
      "804/804 - 82s - loss: 0.0081 - val_loss: 0.0071\n",
      "Epoch 24/1000\n",
      "804/804 - 82s - loss: 0.0079 - val_loss: 0.0069\n",
      "Epoch 25/1000\n",
      "804/804 - 83s - loss: 0.0078 - val_loss: 0.0067\n",
      "Epoch 26/1000\n",
      "804/804 - 82s - loss: 0.0077 - val_loss: 0.0070\n",
      "Epoch 27/1000\n",
      "804/804 - 82s - loss: 0.0076 - val_loss: 0.0066\n",
      "Epoch 28/1000\n",
      "804/804 - 83s - loss: 0.0075 - val_loss: 0.0066\n",
      "Epoch 29/1000\n",
      "804/804 - 82s - loss: 0.0074 - val_loss: 0.0064\n",
      "Epoch 30/1000\n",
      "804/804 - 83s - loss: 0.0073 - val_loss: 0.0064\n",
      "Epoch 31/1000\n",
      "804/804 - 83s - loss: 0.0072 - val_loss: 0.0062\n",
      "Epoch 32/1000\n",
      "804/804 - 83s - loss: 0.0072 - val_loss: 0.0063\n",
      "Epoch 33/1000\n",
      "804/804 - 83s - loss: 0.0071 - val_loss: 0.0063\n",
      "Epoch 34/1000\n",
      "804/804 - 82s - loss: 0.0070 - val_loss: 0.0062\n",
      "Epoch 35/1000\n",
      "804/804 - 82s - loss: 0.0070 - val_loss: 0.0061\n",
      "Epoch 36/1000\n",
      "804/804 - 83s - loss: 0.0069 - val_loss: 0.0060\n",
      "Epoch 37/1000\n",
      "804/804 - 83s - loss: 0.0068 - val_loss: 0.0058\n",
      "Epoch 38/1000\n",
      "804/804 - 82s - loss: 0.0068 - val_loss: 0.0060\n",
      "Epoch 39/1000\n",
      "804/804 - 82s - loss: 0.0067 - val_loss: 0.0058\n",
      "Epoch 40/1000\n",
      "804/804 - 82s - loss: 0.0067 - val_loss: 0.0057\n",
      "Epoch 41/1000\n",
      "804/804 - 83s - loss: 0.0066 - val_loss: 0.0057\n",
      "Epoch 42/1000\n",
      "804/804 - 83s - loss: 0.0066 - val_loss: 0.0055\n",
      "Epoch 43/1000\n",
      "804/804 - 83s - loss: 0.0065 - val_loss: 0.0057\n",
      "Epoch 44/1000\n",
      "804/804 - 83s - loss: 0.0065 - val_loss: 0.0055\n",
      "Epoch 45/1000\n",
      "804/804 - 83s - loss: 0.0064 - val_loss: 0.0054\n",
      "Epoch 46/1000\n",
      "804/804 - 83s - loss: 0.0064 - val_loss: 0.0055\n",
      "Epoch 47/1000\n",
      "804/804 - 82s - loss: 0.0063 - val_loss: 0.0053\n",
      "Epoch 48/1000\n",
      "804/804 - 83s - loss: 0.0063 - val_loss: 0.0052\n",
      "Epoch 49/1000\n",
      "804/804 - 83s - loss: 0.0063 - val_loss: 0.0055\n",
      "Epoch 50/1000\n",
      "804/804 - 83s - loss: 0.0062 - val_loss: 0.0054\n",
      "Epoch 51/1000\n",
      "804/804 - 82s - loss: 0.0062 - val_loss: 0.0052\n",
      "Epoch 52/1000\n",
      "804/804 - 83s - loss: 0.0061 - val_loss: 0.0051\n",
      "Epoch 53/1000\n",
      "804/804 - 83s - loss: 0.0061 - val_loss: 0.0052\n",
      "Epoch 54/1000\n",
      "804/804 - 83s - loss: 0.0061 - val_loss: 0.0052\n",
      "Epoch 55/1000\n",
      "804/804 - 83s - loss: 0.0060 - val_loss: 0.0054\n",
      "Epoch 56/1000\n",
      "804/804 - 83s - loss: 0.0060 - val_loss: 0.0050\n",
      "Epoch 57/1000\n",
      "804/804 - 83s - loss: 0.0060 - val_loss: 0.0050\n",
      "Epoch 58/1000\n",
      "804/804 - 83s - loss: 0.0059 - val_loss: 0.0052\n",
      "Epoch 59/1000\n",
      "804/804 - 82s - loss: 0.0059 - val_loss: 0.0049\n",
      "Epoch 60/1000\n",
      "804/804 - 82s - loss: 0.0059 - val_loss: 0.0049\n",
      "Epoch 61/1000\n",
      "804/804 - 82s - loss: 0.0059 - val_loss: 0.0049\n",
      "Epoch 62/1000\n",
      "804/804 - 82s - loss: 0.0058 - val_loss: 0.0048\n",
      "Epoch 63/1000\n",
      "804/804 - 82s - loss: 0.0058 - val_loss: 0.0050\n",
      "Epoch 64/1000\n",
      "804/804 - 81s - loss: 0.0058 - val_loss: 0.0048\n",
      "Epoch 65/1000\n",
      "804/804 - 82s - loss: 0.0058 - val_loss: 0.0048\n",
      "Epoch 66/1000\n",
      "804/804 - 82s - loss: 0.0057 - val_loss: 0.0048\n",
      "Epoch 67/1000\n",
      "804/804 - 82s - loss: 0.0057 - val_loss: 0.0047\n",
      "Epoch 68/1000\n",
      "804/804 - 82s - loss: 0.0057 - val_loss: 0.0047\n",
      "Epoch 69/1000\n",
      "804/804 - 81s - loss: 0.0057 - val_loss: 0.0047\n",
      "Epoch 70/1000\n",
      "804/804 - 82s - loss: 0.0056 - val_loss: 0.0046\n",
      "Epoch 71/1000\n",
      "804/804 - 82s - loss: 0.0056 - val_loss: 0.0047\n",
      "Epoch 72/1000\n",
      "804/804 - 81s - loss: 0.0056 - val_loss: 0.0046\n",
      "Epoch 73/1000\n",
      "804/804 - 81s - loss: 0.0055 - val_loss: 0.0046\n",
      "Epoch 74/1000\n",
      "804/804 - 81s - loss: 0.0055 - val_loss: 0.0047\n",
      "Epoch 75/1000\n",
      "804/804 - 82s - loss: 0.0055 - val_loss: 0.0047\n"
     ]
    }
   ],
   "source": [
    "num_epochs = 1000\n",
    "batch_size = 10240\n",
    "\n",
    "\n",
    "history = model.fit([input_cnn_train,input_lstm_train], y_train_split[:,14:15],\n",
    "                    validation_data=([input_cnn_val,input_lstm_val],y_val[:,14:15]),\n",
    "                    epochs=num_epochs, batch_size=batch_size, verbose=2, callbacks=keras_callbacks)"
   ]
  },
  {
   "cell_type": "markdown",
   "id": "368523c0",
   "metadata": {},
   "source": [
    "## 对所有层进行训练"
   ]
  },
  {
   "cell_type": "code",
   "execution_count": 22,
   "id": "2ed3a5c7",
   "metadata": {
    "ExecuteTime": {
     "end_time": "2023-12-11T13:39:35.261551Z",
     "start_time": "2023-12-11T13:39:35.255561Z"
    },
    "code_folding": []
   },
   "outputs": [],
   "source": [
    "def train_model(x_train1,x_train2,y_train,x_val1,x_val2,y_val,name):\n",
    "    # 创建网络\n",
    "    model = create_model()\n",
    "    # 编译网络\n",
    "    model.compile(optimizer='adam', loss='mean_squared_error')\n",
    "    checkpoint_path=name\n",
    "    keras_callbacks   = [\n",
    "          EarlyStopping(monitor='val_loss', patience=30, mode='min', min_delta=0.001),\n",
    "          ModelCheckpoint(checkpoint_path, monitor='val_loss', save_best_only=True, mode='min')\n",
    "    ]\n",
    "    \n",
    "    model.fit([x_train1,x_train2], y_train, \n",
    "        validation_data=([x_val1,x_val2],y_val),\n",
    "        epochs=1000, batch_size=10240, verbose=2, callbacks=keras_callbacks)"
   ]
  },
  {
   "cell_type": "code",
   "execution_count": 23,
   "id": "20a26506",
   "metadata": {
    "ExecuteTime": {
     "end_time": "2023-12-11T13:39:35.267541Z",
     "start_time": "2023-12-11T13:39:35.262549Z"
    },
    "code_folding": [
     0
    ]
   },
   "outputs": [],
   "source": [
    "def train_cnn_model(x_train,y_train,x_val,y_val,name):\n",
    "    # 创建网络\n",
    "    model = create_model()\n",
    "    # 编译网络\n",
    "    model.compile(optimizer='adam', loss='mean_squared_error')\n",
    "    checkpoint_path=name\n",
    "    keras_callbacks   = [\n",
    "          EarlyStopping(monitor='val_loss', patience=30, mode='min', min_delta=0.001),\n",
    "          ModelCheckpoint(checkpoint_path, monitor='val_loss', save_best_only=True, mode='min')\n",
    "    ]\n",
    "    \n",
    "    model.fit(x_train, y_train, \n",
    "        validation_data=(x_val,y_val),\n",
    "        epochs=1000, batch_size=10240, verbose=2, callbacks=keras_callbacks)"
   ]
  },
  {
   "cell_type": "code",
   "execution_count": 24,
   "id": "7ed70d90",
   "metadata": {
    "ExecuteTime": {
     "end_time": "2023-12-11T13:39:35.273532Z",
     "start_time": "2023-12-11T13:39:35.268540Z"
    },
    "code_folding": [
     0
    ]
   },
   "outputs": [],
   "source": [
    "def train_lstm_model(x_train,y_train,x_val,y_val,name):\n",
    "    # 创建网络\n",
    "    model = create_model()\n",
    "    # 编译网络\n",
    "    model.compile(optimizer='adam', loss='mean_squared_error')\n",
    "    checkpoint_path=name\n",
    "    keras_callbacks   = [\n",
    "          EarlyStopping(monitor='val_loss', patience=30, mode='min', min_delta=0.001),\n",
    "          ModelCheckpoint(checkpoint_path, monitor='val_loss', save_best_only=True, mode='min')\n",
    "    ]\n",
    "    \n",
    "    model.fit(x_train, y_train, \n",
    "        validation_data=(x_val,y_val),\n",
    "        epochs=1000, batch_size=10240, verbose=2, callbacks=keras_callbacks)"
   ]
  },
  {
   "cell_type": "code",
   "execution_count": 23,
   "id": "83031180",
   "metadata": {
    "ExecuteTime": {
     "end_time": "2023-12-02T13:20:33.134859Z",
     "start_time": "2023-12-02T13:20:33.130866Z"
    },
    "code_folding": [
     0
    ]
   },
   "outputs": [],
   "source": [
    "# input_cnn_train = np.concatenate((x_cnn_train_split[:,:,:,:5],x_cnn_train_split[:,:,:,9:]),axis=-1) \n",
    "# input_lstm_train = np.concatenate((x_lstm_train_split[:,:,:5],x_lstm_train_split[:,:,9:]),axis=-1)\n",
    "# print(input_cnn_train.shape)\n",
    "# print(input_lstm_train.shape)\n",
    "\n",
    "# input_cnn_val = np.concatenate((x_cnn_val[:,:,:,:5],x_cnn_val[:,:,:,9:]),axis=-1)  \n",
    "# input_lstm_val = np.concatenate((x_lstm_val[:,:,:5],x_lstm_val[:,:,9:]),axis=-1)  \n",
    "# print(input_cnn_val.shape)\n",
    "# print(input_lstm_val.shape)"
   ]
  },
  {
   "cell_type": "code",
   "execution_count": 24,
   "id": "324f511c",
   "metadata": {
    "ExecuteTime": {
     "end_time": "2023-12-02T13:20:33.539209Z",
     "start_time": "2023-12-02T13:20:33.534217Z"
    }
   },
   "outputs": [
    {
     "data": {
      "text/plain": [
       "(8275982, 15)"
      ]
     },
     "execution_count": 24,
     "metadata": {},
     "output_type": "execute_result"
    }
   ],
   "source": [
    "y_train_split.shape"
   ]
  },
  {
   "cell_type": "code",
   "execution_count": null,
   "id": "da350a8f",
   "metadata": {},
   "outputs": [],
   "source": []
  },
  {
   "cell_type": "markdown",
   "id": "6ddd5ae0",
   "metadata": {},
   "source": [
    "### 600-1000m 训练"
   ]
  },
  {
   "cell_type": "code",
   "execution_count": 21,
   "id": "dca64cb9",
   "metadata": {
    "ExecuteTime": {
     "end_time": "2023-12-09T21:43:39.080082Z",
     "start_time": "2023-12-09T12:47:59.217772Z"
    },
    "code_folding": [
     0
    ],
    "collapsed": true
   },
   "outputs": [
    {
     "name": "stdout",
     "output_type": "stream",
     "text": [
      "注意力被执行了一次\n",
      "注意力被执行了一次\n",
      "Epoch 1/1000\n",
      "819/819 - 114s - loss: 0.0738 - val_loss: 0.0215\n",
      "Epoch 2/1000\n",
      "819/819 - 81s - loss: 0.0165 - val_loss: 0.0129\n",
      "Epoch 3/1000\n",
      "819/819 - 82s - loss: 0.0123 - val_loss: 0.0107\n",
      "Epoch 4/1000\n",
      "819/819 - 81s - loss: 0.0108 - val_loss: 0.0096\n",
      "Epoch 5/1000\n",
      "819/819 - 81s - loss: 0.0100 - val_loss: 0.0092\n",
      "Epoch 6/1000\n",
      "819/819 - 81s - loss: 0.0094 - val_loss: 0.0084\n",
      "Epoch 7/1000\n",
      "819/819 - 81s - loss: 0.0089 - val_loss: 0.0082\n",
      "Epoch 8/1000\n",
      "819/819 - 81s - loss: 0.0085 - val_loss: 0.0086\n",
      "Epoch 9/1000\n",
      "819/819 - 81s - loss: 0.0081 - val_loss: 0.0075\n",
      "Epoch 10/1000\n",
      "819/819 - 81s - loss: 0.0078 - val_loss: 0.0070\n",
      "Epoch 11/1000\n",
      "819/819 - 81s - loss: 0.0075 - val_loss: 0.0068\n",
      "Epoch 12/1000\n",
      "819/819 - 81s - loss: 0.0073 - val_loss: 0.0066\n",
      "Epoch 13/1000\n",
      "819/819 - 81s - loss: 0.0070 - val_loss: 0.0062\n",
      "Epoch 14/1000\n",
      "819/819 - 81s - loss: 0.0068 - val_loss: 0.0061\n",
      "Epoch 15/1000\n",
      "819/819 - 81s - loss: 0.0066 - val_loss: 0.0059\n",
      "Epoch 16/1000\n",
      "819/819 - 81s - loss: 0.0064 - val_loss: 0.0058\n",
      "Epoch 17/1000\n",
      "819/819 - 81s - loss: 0.0063 - val_loss: 0.0057\n",
      "Epoch 18/1000\n",
      "819/819 - 81s - loss: 0.0061 - val_loss: 0.0054\n",
      "Epoch 19/1000\n",
      "819/819 - 80s - loss: 0.0060 - val_loss: 0.0052\n",
      "Epoch 20/1000\n",
      "819/819 - 81s - loss: 0.0059 - val_loss: 0.0052\n",
      "Epoch 21/1000\n",
      "819/819 - 80s - loss: 0.0057 - val_loss: 0.0051\n",
      "Epoch 22/1000\n",
      "819/819 - 81s - loss: 0.0056 - val_loss: 0.0050\n",
      "Epoch 23/1000\n",
      "819/819 - 81s - loss: 0.0055 - val_loss: 0.0049\n",
      "Epoch 24/1000\n",
      "819/819 - 81s - loss: 0.0054 - val_loss: 0.0046\n",
      "Epoch 25/1000\n",
      "819/819 - 81s - loss: 0.0053 - val_loss: 0.0048\n",
      "Epoch 26/1000\n",
      "819/819 - 80s - loss: 0.0052 - val_loss: 0.0046\n",
      "Epoch 27/1000\n",
      "819/819 - 81s - loss: 0.0051 - val_loss: 0.0046\n",
      "Epoch 28/1000\n",
      "819/819 - 81s - loss: 0.0050 - val_loss: 0.0043\n",
      "Epoch 29/1000\n",
      "819/819 - 81s - loss: 0.0050 - val_loss: 0.0044\n",
      "Epoch 30/1000\n",
      "819/819 - 80s - loss: 0.0049 - val_loss: 0.0043\n",
      "Epoch 31/1000\n",
      "819/819 - 81s - loss: 0.0048 - val_loss: 0.0044\n",
      "Epoch 32/1000\n",
      "819/819 - 80s - loss: 0.0048 - val_loss: 0.0044\n",
      "Epoch 33/1000\n",
      "819/819 - 81s - loss: 0.0047 - val_loss: 0.0041\n",
      "Epoch 34/1000\n",
      "819/819 - 81s - loss: 0.0046 - val_loss: 0.0040\n",
      "Epoch 35/1000\n",
      "819/819 - 81s - loss: 0.0046 - val_loss: 0.0041\n",
      "Epoch 36/1000\n",
      "819/819 - 81s - loss: 0.0046 - val_loss: 0.0040\n",
      "Epoch 37/1000\n",
      "819/819 - 81s - loss: 0.0045 - val_loss: 0.0038\n",
      "Epoch 38/1000\n",
      "819/819 - 81s - loss: 0.0045 - val_loss: 0.0039\n",
      "Epoch 39/1000\n",
      "819/819 - 81s - loss: 0.0044 - val_loss: 0.0038\n",
      "Epoch 40/1000\n",
      "819/819 - 81s - loss: 0.0044 - val_loss: 0.0037\n",
      "Epoch 41/1000\n",
      "819/819 - 81s - loss: 0.0043 - val_loss: 0.0037\n",
      "Epoch 42/1000\n",
      "819/819 - 81s - loss: 0.0043 - val_loss: 0.0036\n",
      "Epoch 43/1000\n",
      "819/819 - 80s - loss: 0.0043 - val_loss: 0.0036\n",
      "Epoch 44/1000\n",
      "819/819 - 80s - loss: 0.0042 - val_loss: 0.0035\n",
      "Epoch 45/1000\n",
      "819/819 - 80s - loss: 0.0042 - val_loss: 0.0035\n",
      "Epoch 46/1000\n",
      "819/819 - 80s - loss: 0.0042 - val_loss: 0.0035\n",
      "Epoch 47/1000\n",
      "819/819 - 81s - loss: 0.0041 - val_loss: 0.0035\n",
      "Epoch 48/1000\n",
      "819/819 - 81s - loss: 0.0041 - val_loss: 0.0035\n",
      "Epoch 49/1000\n",
      "819/819 - 81s - loss: 0.0041 - val_loss: 0.0034\n",
      "Epoch 50/1000\n",
      "819/819 - 81s - loss: 0.0040 - val_loss: 0.0034\n",
      "Epoch 51/1000\n",
      "819/819 - 81s - loss: 0.0040 - val_loss: 0.0035\n",
      "Epoch 52/1000\n",
      "819/819 - 81s - loss: 0.0040 - val_loss: 0.0033\n",
      "Epoch 53/1000\n",
      "819/819 - 81s - loss: 0.0040 - val_loss: 0.0033\n",
      "Epoch 54/1000\n",
      "819/819 - 81s - loss: 0.0039 - val_loss: 0.0033\n",
      "Epoch 55/1000\n",
      "819/819 - 81s - loss: 0.0039 - val_loss: 0.0033\n",
      "Epoch 56/1000\n",
      "819/819 - 81s - loss: 0.0039 - val_loss: 0.0032\n",
      "Epoch 57/1000\n",
      "819/819 - 81s - loss: 0.0038 - val_loss: 0.0033\n",
      "Epoch 58/1000\n",
      "819/819 - 81s - loss: 0.0038 - val_loss: 0.0032\n",
      "Epoch 59/1000\n",
      "819/819 - 81s - loss: 0.0038 - val_loss: 0.0031\n",
      "Epoch 60/1000\n",
      "819/819 - 80s - loss: 0.0038 - val_loss: 0.0031\n",
      "Epoch 61/1000\n",
      "819/819 - 81s - loss: 0.0037 - val_loss: 0.0031\n",
      "Epoch 62/1000\n",
      "819/819 - 81s - loss: 0.0037 - val_loss: 0.0031\n",
      "Epoch 63/1000\n",
      "819/819 - 81s - loss: 0.0037 - val_loss: 0.0031\n",
      "Epoch 64/1000\n",
      "819/819 - 80s - loss: 0.0037 - val_loss: 0.0032\n",
      "Epoch 65/1000\n",
      "819/819 - 81s - loss: 0.0037 - val_loss: 0.0031\n",
      "Epoch 66/1000\n",
      "819/819 - 81s - loss: 0.0037 - val_loss: 0.0031\n",
      "Epoch 67/1000\n",
      "819/819 - 81s - loss: 0.0036 - val_loss: 0.0030\n",
      "Epoch 68/1000\n",
      "819/819 - 81s - loss: 0.0036 - val_loss: 0.0030\n",
      "Epoch 69/1000\n",
      "819/819 - 81s - loss: 0.0036 - val_loss: 0.0030\n",
      "Epoch 70/1000\n",
      "819/819 - 81s - loss: 0.0036 - val_loss: 0.0030\n",
      "Epoch 71/1000\n",
      "819/819 - 81s - loss: 0.0036 - val_loss: 0.0030\n",
      "Epoch 72/1000\n",
      "819/819 - 80s - loss: 0.0036 - val_loss: 0.0029\n",
      "注意力被执行了一次\n",
      "注意力被执行了一次\n",
      "Epoch 1/1000\n",
      "819/819 - 97s - loss: 0.0744 - val_loss: 0.0191\n",
      "Epoch 2/1000\n",
      "819/819 - 83s - loss: 0.0146 - val_loss: 0.0121\n",
      "Epoch 3/1000\n",
      "819/819 - 83s - loss: 0.0112 - val_loss: 0.0098\n",
      "Epoch 4/1000\n",
      "819/819 - 83s - loss: 0.0100 - val_loss: 0.0095\n",
      "Epoch 5/1000\n",
      "819/819 - 83s - loss: 0.0093 - val_loss: 0.0083\n",
      "Epoch 6/1000\n",
      "819/819 - 83s - loss: 0.0087 - val_loss: 0.0078\n",
      "Epoch 7/1000\n",
      "819/819 - 83s - loss: 0.0082 - val_loss: 0.0074\n",
      "Epoch 8/1000\n",
      "819/819 - 83s - loss: 0.0079 - val_loss: 0.0072\n",
      "Epoch 9/1000\n",
      "819/819 - 84s - loss: 0.0075 - val_loss: 0.0068\n",
      "Epoch 10/1000\n",
      "819/819 - 83s - loss: 0.0072 - val_loss: 0.0066\n",
      "Epoch 11/1000\n",
      "819/819 - 83s - loss: 0.0070 - val_loss: 0.0062\n",
      "Epoch 12/1000\n",
      "819/819 - 83s - loss: 0.0067 - val_loss: 0.0061\n",
      "Epoch 13/1000\n",
      "819/819 - 83s - loss: 0.0065 - val_loss: 0.0058\n",
      "Epoch 14/1000\n",
      "819/819 - 82s - loss: 0.0063 - val_loss: 0.0056\n",
      "Epoch 15/1000\n",
      "819/819 - 84s - loss: 0.0062 - val_loss: 0.0056\n",
      "Epoch 16/1000\n",
      "819/819 - 84s - loss: 0.0060 - val_loss: 0.0054\n",
      "Epoch 17/1000\n",
      "819/819 - 83s - loss: 0.0059 - val_loss: 0.0052\n",
      "Epoch 18/1000\n",
      "819/819 - 83s - loss: 0.0058 - val_loss: 0.0052\n",
      "Epoch 19/1000\n",
      "819/819 - 83s - loss: 0.0056 - val_loss: 0.0051\n",
      "Epoch 20/1000\n",
      "819/819 - 83s - loss: 0.0055 - val_loss: 0.0051\n",
      "Epoch 21/1000\n",
      "819/819 - 84s - loss: 0.0054 - val_loss: 0.0047\n",
      "Epoch 22/1000\n",
      "819/819 - 83s - loss: 0.0053 - val_loss: 0.0047\n",
      "Epoch 23/1000\n",
      "819/819 - 82s - loss: 0.0052 - val_loss: 0.0046\n",
      "Epoch 24/1000\n",
      "819/819 - 83s - loss: 0.0052 - val_loss: 0.0046\n",
      "Epoch 25/1000\n",
      "819/819 - 83s - loss: 0.0051 - val_loss: 0.0046\n",
      "Epoch 26/1000\n",
      "819/819 - 83s - loss: 0.0050 - val_loss: 0.0044\n",
      "Epoch 27/1000\n",
      "819/819 - 84s - loss: 0.0049 - val_loss: 0.0043\n",
      "Epoch 28/1000\n",
      "819/819 - 83s - loss: 0.0048 - val_loss: 0.0043\n",
      "Epoch 29/1000\n",
      "819/819 - 83s - loss: 0.0048 - val_loss: 0.0041\n",
      "Epoch 30/1000\n",
      "819/819 - 83s - loss: 0.0047 - val_loss: 0.0041\n",
      "Epoch 31/1000\n",
      "819/819 - 83s - loss: 0.0046 - val_loss: 0.0040\n",
      "Epoch 32/1000\n",
      "819/819 - 83s - loss: 0.0046 - val_loss: 0.0040\n",
      "Epoch 33/1000\n",
      "819/819 - 83s - loss: 0.0045 - val_loss: 0.0039\n",
      "Epoch 34/1000\n",
      "819/819 - 84s - loss: 0.0045 - val_loss: 0.0039\n",
      "Epoch 35/1000\n",
      "819/819 - 82s - loss: 0.0044 - val_loss: 0.0038\n",
      "Epoch 36/1000\n",
      "819/819 - 83s - loss: 0.0043 - val_loss: 0.0037\n",
      "Epoch 37/1000\n",
      "819/819 - 82s - loss: 0.0043 - val_loss: 0.0037\n",
      "Epoch 38/1000\n",
      "819/819 - 83s - loss: 0.0043 - val_loss: 0.0037\n",
      "Epoch 39/1000\n",
      "819/819 - 84s - loss: 0.0042 - val_loss: 0.0037\n",
      "Epoch 40/1000\n",
      "819/819 - 84s - loss: 0.0042 - val_loss: 0.0036\n",
      "Epoch 41/1000\n",
      "819/819 - 83s - loss: 0.0041 - val_loss: 0.0037\n",
      "Epoch 42/1000\n",
      "819/819 - 83s - loss: 0.0041 - val_loss: 0.0036\n",
      "Epoch 43/1000\n",
      "819/819 - 83s - loss: 0.0041 - val_loss: 0.0034\n",
      "Epoch 44/1000\n",
      "819/819 - 82s - loss: 0.0040 - val_loss: 0.0034\n",
      "Epoch 45/1000\n",
      "819/819 - 83s - loss: 0.0040 - val_loss: 0.0034\n",
      "Epoch 46/1000\n",
      "819/819 - 83s - loss: 0.0040 - val_loss: 0.0034\n",
      "Epoch 47/1000\n",
      "819/819 - 83s - loss: 0.0039 - val_loss: 0.0033\n",
      "Epoch 48/1000\n",
      "819/819 - 83s - loss: 0.0039 - val_loss: 0.0033\n",
      "Epoch 49/1000\n",
      "819/819 - 84s - loss: 0.0039 - val_loss: 0.0033\n",
      "Epoch 50/1000\n",
      "819/819 - 84s - loss: 0.0039 - val_loss: 0.0033\n",
      "Epoch 51/1000\n",
      "819/819 - 83s - loss: 0.0038 - val_loss: 0.0032\n",
      "Epoch 52/1000\n",
      "819/819 - 83s - loss: 0.0038 - val_loss: 0.0032\n",
      "Epoch 53/1000\n",
      "819/819 - 83s - loss: 0.0038 - val_loss: 0.0032\n",
      "Epoch 54/1000\n",
      "819/819 - 83s - loss: 0.0038 - val_loss: 0.0032\n",
      "Epoch 55/1000\n",
      "819/819 - 83s - loss: 0.0037 - val_loss: 0.0032\n",
      "Epoch 56/1000\n",
      "819/819 - 83s - loss: 0.0037 - val_loss: 0.0031\n",
      "Epoch 57/1000\n",
      "819/819 - 82s - loss: 0.0037 - val_loss: 0.0031\n",
      "Epoch 58/1000\n",
      "819/819 - 83s - loss: 0.0037 - val_loss: 0.0032\n",
      "Epoch 59/1000\n",
      "819/819 - 82s - loss: 0.0036 - val_loss: 0.0031\n",
      "Epoch 60/1000\n",
      "819/819 - 83s - loss: 0.0037 - val_loss: 0.0031\n"
     ]
    },
    {
     "name": "stdout",
     "output_type": "stream",
     "text": [
      "Epoch 61/1000\n",
      "819/819 - 83s - loss: 0.0036 - val_loss: 0.0031\n",
      "Epoch 62/1000\n",
      "819/819 - 83s - loss: 0.0036 - val_loss: 0.0030\n",
      "Epoch 63/1000\n",
      "819/819 - 84s - loss: 0.0036 - val_loss: 0.0030\n",
      "Epoch 64/1000\n",
      "819/819 - 84s - loss: 0.0036 - val_loss: 0.0029\n",
      "Epoch 65/1000\n",
      "819/819 - 82s - loss: 0.0036 - val_loss: 0.0029\n",
      "Epoch 66/1000\n",
      "819/819 - 83s - loss: 0.0035 - val_loss: 0.0029\n",
      "Epoch 67/1000\n",
      "819/819 - 83s - loss: 0.0035 - val_loss: 0.0030\n",
      "Epoch 68/1000\n",
      "819/819 - 83s - loss: 0.0035 - val_loss: 0.0030\n",
      "Epoch 69/1000\n",
      "819/819 - 83s - loss: 0.0035 - val_loss: 0.0029\n",
      "Epoch 70/1000\n",
      "819/819 - 82s - loss: 0.0035 - val_loss: 0.0029\n",
      "Epoch 71/1000\n",
      "819/819 - 82s - loss: 0.0035 - val_loss: 0.0029\n",
      "Epoch 72/1000\n",
      "819/819 - 83s - loss: 0.0034 - val_loss: 0.0030\n",
      "Epoch 73/1000\n",
      "819/819 - 83s - loss: 0.0034 - val_loss: 0.0028\n",
      "Epoch 74/1000\n",
      "819/819 - 83s - loss: 0.0034 - val_loss: 0.0028\n",
      "Epoch 75/1000\n",
      "819/819 - 83s - loss: 0.0034 - val_loss: 0.0028\n",
      "Epoch 76/1000\n",
      "819/819 - 83s - loss: 0.0034 - val_loss: 0.0029\n",
      "Epoch 77/1000\n",
      "819/819 - 83s - loss: 0.0034 - val_loss: 0.0028\n",
      "Epoch 78/1000\n",
      "819/819 - 83s - loss: 0.0033 - val_loss: 0.0029\n",
      "Epoch 79/1000\n",
      "819/819 - 83s - loss: 0.0033 - val_loss: 0.0028\n",
      "Epoch 80/1000\n",
      "819/819 - 84s - loss: 0.0033 - val_loss: 0.0028\n",
      "Epoch 81/1000\n",
      "819/819 - 83s - loss: 0.0033 - val_loss: 0.0028\n",
      "Epoch 82/1000\n",
      "819/819 - 83s - loss: 0.0033 - val_loss: 0.0027\n",
      "Epoch 83/1000\n",
      "819/819 - 83s - loss: 0.0033 - val_loss: 0.0027\n",
      "Epoch 84/1000\n",
      "819/819 - 83s - loss: 0.0033 - val_loss: 0.0027\n",
      "Epoch 85/1000\n",
      "819/819 - 83s - loss: 0.0033 - val_loss: 0.0027\n",
      "Epoch 86/1000\n",
      "819/819 - 83s - loss: 0.0033 - val_loss: 0.0028\n",
      "Epoch 87/1000\n",
      "819/819 - 83s - loss: 0.0033 - val_loss: 0.0027\n",
      "Epoch 88/1000\n",
      "819/819 - 83s - loss: 0.0032 - val_loss: 0.0028\n",
      "Epoch 89/1000\n",
      "819/819 - 83s - loss: 0.0032 - val_loss: 0.0027\n",
      "Epoch 90/1000\n",
      "819/819 - 83s - loss: 0.0032 - val_loss: 0.0026\n",
      "注意力被执行了一次\n",
      "注意力被执行了一次\n",
      "Epoch 1/1000\n",
      "819/819 - 97s - loss: 0.0818 - val_loss: 0.0254\n",
      "Epoch 2/1000\n",
      "819/819 - 81s - loss: 0.0183 - val_loss: 0.0135\n",
      "Epoch 3/1000\n",
      "819/819 - 81s - loss: 0.0128 - val_loss: 0.0110\n",
      "Epoch 4/1000\n",
      "819/819 - 81s - loss: 0.0110 - val_loss: 0.0097\n",
      "Epoch 5/1000\n",
      "819/819 - 81s - loss: 0.0101 - val_loss: 0.0094\n",
      "Epoch 6/1000\n",
      "819/819 - 81s - loss: 0.0094 - val_loss: 0.0086\n",
      "Epoch 7/1000\n",
      "819/819 - 81s - loss: 0.0089 - val_loss: 0.0078\n",
      "Epoch 8/1000\n",
      "819/819 - 81s - loss: 0.0084 - val_loss: 0.0077\n",
      "Epoch 9/1000\n",
      "819/819 - 81s - loss: 0.0081 - val_loss: 0.0073\n",
      "Epoch 10/1000\n",
      "819/819 - 81s - loss: 0.0077 - val_loss: 0.0070\n",
      "Epoch 11/1000\n",
      "819/819 - 81s - loss: 0.0074 - val_loss: 0.0066\n",
      "Epoch 12/1000\n",
      "819/819 - 81s - loss: 0.0072 - val_loss: 0.0064\n",
      "Epoch 13/1000\n",
      "819/819 - 81s - loss: 0.0070 - val_loss: 0.0063\n",
      "Epoch 14/1000\n",
      "819/819 - 81s - loss: 0.0067 - val_loss: 0.0060\n",
      "Epoch 15/1000\n",
      "819/819 - 81s - loss: 0.0066 - val_loss: 0.0060\n",
      "Epoch 16/1000\n",
      "819/819 - 81s - loss: 0.0064 - val_loss: 0.0057\n",
      "Epoch 17/1000\n",
      "819/819 - 81s - loss: 0.0062 - val_loss: 0.0054\n",
      "Epoch 18/1000\n",
      "819/819 - 81s - loss: 0.0061 - val_loss: 0.0055\n",
      "Epoch 19/1000\n",
      "819/819 - 81s - loss: 0.0060 - val_loss: 0.0055\n",
      "Epoch 20/1000\n",
      "819/819 - 81s - loss: 0.0058 - val_loss: 0.0051\n",
      "Epoch 21/1000\n",
      "819/819 - 81s - loss: 0.0057 - val_loss: 0.0050\n",
      "Epoch 22/1000\n",
      "819/819 - 81s - loss: 0.0056 - val_loss: 0.0051\n",
      "Epoch 23/1000\n",
      "819/819 - 81s - loss: 0.0055 - val_loss: 0.0048\n",
      "Epoch 24/1000\n",
      "819/819 - 81s - loss: 0.0054 - val_loss: 0.0050\n",
      "Epoch 25/1000\n",
      "819/819 - 81s - loss: 0.0053 - val_loss: 0.0045\n",
      "Epoch 26/1000\n",
      "819/819 - 81s - loss: 0.0052 - val_loss: 0.0045\n",
      "Epoch 27/1000\n",
      "819/819 - 81s - loss: 0.0052 - val_loss: 0.0046\n",
      "Epoch 28/1000\n",
      "819/819 - 81s - loss: 0.0051 - val_loss: 0.0043\n",
      "Epoch 29/1000\n",
      "819/819 - 81s - loss: 0.0050 - val_loss: 0.0045\n",
      "Epoch 30/1000\n",
      "819/819 - 81s - loss: 0.0050 - val_loss: 0.0044\n",
      "Epoch 31/1000\n",
      "819/819 - 81s - loss: 0.0049 - val_loss: 0.0042\n",
      "Epoch 32/1000\n",
      "819/819 - 81s - loss: 0.0048 - val_loss: 0.0042\n",
      "Epoch 33/1000\n",
      "819/819 - 81s - loss: 0.0048 - val_loss: 0.0040\n",
      "Epoch 34/1000\n",
      "819/819 - 81s - loss: 0.0047 - val_loss: 0.0040\n",
      "Epoch 35/1000\n",
      "819/819 - 81s - loss: 0.0047 - val_loss: 0.0041\n",
      "Epoch 36/1000\n",
      "819/819 - 81s - loss: 0.0046 - val_loss: 0.0040\n",
      "Epoch 37/1000\n",
      "819/819 - 81s - loss: 0.0046 - val_loss: 0.0040\n",
      "Epoch 38/1000\n",
      "819/819 - 81s - loss: 0.0045 - val_loss: 0.0039\n",
      "Epoch 39/1000\n",
      "819/819 - 81s - loss: 0.0045 - val_loss: 0.0039\n",
      "Epoch 40/1000\n",
      "819/819 - 81s - loss: 0.0045 - val_loss: 0.0039\n",
      "Epoch 41/1000\n",
      "819/819 - 81s - loss: 0.0044 - val_loss: 0.0037\n",
      "Epoch 42/1000\n",
      "819/819 - 81s - loss: 0.0044 - val_loss: 0.0037\n",
      "Epoch 43/1000\n",
      "819/819 - 81s - loss: 0.0043 - val_loss: 0.0037\n",
      "Epoch 44/1000\n",
      "819/819 - 81s - loss: 0.0043 - val_loss: 0.0037\n",
      "Epoch 45/1000\n",
      "819/819 - 81s - loss: 0.0043 - val_loss: 0.0037\n",
      "Epoch 46/1000\n",
      "819/819 - 81s - loss: 0.0042 - val_loss: 0.0036\n",
      "Epoch 47/1000\n",
      "819/819 - 81s - loss: 0.0042 - val_loss: 0.0037\n",
      "Epoch 48/1000\n",
      "819/819 - 81s - loss: 0.0042 - val_loss: 0.0036\n",
      "Epoch 49/1000\n",
      "819/819 - 81s - loss: 0.0042 - val_loss: 0.0036\n",
      "Epoch 50/1000\n",
      "819/819 - 81s - loss: 0.0041 - val_loss: 0.0035\n",
      "Epoch 51/1000\n",
      "819/819 - 81s - loss: 0.0041 - val_loss: 0.0036\n",
      "Epoch 52/1000\n",
      "819/819 - 81s - loss: 0.0041 - val_loss: 0.0036\n",
      "Epoch 53/1000\n",
      "819/819 - 81s - loss: 0.0041 - val_loss: 0.0036\n",
      "Epoch 54/1000\n",
      "819/819 - 81s - loss: 0.0040 - val_loss: 0.0034\n",
      "Epoch 55/1000\n",
      "819/819 - 81s - loss: 0.0040 - val_loss: 0.0034\n",
      "Epoch 56/1000\n",
      "819/819 - 81s - loss: 0.0040 - val_loss: 0.0033\n",
      "Epoch 57/1000\n",
      "819/819 - 81s - loss: 0.0040 - val_loss: 0.0035\n",
      "Epoch 58/1000\n",
      "819/819 - 81s - loss: 0.0040 - val_loss: 0.0033\n",
      "Epoch 59/1000\n",
      "819/819 - 81s - loss: 0.0039 - val_loss: 0.0033\n",
      "Epoch 60/1000\n",
      "819/819 - 81s - loss: 0.0039 - val_loss: 0.0033\n",
      "Epoch 61/1000\n",
      "819/819 - 81s - loss: 0.0039 - val_loss: 0.0033\n",
      "Epoch 62/1000\n",
      "819/819 - 81s - loss: 0.0039 - val_loss: 0.0033\n",
      "Epoch 63/1000\n",
      "819/819 - 81s - loss: 0.0039 - val_loss: 0.0032\n",
      "Epoch 64/1000\n",
      "819/819 - 81s - loss: 0.0038 - val_loss: 0.0034\n",
      "Epoch 65/1000\n",
      "819/819 - 81s - loss: 0.0038 - val_loss: 0.0034\n",
      "Epoch 66/1000\n",
      "819/819 - 81s - loss: 0.0038 - val_loss: 0.0032\n",
      "Epoch 67/1000\n",
      "819/819 - 81s - loss: 0.0038 - val_loss: 0.0031\n",
      "Epoch 68/1000\n",
      "819/819 - 81s - loss: 0.0038 - val_loss: 0.0032\n",
      "Epoch 69/1000\n",
      "819/819 - 81s - loss: 0.0038 - val_loss: 0.0032\n",
      "Epoch 70/1000\n",
      "819/819 - 81s - loss: 0.0038 - val_loss: 0.0032\n",
      "Epoch 71/1000\n",
      "819/819 - 81s - loss: 0.0037 - val_loss: 0.0033\n",
      "注意力被执行了一次\n",
      "注意力被执行了一次\n",
      "Epoch 1/1000\n",
      "819/819 - 95s - loss: 0.0878 - val_loss: 0.0260\n",
      "Epoch 2/1000\n",
      "819/819 - 80s - loss: 0.0197 - val_loss: 0.0151\n",
      "Epoch 3/1000\n",
      "819/819 - 80s - loss: 0.0144 - val_loss: 0.0124\n",
      "Epoch 4/1000\n",
      "819/819 - 80s - loss: 0.0124 - val_loss: 0.0112\n",
      "Epoch 5/1000\n",
      "819/819 - 81s - loss: 0.0113 - val_loss: 0.0102\n",
      "Epoch 6/1000\n",
      "819/819 - 81s - loss: 0.0105 - val_loss: 0.0092\n",
      "Epoch 7/1000\n",
      "819/819 - 80s - loss: 0.0099 - val_loss: 0.0090\n",
      "Epoch 8/1000\n",
      "819/819 - 80s - loss: 0.0094 - val_loss: 0.0084\n",
      "Epoch 9/1000\n",
      "819/819 - 81s - loss: 0.0089 - val_loss: 0.0080\n",
      "Epoch 10/1000\n",
      "819/819 - 81s - loss: 0.0085 - val_loss: 0.0078\n",
      "Epoch 11/1000\n",
      "819/819 - 81s - loss: 0.0082 - val_loss: 0.0073\n",
      "Epoch 12/1000\n",
      "819/819 - 81s - loss: 0.0080 - val_loss: 0.0072\n",
      "Epoch 13/1000\n",
      "819/819 - 81s - loss: 0.0077 - val_loss: 0.0068\n",
      "Epoch 14/1000\n",
      "819/819 - 81s - loss: 0.0075 - val_loss: 0.0066\n",
      "Epoch 15/1000\n",
      "819/819 - 81s - loss: 0.0073 - val_loss: 0.0066\n",
      "Epoch 16/1000\n",
      "819/819 - 81s - loss: 0.0071 - val_loss: 0.0066\n",
      "Epoch 17/1000\n",
      "819/819 - 81s - loss: 0.0069 - val_loss: 0.0061\n",
      "Epoch 18/1000\n",
      "819/819 - 81s - loss: 0.0068 - val_loss: 0.0060\n",
      "Epoch 19/1000\n",
      "819/819 - 81s - loss: 0.0066 - val_loss: 0.0058\n",
      "Epoch 20/1000\n",
      "819/819 - 81s - loss: 0.0065 - val_loss: 0.0057\n",
      "Epoch 21/1000\n",
      "819/819 - 81s - loss: 0.0064 - val_loss: 0.0056\n",
      "Epoch 22/1000\n",
      "819/819 - 81s - loss: 0.0062 - val_loss: 0.0055\n",
      "Epoch 23/1000\n",
      "819/819 - 80s - loss: 0.0062 - val_loss: 0.0054\n",
      "Epoch 24/1000\n",
      "819/819 - 81s - loss: 0.0060 - val_loss: 0.0059\n",
      "Epoch 25/1000\n",
      "819/819 - 81s - loss: 0.0059 - val_loss: 0.0051\n",
      "Epoch 26/1000\n",
      "819/819 - 81s - loss: 0.0058 - val_loss: 0.0050\n",
      "Epoch 27/1000\n",
      "819/819 - 81s - loss: 0.0057 - val_loss: 0.0050\n",
      "Epoch 28/1000\n",
      "819/819 - 81s - loss: 0.0057 - val_loss: 0.0049\n",
      "Epoch 29/1000\n",
      "819/819 - 81s - loss: 0.0056 - val_loss: 0.0049\n",
      "Epoch 30/1000\n",
      "819/819 - 81s - loss: 0.0055 - val_loss: 0.0047\n",
      "Epoch 31/1000\n",
      "819/819 - 81s - loss: 0.0054 - val_loss: 0.0046\n"
     ]
    },
    {
     "name": "stdout",
     "output_type": "stream",
     "text": [
      "Epoch 32/1000\n",
      "819/819 - 80s - loss: 0.0054 - val_loss: 0.0053\n",
      "Epoch 33/1000\n",
      "819/819 - 81s - loss: 0.0053 - val_loss: 0.0048\n",
      "Epoch 34/1000\n",
      "819/819 - 81s - loss: 0.0053 - val_loss: 0.0046\n",
      "Epoch 35/1000\n",
      "819/819 - 81s - loss: 0.0052 - val_loss: 0.0044\n",
      "Epoch 36/1000\n",
      "819/819 - 80s - loss: 0.0051 - val_loss: 0.0045\n",
      "Epoch 37/1000\n",
      "819/819 - 80s - loss: 0.0051 - val_loss: 0.0043\n",
      "Epoch 38/1000\n",
      "819/819 - 81s - loss: 0.0051 - val_loss: 0.0043\n",
      "Epoch 39/1000\n",
      "819/819 - 81s - loss: 0.0050 - val_loss: 0.0042\n",
      "Epoch 40/1000\n",
      "819/819 - 81s - loss: 0.0050 - val_loss: 0.0043\n",
      "Epoch 41/1000\n",
      "819/819 - 81s - loss: 0.0049 - val_loss: 0.0042\n",
      "Epoch 42/1000\n",
      "819/819 - 81s - loss: 0.0049 - val_loss: 0.0042\n",
      "Epoch 43/1000\n",
      "819/819 - 81s - loss: 0.0048 - val_loss: 0.0042\n",
      "Epoch 44/1000\n",
      "819/819 - 81s - loss: 0.0048 - val_loss: 0.0042\n",
      "Epoch 45/1000\n",
      "819/819 - 81s - loss: 0.0048 - val_loss: 0.0040\n",
      "Epoch 46/1000\n",
      "819/819 - 81s - loss: 0.0047 - val_loss: 0.0041\n",
      "Epoch 47/1000\n",
      "819/819 - 81s - loss: 0.0047 - val_loss: 0.0040\n",
      "Epoch 48/1000\n",
      "819/819 - 81s - loss: 0.0047 - val_loss: 0.0039\n",
      "Epoch 49/1000\n",
      "819/819 - 81s - loss: 0.0046 - val_loss: 0.0041\n",
      "Epoch 50/1000\n",
      "819/819 - 81s - loss: 0.0046 - val_loss: 0.0039\n",
      "Epoch 51/1000\n",
      "819/819 - 81s - loss: 0.0046 - val_loss: 0.0039\n",
      "Epoch 52/1000\n",
      "819/819 - 81s - loss: 0.0045 - val_loss: 0.0038\n",
      "Epoch 53/1000\n",
      "819/819 - 81s - loss: 0.0045 - val_loss: 0.0040\n",
      "Epoch 54/1000\n",
      "819/819 - 81s - loss: 0.0045 - val_loss: 0.0038\n",
      "Epoch 55/1000\n",
      "819/819 - 81s - loss: 0.0044 - val_loss: 0.0039\n",
      "Epoch 56/1000\n",
      "819/819 - 81s - loss: 0.0045 - val_loss: 0.0038\n",
      "Epoch 57/1000\n",
      "819/819 - 81s - loss: 0.0044 - val_loss: 0.0037\n",
      "Epoch 58/1000\n",
      "819/819 - 81s - loss: 0.0044 - val_loss: 0.0039\n",
      "Epoch 59/1000\n",
      "819/819 - 81s - loss: 0.0043 - val_loss: 0.0037\n",
      "Epoch 60/1000\n",
      "819/819 - 81s - loss: 0.0043 - val_loss: 0.0036\n",
      "Epoch 61/1000\n",
      "819/819 - 81s - loss: 0.0043 - val_loss: 0.0036\n",
      "Epoch 62/1000\n",
      "819/819 - 81s - loss: 0.0043 - val_loss: 0.0036\n",
      "Epoch 63/1000\n",
      "819/819 - 80s - loss: 0.0043 - val_loss: 0.0036\n",
      "Epoch 64/1000\n",
      "819/819 - 81s - loss: 0.0042 - val_loss: 0.0035\n",
      "Epoch 65/1000\n",
      "819/819 - 81s - loss: 0.0042 - val_loss: 0.0036\n",
      "Epoch 66/1000\n",
      "819/819 - 81s - loss: 0.0042 - val_loss: 0.0036\n",
      "Epoch 67/1000\n",
      "819/819 - 81s - loss: 0.0042 - val_loss: 0.0035\n",
      "Epoch 68/1000\n",
      "819/819 - 81s - loss: 0.0042 - val_loss: 0.0036\n",
      "Epoch 69/1000\n",
      "819/819 - 81s - loss: 0.0042 - val_loss: 0.0036\n",
      "Epoch 70/1000\n",
      "819/819 - 81s - loss: 0.0041 - val_loss: 0.0034\n",
      "Epoch 71/1000\n",
      "819/819 - 81s - loss: 0.0041 - val_loss: 0.0035\n",
      "Epoch 72/1000\n",
      "819/819 - 81s - loss: 0.0041 - val_loss: 0.0036\n",
      "Epoch 73/1000\n",
      "819/819 - 81s - loss: 0.0041 - val_loss: 0.0035\n",
      "Epoch 74/1000\n",
      "819/819 - 81s - loss: 0.0041 - val_loss: 0.0036\n",
      "Epoch 75/1000\n",
      "819/819 - 80s - loss: 0.0041 - val_loss: 0.0034\n",
      "Epoch 76/1000\n",
      "819/819 - 81s - loss: 0.0040 - val_loss: 0.0034\n",
      "Epoch 77/1000\n",
      "819/819 - 81s - loss: 0.0040 - val_loss: 0.0033\n",
      "Epoch 78/1000\n",
      "819/819 - 81s - loss: 0.0040 - val_loss: 0.0033\n",
      "Epoch 79/1000\n",
      "819/819 - 81s - loss: 0.0040 - val_loss: 0.0033\n",
      "Epoch 80/1000\n",
      "819/819 - 81s - loss: 0.0040 - val_loss: 0.0034\n",
      "Epoch 81/1000\n",
      "819/819 - 81s - loss: 0.0040 - val_loss: 0.0033\n",
      "Epoch 82/1000\n",
      "819/819 - 81s - loss: 0.0039 - val_loss: 0.0032\n",
      "Epoch 83/1000\n",
      "819/819 - 81s - loss: 0.0039 - val_loss: 0.0032\n",
      "Epoch 84/1000\n",
      "819/819 - 81s - loss: 0.0039 - val_loss: 0.0033\n",
      "Epoch 85/1000\n",
      "819/819 - 81s - loss: 0.0039 - val_loss: 0.0032\n",
      "Epoch 86/1000\n",
      "819/819 - 81s - loss: 0.0039 - val_loss: 0.0032\n",
      "Epoch 87/1000\n",
      "819/819 - 81s - loss: 0.0039 - val_loss: 0.0032\n",
      "注意力被执行了一次\n",
      "注意力被执行了一次\n",
      "Epoch 1/1000\n",
      "819/819 - 94s - loss: 0.0889 - val_loss: 0.0263\n",
      "Epoch 2/1000\n",
      "819/819 - 81s - loss: 0.0208 - val_loss: 0.0164\n",
      "Epoch 3/1000\n",
      "819/819 - 81s - loss: 0.0155 - val_loss: 0.0134\n",
      "Epoch 4/1000\n",
      "819/819 - 81s - loss: 0.0135 - val_loss: 0.0119\n",
      "Epoch 5/1000\n",
      "819/819 - 81s - loss: 0.0123 - val_loss: 0.0108\n",
      "Epoch 6/1000\n",
      "819/819 - 81s - loss: 0.0114 - val_loss: 0.0105\n",
      "Epoch 7/1000\n",
      "819/819 - 81s - loss: 0.0107 - val_loss: 0.0096\n",
      "Epoch 8/1000\n",
      "819/819 - 81s - loss: 0.0101 - val_loss: 0.0091\n",
      "Epoch 9/1000\n",
      "819/819 - 81s - loss: 0.0096 - val_loss: 0.0087\n",
      "Epoch 10/1000\n",
      "819/819 - 81s - loss: 0.0093 - val_loss: 0.0085\n",
      "Epoch 11/1000\n",
      "819/819 - 81s - loss: 0.0089 - val_loss: 0.0078\n",
      "Epoch 12/1000\n",
      "819/819 - 81s - loss: 0.0086 - val_loss: 0.0079\n",
      "Epoch 13/1000\n",
      "819/819 - 81s - loss: 0.0083 - val_loss: 0.0076\n",
      "Epoch 14/1000\n",
      "819/819 - 81s - loss: 0.0081 - val_loss: 0.0081\n",
      "Epoch 15/1000\n",
      "819/819 - 81s - loss: 0.0079 - val_loss: 0.0069\n",
      "Epoch 16/1000\n",
      "819/819 - 81s - loss: 0.0077 - val_loss: 0.0068\n",
      "Epoch 17/1000\n",
      "819/819 - 81s - loss: 0.0075 - val_loss: 0.0067\n",
      "Epoch 18/1000\n",
      "819/819 - 81s - loss: 0.0074 - val_loss: 0.0064\n",
      "Epoch 19/1000\n",
      "819/819 - 81s - loss: 0.0072 - val_loss: 0.0064\n",
      "Epoch 20/1000\n",
      "819/819 - 81s - loss: 0.0070 - val_loss: 0.0063\n",
      "Epoch 21/1000\n",
      "819/819 - 81s - loss: 0.0070 - val_loss: 0.0061\n",
      "Epoch 22/1000\n",
      "819/819 - 81s - loss: 0.0068 - val_loss: 0.0060\n",
      "Epoch 23/1000\n",
      "819/819 - 81s - loss: 0.0067 - val_loss: 0.0060\n",
      "Epoch 24/1000\n",
      "819/819 - 81s - loss: 0.0066 - val_loss: 0.0058\n",
      "Epoch 25/1000\n",
      "819/819 - 81s - loss: 0.0065 - val_loss: 0.0056\n",
      "Epoch 26/1000\n",
      "819/819 - 81s - loss: 0.0064 - val_loss: 0.0056\n",
      "Epoch 27/1000\n",
      "819/819 - 81s - loss: 0.0063 - val_loss: 0.0054\n",
      "Epoch 28/1000\n",
      "819/819 - 81s - loss: 0.0062 - val_loss: 0.0054\n",
      "Epoch 29/1000\n",
      "819/819 - 80s - loss: 0.0062 - val_loss: 0.0055\n",
      "Epoch 30/1000\n",
      "819/819 - 81s - loss: 0.0060 - val_loss: 0.0053\n",
      "Epoch 31/1000\n",
      "819/819 - 81s - loss: 0.0060 - val_loss: 0.0051\n",
      "Epoch 32/1000\n",
      "819/819 - 81s - loss: 0.0059 - val_loss: 0.0052\n",
      "Epoch 33/1000\n",
      "819/819 - 81s - loss: 0.0058 - val_loss: 0.0050\n",
      "Epoch 34/1000\n",
      "819/819 - 81s - loss: 0.0058 - val_loss: 0.0049\n",
      "Epoch 35/1000\n",
      "819/819 - 80s - loss: 0.0058 - val_loss: 0.0052\n",
      "Epoch 36/1000\n",
      "819/819 - 81s - loss: 0.0057 - val_loss: 0.0048\n",
      "Epoch 37/1000\n",
      "819/819 - 81s - loss: 0.0056 - val_loss: 0.0049\n",
      "Epoch 38/1000\n",
      "819/819 - 81s - loss: 0.0055 - val_loss: 0.0048\n",
      "Epoch 39/1000\n",
      "819/819 - 81s - loss: 0.0055 - val_loss: 0.0047\n",
      "Epoch 40/1000\n",
      "819/819 - 81s - loss: 0.0054 - val_loss: 0.0046\n",
      "Epoch 41/1000\n",
      "819/819 - 81s - loss: 0.0054 - val_loss: 0.0046\n",
      "Epoch 42/1000\n",
      "819/819 - 81s - loss: 0.0054 - val_loss: 0.0051\n",
      "Epoch 43/1000\n",
      "819/819 - 81s - loss: 0.0053 - val_loss: 0.0046\n",
      "Epoch 44/1000\n",
      "819/819 - 81s - loss: 0.0053 - val_loss: 0.0044\n",
      "Epoch 45/1000\n",
      "819/819 - 81s - loss: 0.0052 - val_loss: 0.0045\n",
      "Epoch 46/1000\n",
      "819/819 - 81s - loss: 0.0052 - val_loss: 0.0045\n",
      "Epoch 47/1000\n",
      "819/819 - 81s - loss: 0.0052 - val_loss: 0.0044\n",
      "Epoch 48/1000\n",
      "819/819 - 81s - loss: 0.0051 - val_loss: 0.0044\n",
      "Epoch 49/1000\n",
      "819/819 - 81s - loss: 0.0051 - val_loss: 0.0044\n",
      "Epoch 50/1000\n",
      "819/819 - 81s - loss: 0.0051 - val_loss: 0.0044\n",
      "Epoch 51/1000\n",
      "819/819 - 81s - loss: 0.0050 - val_loss: 0.0043\n",
      "Epoch 52/1000\n",
      "819/819 - 81s - loss: 0.0050 - val_loss: 0.0042\n",
      "Epoch 53/1000\n",
      "819/819 - 81s - loss: 0.0050 - val_loss: 0.0042\n",
      "Epoch 54/1000\n",
      "819/819 - 81s - loss: 0.0049 - val_loss: 0.0041\n",
      "Epoch 55/1000\n",
      "819/819 - 81s - loss: 0.0049 - val_loss: 0.0043\n",
      "Epoch 56/1000\n",
      "819/819 - 81s - loss: 0.0048 - val_loss: 0.0042\n",
      "Epoch 57/1000\n",
      "819/819 - 81s - loss: 0.0048 - val_loss: 0.0041\n",
      "Epoch 58/1000\n",
      "819/819 - 81s - loss: 0.0048 - val_loss: 0.0042\n",
      "Epoch 59/1000\n",
      "819/819 - 81s - loss: 0.0049 - val_loss: 0.0040\n",
      "Epoch 60/1000\n",
      "819/819 - 80s - loss: 0.0047 - val_loss: 0.0040\n",
      "Epoch 61/1000\n",
      "819/819 - 81s - loss: 0.0047 - val_loss: 0.0040\n",
      "Epoch 62/1000\n",
      "819/819 - 81s - loss: 0.0047 - val_loss: 0.0040\n",
      "Epoch 63/1000\n",
      "819/819 - 81s - loss: 0.0047 - val_loss: 0.0040\n",
      "Epoch 64/1000\n",
      "819/819 - 81s - loss: 0.0046 - val_loss: 0.0039\n",
      "Epoch 65/1000\n",
      "819/819 - 80s - loss: 0.0046 - val_loss: 0.0041\n",
      "Epoch 66/1000\n",
      "819/819 - 81s - loss: 0.0047 - val_loss: 0.0040\n",
      "Epoch 67/1000\n",
      "819/819 - 81s - loss: 0.0046 - val_loss: 0.0040\n",
      "Epoch 68/1000\n",
      "819/819 - 81s - loss: 0.0046 - val_loss: 0.0040\n",
      "Epoch 69/1000\n",
      "819/819 - 81s - loss: 0.0046 - val_loss: 0.0039\n"
     ]
    }
   ],
   "source": [
    "#depth = [30,50,100,125,150,200,250,300,400,500,600,700,800,900,1000]\n",
    "depth = [600,700,800,900,1000]\n",
    "for i in range(0,5):  #i = 0---14\n",
    "    input_cnn_train = np.concatenate((x_cnn_train_split[:,:,:,:5],x_cnn_train_split[:,:,:,i+5:i+6]),axis=-1) \n",
    "    input_lstm_train = np.concatenate((x_lstm_train_split[:,:,:5],x_lstm_train_split[:,:,i+5:i+6]),axis=-1)\n",
    "    input_cnn_val = np.concatenate((x_cnn_val[:,:,:,:5],x_cnn_val[:,:,:,i+5:i+6]),axis=-1)  \n",
    "    input_lstm_val = np.concatenate((x_lstm_val[:,:,:5],x_lstm_val[:,:,i+5:i+6]),axis=-1)  \n",
    "    \n",
    "    train_model(input_cnn_train,input_lstm_train,y_train_split[:,i+10:i+11],\n",
    "                input_cnn_val,input_lstm_val,y_val[:,i+10:i+11],\n",
    "                '../model/cnncnn_lstm_jc_model_newVariable_sali'+str(depth[i])+'m.h5')"
   ]
  },
  {
   "cell_type": "markdown",
   "id": "d22eba26",
   "metadata": {},
   "source": [
    "### 200m-500m 训练"
   ]
  },
  {
   "cell_type": "code",
   "execution_count": 23,
   "id": "c6902898",
   "metadata": {
    "ExecuteTime": {
     "end_time": "2023-12-10T21:42:30.789379Z",
     "start_time": "2023-12-10T12:48:46.904027Z"
    },
    "code_folding": [],
    "collapsed": true
   },
   "outputs": [
    {
     "name": "stdout",
     "output_type": "stream",
     "text": [
      "注意力被执行了一次\n",
      "注意力被执行了一次\n",
      "Epoch 1/1000\n",
      "819/819 - 114s - loss: 0.0776 - val_loss: 0.0242\n",
      "Epoch 2/1000\n",
      "819/819 - 82s - loss: 0.0200 - val_loss: 0.0166\n",
      "Epoch 3/1000\n",
      "819/819 - 82s - loss: 0.0159 - val_loss: 0.0138\n",
      "Epoch 4/1000\n",
      "819/819 - 82s - loss: 0.0140 - val_loss: 0.0132\n",
      "Epoch 5/1000\n",
      "819/819 - 82s - loss: 0.0128 - val_loss: 0.0115\n",
      "Epoch 6/1000\n",
      "819/819 - 82s - loss: 0.0119 - val_loss: 0.0112\n",
      "Epoch 7/1000\n",
      "819/819 - 82s - loss: 0.0111 - val_loss: 0.0105\n",
      "Epoch 8/1000\n",
      "819/819 - 82s - loss: 0.0106 - val_loss: 0.0103\n",
      "Epoch 9/1000\n",
      "819/819 - 82s - loss: 0.0101 - val_loss: 0.0090\n",
      "Epoch 10/1000\n",
      "819/819 - 82s - loss: 0.0096 - val_loss: 0.0088\n",
      "Epoch 11/1000\n",
      "819/819 - 82s - loss: 0.0092 - val_loss: 0.0082\n",
      "Epoch 12/1000\n",
      "819/819 - 83s - loss: 0.0089 - val_loss: 0.0086\n",
      "Epoch 13/1000\n",
      "819/819 - 82s - loss: 0.0086 - val_loss: 0.0078\n",
      "Epoch 14/1000\n",
      "819/819 - 82s - loss: 0.0084 - val_loss: 0.0077\n",
      "Epoch 15/1000\n",
      "819/819 - 82s - loss: 0.0081 - val_loss: 0.0076\n",
      "Epoch 16/1000\n",
      "819/819 - 82s - loss: 0.0079 - val_loss: 0.0070\n",
      "Epoch 17/1000\n",
      "819/819 - 82s - loss: 0.0077 - val_loss: 0.0068\n",
      "Epoch 18/1000\n",
      "819/819 - 82s - loss: 0.0075 - val_loss: 0.0067\n",
      "Epoch 19/1000\n",
      "819/819 - 82s - loss: 0.0074 - val_loss: 0.0065\n",
      "Epoch 20/1000\n",
      "819/819 - 82s - loss: 0.0072 - val_loss: 0.0067\n",
      "Epoch 21/1000\n",
      "819/819 - 82s - loss: 0.0071 - val_loss: 0.0063\n",
      "Epoch 22/1000\n",
      "819/819 - 82s - loss: 0.0070 - val_loss: 0.0063\n",
      "Epoch 23/1000\n",
      "819/819 - 82s - loss: 0.0069 - val_loss: 0.0068\n",
      "Epoch 24/1000\n",
      "819/819 - 82s - loss: 0.0067 - val_loss: 0.0059\n",
      "Epoch 25/1000\n",
      "819/819 - 82s - loss: 0.0066 - val_loss: 0.0058\n",
      "Epoch 26/1000\n",
      "819/819 - 82s - loss: 0.0065 - val_loss: 0.0058\n",
      "Epoch 27/1000\n",
      "819/819 - 82s - loss: 0.0064 - val_loss: 0.0057\n",
      "Epoch 28/1000\n",
      "819/819 - 82s - loss: 0.0064 - val_loss: 0.0056\n",
      "Epoch 29/1000\n",
      "819/819 - 82s - loss: 0.0063 - val_loss: 0.0058\n",
      "Epoch 30/1000\n",
      "819/819 - 82s - loss: 0.0062 - val_loss: 0.0054\n",
      "Epoch 31/1000\n",
      "819/819 - 82s - loss: 0.0061 - val_loss: 0.0054\n",
      "Epoch 32/1000\n",
      "819/819 - 82s - loss: 0.0061 - val_loss: 0.0052\n",
      "Epoch 33/1000\n",
      "819/819 - 82s - loss: 0.0060 - val_loss: 0.0053\n",
      "Epoch 34/1000\n",
      "819/819 - 82s - loss: 0.0059 - val_loss: 0.0052\n",
      "Epoch 35/1000\n",
      "819/819 - 82s - loss: 0.0059 - val_loss: 0.0050\n",
      "Epoch 36/1000\n",
      "819/819 - 82s - loss: 0.0058 - val_loss: 0.0050\n",
      "Epoch 37/1000\n",
      "819/819 - 82s - loss: 0.0058 - val_loss: 0.0050\n",
      "Epoch 38/1000\n",
      "819/819 - 82s - loss: 0.0057 - val_loss: 0.0048\n",
      "Epoch 39/1000\n",
      "819/819 - 82s - loss: 0.0057 - val_loss: 0.0049\n",
      "Epoch 40/1000\n",
      "819/819 - 82s - loss: 0.0056 - val_loss: 0.0048\n",
      "Epoch 41/1000\n",
      "819/819 - 82s - loss: 0.0056 - val_loss: 0.0052\n",
      "Epoch 42/1000\n",
      "819/819 - 82s - loss: 0.0056 - val_loss: 0.0046\n",
      "Epoch 43/1000\n",
      "819/819 - 82s - loss: 0.0055 - val_loss: 0.0050\n",
      "Epoch 44/1000\n",
      "819/819 - 82s - loss: 0.0055 - val_loss: 0.0046\n",
      "Epoch 45/1000\n",
      "819/819 - 82s - loss: 0.0054 - val_loss: 0.0047\n",
      "Epoch 46/1000\n",
      "819/819 - 82s - loss: 0.0054 - val_loss: 0.0045\n",
      "Epoch 47/1000\n",
      "819/819 - 82s - loss: 0.0054 - val_loss: 0.0045\n",
      "Epoch 48/1000\n",
      "819/819 - 82s - loss: 0.0053 - val_loss: 0.0046\n",
      "Epoch 49/1000\n",
      "819/819 - 82s - loss: 0.0053 - val_loss: 0.0046\n",
      "Epoch 50/1000\n",
      "819/819 - 82s - loss: 0.0053 - val_loss: 0.0046\n",
      "Epoch 51/1000\n",
      "819/819 - 82s - loss: 0.0053 - val_loss: 0.0046\n",
      "Epoch 52/1000\n",
      "819/819 - 82s - loss: 0.0052 - val_loss: 0.0045\n",
      "Epoch 53/1000\n",
      "819/819 - 82s - loss: 0.0052 - val_loss: 0.0044\n",
      "Epoch 54/1000\n",
      "819/819 - 82s - loss: 0.0052 - val_loss: 0.0044\n",
      "Epoch 55/1000\n",
      "819/819 - 82s - loss: 0.0051 - val_loss: 0.0044\n",
      "Epoch 56/1000\n",
      "819/819 - 82s - loss: 0.0051 - val_loss: 0.0043\n",
      "Epoch 57/1000\n",
      "819/819 - 82s - loss: 0.0051 - val_loss: 0.0043\n",
      "Epoch 58/1000\n",
      "819/819 - 82s - loss: 0.0051 - val_loss: 0.0043\n",
      "Epoch 59/1000\n",
      "819/819 - 82s - loss: 0.0050 - val_loss: 0.0042\n",
      "Epoch 60/1000\n",
      "819/819 - 82s - loss: 0.0050 - val_loss: 0.0042\n",
      "Epoch 61/1000\n",
      "819/819 - 82s - loss: 0.0050 - val_loss: 0.0042\n",
      "Epoch 62/1000\n",
      "819/819 - 82s - loss: 0.0050 - val_loss: 0.0043\n",
      "Epoch 63/1000\n",
      "819/819 - 82s - loss: 0.0049 - val_loss: 0.0044\n",
      "Epoch 64/1000\n",
      "819/819 - 82s - loss: 0.0049 - val_loss: 0.0044\n",
      "Epoch 65/1000\n",
      "819/819 - 82s - loss: 0.0049 - val_loss: 0.0042\n",
      "Epoch 66/1000\n",
      "819/819 - 82s - loss: 0.0049 - val_loss: 0.0040\n",
      "Epoch 67/1000\n",
      "819/819 - 82s - loss: 0.0049 - val_loss: 0.0041\n",
      "Epoch 68/1000\n",
      "819/819 - 82s - loss: 0.0049 - val_loss: 0.0041\n",
      "Epoch 69/1000\n",
      "819/819 - 82s - loss: 0.0048 - val_loss: 0.0041\n",
      "Epoch 70/1000\n",
      "819/819 - 82s - loss: 0.0048 - val_loss: 0.0040\n",
      "Epoch 71/1000\n",
      "819/819 - 82s - loss: 0.0048 - val_loss: 0.0041\n",
      "Epoch 72/1000\n",
      "819/819 - 82s - loss: 0.0048 - val_loss: 0.0039\n",
      "注意力被执行了一次\n",
      "注意力被执行了一次\n",
      "Epoch 1/1000\n",
      "819/819 - 96s - loss: 0.0863 - val_loss: 0.0260\n",
      "Epoch 2/1000\n",
      "819/819 - 83s - loss: 0.0204 - val_loss: 0.0163\n",
      "Epoch 3/1000\n",
      "819/819 - 83s - loss: 0.0150 - val_loss: 0.0137\n",
      "Epoch 4/1000\n",
      "819/819 - 83s - loss: 0.0130 - val_loss: 0.0123\n",
      "Epoch 5/1000\n",
      "819/819 - 83s - loss: 0.0118 - val_loss: 0.0110\n",
      "Epoch 6/1000\n",
      "819/819 - 84s - loss: 0.0110 - val_loss: 0.0100\n",
      "Epoch 7/1000\n",
      "819/819 - 84s - loss: 0.0103 - val_loss: 0.0094\n",
      "Epoch 8/1000\n",
      "819/819 - 84s - loss: 0.0097 - val_loss: 0.0087\n",
      "Epoch 9/1000\n",
      "819/819 - 84s - loss: 0.0093 - val_loss: 0.0087\n",
      "Epoch 10/1000\n",
      "819/819 - 84s - loss: 0.0089 - val_loss: 0.0084\n",
      "Epoch 11/1000\n",
      "819/819 - 84s - loss: 0.0086 - val_loss: 0.0078\n",
      "Epoch 12/1000\n",
      "819/819 - 84s - loss: 0.0083 - val_loss: 0.0081\n",
      "Epoch 13/1000\n",
      "819/819 - 84s - loss: 0.0081 - val_loss: 0.0082\n",
      "Epoch 14/1000\n",
      "819/819 - 84s - loss: 0.0078 - val_loss: 0.0076\n",
      "Epoch 15/1000\n",
      "819/819 - 84s - loss: 0.0076 - val_loss: 0.0069\n",
      "Epoch 16/1000\n",
      "819/819 - 84s - loss: 0.0074 - val_loss: 0.0066\n",
      "Epoch 17/1000\n",
      "819/819 - 84s - loss: 0.0072 - val_loss: 0.0070\n",
      "Epoch 18/1000\n",
      "819/819 - 84s - loss: 0.0071 - val_loss: 0.0063\n",
      "Epoch 19/1000\n",
      "819/819 - 84s - loss: 0.0070 - val_loss: 0.0065\n",
      "Epoch 20/1000\n",
      "819/819 - 84s - loss: 0.0068 - val_loss: 0.0063\n",
      "Epoch 21/1000\n",
      "819/819 - 84s - loss: 0.0067 - val_loss: 0.0060\n",
      "Epoch 22/1000\n",
      "819/819 - 84s - loss: 0.0066 - val_loss: 0.0064\n",
      "Epoch 23/1000\n",
      "819/819 - 84s - loss: 0.0065 - val_loss: 0.0058\n",
      "Epoch 24/1000\n",
      "819/819 - 84s - loss: 0.0064 - val_loss: 0.0059\n",
      "Epoch 25/1000\n",
      "819/819 - 84s - loss: 0.0063 - val_loss: 0.0057\n",
      "Epoch 26/1000\n",
      "819/819 - 84s - loss: 0.0062 - val_loss: 0.0057\n",
      "Epoch 27/1000\n",
      "819/819 - 84s - loss: 0.0061 - val_loss: 0.0054\n",
      "Epoch 28/1000\n",
      "819/819 - 84s - loss: 0.0060 - val_loss: 0.0053\n",
      "Epoch 29/1000\n",
      "819/819 - 84s - loss: 0.0059 - val_loss: 0.0053\n",
      "Epoch 30/1000\n",
      "819/819 - 84s - loss: 0.0059 - val_loss: 0.0051\n",
      "Epoch 31/1000\n",
      "819/819 - 84s - loss: 0.0058 - val_loss: 0.0051\n",
      "Epoch 32/1000\n",
      "819/819 - 84s - loss: 0.0057 - val_loss: 0.0050\n",
      "Epoch 33/1000\n",
      "819/819 - 84s - loss: 0.0057 - val_loss: 0.0050\n",
      "Epoch 34/1000\n",
      "819/819 - 84s - loss: 0.0056 - val_loss: 0.0048\n",
      "Epoch 35/1000\n",
      "819/819 - 84s - loss: 0.0056 - val_loss: 0.0049\n",
      "Epoch 36/1000\n",
      "819/819 - 84s - loss: 0.0055 - val_loss: 0.0050\n",
      "Epoch 37/1000\n",
      "819/819 - 84s - loss: 0.0055 - val_loss: 0.0049\n",
      "Epoch 38/1000\n",
      "819/819 - 84s - loss: 0.0054 - val_loss: 0.0047\n",
      "Epoch 39/1000\n",
      "819/819 - 84s - loss: 0.0054 - val_loss: 0.0046\n",
      "Epoch 40/1000\n",
      "819/819 - 84s - loss: 0.0053 - val_loss: 0.0046\n",
      "Epoch 41/1000\n",
      "819/819 - 84s - loss: 0.0053 - val_loss: 0.0047\n",
      "Epoch 42/1000\n",
      "819/819 - 84s - loss: 0.0053 - val_loss: 0.0047\n",
      "Epoch 43/1000\n",
      "819/819 - 84s - loss: 0.0052 - val_loss: 0.0045\n",
      "Epoch 44/1000\n",
      "819/819 - 84s - loss: 0.0052 - val_loss: 0.0048\n",
      "Epoch 45/1000\n",
      "819/819 - 84s - loss: 0.0051 - val_loss: 0.0044\n",
      "Epoch 46/1000\n",
      "819/819 - 84s - loss: 0.0051 - val_loss: 0.0043\n",
      "Epoch 47/1000\n",
      "819/819 - 84s - loss: 0.0051 - val_loss: 0.0045\n",
      "Epoch 48/1000\n",
      "819/819 - 84s - loss: 0.0050 - val_loss: 0.0045\n",
      "Epoch 49/1000\n",
      "819/819 - 84s - loss: 0.0050 - val_loss: 0.0046\n",
      "Epoch 50/1000\n",
      "819/819 - 84s - loss: 0.0050 - val_loss: 0.0043\n",
      "Epoch 51/1000\n",
      "819/819 - 84s - loss: 0.0050 - val_loss: 0.0043\n",
      "Epoch 52/1000\n",
      "819/819 - 84s - loss: 0.0049 - val_loss: 0.0043\n",
      "Epoch 53/1000\n",
      "819/819 - 84s - loss: 0.0049 - val_loss: 0.0044\n",
      "Epoch 54/1000\n",
      "819/819 - 84s - loss: 0.0049 - val_loss: 0.0041\n",
      "Epoch 55/1000\n",
      "819/819 - 84s - loss: 0.0048 - val_loss: 0.0042\n",
      "Epoch 56/1000\n",
      "819/819 - 84s - loss: 0.0048 - val_loss: 0.0041\n",
      "Epoch 57/1000\n",
      "819/819 - 84s - loss: 0.0048 - val_loss: 0.0043\n",
      "Epoch 58/1000\n",
      "819/819 - 84s - loss: 0.0048 - val_loss: 0.0040\n",
      "Epoch 59/1000\n",
      "819/819 - 84s - loss: 0.0048 - val_loss: 0.0040\n",
      "Epoch 60/1000\n",
      "819/819 - 84s - loss: 0.0047 - val_loss: 0.0041\n"
     ]
    },
    {
     "name": "stdout",
     "output_type": "stream",
     "text": [
      "Epoch 61/1000\n",
      "819/819 - 84s - loss: 0.0047 - val_loss: 0.0040\n",
      "Epoch 62/1000\n",
      "819/819 - 84s - loss: 0.0047 - val_loss: 0.0043\n",
      "Epoch 63/1000\n",
      "819/819 - 84s - loss: 0.0047 - val_loss: 0.0042\n",
      "Epoch 64/1000\n",
      "819/819 - 84s - loss: 0.0046 - val_loss: 0.0040\n",
      "Epoch 65/1000\n",
      "819/819 - 84s - loss: 0.0046 - val_loss: 0.0040\n",
      "Epoch 66/1000\n",
      "819/819 - 84s - loss: 0.0046 - val_loss: 0.0040\n",
      "Epoch 67/1000\n",
      "819/819 - 84s - loss: 0.0046 - val_loss: 0.0041\n",
      "Epoch 68/1000\n",
      "819/819 - 84s - loss: 0.0046 - val_loss: 0.0040\n",
      "Epoch 69/1000\n",
      "819/819 - 84s - loss: 0.0046 - val_loss: 0.0038\n",
      "Epoch 70/1000\n",
      "819/819 - 84s - loss: 0.0045 - val_loss: 0.0039\n",
      "Epoch 71/1000\n",
      "819/819 - 84s - loss: 0.0045 - val_loss: 0.0038\n",
      "Epoch 72/1000\n",
      "819/819 - 84s - loss: 0.0045 - val_loss: 0.0039\n",
      "Epoch 73/1000\n",
      "819/819 - 84s - loss: 0.0045 - val_loss: 0.0039\n",
      "Epoch 74/1000\n",
      "819/819 - 84s - loss: 0.0045 - val_loss: 0.0039\n",
      "Epoch 75/1000\n",
      "819/819 - 84s - loss: 0.0045 - val_loss: 0.0039\n",
      "注意力被执行了一次\n",
      "注意力被执行了一次\n",
      "Epoch 1/1000\n",
      "819/819 - 91s - loss: 0.0788 - val_loss: 0.0237\n",
      "Epoch 2/1000\n",
      "819/819 - 80s - loss: 0.0200 - val_loss: 0.0161\n",
      "Epoch 3/1000\n",
      "819/819 - 80s - loss: 0.0159 - val_loss: 0.0138\n",
      "Epoch 4/1000\n",
      "819/819 - 81s - loss: 0.0141 - val_loss: 0.0124\n",
      "Epoch 5/1000\n",
      "819/819 - 80s - loss: 0.0129 - val_loss: 0.0112\n",
      "Epoch 6/1000\n",
      "819/819 - 81s - loss: 0.0119 - val_loss: 0.0105\n",
      "Epoch 7/1000\n",
      "819/819 - 81s - loss: 0.0111 - val_loss: 0.0101\n",
      "Epoch 8/1000\n",
      "819/819 - 81s - loss: 0.0105 - val_loss: 0.0092\n",
      "Epoch 9/1000\n",
      "819/819 - 81s - loss: 0.0099 - val_loss: 0.0087\n",
      "Epoch 10/1000\n",
      "819/819 - 81s - loss: 0.0094 - val_loss: 0.0083\n",
      "Epoch 11/1000\n",
      "819/819 - 81s - loss: 0.0090 - val_loss: 0.0081\n",
      "Epoch 12/1000\n",
      "819/819 - 81s - loss: 0.0086 - val_loss: 0.0077\n",
      "Epoch 13/1000\n",
      "819/819 - 81s - loss: 0.0082 - val_loss: 0.0073\n",
      "Epoch 14/1000\n",
      "819/819 - 81s - loss: 0.0079 - val_loss: 0.0070\n",
      "Epoch 15/1000\n",
      "819/819 - 81s - loss: 0.0077 - val_loss: 0.0069\n",
      "Epoch 16/1000\n",
      "819/819 - 81s - loss: 0.0075 - val_loss: 0.0066\n",
      "Epoch 17/1000\n",
      "819/819 - 81s - loss: 0.0073 - val_loss: 0.0066\n",
      "Epoch 18/1000\n",
      "819/819 - 81s - loss: 0.0071 - val_loss: 0.0066\n",
      "Epoch 19/1000\n",
      "819/819 - 81s - loss: 0.0069 - val_loss: 0.0065\n",
      "Epoch 20/1000\n",
      "819/819 - 81s - loss: 0.0068 - val_loss: 0.0058\n",
      "Epoch 21/1000\n",
      "819/819 - 81s - loss: 0.0066 - val_loss: 0.0057\n",
      "Epoch 22/1000\n",
      "819/819 - 81s - loss: 0.0065 - val_loss: 0.0057\n",
      "Epoch 23/1000\n",
      "819/819 - 81s - loss: 0.0064 - val_loss: 0.0056\n",
      "Epoch 24/1000\n",
      "819/819 - 81s - loss: 0.0062 - val_loss: 0.0056\n",
      "Epoch 25/1000\n",
      "819/819 - 81s - loss: 0.0062 - val_loss: 0.0055\n",
      "Epoch 26/1000\n",
      "819/819 - 81s - loss: 0.0061 - val_loss: 0.0056\n",
      "Epoch 27/1000\n",
      "819/819 - 81s - loss: 0.0060 - val_loss: 0.0053\n",
      "Epoch 28/1000\n",
      "819/819 - 81s - loss: 0.0059 - val_loss: 0.0051\n",
      "Epoch 29/1000\n",
      "819/819 - 81s - loss: 0.0058 - val_loss: 0.0050\n",
      "Epoch 30/1000\n",
      "819/819 - 81s - loss: 0.0057 - val_loss: 0.0050\n",
      "Epoch 31/1000\n",
      "819/819 - 81s - loss: 0.0057 - val_loss: 0.0052\n",
      "Epoch 32/1000\n",
      "819/819 - 81s - loss: 0.0056 - val_loss: 0.0048\n",
      "Epoch 33/1000\n",
      "819/819 - 81s - loss: 0.0055 - val_loss: 0.0048\n",
      "Epoch 34/1000\n",
      "819/819 - 81s - loss: 0.0055 - val_loss: 0.0047\n",
      "Epoch 35/1000\n",
      "819/819 - 81s - loss: 0.0054 - val_loss: 0.0047\n",
      "Epoch 36/1000\n",
      "819/819 - 81s - loss: 0.0053 - val_loss: 0.0046\n",
      "Epoch 37/1000\n",
      "819/819 - 81s - loss: 0.0054 - val_loss: 0.0046\n",
      "Epoch 38/1000\n",
      "819/819 - 81s - loss: 0.0053 - val_loss: 0.0046\n",
      "Epoch 39/1000\n",
      "819/819 - 81s - loss: 0.0052 - val_loss: 0.0044\n",
      "Epoch 40/1000\n",
      "819/819 - 81s - loss: 0.0052 - val_loss: 0.0044\n",
      "Epoch 41/1000\n",
      "819/819 - 81s - loss: 0.0051 - val_loss: 0.0044\n",
      "Epoch 42/1000\n",
      "819/819 - 81s - loss: 0.0051 - val_loss: 0.0043\n",
      "Epoch 43/1000\n",
      "819/819 - 81s - loss: 0.0050 - val_loss: 0.0043\n",
      "Epoch 44/1000\n",
      "819/819 - 81s - loss: 0.0050 - val_loss: 0.0042\n",
      "Epoch 45/1000\n",
      "819/819 - 81s - loss: 0.0049 - val_loss: 0.0042\n",
      "Epoch 46/1000\n",
      "819/819 - 81s - loss: 0.0049 - val_loss: 0.0041\n",
      "Epoch 47/1000\n",
      "819/819 - 81s - loss: 0.0049 - val_loss: 0.0041\n",
      "Epoch 48/1000\n",
      "819/819 - 81s - loss: 0.0048 - val_loss: 0.0042\n",
      "Epoch 49/1000\n",
      "819/819 - 81s - loss: 0.0048 - val_loss: 0.0041\n",
      "Epoch 50/1000\n",
      "819/819 - 81s - loss: 0.0048 - val_loss: 0.0042\n",
      "Epoch 51/1000\n",
      "819/819 - 81s - loss: 0.0048 - val_loss: 0.0040\n",
      "Epoch 52/1000\n",
      "819/819 - 81s - loss: 0.0047 - val_loss: 0.0040\n",
      "Epoch 53/1000\n",
      "819/819 - 81s - loss: 0.0047 - val_loss: 0.0040\n",
      "Epoch 54/1000\n",
      "819/819 - 81s - loss: 0.0047 - val_loss: 0.0039\n",
      "Epoch 55/1000\n",
      "819/819 - 81s - loss: 0.0046 - val_loss: 0.0039\n",
      "Epoch 56/1000\n",
      "819/819 - 81s - loss: 0.0046 - val_loss: 0.0039\n",
      "Epoch 57/1000\n",
      "819/819 - 81s - loss: 0.0046 - val_loss: 0.0039\n",
      "Epoch 58/1000\n",
      "819/819 - 81s - loss: 0.0046 - val_loss: 0.0041\n",
      "Epoch 59/1000\n",
      "819/819 - 81s - loss: 0.0045 - val_loss: 0.0038\n",
      "Epoch 60/1000\n",
      "819/819 - 81s - loss: 0.0045 - val_loss: 0.0038\n",
      "Epoch 61/1000\n",
      "819/819 - 81s - loss: 0.0045 - val_loss: 0.0037\n",
      "Epoch 62/1000\n",
      "819/819 - 81s - loss: 0.0045 - val_loss: 0.0037\n",
      "Epoch 63/1000\n",
      "819/819 - 81s - loss: 0.0045 - val_loss: 0.0038\n",
      "Epoch 64/1000\n",
      "819/819 - 81s - loss: 0.0044 - val_loss: 0.0038\n",
      "Epoch 65/1000\n",
      "819/819 - 81s - loss: 0.0044 - val_loss: 0.0037\n",
      "Epoch 66/1000\n",
      "819/819 - 81s - loss: 0.0044 - val_loss: 0.0038\n",
      "Epoch 67/1000\n",
      "819/819 - 81s - loss: 0.0044 - val_loss: 0.0037\n",
      "Epoch 68/1000\n",
      "819/819 - 81s - loss: 0.0044 - val_loss: 0.0036\n",
      "Epoch 69/1000\n",
      "819/819 - 81s - loss: 0.0044 - val_loss: 0.0036\n",
      "Epoch 70/1000\n",
      "819/819 - 81s - loss: 0.0043 - val_loss: 0.0036\n",
      "Epoch 71/1000\n",
      "819/819 - 81s - loss: 0.0043 - val_loss: 0.0035\n",
      "Epoch 72/1000\n",
      "819/819 - 81s - loss: 0.0043 - val_loss: 0.0036\n",
      "Epoch 73/1000\n",
      "819/819 - 81s - loss: 0.0043 - val_loss: 0.0036\n",
      "Epoch 74/1000\n",
      "819/819 - 81s - loss: 0.0043 - val_loss: 0.0035\n",
      "Epoch 75/1000\n",
      "819/819 - 81s - loss: 0.0043 - val_loss: 0.0038\n",
      "Epoch 76/1000\n",
      "819/819 - 81s - loss: 0.0042 - val_loss: 0.0035\n",
      "Epoch 77/1000\n",
      "819/819 - 81s - loss: 0.0043 - val_loss: 0.0035\n",
      "Epoch 78/1000\n",
      "819/819 - 81s - loss: 0.0042 - val_loss: 0.0036\n",
      "Epoch 79/1000\n",
      "819/819 - 81s - loss: 0.0042 - val_loss: 0.0035\n",
      "Epoch 80/1000\n",
      "819/819 - 81s - loss: 0.0042 - val_loss: 0.0034\n",
      "Epoch 81/1000\n",
      "819/819 - 81s - loss: 0.0042 - val_loss: 0.0035\n",
      "Epoch 82/1000\n",
      "819/819 - 81s - loss: 0.0042 - val_loss: 0.0034\n",
      "Epoch 83/1000\n",
      "819/819 - 81s - loss: 0.0042 - val_loss: 0.0036\n",
      "Epoch 84/1000\n",
      "819/819 - 81s - loss: 0.0042 - val_loss: 0.0035\n",
      "Epoch 85/1000\n",
      "819/819 - 81s - loss: 0.0041 - val_loss: 0.0034\n",
      "Epoch 86/1000\n",
      "819/819 - 81s - loss: 0.0041 - val_loss: 0.0035\n",
      "Epoch 87/1000\n",
      "819/819 - 81s - loss: 0.0041 - val_loss: 0.0035\n",
      "Epoch 88/1000\n",
      "819/819 - 81s - loss: 0.0041 - val_loss: 0.0034\n",
      "Epoch 89/1000\n",
      "819/819 - 81s - loss: 0.0041 - val_loss: 0.0034\n",
      "注意力被执行了一次\n",
      "注意力被执行了一次\n",
      "Epoch 1/1000\n",
      "819/819 - 94s - loss: 0.0718 - val_loss: 0.0218\n",
      "Epoch 2/1000\n",
      "819/819 - 80s - loss: 0.0184 - val_loss: 0.0152\n",
      "Epoch 3/1000\n",
      "819/819 - 80s - loss: 0.0153 - val_loss: 0.0140\n",
      "Epoch 4/1000\n",
      "819/819 - 80s - loss: 0.0140 - val_loss: 0.0122\n",
      "Epoch 5/1000\n",
      "819/819 - 80s - loss: 0.0130 - val_loss: 0.0119\n",
      "Epoch 6/1000\n",
      "819/819 - 81s - loss: 0.0122 - val_loss: 0.0108\n",
      "Epoch 7/1000\n",
      "819/819 - 81s - loss: 0.0115 - val_loss: 0.0106\n",
      "Epoch 8/1000\n",
      "819/819 - 81s - loss: 0.0109 - val_loss: 0.0098\n",
      "Epoch 9/1000\n",
      "819/819 - 81s - loss: 0.0104 - val_loss: 0.0092\n",
      "Epoch 10/1000\n",
      "819/819 - 80s - loss: 0.0099 - val_loss: 0.0088\n",
      "Epoch 11/1000\n",
      "819/819 - 81s - loss: 0.0094 - val_loss: 0.0084\n",
      "Epoch 12/1000\n",
      "819/819 - 81s - loss: 0.0090 - val_loss: 0.0080\n",
      "Epoch 13/1000\n",
      "819/819 - 81s - loss: 0.0087 - val_loss: 0.0077\n",
      "Epoch 14/1000\n",
      "819/819 - 81s - loss: 0.0084 - val_loss: 0.0073\n",
      "Epoch 15/1000\n",
      "819/819 - 81s - loss: 0.0081 - val_loss: 0.0071\n",
      "Epoch 16/1000\n",
      "819/819 - 81s - loss: 0.0079 - val_loss: 0.0070\n",
      "Epoch 17/1000\n",
      "819/819 - 81s - loss: 0.0077 - val_loss: 0.0067\n",
      "Epoch 18/1000\n",
      "819/819 - 81s - loss: 0.0075 - val_loss: 0.0067\n",
      "Epoch 19/1000\n",
      "819/819 - 81s - loss: 0.0073 - val_loss: 0.0065\n",
      "Epoch 20/1000\n",
      "819/819 - 81s - loss: 0.0071 - val_loss: 0.0061\n",
      "Epoch 21/1000\n",
      "819/819 - 81s - loss: 0.0070 - val_loss: 0.0061\n",
      "Epoch 22/1000\n",
      "819/819 - 81s - loss: 0.0068 - val_loss: 0.0063\n",
      "Epoch 23/1000\n",
      "819/819 - 81s - loss: 0.0067 - val_loss: 0.0058\n",
      "Epoch 24/1000\n",
      "819/819 - 81s - loss: 0.0065 - val_loss: 0.0057\n",
      "Epoch 25/1000\n",
      "819/819 - 81s - loss: 0.0064 - val_loss: 0.0056\n",
      "Epoch 26/1000\n",
      "819/819 - 81s - loss: 0.0063 - val_loss: 0.0054\n",
      "Epoch 27/1000\n",
      "819/819 - 81s - loss: 0.0062 - val_loss: 0.0054\n",
      "Epoch 28/1000\n",
      "819/819 - 81s - loss: 0.0061 - val_loss: 0.0054\n"
     ]
    },
    {
     "name": "stdout",
     "output_type": "stream",
     "text": [
      "Epoch 29/1000\n",
      "819/819 - 81s - loss: 0.0060 - val_loss: 0.0053\n",
      "Epoch 30/1000\n",
      "819/819 - 81s - loss: 0.0059 - val_loss: 0.0051\n",
      "Epoch 31/1000\n",
      "819/819 - 81s - loss: 0.0059 - val_loss: 0.0051\n",
      "Epoch 32/1000\n",
      "819/819 - 81s - loss: 0.0058 - val_loss: 0.0050\n",
      "Epoch 33/1000\n",
      "819/819 - 81s - loss: 0.0057 - val_loss: 0.0050\n",
      "Epoch 34/1000\n",
      "819/819 - 81s - loss: 0.0057 - val_loss: 0.0049\n",
      "Epoch 35/1000\n",
      "819/819 - 81s - loss: 0.0056 - val_loss: 0.0047\n",
      "Epoch 36/1000\n",
      "819/819 - 81s - loss: 0.0055 - val_loss: 0.0047\n",
      "Epoch 37/1000\n",
      "819/819 - 81s - loss: 0.0055 - val_loss: 0.0047\n",
      "Epoch 38/1000\n",
      "819/819 - 81s - loss: 0.0054 - val_loss: 0.0048\n",
      "Epoch 39/1000\n",
      "819/819 - 81s - loss: 0.0054 - val_loss: 0.0046\n",
      "Epoch 40/1000\n",
      "819/819 - 81s - loss: 0.0053 - val_loss: 0.0046\n",
      "Epoch 41/1000\n",
      "819/819 - 81s - loss: 0.0053 - val_loss: 0.0046\n",
      "Epoch 42/1000\n",
      "819/819 - 81s - loss: 0.0052 - val_loss: 0.0046\n",
      "Epoch 43/1000\n",
      "819/819 - 81s - loss: 0.0052 - val_loss: 0.0044\n",
      "Epoch 44/1000\n",
      "819/819 - 81s - loss: 0.0051 - val_loss: 0.0044\n",
      "Epoch 45/1000\n",
      "819/819 - 81s - loss: 0.0051 - val_loss: 0.0043\n",
      "Epoch 46/1000\n",
      "819/819 - 81s - loss: 0.0051 - val_loss: 0.0044\n",
      "Epoch 47/1000\n",
      "819/819 - 81s - loss: 0.0050 - val_loss: 0.0043\n",
      "Epoch 48/1000\n",
      "819/819 - 81s - loss: 0.0050 - val_loss: 0.0043\n",
      "Epoch 49/1000\n",
      "819/819 - 81s - loss: 0.0050 - val_loss: 0.0042\n",
      "Epoch 50/1000\n",
      "819/819 - 81s - loss: 0.0049 - val_loss: 0.0044\n",
      "Epoch 51/1000\n",
      "819/819 - 81s - loss: 0.0049 - val_loss: 0.0043\n",
      "Epoch 52/1000\n",
      "819/819 - 81s - loss: 0.0049 - val_loss: 0.0041\n",
      "Epoch 53/1000\n",
      "819/819 - 81s - loss: 0.0049 - val_loss: 0.0042\n",
      "Epoch 54/1000\n",
      "819/819 - 81s - loss: 0.0048 - val_loss: 0.0040\n",
      "Epoch 55/1000\n",
      "819/819 - 81s - loss: 0.0048 - val_loss: 0.0040\n",
      "Epoch 56/1000\n",
      "819/819 - 81s - loss: 0.0048 - val_loss: 0.0040\n",
      "Epoch 57/1000\n",
      "819/819 - 81s - loss: 0.0047 - val_loss: 0.0039\n",
      "Epoch 58/1000\n",
      "819/819 - 81s - loss: 0.0047 - val_loss: 0.0039\n",
      "Epoch 59/1000\n",
      "819/819 - 81s - loss: 0.0047 - val_loss: 0.0039\n",
      "Epoch 60/1000\n",
      "819/819 - 81s - loss: 0.0047 - val_loss: 0.0040\n",
      "Epoch 61/1000\n",
      "819/819 - 81s - loss: 0.0047 - val_loss: 0.0039\n",
      "Epoch 62/1000\n",
      "819/819 - 81s - loss: 0.0046 - val_loss: 0.0039\n",
      "Epoch 63/1000\n",
      "819/819 - 81s - loss: 0.0046 - val_loss: 0.0040\n",
      "Epoch 64/1000\n",
      "819/819 - 81s - loss: 0.0046 - val_loss: 0.0038\n",
      "Epoch 65/1000\n",
      "819/819 - 81s - loss: 0.0046 - val_loss: 0.0038\n",
      "Epoch 66/1000\n",
      "819/819 - 81s - loss: 0.0046 - val_loss: 0.0038\n",
      "Epoch 67/1000\n",
      "819/819 - 81s - loss: 0.0045 - val_loss: 0.0038\n",
      "注意力被执行了一次\n",
      "注意力被执行了一次\n",
      "Epoch 1/1000\n",
      "819/819 - 92s - loss: 0.0803 - val_loss: 0.0237\n",
      "Epoch 2/1000\n",
      "819/819 - 79s - loss: 0.0182 - val_loss: 0.0137\n",
      "Epoch 3/1000\n",
      "819/819 - 79s - loss: 0.0132 - val_loss: 0.0117\n",
      "Epoch 4/1000\n",
      "819/819 - 79s - loss: 0.0117 - val_loss: 0.0104\n",
      "Epoch 5/1000\n",
      "819/819 - 79s - loss: 0.0108 - val_loss: 0.0098\n",
      "Epoch 6/1000\n",
      "819/819 - 79s - loss: 0.0102 - val_loss: 0.0092\n",
      "Epoch 7/1000\n",
      "819/819 - 79s - loss: 0.0097 - val_loss: 0.0087\n",
      "Epoch 8/1000\n",
      "819/819 - 79s - loss: 0.0093 - val_loss: 0.0086\n",
      "Epoch 9/1000\n",
      "819/819 - 79s - loss: 0.0089 - val_loss: 0.0082\n",
      "Epoch 10/1000\n",
      "819/819 - 79s - loss: 0.0086 - val_loss: 0.0079\n",
      "Epoch 11/1000\n",
      "819/819 - 79s - loss: 0.0083 - val_loss: 0.0075\n",
      "Epoch 12/1000\n",
      "819/819 - 79s - loss: 0.0080 - val_loss: 0.0072\n",
      "Epoch 13/1000\n",
      "819/819 - 79s - loss: 0.0078 - val_loss: 0.0070\n",
      "Epoch 14/1000\n",
      "819/819 - 79s - loss: 0.0076 - val_loss: 0.0068\n",
      "Epoch 15/1000\n",
      "819/819 - 79s - loss: 0.0074 - val_loss: 0.0065\n",
      "Epoch 16/1000\n",
      "819/819 - 79s - loss: 0.0072 - val_loss: 0.0067\n",
      "Epoch 17/1000\n",
      "819/819 - 79s - loss: 0.0070 - val_loss: 0.0062\n",
      "Epoch 18/1000\n",
      "819/819 - 79s - loss: 0.0069 - val_loss: 0.0061\n",
      "Epoch 19/1000\n",
      "819/819 - 79s - loss: 0.0067 - val_loss: 0.0060\n",
      "Epoch 20/1000\n",
      "819/819 - 79s - loss: 0.0066 - val_loss: 0.0057\n",
      "Epoch 21/1000\n",
      "819/819 - 79s - loss: 0.0065 - val_loss: 0.0057\n",
      "Epoch 22/1000\n",
      "819/819 - 79s - loss: 0.0064 - val_loss: 0.0056\n",
      "Epoch 23/1000\n",
      "819/819 - 79s - loss: 0.0062 - val_loss: 0.0056\n",
      "Epoch 24/1000\n",
      "819/819 - 79s - loss: 0.0061 - val_loss: 0.0054\n",
      "Epoch 25/1000\n",
      "819/819 - 79s - loss: 0.0061 - val_loss: 0.0054\n",
      "Epoch 26/1000\n",
      "819/819 - 79s - loss: 0.0060 - val_loss: 0.0053\n",
      "Epoch 27/1000\n",
      "819/819 - 79s - loss: 0.0059 - val_loss: 0.0050\n",
      "Epoch 28/1000\n",
      "819/819 - 79s - loss: 0.0058 - val_loss: 0.0050\n",
      "Epoch 29/1000\n",
      "819/819 - 79s - loss: 0.0057 - val_loss: 0.0049\n",
      "Epoch 30/1000\n",
      "819/819 - 79s - loss: 0.0056 - val_loss: 0.0050\n",
      "Epoch 31/1000\n",
      "819/819 - 79s - loss: 0.0056 - val_loss: 0.0047\n",
      "Epoch 32/1000\n",
      "819/819 - 79s - loss: 0.0055 - val_loss: 0.0048\n",
      "Epoch 33/1000\n",
      "819/819 - 79s - loss: 0.0054 - val_loss: 0.0047\n",
      "Epoch 34/1000\n",
      "819/819 - 79s - loss: 0.0054 - val_loss: 0.0046\n",
      "Epoch 35/1000\n",
      "819/819 - 79s - loss: 0.0053 - val_loss: 0.0045\n",
      "Epoch 36/1000\n",
      "819/819 - 79s - loss: 0.0052 - val_loss: 0.0046\n",
      "Epoch 37/1000\n",
      "819/819 - 79s - loss: 0.0051 - val_loss: 0.0046\n",
      "Epoch 38/1000\n",
      "819/819 - 79s - loss: 0.0051 - val_loss: 0.0042\n",
      "Epoch 39/1000\n",
      "819/819 - 79s - loss: 0.0050 - val_loss: 0.0043\n",
      "Epoch 40/1000\n",
      "819/819 - 79s - loss: 0.0050 - val_loss: 0.0042\n",
      "Epoch 41/1000\n",
      "819/819 - 79s - loss: 0.0049 - val_loss: 0.0041\n",
      "Epoch 42/1000\n",
      "819/819 - 79s - loss: 0.0049 - val_loss: 0.0042\n",
      "Epoch 43/1000\n",
      "819/819 - 79s - loss: 0.0048 - val_loss: 0.0041\n",
      "Epoch 44/1000\n",
      "819/819 - 79s - loss: 0.0048 - val_loss: 0.0040\n",
      "Epoch 45/1000\n",
      "819/819 - 79s - loss: 0.0047 - val_loss: 0.0042\n",
      "Epoch 46/1000\n",
      "819/819 - 79s - loss: 0.0047 - val_loss: 0.0041\n",
      "Epoch 47/1000\n",
      "819/819 - 79s - loss: 0.0046 - val_loss: 0.0040\n",
      "Epoch 48/1000\n",
      "819/819 - 79s - loss: 0.0046 - val_loss: 0.0039\n",
      "Epoch 49/1000\n",
      "819/819 - 79s - loss: 0.0046 - val_loss: 0.0039\n",
      "Epoch 50/1000\n",
      "819/819 - 79s - loss: 0.0045 - val_loss: 0.0038\n",
      "Epoch 51/1000\n",
      "819/819 - 79s - loss: 0.0045 - val_loss: 0.0038\n",
      "Epoch 52/1000\n",
      "819/819 - 79s - loss: 0.0045 - val_loss: 0.0038\n",
      "Epoch 53/1000\n",
      "819/819 - 79s - loss: 0.0045 - val_loss: 0.0037\n",
      "Epoch 54/1000\n",
      "819/819 - 79s - loss: 0.0044 - val_loss: 0.0037\n",
      "Epoch 55/1000\n",
      "819/819 - 79s - loss: 0.0044 - val_loss: 0.0036\n",
      "Epoch 56/1000\n",
      "819/819 - 79s - loss: 0.0044 - val_loss: 0.0037\n",
      "Epoch 57/1000\n",
      "819/819 - 79s - loss: 0.0043 - val_loss: 0.0036\n",
      "Epoch 58/1000\n",
      "819/819 - 79s - loss: 0.0043 - val_loss: 0.0037\n",
      "Epoch 59/1000\n",
      "819/819 - 79s - loss: 0.0043 - val_loss: 0.0037\n",
      "Epoch 60/1000\n",
      "819/819 - 79s - loss: 0.0043 - val_loss: 0.0036\n",
      "Epoch 61/1000\n",
      "819/819 - 79s - loss: 0.0042 - val_loss: 0.0035\n",
      "Epoch 62/1000\n",
      "819/819 - 79s - loss: 0.0042 - val_loss: 0.0035\n",
      "Epoch 63/1000\n",
      "819/819 - 79s - loss: 0.0042 - val_loss: 0.0036\n",
      "Epoch 64/1000\n",
      "819/819 - 79s - loss: 0.0042 - val_loss: 0.0035\n",
      "Epoch 65/1000\n",
      "819/819 - 79s - loss: 0.0042 - val_loss: 0.0035\n",
      "Epoch 66/1000\n",
      "819/819 - 79s - loss: 0.0041 - val_loss: 0.0035\n",
      "Epoch 67/1000\n",
      "819/819 - 79s - loss: 0.0041 - val_loss: 0.0034\n",
      "Epoch 68/1000\n",
      "819/819 - 79s - loss: 0.0041 - val_loss: 0.0034\n",
      "Epoch 69/1000\n",
      "819/819 - 79s - loss: 0.0041 - val_loss: 0.0034\n",
      "Epoch 70/1000\n",
      "819/819 - 79s - loss: 0.0041 - val_loss: 0.0034\n",
      "Epoch 71/1000\n",
      "819/819 - 79s - loss: 0.0041 - val_loss: 0.0034\n",
      "Epoch 72/1000\n",
      "819/819 - 79s - loss: 0.0040 - val_loss: 0.0033\n",
      "Epoch 73/1000\n",
      "819/819 - 79s - loss: 0.0040 - val_loss: 0.0033\n",
      "Epoch 74/1000\n",
      "819/819 - 79s - loss: 0.0040 - val_loss: 0.0034\n",
      "Epoch 75/1000\n",
      "819/819 - 79s - loss: 0.0040 - val_loss: 0.0035\n",
      "Epoch 76/1000\n",
      "819/819 - 79s - loss: 0.0040 - val_loss: 0.0033\n",
      "Epoch 77/1000\n",
      "819/819 - 79s - loss: 0.0040 - val_loss: 0.0034\n",
      "Epoch 78/1000\n",
      "819/819 - 79s - loss: 0.0039 - val_loss: 0.0033\n",
      "Epoch 79/1000\n",
      "819/819 - 79s - loss: 0.0039 - val_loss: 0.0032\n",
      "Epoch 80/1000\n",
      "819/819 - 79s - loss: 0.0039 - val_loss: 0.0032\n",
      "Epoch 81/1000\n",
      "819/819 - 79s - loss: 0.0039 - val_loss: 0.0032\n",
      "Epoch 82/1000\n",
      "819/819 - 79s - loss: 0.0039 - val_loss: 0.0032\n",
      "Epoch 83/1000\n",
      "819/819 - 79s - loss: 0.0039 - val_loss: 0.0033\n",
      "Epoch 84/1000\n",
      "819/819 - 79s - loss: 0.0039 - val_loss: 0.0032\n",
      "Epoch 85/1000\n",
      "819/819 - 79s - loss: 0.0039 - val_loss: 0.0032\n"
     ]
    }
   ],
   "source": [
    "#depth = [30,50,100,125,150,200,250,300,400,500,600,700,800,900,1000]\n",
    "depth = [200,250,300,400,500]\n",
    "for i in range(0,5): \n",
    "    input_cnn_train = np.concatenate((x_cnn_train_split[:,:,:,:5],x_cnn_train_split[:,:,:,i+5:i+6]),axis=-1) \n",
    "    input_lstm_train = np.concatenate((x_lstm_train_split[:,:,:5],x_lstm_train_split[:,:,i+5:i+6]),axis=-1)\n",
    "    input_cnn_val = np.concatenate((x_cnn_val[:,:,:,:5],x_cnn_val[:,:,:,i+5:i+6]),axis=-1)  \n",
    "    input_lstm_val = np.concatenate((x_lstm_val[:,:,:5],x_lstm_val[:,:,i+5:i+6]),axis=-1)  \n",
    "    \n",
    "    train_model(input_cnn_train,input_lstm_train,y_train_split[:,i+5:i+6],\n",
    "                input_cnn_val,input_lstm_val,y_val[:,i+5:i+6],\n",
    "                '../model/cnncnn_lstm_jc_model_newVariable_sali'+str(depth[i])+'m.h5')"
   ]
  },
  {
   "cell_type": "markdown",
   "id": "6e31ae88",
   "metadata": {
    "ExecuteTime": {
     "end_time": "2023-12-03T22:20:22.560058Z",
     "start_time": "2023-12-03T13:59:42.150406Z"
    }
   },
   "source": [
    "### 30-150m 训练"
   ]
  },
  {
   "cell_type": "code",
   "execution_count": 25,
   "id": "c0b45057",
   "metadata": {
    "ExecuteTime": {
     "end_time": "2023-12-11T22:18:36.359220Z",
     "start_time": "2023-12-11T13:39:35.274530Z"
    },
    "code_folding": [],
    "collapsed": true
   },
   "outputs": [
    {
     "name": "stdout",
     "output_type": "stream",
     "text": [
      "注意力被执行了一次\n",
      "注意力被执行了一次\n",
      "Epoch 1/1000\n",
      "819/819 - 110s - loss: 0.0751 - val_loss: 0.0200\n",
      "Epoch 2/1000\n",
      "819/819 - 79s - loss: 0.0131 - val_loss: 0.0086\n",
      "Epoch 3/1000\n",
      "819/819 - 79s - loss: 0.0079 - val_loss: 0.0068\n",
      "Epoch 4/1000\n",
      "819/819 - 79s - loss: 0.0068 - val_loss: 0.0063\n",
      "Epoch 5/1000\n",
      "819/819 - 79s - loss: 0.0064 - val_loss: 0.0058\n",
      "Epoch 6/1000\n",
      "819/819 - 79s - loss: 0.0060 - val_loss: 0.0056\n",
      "Epoch 7/1000\n",
      "819/819 - 79s - loss: 0.0058 - val_loss: 0.0053\n",
      "Epoch 8/1000\n",
      "819/819 - 79s - loss: 0.0056 - val_loss: 0.0051\n",
      "Epoch 9/1000\n",
      "819/819 - 79s - loss: 0.0055 - val_loss: 0.0050\n",
      "Epoch 10/1000\n",
      "819/819 - 79s - loss: 0.0053 - val_loss: 0.0049\n",
      "Epoch 11/1000\n",
      "819/819 - 79s - loss: 0.0052 - val_loss: 0.0050\n",
      "Epoch 12/1000\n",
      "819/819 - 79s - loss: 0.0051 - val_loss: 0.0047\n",
      "Epoch 13/1000\n",
      "819/819 - 79s - loss: 0.0050 - val_loss: 0.0046\n",
      "Epoch 14/1000\n",
      "819/819 - 79s - loss: 0.0049 - val_loss: 0.0045\n",
      "Epoch 15/1000\n",
      "819/819 - 79s - loss: 0.0048 - val_loss: 0.0043\n",
      "Epoch 16/1000\n",
      "819/819 - 79s - loss: 0.0047 - val_loss: 0.0043\n",
      "Epoch 17/1000\n",
      "819/819 - 79s - loss: 0.0046 - val_loss: 0.0042\n",
      "Epoch 18/1000\n",
      "819/819 - 79s - loss: 0.0045 - val_loss: 0.0044\n",
      "Epoch 19/1000\n",
      "819/819 - 79s - loss: 0.0044 - val_loss: 0.0041\n",
      "Epoch 20/1000\n",
      "819/819 - 79s - loss: 0.0044 - val_loss: 0.0041\n",
      "Epoch 21/1000\n",
      "819/819 - 79s - loss: 0.0043 - val_loss: 0.0039\n",
      "Epoch 22/1000\n",
      "819/819 - 79s - loss: 0.0042 - val_loss: 0.0040\n",
      "Epoch 23/1000\n",
      "819/819 - 79s - loss: 0.0042 - val_loss: 0.0038\n",
      "Epoch 24/1000\n",
      "819/819 - 79s - loss: 0.0041 - val_loss: 0.0038\n",
      "Epoch 25/1000\n",
      "819/819 - 79s - loss: 0.0041 - val_loss: 0.0038\n",
      "Epoch 26/1000\n",
      "819/819 - 79s - loss: 0.0040 - val_loss: 0.0036\n",
      "Epoch 27/1000\n",
      "819/819 - 79s - loss: 0.0040 - val_loss: 0.0037\n",
      "Epoch 28/1000\n",
      "819/819 - 79s - loss: 0.0039 - val_loss: 0.0035\n",
      "Epoch 29/1000\n",
      "819/819 - 79s - loss: 0.0039 - val_loss: 0.0035\n",
      "Epoch 30/1000\n",
      "819/819 - 79s - loss: 0.0038 - val_loss: 0.0034\n",
      "Epoch 31/1000\n",
      "819/819 - 79s - loss: 0.0038 - val_loss: 0.0034\n",
      "Epoch 32/1000\n",
      "819/819 - 79s - loss: 0.0037 - val_loss: 0.0033\n",
      "Epoch 33/1000\n",
      "819/819 - 79s - loss: 0.0037 - val_loss: 0.0033\n",
      "Epoch 34/1000\n",
      "819/819 - 79s - loss: 0.0036 - val_loss: 0.0033\n",
      "Epoch 35/1000\n",
      "819/819 - 79s - loss: 0.0036 - val_loss: 0.0033\n",
      "Epoch 36/1000\n",
      "819/819 - 79s - loss: 0.0036 - val_loss: 0.0032\n",
      "Epoch 37/1000\n",
      "819/819 - 79s - loss: 0.0035 - val_loss: 0.0032\n",
      "Epoch 38/1000\n",
      "819/819 - 79s - loss: 0.0035 - val_loss: 0.0031\n",
      "Epoch 39/1000\n",
      "819/819 - 79s - loss: 0.0035 - val_loss: 0.0031\n",
      "Epoch 40/1000\n",
      "819/819 - 79s - loss: 0.0034 - val_loss: 0.0031\n",
      "Epoch 41/1000\n",
      "819/819 - 79s - loss: 0.0034 - val_loss: 0.0030\n",
      "Epoch 42/1000\n",
      "819/819 - 79s - loss: 0.0034 - val_loss: 0.0030\n",
      "Epoch 43/1000\n",
      "819/819 - 79s - loss: 0.0034 - val_loss: 0.0030\n",
      "Epoch 44/1000\n",
      "819/819 - 79s - loss: 0.0033 - val_loss: 0.0029\n",
      "Epoch 45/1000\n",
      "819/819 - 79s - loss: 0.0033 - val_loss: 0.0029\n",
      "Epoch 46/1000\n",
      "819/819 - 79s - loss: 0.0033 - val_loss: 0.0029\n",
      "Epoch 47/1000\n",
      "819/819 - 79s - loss: 0.0033 - val_loss: 0.0029\n",
      "Epoch 48/1000\n",
      "819/819 - 79s - loss: 0.0032 - val_loss: 0.0028\n",
      "Epoch 49/1000\n",
      "819/819 - 79s - loss: 0.0032 - val_loss: 0.0029\n",
      "Epoch 50/1000\n",
      "819/819 - 79s - loss: 0.0032 - val_loss: 0.0029\n",
      "Epoch 51/1000\n",
      "819/819 - 79s - loss: 0.0032 - val_loss: 0.0028\n",
      "Epoch 52/1000\n",
      "819/819 - 79s - loss: 0.0032 - val_loss: 0.0028\n",
      "Epoch 53/1000\n",
      "819/819 - 79s - loss: 0.0031 - val_loss: 0.0027\n",
      "Epoch 54/1000\n",
      "819/819 - 79s - loss: 0.0031 - val_loss: 0.0027\n",
      "Epoch 55/1000\n",
      "819/819 - 79s - loss: 0.0031 - val_loss: 0.0028\n",
      "Epoch 56/1000\n",
      "819/819 - 79s - loss: 0.0031 - val_loss: 0.0028\n",
      "Epoch 57/1000\n",
      "819/819 - 79s - loss: 0.0031 - val_loss: 0.0027\n",
      "Epoch 58/1000\n",
      "819/819 - 79s - loss: 0.0031 - val_loss: 0.0027\n",
      "注意力被执行了一次\n",
      "注意力被执行了一次\n",
      "Epoch 1/1000\n",
      "819/819 - 96s - loss: 0.0801 - val_loss: 0.0242\n",
      "Epoch 2/1000\n",
      "819/819 - 79s - loss: 0.0158 - val_loss: 0.0104\n",
      "Epoch 3/1000\n",
      "819/819 - 79s - loss: 0.0097 - val_loss: 0.0083\n",
      "Epoch 4/1000\n",
      "819/819 - 79s - loss: 0.0083 - val_loss: 0.0074\n",
      "Epoch 5/1000\n",
      "819/819 - 79s - loss: 0.0077 - val_loss: 0.0071\n",
      "Epoch 6/1000\n",
      "819/819 - 79s - loss: 0.0073 - val_loss: 0.0065\n",
      "Epoch 7/1000\n",
      "819/819 - 79s - loss: 0.0069 - val_loss: 0.0064\n",
      "Epoch 8/1000\n",
      "819/819 - 79s - loss: 0.0067 - val_loss: 0.0069\n",
      "Epoch 9/1000\n",
      "819/819 - 79s - loss: 0.0064 - val_loss: 0.0059\n",
      "Epoch 10/1000\n",
      "819/819 - 79s - loss: 0.0062 - val_loss: 0.0057\n",
      "Epoch 11/1000\n",
      "819/819 - 79s - loss: 0.0060 - val_loss: 0.0055\n",
      "Epoch 12/1000\n",
      "819/819 - 79s - loss: 0.0058 - val_loss: 0.0053\n",
      "Epoch 13/1000\n",
      "819/819 - 79s - loss: 0.0057 - val_loss: 0.0055\n",
      "Epoch 14/1000\n",
      "819/819 - 79s - loss: 0.0055 - val_loss: 0.0053\n",
      "Epoch 15/1000\n",
      "819/819 - 79s - loss: 0.0054 - val_loss: 0.0049\n",
      "Epoch 16/1000\n",
      "819/819 - 79s - loss: 0.0053 - val_loss: 0.0048\n",
      "Epoch 17/1000\n",
      "819/819 - 79s - loss: 0.0051 - val_loss: 0.0047\n",
      "Epoch 18/1000\n",
      "819/819 - 79s - loss: 0.0050 - val_loss: 0.0046\n",
      "Epoch 19/1000\n",
      "819/819 - 79s - loss: 0.0049 - val_loss: 0.0045\n",
      "Epoch 20/1000\n",
      "819/819 - 79s - loss: 0.0048 - val_loss: 0.0043\n",
      "Epoch 21/1000\n",
      "819/819 - 79s - loss: 0.0047 - val_loss: 0.0042\n",
      "Epoch 22/1000\n",
      "819/819 - 79s - loss: 0.0046 - val_loss: 0.0041\n",
      "Epoch 23/1000\n",
      "819/819 - 79s - loss: 0.0046 - val_loss: 0.0042\n",
      "Epoch 24/1000\n",
      "819/819 - 79s - loss: 0.0045 - val_loss: 0.0039\n",
      "Epoch 25/1000\n",
      "819/819 - 79s - loss: 0.0044 - val_loss: 0.0041\n",
      "Epoch 26/1000\n",
      "819/819 - 79s - loss: 0.0043 - val_loss: 0.0038\n",
      "Epoch 27/1000\n",
      "819/819 - 79s - loss: 0.0043 - val_loss: 0.0038\n",
      "Epoch 28/1000\n",
      "819/819 - 79s - loss: 0.0042 - val_loss: 0.0038\n",
      "Epoch 29/1000\n",
      "819/819 - 79s - loss: 0.0042 - val_loss: 0.0037\n",
      "Epoch 30/1000\n",
      "819/819 - 79s - loss: 0.0041 - val_loss: 0.0036\n",
      "Epoch 31/1000\n",
      "819/819 - 79s - loss: 0.0041 - val_loss: 0.0036\n",
      "Epoch 32/1000\n",
      "819/819 - 79s - loss: 0.0040 - val_loss: 0.0035\n",
      "Epoch 33/1000\n",
      "819/819 - 79s - loss: 0.0040 - val_loss: 0.0035\n",
      "Epoch 34/1000\n",
      "819/819 - 79s - loss: 0.0039 - val_loss: 0.0034\n",
      "Epoch 35/1000\n",
      "819/819 - 79s - loss: 0.0039 - val_loss: 0.0033\n",
      "Epoch 36/1000\n",
      "819/819 - 79s - loss: 0.0038 - val_loss: 0.0034\n",
      "Epoch 37/1000\n",
      "819/819 - 79s - loss: 0.0038 - val_loss: 0.0032\n",
      "Epoch 38/1000\n",
      "819/819 - 79s - loss: 0.0038 - val_loss: 0.0034\n",
      "Epoch 39/1000\n",
      "819/819 - 79s - loss: 0.0037 - val_loss: 0.0033\n",
      "Epoch 40/1000\n",
      "819/819 - 79s - loss: 0.0037 - val_loss: 0.0033\n",
      "Epoch 41/1000\n",
      "819/819 - 79s - loss: 0.0037 - val_loss: 0.0033\n",
      "Epoch 42/1000\n",
      "819/819 - 79s - loss: 0.0037 - val_loss: 0.0031\n",
      "Epoch 43/1000\n",
      "819/819 - 79s - loss: 0.0036 - val_loss: 0.0031\n",
      "Epoch 44/1000\n",
      "819/819 - 79s - loss: 0.0036 - val_loss: 0.0031\n",
      "Epoch 45/1000\n",
      "819/819 - 79s - loss: 0.0036 - val_loss: 0.0031\n",
      "Epoch 46/1000\n",
      "819/819 - 79s - loss: 0.0035 - val_loss: 0.0030\n",
      "Epoch 47/1000\n",
      "819/819 - 79s - loss: 0.0035 - val_loss: 0.0030\n",
      "Epoch 48/1000\n",
      "819/819 - 79s - loss: 0.0035 - val_loss: 0.0030\n",
      "Epoch 49/1000\n",
      "819/819 - 79s - loss: 0.0035 - val_loss: 0.0030\n",
      "Epoch 50/1000\n",
      "819/819 - 79s - loss: 0.0034 - val_loss: 0.0030\n",
      "Epoch 51/1000\n",
      "819/819 - 79s - loss: 0.0034 - val_loss: 0.0032\n",
      "Epoch 52/1000\n",
      "819/819 - 79s - loss: 0.0034 - val_loss: 0.0031\n",
      "Epoch 53/1000\n",
      "819/819 - 79s - loss: 0.0034 - val_loss: 0.0029\n",
      "Epoch 54/1000\n",
      "819/819 - 79s - loss: 0.0034 - val_loss: 0.0029\n",
      "Epoch 55/1000\n",
      "819/819 - 79s - loss: 0.0033 - val_loss: 0.0028\n",
      "Epoch 56/1000\n",
      "819/819 - 79s - loss: 0.0033 - val_loss: 0.0031\n",
      "Epoch 57/1000\n",
      "819/819 - 79s - loss: 0.0033 - val_loss: 0.0029\n",
      "Epoch 58/1000\n",
      "819/819 - 79s - loss: 0.0033 - val_loss: 0.0028\n",
      "Epoch 59/1000\n",
      "819/819 - 79s - loss: 0.0033 - val_loss: 0.0028\n",
      "Epoch 60/1000\n",
      "819/819 - 79s - loss: 0.0033 - val_loss: 0.0028\n",
      "Epoch 61/1000\n",
      "819/819 - 79s - loss: 0.0032 - val_loss: 0.0027\n",
      "Epoch 62/1000\n",
      "819/819 - 79s - loss: 0.0032 - val_loss: 0.0029\n",
      "Epoch 63/1000\n",
      "819/819 - 79s - loss: 0.0032 - val_loss: 0.0028\n",
      "Epoch 64/1000\n",
      "819/819 - 79s - loss: 0.0032 - val_loss: 0.0027\n",
      "Epoch 65/1000\n",
      "819/819 - 79s - loss: 0.0032 - val_loss: 0.0027\n",
      "Epoch 66/1000\n",
      "819/819 - 79s - loss: 0.0032 - val_loss: 0.0026\n",
      "Epoch 67/1000\n",
      "819/819 - 79s - loss: 0.0032 - val_loss: 0.0027\n",
      "Epoch 68/1000\n",
      "819/819 - 79s - loss: 0.0031 - val_loss: 0.0026\n",
      "Epoch 69/1000\n",
      "819/819 - 79s - loss: 0.0031 - val_loss: 0.0027\n",
      "Epoch 70/1000\n",
      "819/819 - 79s - loss: 0.0031 - val_loss: 0.0027\n",
      "Epoch 71/1000\n",
      "819/819 - 79s - loss: 0.0031 - val_loss: 0.0026\n",
      "Epoch 72/1000\n",
      "819/819 - 79s - loss: 0.0031 - val_loss: 0.0026\n",
      "Epoch 73/1000\n",
      "819/819 - 79s - loss: 0.0031 - val_loss: 0.0026\n",
      "Epoch 74/1000\n",
      "819/819 - 79s - loss: 0.0031 - val_loss: 0.0026\n"
     ]
    },
    {
     "name": "stdout",
     "output_type": "stream",
     "text": [
      "Epoch 75/1000\n",
      "819/819 - 79s - loss: 0.0031 - val_loss: 0.0026\n",
      "Epoch 76/1000\n",
      "819/819 - 79s - loss: 0.0031 - val_loss: 0.0027\n",
      "Epoch 77/1000\n",
      "819/819 - 79s - loss: 0.0030 - val_loss: 0.0027\n",
      "Epoch 78/1000\n",
      "819/819 - 79s - loss: 0.0030 - val_loss: 0.0025\n",
      "Epoch 79/1000\n",
      "819/819 - 79s - loss: 0.0030 - val_loss: 0.0026\n",
      "Epoch 80/1000\n",
      "819/819 - 79s - loss: 0.0030 - val_loss: 0.0025\n",
      "Epoch 81/1000\n",
      "819/819 - 79s - loss: 0.0030 - val_loss: 0.0026\n",
      "Epoch 82/1000\n",
      "819/819 - 79s - loss: 0.0030 - val_loss: 0.0025\n",
      "Epoch 83/1000\n",
      "819/819 - 79s - loss: 0.0030 - val_loss: 0.0026\n",
      "注意力被执行了一次\n",
      "注意力被执行了一次\n",
      "Epoch 1/1000\n",
      "819/819 - 94s - loss: 0.0873 - val_loss: 0.0299\n",
      "Epoch 2/1000\n",
      "819/819 - 80s - loss: 0.0205 - val_loss: 0.0146\n",
      "Epoch 3/1000\n",
      "819/819 - 80s - loss: 0.0128 - val_loss: 0.0105\n",
      "Epoch 4/1000\n",
      "819/819 - 80s - loss: 0.0107 - val_loss: 0.0093\n",
      "Epoch 5/1000\n",
      "819/819 - 81s - loss: 0.0096 - val_loss: 0.0089\n",
      "Epoch 6/1000\n",
      "819/819 - 80s - loss: 0.0089 - val_loss: 0.0079\n",
      "Epoch 7/1000\n",
      "819/819 - 80s - loss: 0.0083 - val_loss: 0.0074\n",
      "Epoch 8/1000\n",
      "819/819 - 81s - loss: 0.0078 - val_loss: 0.0071\n",
      "Epoch 9/1000\n",
      "819/819 - 81s - loss: 0.0074 - val_loss: 0.0067\n",
      "Epoch 10/1000\n",
      "819/819 - 80s - loss: 0.0071 - val_loss: 0.0063\n",
      "Epoch 11/1000\n",
      "819/819 - 80s - loss: 0.0068 - val_loss: 0.0060\n",
      "Epoch 12/1000\n",
      "819/819 - 81s - loss: 0.0066 - val_loss: 0.0060\n",
      "Epoch 13/1000\n",
      "819/819 - 81s - loss: 0.0064 - val_loss: 0.0057\n",
      "Epoch 14/1000\n",
      "819/819 - 81s - loss: 0.0062 - val_loss: 0.0056\n",
      "Epoch 15/1000\n",
      "819/819 - 81s - loss: 0.0060 - val_loss: 0.0055\n",
      "Epoch 16/1000\n",
      "819/819 - 81s - loss: 0.0059 - val_loss: 0.0052\n",
      "Epoch 17/1000\n",
      "819/819 - 81s - loss: 0.0057 - val_loss: 0.0050\n",
      "Epoch 18/1000\n",
      "819/819 - 81s - loss: 0.0056 - val_loss: 0.0050\n",
      "Epoch 19/1000\n",
      "819/819 - 81s - loss: 0.0055 - val_loss: 0.0049\n",
      "Epoch 20/1000\n",
      "819/819 - 81s - loss: 0.0054 - val_loss: 0.0049\n",
      "Epoch 21/1000\n",
      "819/819 - 81s - loss: 0.0053 - val_loss: 0.0047\n",
      "Epoch 22/1000\n",
      "819/819 - 81s - loss: 0.0052 - val_loss: 0.0045\n",
      "Epoch 23/1000\n",
      "819/819 - 81s - loss: 0.0051 - val_loss: 0.0044\n",
      "Epoch 24/1000\n",
      "819/819 - 81s - loss: 0.0050 - val_loss: 0.0044\n",
      "Epoch 25/1000\n",
      "819/819 - 81s - loss: 0.0049 - val_loss: 0.0044\n",
      "Epoch 26/1000\n",
      "819/819 - 81s - loss: 0.0048 - val_loss: 0.0042\n",
      "Epoch 27/1000\n",
      "819/819 - 81s - loss: 0.0048 - val_loss: 0.0041\n",
      "Epoch 28/1000\n",
      "819/819 - 81s - loss: 0.0047 - val_loss: 0.0043\n",
      "Epoch 29/1000\n",
      "819/819 - 81s - loss: 0.0046 - val_loss: 0.0040\n",
      "Epoch 30/1000\n",
      "819/819 - 81s - loss: 0.0046 - val_loss: 0.0039\n",
      "Epoch 31/1000\n",
      "819/819 - 81s - loss: 0.0045 - val_loss: 0.0039\n",
      "Epoch 32/1000\n",
      "819/819 - 81s - loss: 0.0045 - val_loss: 0.0040\n",
      "Epoch 33/1000\n",
      "819/819 - 81s - loss: 0.0044 - val_loss: 0.0038\n",
      "Epoch 34/1000\n",
      "819/819 - 81s - loss: 0.0044 - val_loss: 0.0037\n",
      "Epoch 35/1000\n",
      "819/819 - 81s - loss: 0.0043 - val_loss: 0.0037\n",
      "Epoch 36/1000\n",
      "819/819 - 81s - loss: 0.0043 - val_loss: 0.0037\n",
      "Epoch 37/1000\n",
      "819/819 - 81s - loss: 0.0043 - val_loss: 0.0038\n",
      "Epoch 38/1000\n",
      "819/819 - 81s - loss: 0.0042 - val_loss: 0.0037\n",
      "Epoch 39/1000\n",
      "819/819 - 81s - loss: 0.0042 - val_loss: 0.0036\n",
      "Epoch 40/1000\n",
      "819/819 - 81s - loss: 0.0042 - val_loss: 0.0035\n",
      "Epoch 41/1000\n",
      "819/819 - 81s - loss: 0.0041 - val_loss: 0.0035\n",
      "Epoch 42/1000\n",
      "819/819 - 81s - loss: 0.0041 - val_loss: 0.0035\n",
      "Epoch 43/1000\n",
      "819/819 - 81s - loss: 0.0041 - val_loss: 0.0035\n",
      "Epoch 44/1000\n",
      "819/819 - 81s - loss: 0.0040 - val_loss: 0.0035\n",
      "Epoch 45/1000\n",
      "819/819 - 81s - loss: 0.0040 - val_loss: 0.0034\n",
      "Epoch 46/1000\n",
      "819/819 - 81s - loss: 0.0040 - val_loss: 0.0033\n",
      "Epoch 47/1000\n",
      "819/819 - 81s - loss: 0.0040 - val_loss: 0.0033\n",
      "Epoch 48/1000\n",
      "819/819 - 81s - loss: 0.0039 - val_loss: 0.0033\n",
      "Epoch 49/1000\n",
      "819/819 - 81s - loss: 0.0039 - val_loss: 0.0033\n",
      "Epoch 50/1000\n",
      "819/819 - 81s - loss: 0.0039 - val_loss: 0.0033\n",
      "Epoch 51/1000\n",
      "819/819 - 81s - loss: 0.0038 - val_loss: 0.0033\n",
      "Epoch 52/1000\n",
      "819/819 - 81s - loss: 0.0038 - val_loss: 0.0032\n",
      "Epoch 53/1000\n",
      "819/819 - 81s - loss: 0.0038 - val_loss: 0.0032\n",
      "Epoch 54/1000\n",
      "819/819 - 81s - loss: 0.0038 - val_loss: 0.0032\n",
      "Epoch 55/1000\n",
      "819/819 - 81s - loss: 0.0038 - val_loss: 0.0032\n",
      "Epoch 56/1000\n",
      "819/819 - 81s - loss: 0.0038 - val_loss: 0.0031\n",
      "Epoch 57/1000\n",
      "819/819 - 81s - loss: 0.0037 - val_loss: 0.0032\n",
      "Epoch 58/1000\n",
      "819/819 - 81s - loss: 0.0037 - val_loss: 0.0031\n",
      "Epoch 59/1000\n",
      "819/819 - 81s - loss: 0.0037 - val_loss: 0.0031\n",
      "Epoch 60/1000\n",
      "819/819 - 81s - loss: 0.0037 - val_loss: 0.0031\n",
      "Epoch 61/1000\n",
      "819/819 - 81s - loss: 0.0037 - val_loss: 0.0030\n",
      "Epoch 62/1000\n",
      "819/819 - 81s - loss: 0.0037 - val_loss: 0.0032\n",
      "Epoch 63/1000\n",
      "819/819 - 81s - loss: 0.0036 - val_loss: 0.0030\n",
      "Epoch 64/1000\n",
      "819/819 - 81s - loss: 0.0036 - val_loss: 0.0030\n",
      "Epoch 65/1000\n",
      "819/819 - 81s - loss: 0.0036 - val_loss: 0.0030\n",
      "Epoch 66/1000\n",
      "819/819 - 81s - loss: 0.0036 - val_loss: 0.0031\n",
      "Epoch 67/1000\n",
      "819/819 - 81s - loss: 0.0036 - val_loss: 0.0030\n",
      "Epoch 68/1000\n",
      "819/819 - 81s - loss: 0.0036 - val_loss: 0.0031\n",
      "Epoch 69/1000\n",
      "819/819 - 81s - loss: 0.0036 - val_loss: 0.0030\n",
      "Epoch 70/1000\n",
      "819/819 - 81s - loss: 0.0035 - val_loss: 0.0029\n",
      "Epoch 71/1000\n",
      "819/819 - 81s - loss: 0.0035 - val_loss: 0.0029\n",
      "Epoch 72/1000\n",
      "819/819 - 81s - loss: 0.0035 - val_loss: 0.0031\n",
      "注意力被执行了一次\n",
      "注意力被执行了一次\n",
      "Epoch 1/1000\n",
      "819/819 - 95s - loss: 0.0835 - val_loss: 0.0286\n",
      "Epoch 2/1000\n",
      "819/819 - 80s - loss: 0.0209 - val_loss: 0.0152\n",
      "Epoch 3/1000\n",
      "819/819 - 80s - loss: 0.0144 - val_loss: 0.0122\n",
      "Epoch 4/1000\n",
      "819/819 - 80s - loss: 0.0124 - val_loss: 0.0108\n",
      "Epoch 5/1000\n",
      "819/819 - 80s - loss: 0.0112 - val_loss: 0.0100\n",
      "Epoch 6/1000\n",
      "819/819 - 80s - loss: 0.0103 - val_loss: 0.0093\n",
      "Epoch 7/1000\n",
      "819/819 - 80s - loss: 0.0096 - val_loss: 0.0084\n",
      "Epoch 8/1000\n",
      "819/819 - 80s - loss: 0.0090 - val_loss: 0.0085\n",
      "Epoch 9/1000\n",
      "819/819 - 80s - loss: 0.0086 - val_loss: 0.0078\n",
      "Epoch 10/1000\n",
      "819/819 - 80s - loss: 0.0082 - val_loss: 0.0073\n",
      "Epoch 11/1000\n",
      "819/819 - 81s - loss: 0.0078 - val_loss: 0.0072\n",
      "Epoch 12/1000\n",
      "819/819 - 81s - loss: 0.0076 - val_loss: 0.0067\n",
      "Epoch 13/1000\n",
      "819/819 - 81s - loss: 0.0073 - val_loss: 0.0063\n",
      "Epoch 14/1000\n",
      "819/819 - 81s - loss: 0.0071 - val_loss: 0.0062\n",
      "Epoch 15/1000\n",
      "819/819 - 81s - loss: 0.0069 - val_loss: 0.0060\n",
      "Epoch 16/1000\n",
      "819/819 - 81s - loss: 0.0067 - val_loss: 0.0059\n",
      "Epoch 17/1000\n",
      "819/819 - 81s - loss: 0.0065 - val_loss: 0.0057\n",
      "Epoch 18/1000\n",
      "819/819 - 81s - loss: 0.0063 - val_loss: 0.0056\n",
      "Epoch 19/1000\n",
      "819/819 - 81s - loss: 0.0062 - val_loss: 0.0054\n",
      "Epoch 20/1000\n",
      "819/819 - 81s - loss: 0.0061 - val_loss: 0.0053\n",
      "Epoch 21/1000\n",
      "819/819 - 81s - loss: 0.0060 - val_loss: 0.0052\n",
      "Epoch 22/1000\n",
      "819/819 - 81s - loss: 0.0059 - val_loss: 0.0050\n",
      "Epoch 23/1000\n",
      "819/819 - 81s - loss: 0.0058 - val_loss: 0.0050\n",
      "Epoch 24/1000\n",
      "819/819 - 81s - loss: 0.0057 - val_loss: 0.0049\n",
      "Epoch 25/1000\n",
      "819/819 - 81s - loss: 0.0056 - val_loss: 0.0049\n",
      "Epoch 26/1000\n",
      "819/819 - 81s - loss: 0.0055 - val_loss: 0.0047\n",
      "Epoch 27/1000\n",
      "819/819 - 81s - loss: 0.0054 - val_loss: 0.0048\n",
      "Epoch 28/1000\n",
      "819/819 - 81s - loss: 0.0054 - val_loss: 0.0046\n",
      "Epoch 29/1000\n",
      "819/819 - 81s - loss: 0.0053 - val_loss: 0.0046\n",
      "Epoch 30/1000\n",
      "819/819 - 81s - loss: 0.0052 - val_loss: 0.0044\n",
      "Epoch 31/1000\n",
      "819/819 - 81s - loss: 0.0052 - val_loss: 0.0044\n",
      "Epoch 32/1000\n",
      "819/819 - 81s - loss: 0.0051 - val_loss: 0.0043\n",
      "Epoch 33/1000\n",
      "819/819 - 81s - loss: 0.0051 - val_loss: 0.0044\n",
      "Epoch 34/1000\n",
      "819/819 - 81s - loss: 0.0050 - val_loss: 0.0043\n",
      "Epoch 35/1000\n",
      "819/819 - 81s - loss: 0.0050 - val_loss: 0.0042\n",
      "Epoch 36/1000\n",
      "819/819 - 81s - loss: 0.0049 - val_loss: 0.0042\n",
      "Epoch 37/1000\n",
      "819/819 - 81s - loss: 0.0049 - val_loss: 0.0040\n",
      "Epoch 38/1000\n",
      "819/819 - 81s - loss: 0.0048 - val_loss: 0.0042\n",
      "Epoch 39/1000\n",
      "819/819 - 81s - loss: 0.0048 - val_loss: 0.0040\n",
      "Epoch 40/1000\n",
      "819/819 - 81s - loss: 0.0048 - val_loss: 0.0041\n",
      "Epoch 41/1000\n",
      "819/819 - 80s - loss: 0.0047 - val_loss: 0.0040\n",
      "Epoch 42/1000\n",
      "819/819 - 81s - loss: 0.0047 - val_loss: 0.0040\n",
      "Epoch 43/1000\n",
      "819/819 - 81s - loss: 0.0047 - val_loss: 0.0038\n",
      "Epoch 44/1000\n",
      "819/819 - 81s - loss: 0.0046 - val_loss: 0.0039\n",
      "Epoch 45/1000\n",
      "819/819 - 81s - loss: 0.0046 - val_loss: 0.0039\n",
      "Epoch 46/1000\n",
      "819/819 - 81s - loss: 0.0046 - val_loss: 0.0038\n",
      "Epoch 47/1000\n",
      "819/819 - 81s - loss: 0.0045 - val_loss: 0.0038\n",
      "Epoch 48/1000\n",
      "819/819 - 81s - loss: 0.0045 - val_loss: 0.0037\n",
      "Epoch 49/1000\n",
      "819/819 - 81s - loss: 0.0045 - val_loss: 0.0038\n",
      "Epoch 50/1000\n",
      "819/819 - 81s - loss: 0.0045 - val_loss: 0.0037\n",
      "Epoch 51/1000\n",
      "819/819 - 81s - loss: 0.0044 - val_loss: 0.0037\n"
     ]
    },
    {
     "name": "stdout",
     "output_type": "stream",
     "text": [
      "Epoch 52/1000\n",
      "819/819 - 81s - loss: 0.0044 - val_loss: 0.0037\n",
      "Epoch 53/1000\n",
      "819/819 - 81s - loss: 0.0044 - val_loss: 0.0036\n",
      "Epoch 54/1000\n",
      "819/819 - 81s - loss: 0.0044 - val_loss: 0.0035\n",
      "Epoch 55/1000\n",
      "819/819 - 81s - loss: 0.0043 - val_loss: 0.0036\n",
      "Epoch 56/1000\n",
      "819/819 - 81s - loss: 0.0043 - val_loss: 0.0037\n",
      "Epoch 57/1000\n",
      "819/819 - 81s - loss: 0.0043 - val_loss: 0.0035\n",
      "Epoch 58/1000\n",
      "819/819 - 81s - loss: 0.0043 - val_loss: 0.0036\n",
      "Epoch 59/1000\n",
      "819/819 - 81s - loss: 0.0043 - val_loss: 0.0036\n",
      "Epoch 60/1000\n",
      "819/819 - 81s - loss: 0.0042 - val_loss: 0.0035\n",
      "Epoch 61/1000\n",
      "819/819 - 81s - loss: 0.0042 - val_loss: 0.0036\n",
      "Epoch 62/1000\n",
      "819/819 - 81s - loss: 0.0042 - val_loss: 0.0036\n",
      "Epoch 63/1000\n",
      "819/819 - 81s - loss: 0.0042 - val_loss: 0.0035\n",
      "Epoch 64/1000\n",
      "819/819 - 81s - loss: 0.0042 - val_loss: 0.0034\n",
      "Epoch 65/1000\n",
      "819/819 - 81s - loss: 0.0042 - val_loss: 0.0034\n",
      "Epoch 66/1000\n",
      "819/819 - 81s - loss: 0.0041 - val_loss: 0.0034\n",
      "Epoch 67/1000\n",
      "819/819 - 81s - loss: 0.0041 - val_loss: 0.0034\n",
      "Epoch 68/1000\n",
      "819/819 - 81s - loss: 0.0041 - val_loss: 0.0035\n",
      "Epoch 69/1000\n",
      "819/819 - 81s - loss: 0.0041 - val_loss: 0.0034\n",
      "Epoch 70/1000\n",
      "819/819 - 81s - loss: 0.0041 - val_loss: 0.0033\n",
      "Epoch 71/1000\n",
      "819/819 - 81s - loss: 0.0041 - val_loss: 0.0034\n",
      "Epoch 72/1000\n",
      "819/819 - 81s - loss: 0.0040 - val_loss: 0.0033\n",
      "Epoch 73/1000\n",
      "819/819 - 81s - loss: 0.0040 - val_loss: 0.0033\n",
      "Epoch 74/1000\n",
      "819/819 - 81s - loss: 0.0040 - val_loss: 0.0033\n",
      "Epoch 75/1000\n",
      "819/819 - 81s - loss: 0.0040 - val_loss: 0.0033\n",
      "Epoch 76/1000\n",
      "819/819 - 81s - loss: 0.0040 - val_loss: 0.0033\n",
      "Epoch 77/1000\n",
      "819/819 - 81s - loss: 0.0040 - val_loss: 0.0032\n",
      "Epoch 78/1000\n",
      "819/819 - 81s - loss: 0.0040 - val_loss: 0.0032\n",
      "Epoch 79/1000\n",
      "819/819 - 81s - loss: 0.0040 - val_loss: 0.0032\n",
      "Epoch 80/1000\n",
      "819/819 - 81s - loss: 0.0039 - val_loss: 0.0032\n",
      "Epoch 81/1000\n",
      "819/819 - 81s - loss: 0.0039 - val_loss: 0.0032\n",
      "Epoch 82/1000\n",
      "819/819 - 81s - loss: 0.0039 - val_loss: 0.0032\n",
      "Epoch 83/1000\n",
      "819/819 - 81s - loss: 0.0039 - val_loss: 0.0032\n",
      "Epoch 84/1000\n",
      "819/819 - 81s - loss: 0.0039 - val_loss: 0.0032\n",
      "注意力被执行了一次\n",
      "注意力被执行了一次\n",
      "Epoch 1/1000\n",
      "819/819 - 96s - loss: 0.0833 - val_loss: 0.0278\n",
      "Epoch 2/1000\n",
      "819/819 - 83s - loss: 0.0209 - val_loss: 0.0152\n",
      "Epoch 3/1000\n",
      "819/819 - 83s - loss: 0.0145 - val_loss: 0.0125\n",
      "Epoch 4/1000\n",
      "819/819 - 83s - loss: 0.0123 - val_loss: 0.0110\n",
      "Epoch 5/1000\n",
      "819/819 - 83s - loss: 0.0112 - val_loss: 0.0101\n",
      "Epoch 6/1000\n",
      "819/819 - 83s - loss: 0.0104 - val_loss: 0.0094\n",
      "Epoch 7/1000\n",
      "819/819 - 83s - loss: 0.0098 - val_loss: 0.0093\n",
      "Epoch 8/1000\n",
      "819/819 - 83s - loss: 0.0093 - val_loss: 0.0082\n",
      "Epoch 9/1000\n",
      "819/819 - 83s - loss: 0.0088 - val_loss: 0.0081\n",
      "Epoch 10/1000\n",
      "819/819 - 83s - loss: 0.0085 - val_loss: 0.0077\n",
      "Epoch 11/1000\n",
      "819/819 - 83s - loss: 0.0082 - val_loss: 0.0073\n",
      "Epoch 12/1000\n",
      "819/819 - 83s - loss: 0.0079 - val_loss: 0.0070\n",
      "Epoch 13/1000\n",
      "819/819 - 83s - loss: 0.0077 - val_loss: 0.0070\n",
      "Epoch 14/1000\n",
      "819/819 - 83s - loss: 0.0075 - val_loss: 0.0065\n",
      "Epoch 15/1000\n",
      "819/819 - 83s - loss: 0.0073 - val_loss: 0.0064\n",
      "Epoch 16/1000\n",
      "819/819 - 83s - loss: 0.0071 - val_loss: 0.0064\n",
      "Epoch 17/1000\n",
      "819/819 - 83s - loss: 0.0069 - val_loss: 0.0064\n",
      "Epoch 18/1000\n",
      "819/819 - 83s - loss: 0.0068 - val_loss: 0.0060\n",
      "Epoch 19/1000\n",
      "819/819 - 83s - loss: 0.0067 - val_loss: 0.0060\n",
      "Epoch 20/1000\n",
      "819/819 - 83s - loss: 0.0065 - val_loss: 0.0059\n",
      "Epoch 21/1000\n",
      "819/819 - 83s - loss: 0.0064 - val_loss: 0.0062\n",
      "Epoch 22/1000\n",
      "819/819 - 83s - loss: 0.0063 - val_loss: 0.0055\n",
      "Epoch 23/1000\n",
      "819/819 - 83s - loss: 0.0062 - val_loss: 0.0055\n",
      "Epoch 24/1000\n",
      "819/819 - 83s - loss: 0.0061 - val_loss: 0.0054\n",
      "Epoch 25/1000\n",
      "819/819 - 83s - loss: 0.0060 - val_loss: 0.0054\n",
      "Epoch 26/1000\n",
      "819/819 - 83s - loss: 0.0059 - val_loss: 0.0051\n",
      "Epoch 27/1000\n",
      "819/819 - 83s - loss: 0.0058 - val_loss: 0.0052\n",
      "Epoch 28/1000\n",
      "819/819 - 83s - loss: 0.0057 - val_loss: 0.0049\n",
      "Epoch 29/1000\n",
      "819/819 - 83s - loss: 0.0057 - val_loss: 0.0051\n",
      "Epoch 30/1000\n",
      "819/819 - 83s - loss: 0.0056 - val_loss: 0.0047\n",
      "Epoch 31/1000\n",
      "819/819 - 83s - loss: 0.0056 - val_loss: 0.0047\n",
      "Epoch 32/1000\n",
      "819/819 - 83s - loss: 0.0055 - val_loss: 0.0046\n",
      "Epoch 33/1000\n",
      "819/819 - 83s - loss: 0.0054 - val_loss: 0.0046\n",
      "Epoch 34/1000\n",
      "819/819 - 83s - loss: 0.0054 - val_loss: 0.0051\n",
      "Epoch 35/1000\n",
      "819/819 - 83s - loss: 0.0053 - val_loss: 0.0045\n",
      "Epoch 36/1000\n",
      "819/819 - 83s - loss: 0.0053 - val_loss: 0.0046\n",
      "Epoch 37/1000\n",
      "819/819 - 83s - loss: 0.0052 - val_loss: 0.0045\n",
      "Epoch 38/1000\n",
      "819/819 - 83s - loss: 0.0052 - val_loss: 0.0046\n",
      "Epoch 39/1000\n",
      "819/819 - 83s - loss: 0.0051 - val_loss: 0.0045\n",
      "Epoch 40/1000\n",
      "819/819 - 83s - loss: 0.0051 - val_loss: 0.0043\n",
      "Epoch 41/1000\n",
      "819/819 - 83s - loss: 0.0051 - val_loss: 0.0042\n",
      "Epoch 42/1000\n",
      "819/819 - 83s - loss: 0.0050 - val_loss: 0.0044\n",
      "Epoch 43/1000\n",
      "819/819 - 83s - loss: 0.0050 - val_loss: 0.0042\n",
      "Epoch 44/1000\n",
      "819/819 - 83s - loss: 0.0050 - val_loss: 0.0043\n",
      "Epoch 45/1000\n",
      "819/819 - 83s - loss: 0.0049 - val_loss: 0.0041\n",
      "Epoch 46/1000\n",
      "819/819 - 83s - loss: 0.0049 - val_loss: 0.0041\n",
      "Epoch 47/1000\n",
      "819/819 - 83s - loss: 0.0049 - val_loss: 0.0041\n",
      "Epoch 48/1000\n",
      "819/819 - 83s - loss: 0.0048 - val_loss: 0.0041\n",
      "Epoch 49/1000\n",
      "819/819 - 83s - loss: 0.0048 - val_loss: 0.0040\n",
      "Epoch 50/1000\n",
      "819/819 - 83s - loss: 0.0048 - val_loss: 0.0040\n",
      "Epoch 51/1000\n",
      "819/819 - 83s - loss: 0.0047 - val_loss: 0.0039\n",
      "Epoch 52/1000\n",
      "819/819 - 83s - loss: 0.0047 - val_loss: 0.0040\n",
      "Epoch 53/1000\n",
      "819/819 - 83s - loss: 0.0047 - val_loss: 0.0039\n",
      "Epoch 54/1000\n",
      "819/819 - 83s - loss: 0.0047 - val_loss: 0.0039\n",
      "Epoch 55/1000\n",
      "819/819 - 83s - loss: 0.0046 - val_loss: 0.0041\n",
      "Epoch 56/1000\n",
      "819/819 - 83s - loss: 0.0046 - val_loss: 0.0039\n",
      "Epoch 57/1000\n",
      "819/819 - 83s - loss: 0.0046 - val_loss: 0.0038\n",
      "Epoch 58/1000\n",
      "819/819 - 83s - loss: 0.0046 - val_loss: 0.0038\n",
      "Epoch 59/1000\n",
      "819/819 - 83s - loss: 0.0045 - val_loss: 0.0037\n",
      "Epoch 60/1000\n",
      "819/819 - 83s - loss: 0.0045 - val_loss: 0.0037\n",
      "Epoch 61/1000\n",
      "819/819 - 83s - loss: 0.0045 - val_loss: 0.0038\n",
      "Epoch 62/1000\n",
      "819/819 - 83s - loss: 0.0045 - val_loss: 0.0040\n",
      "Epoch 63/1000\n",
      "819/819 - 83s - loss: 0.0045 - val_loss: 0.0037\n",
      "Epoch 64/1000\n",
      "819/819 - 83s - loss: 0.0044 - val_loss: 0.0037\n",
      "Epoch 65/1000\n",
      "819/819 - 83s - loss: 0.0044 - val_loss: 0.0036\n",
      "Epoch 66/1000\n",
      "819/819 - 83s - loss: 0.0044 - val_loss: 0.0037\n",
      "Epoch 67/1000\n",
      "819/819 - 83s - loss: 0.0044 - val_loss: 0.0036\n",
      "Epoch 68/1000\n",
      "819/819 - 83s - loss: 0.0044 - val_loss: 0.0036\n",
      "Epoch 69/1000\n",
      "819/819 - 83s - loss: 0.0044 - val_loss: 0.0036\n",
      "Epoch 70/1000\n",
      "819/819 - 83s - loss: 0.0043 - val_loss: 0.0036\n",
      "Epoch 71/1000\n",
      "819/819 - 83s - loss: 0.0043 - val_loss: 0.0036\n",
      "Epoch 72/1000\n",
      "819/819 - 83s - loss: 0.0043 - val_loss: 0.0036\n",
      "Epoch 73/1000\n",
      "819/819 - 83s - loss: 0.0043 - val_loss: 0.0036\n",
      "Epoch 74/1000\n",
      "819/819 - 83s - loss: 0.0043 - val_loss: 0.0036\n",
      "Epoch 75/1000\n",
      "819/819 - 83s - loss: 0.0043 - val_loss: 0.0035\n",
      "Epoch 76/1000\n",
      "819/819 - 83s - loss: 0.0043 - val_loss: 0.0035\n",
      "Epoch 77/1000\n",
      "819/819 - 83s - loss: 0.0043 - val_loss: 0.0035\n",
      "Epoch 78/1000\n",
      "819/819 - 83s - loss: 0.0042 - val_loss: 0.0035\n",
      "Epoch 79/1000\n",
      "819/819 - 83s - loss: 0.0042 - val_loss: 0.0035\n",
      "Epoch 80/1000\n",
      "819/819 - 83s - loss: 0.0042 - val_loss: 0.0036\n",
      "Epoch 81/1000\n",
      "819/819 - 83s - loss: 0.0042 - val_loss: 0.0035\n",
      "Epoch 82/1000\n",
      "819/819 - 83s - loss: 0.0042 - val_loss: 0.0035\n",
      "Epoch 83/1000\n",
      "819/819 - 83s - loss: 0.0042 - val_loss: 0.0034\n"
     ]
    }
   ],
   "source": [
    "#depth = [30,50,100,125,150,200,250,300,400,500,600,700,800,900,1000]\n",
    "depth = [30,50,100,125,150]\n",
    "for i in range(0,5): \n",
    "    input_cnn_train = np.concatenate((x_cnn_train_split[:,:,:,:5],x_cnn_train_split[:,:,:,i+5:i+6]),axis=-1) \n",
    "    input_lstm_train = np.concatenate((x_lstm_train_split[:,:,:5],x_lstm_train_split[:,:,i+5:i+6]),axis=-1)\n",
    "    input_cnn_val = np.concatenate((x_cnn_val[:,:,:,:5],x_cnn_val[:,:,:,i+5:i+6]),axis=-1)  \n",
    "    input_lstm_val = np.concatenate((x_lstm_val[:,:,:5],x_lstm_val[:,:,i+5:i+6]),axis=-1)  \n",
    "    \n",
    "    train_model(input_cnn_train,input_lstm_train,y_train_split[:,i:i+1],\n",
    "                input_cnn_val,input_lstm_val,y_val[:,i:i+1],\n",
    "                '../model/cnncnn_lstm_jc_model_newVariable_sali'+str(depth[i])+'m.h5')"
   ]
  },
  {
   "cell_type": "markdown",
   "id": "79bda096",
   "metadata": {},
   "source": [
    "# 模型评估"
   ]
  },
  {
   "cell_type": "code",
   "execution_count": 26,
   "id": "74b34726",
   "metadata": {
    "ExecuteTime": {
     "end_time": "2023-12-12T02:08:49.986105Z",
     "start_time": "2023-12-12T02:08:49.977119Z"
    },
    "code_folding": [
     0
    ]
   },
   "outputs": [],
   "source": [
    "# 评估函数定义\n",
    "# 异常相关系数\n",
    "import math\n",
    "def acc(actual, predicted):\n",
    "    pred_avg = np.average(predicted)\n",
    "\n",
    "    act_avg = np.average(actual)\n",
    "    diff_pred = predicted - pred_avg\n",
    "    diff_act = actual - act_avg\n",
    "    numerator = np.mean(np.sum(diff_pred*diff_act, axis=0))\n",
    "    denominator = math.sqrt(np.mean(np.sum(diff_pred**2, axis=0)) * np.mean(np.sum(diff_act**2, axis=0)))\n",
    "    ret_val = numerator/denominator\n",
    "    return (100 * ret_val)\n",
    "\n",
    "\n",
    "# 查看损失\n",
    "def look_loss(history):\n",
    "    plt.figure(figsize=(6.3, 2.5), dpi = 100)\n",
    "    plt.plot(history.history['loss'], label='training data')\n",
    "    plt.plot(history.history['val_loss'], label='validation data')\n",
    "    plt.title('Loss')\n",
    "    plt.ylabel('MSE Loss')\n",
    "    plt.xlabel('Number of epochs')\n",
    "    plt.grid()\n",
    "    plt.legend(loc=\"upper right\")\n",
    "    plt.show()\n",
    "\n",
    "\n",
    "# 模型预测\n",
    "def all_estimate(best_model,x_test,y_test):\n",
    "    testPred_1 = best_model.predict(x_test)\n",
    "    a = y_test\n",
    "    y_test_p = a.reshape(-1,1)\n",
    "    testPred_p = testPred_1.reshape(-1,1)\n",
    "\n",
    "\n",
    "    rmse = sqrt(mean_squared_error(y_test_p,testPred_p))\n",
    "    print('Test RMSE: %.3f' % rmse)\n",
    "\n",
    "    print('acc:',acc(y_test_p,testPred_p))\n",
    "\n",
    "    r2 = r2_score(y_test_p,testPred_p)\n",
    "    print(\"R² score:\", r2)  \n",
    "    \n",
    "\n",
    "def respective_estimate(best_model,x_test,y_test):\n",
    "    re2_list = []\n",
    "    rmse_list = []\n",
    "    for i in range(6):\n",
    "        # 模型预测\n",
    "        testPred = best_model.predict(x_test[i:i+1])\n",
    "        a = y_test[i:i+1]\n",
    "        y_test_p = a.reshape(-1,1)\n",
    "        testPred_p = testPred.reshape(-1,1)\n",
    "        r2 = r2_score(y_test_p,testPred_p)\n",
    "        rmse = sqrt(mean_squared_error(y_test_p,testPred_p))\n",
    "        re2_list.append(r2)\n",
    "        rmse_list.append(rmse)    \n",
    "    return re2_list,rmse_list"
   ]
  },
  {
   "cell_type": "code",
   "execution_count": 28,
   "id": "e2a7c1f2",
   "metadata": {
    "ExecuteTime": {
     "end_time": "2023-11-28T02:02:43.327447Z",
     "start_time": "2023-11-28T02:02:43.324452Z"
    }
   },
   "outputs": [],
   "source": [
    "look_loss(history)"
   ]
  },
  {
   "cell_type": "markdown",
   "id": "a4d334cc",
   "metadata": {},
   "source": [
    "## 对指定层进行评估"
   ]
  },
  {
   "cell_type": "code",
   "execution_count": 27,
   "id": "646050ad",
   "metadata": {
    "ExecuteTime": {
     "end_time": "2023-12-10T11:25:34.889465Z",
     "start_time": "2023-12-10T11:25:34.885472Z"
    }
   },
   "outputs": [
    {
     "data": {
      "text/plain": [
       "(1294956, 11, 11, 10)"
      ]
     },
     "execution_count": 27,
     "metadata": {},
     "output_type": "execute_result"
    }
   ],
   "source": [
    "x_cnn_test.shape "
   ]
  },
  {
   "cell_type": "code",
   "execution_count": 28,
   "id": "d8f0494e",
   "metadata": {
    "ExecuteTime": {
     "end_time": "2023-12-10T11:25:39.238468Z",
     "start_time": "2023-12-10T11:25:34.890465Z"
    }
   },
   "outputs": [],
   "source": [
    "input_cnn_test = np.concatenate((x_cnn_test[:,:,:,:5],x_cnn_test[:,:,:,9:]),axis=-1)  \n",
    "input_lstm_test = np.concatenate((x_lstm_test[:,:,:5],x_lstm_test[:,:,9:]),axis=-1)  "
   ]
  },
  {
   "cell_type": "code",
   "execution_count": 29,
   "id": "c701965b",
   "metadata": {
    "ExecuteTime": {
     "end_time": "2023-12-10T11:25:39.244458Z",
     "start_time": "2023-12-10T11:25:39.239467Z"
    }
   },
   "outputs": [
    {
     "data": {
      "text/plain": [
       "(1294956, 15)"
      ]
     },
     "execution_count": 29,
     "metadata": {},
     "output_type": "execute_result"
    }
   ],
   "source": [
    "y_test.shape"
   ]
  },
  {
   "cell_type": "code",
   "execution_count": 31,
   "id": "91dc316c",
   "metadata": {
    "ExecuteTime": {
     "end_time": "2023-12-10T11:27:29.188872Z",
     "start_time": "2023-12-10T11:26:00.376773Z"
    }
   },
   "outputs": [
    {
     "name": "stdout",
     "output_type": "stream",
     "text": [
      "Test RMSE: 0.124\n",
      "acc: 99.22298569645352\n",
      "R² score: 0.9838777917253101\n"
     ]
    }
   ],
   "source": [
    "best_model = tf.keras.models.load_model('../model/cnncnn_lstm_jc_model_newVariable_sali1000m.h5')                                      \n",
    "all_estimate(best_model,[input_cnn_test,input_lstm_test],y_test[:,14:15])"
   ]
  },
  {
   "cell_type": "markdown",
   "id": "1dd6914b",
   "metadata": {},
   "source": [
    "## 对所有层进行评估"
   ]
  },
  {
   "cell_type": "code",
   "execution_count": 27,
   "id": "e98883f9",
   "metadata": {
    "ExecuteTime": {
     "end_time": "2023-12-12T02:10:15.247912Z",
     "start_time": "2023-12-12T02:10:10.682260Z"
    }
   },
   "outputs": [
    {
     "data": {
      "text/plain": [
       "82586"
      ]
     },
     "execution_count": 27,
     "metadata": {},
     "output_type": "execute_result"
    }
   ],
   "source": [
    "gc.collect()"
   ]
  },
  {
   "cell_type": "code",
   "execution_count": 28,
   "id": "797554c9",
   "metadata": {
    "ExecuteTime": {
     "end_time": "2023-12-12T02:18:34.809276Z",
     "start_time": "2023-12-12T02:10:50.826009Z"
    },
    "code_folding": [
     0
    ],
    "collapsed": true
   },
   "outputs": [
    {
     "name": "stdout",
     "output_type": "stream",
     "text": [
      "30m温度：测试集：\n",
      "Test RMSE: 0.099\n",
      "acc: 99.49292777025856\n",
      "R² score: 0.9898430118453347\n",
      "50m温度：测试集：\n",
      "Test RMSE: 0.106\n",
      "acc: 99.42689448970611\n",
      "R² score: 0.9885458918187509\n",
      "100m温度：测试集：\n",
      "Test RMSE: 0.125\n",
      "acc: 99.25960882562867\n",
      "R² score: 0.9842445655418742\n",
      "125m温度：测试集：\n",
      "Test RMSE: 0.138\n",
      "acc: 99.15347653289295\n",
      "R² score: 0.9808641788220087\n",
      "150m温度：测试集：\n",
      "Test RMSE: 0.151\n",
      "acc: 99.00029675665881\n",
      "R² score: 0.9762826504247937\n"
     ]
    }
   ],
   "source": [
    "# 模型预测30-150m\n",
    "depth = [30,50,100,125,150]\n",
    "for i in range(0,5):\n",
    "    best_model = tf.keras.models.load_model('../model/cnncnn_lstm_jc_model_newVariable_sali'+str(depth[i])+'m.h5')                                      \n",
    "    print(str(depth[i])+'m温度：测试集：')\n",
    "    input_cnn_test = np.concatenate((x_cnn_test[:,:,:,:5],x_cnn_test[:,:,:,i+5:i+6]),axis=-1)  \n",
    "    input_lstm_test = np.concatenate((x_lstm_test[:,:,:5],x_lstm_test[:,:,i+5:i+6]),axis=-1)  \n",
    "    #all_estimate(best_model,x_test,y_test[:,i:i+1])\n",
    "    all_estimate(best_model,[input_cnn_test,input_lstm_test],y_test[:,i:i+1])"
   ]
  },
  {
   "cell_type": "code",
   "execution_count": 26,
   "id": "6ecf2375",
   "metadata": {
    "ExecuteTime": {
     "end_time": "2023-12-11T04:46:49.337463Z",
     "start_time": "2023-12-11T04:38:39.020008Z"
    },
    "code_folding": [
     0
    ],
    "collapsed": true
   },
   "outputs": [
    {
     "name": "stdout",
     "output_type": "stream",
     "text": [
      "200m温度：测试集：\n",
      "Test RMSE: 0.141\n",
      "acc: 99.07503189686393\n",
      "R² score: 0.9790261736331413\n",
      "250m温度：测试集：\n",
      "Test RMSE: 0.132\n",
      "acc: 99.16447410614543\n",
      "R² score: 0.981676342603851\n",
      "300m温度：测试集：\n",
      "Test RMSE: 0.125\n",
      "acc: 99.23467573483984\n",
      "R² score: 0.9837125276937462\n",
      "400m温度：测试集：\n",
      "Test RMSE: 0.122\n",
      "acc: 99.25103810759309\n",
      "R² score: 0.9845849856621028\n",
      "500m温度：测试集：\n",
      "Test RMSE: 0.119\n",
      "acc: 99.2978034793588\n",
      "R² score: 0.9854137659829949\n"
     ]
    }
   ],
   "source": [
    "# 模型预测200 - 500\n",
    "depth =[200,250,300,400,500]\n",
    "for i in range(0,5):\n",
    "    best_model = tf.keras.models.load_model('../model/cnncnn_lstm_jc_model_newVariable_sali'+str(depth[i])+'m.h5')                                          \n",
    "    print(str(depth[i])+'m温度：测试集：')\n",
    "    input_cnn_test = np.concatenate((x_cnn_test[:,:,:,:5],x_cnn_test[:,:,:,i+5:i+6]),axis=-1)  \n",
    "    input_lstm_test = np.concatenate((x_lstm_test[:,:,:5],x_lstm_test[:,:,i+5:i+6]),axis=-1)  \n",
    "    #all_estimate(best_model,x_test,y_test[:,i:i+1])\n",
    "    all_estimate(best_model,[input_cnn_test,input_lstm_test],y_test[:,i+5:i+6])"
   ]
  },
  {
   "cell_type": "code",
   "execution_count": 24,
   "id": "125ab440",
   "metadata": {
    "ExecuteTime": {
     "end_time": "2023-12-10T02:44:45.783764Z",
     "start_time": "2023-12-10T02:35:57.719478Z"
    },
    "code_folding": [
     0
    ],
    "collapsed": true
   },
   "outputs": [
    {
     "name": "stdout",
     "output_type": "stream",
     "text": [
      "600m温度：测试集：\n",
      "Test RMSE: 0.108\n",
      "acc: 99.41821627500823\n",
      "R² score: 0.9882529017032352\n",
      "700m温度：测试集：\n",
      "Test RMSE: 0.104\n",
      "acc: 99.45536024864174\n",
      "R² score: 0.9888747235360799\n",
      "800m温度：测试集：\n",
      "Test RMSE: 0.105\n",
      "acc: 99.451729638205\n",
      "R² score: 0.9885695144706783\n",
      "900m温度：测试集：\n",
      "Test RMSE: 0.114\n",
      "acc: 99.34069354643766\n",
      "R² score: 0.986313561194543\n",
      "1000m温度：测试集：\n",
      "Test RMSE: 0.124\n",
      "acc: 99.22298215464792\n",
      "R² score: 0.9838777915011352\n"
     ]
    }
   ],
   "source": [
    "# 模型预测600 - 1000\n",
    "depth =[600, 700, 800, 900, 1000]\n",
    "for i in range(0,5):\n",
    "    best_model = tf.keras.models.load_model('../model/cnncnn_lstm_jc_model_newVariable_sali'+str(depth[i])+'m.h5')                                       \n",
    "    print(str(depth[i])+'m温度：测试集：')\n",
    "    input_cnn_test = np.concatenate((x_cnn_test[:,:,:,:5],x_cnn_test[:,:,:,i+5:i+6]),axis=-1)  \n",
    "    input_lstm_test = np.concatenate((x_lstm_test[:,:,:5],x_lstm_test[:,:,i+5:i+6]),axis=-1)  \n",
    "    #all_estimate(best_model,x_test,y_test[:,i:i+1])\n",
    "    all_estimate(best_model,[input_cnn_test,input_lstm_test],y_test[:,i+10:i+11])"
   ]
  },
  {
   "cell_type": "markdown",
   "id": "8979d6a8",
   "metadata": {},
   "source": [
    "# 模型预测结果保存"
   ]
  },
  {
   "cell_type": "markdown",
   "id": "f44c01ec",
   "metadata": {},
   "source": [
    "## 获取所有层的预测结果"
   ]
  },
  {
   "cell_type": "code",
   "execution_count": 29,
   "id": "acf295b6",
   "metadata": {
    "ExecuteTime": {
     "end_time": "2023-12-12T02:58:55.169240Z",
     "start_time": "2023-12-12T02:51:11.687454Z"
    },
    "code_folding": []
   },
   "outputs": [
    {
     "name": "stdout",
     "output_type": "stream",
     "text": [
      "预测第30m的温度\n",
      "预测第50m的温度\n",
      "预测第100m的温度\n",
      "预测第125m的温度\n",
      "预测第150m的温度\n"
     ]
    }
   ],
   "source": [
    "# 模型预测\n",
    "depth = [30,50,100,125,150]\n",
    "result = [] \n",
    "for i in range(0,5):\n",
    "    best_model = tf.keras.models.load_model('../model/cnncnn_lstm_jc_model_newVariable_sali'+str(depth[i])+'m.h5') \n",
    "    print('预测第'+str(depth[i])+'m的温度')\n",
    "    input_cnn_test = np.concatenate((x_cnn_test[:,:,:,:5],x_cnn_test[:,:,:,i+5:i+6]),axis=-1)  \n",
    "    input_lstm_test = np.concatenate((x_lstm_test[:,:,:5],x_lstm_test[:,:,i+5:i+6]),axis=-1) \n",
    "    testPred = best_model.predict([input_cnn_test,input_lstm_test])\n",
    "    result.append(testPred)"
   ]
  },
  {
   "cell_type": "code",
   "execution_count": 30,
   "id": "66849d17",
   "metadata": {
    "ExecuteTime": {
     "end_time": "2023-12-12T05:29:18.634140Z",
     "start_time": "2023-12-12T05:29:18.628150Z"
    }
   },
   "outputs": [
    {
     "data": {
      "text/plain": [
       "(5, 1294956, 1)"
      ]
     },
     "execution_count": 30,
     "metadata": {},
     "output_type": "execute_result"
    }
   ],
   "source": [
    "len(result),len(result[0]),len(result[0][0])"
   ]
  },
  {
   "cell_type": "markdown",
   "id": "fc14f760",
   "metadata": {},
   "source": [
    "## 对预测结果进行反归一化"
   ]
  },
  {
   "cell_type": "markdown",
   "id": "825e4076",
   "metadata": {},
   "source": [
    "### 保存预测结果"
   ]
  },
  {
   "cell_type": "code",
   "execution_count": 31,
   "id": "ee3ec68d",
   "metadata": {
    "ExecuteTime": {
     "end_time": "2023-12-12T05:29:24.222232Z",
     "start_time": "2023-12-12T05:29:24.200267Z"
    }
   },
   "outputs": [
    {
     "name": "stdout",
     "output_type": "stream",
     "text": [
      "(5, 1294956, 1)\n",
      "(1294956, 1, 5)\n",
      "(1294956, 5)\n"
     ]
    }
   ],
   "source": [
    "result = np.array(result)\n",
    "print(result.shape)\n",
    "result = np.transpose(result,(1,2,0))\n",
    "print(result.shape)\n",
    "result = result.reshape(-1,5)\n",
    "print(result.shape)"
   ]
  },
  {
   "cell_type": "code",
   "execution_count": 33,
   "id": "37c81e69",
   "metadata": {
    "ExecuteTime": {
     "end_time": "2023-12-12T05:30:02.718605Z",
     "start_time": "2023-12-12T05:30:00.965423Z"
    }
   },
   "outputs": [],
   "source": [
    "#np.save(\"../data_test/result_sali/result_600_1000.npy\",result)\n",
    "#np.save(\"../data_test/result_sali/result_30_150.npy\",result)\n",
    "#result = np.load(\"../data_test/result_sali/result_600_1000.npy\")\n",
    "result_30_150 = np.load(\"../data_test/result_sali/result_30_150.npy\")\n",
    "result_200_500 = np.load(\"../data_test/result_sali/result_200_500.npy\")\n",
    "result_600_1000 = np.load(\"../data_test/result_sali/result_600_1000.npy\")"
   ]
  },
  {
   "cell_type": "code",
   "execution_count": 34,
   "id": "3157eda9",
   "metadata": {
    "ExecuteTime": {
     "end_time": "2023-12-12T05:30:13.570159Z",
     "start_time": "2023-12-12T05:30:13.513251Z"
    }
   },
   "outputs": [],
   "source": [
    "result_sali_30_1000 = np.hstack((result_30_150, result_200_500, result_600_1000))"
   ]
  },
  {
   "cell_type": "code",
   "execution_count": 18,
   "id": "bcfbabd9",
   "metadata": {
    "ExecuteTime": {
     "end_time": "2024-01-29T15:57:46.053565Z",
     "start_time": "2024-01-29T15:57:45.921777Z"
    }
   },
   "outputs": [],
   "source": [
    "# np.save(\"../data_test/result_sali/result_30_1000.npy\",result_sali_30_1000)\n",
    "result = np.load(\"../data_test/result_sali/result_30_1000.npy\")"
   ]
  },
  {
   "cell_type": "markdown",
   "id": "1b12a7c8",
   "metadata": {},
   "source": [
    "### 保存指定层结果"
   ]
  },
  {
   "cell_type": "code",
   "execution_count": 83,
   "id": "57b1426f",
   "metadata": {
    "ExecuteTime": {
     "end_time": "2023-12-10T04:49:36.573287Z",
     "start_time": "2023-12-10T04:49:36.568295Z"
    }
   },
   "outputs": [],
   "source": [
    "nan_mask_cat = np.load(\"../data_test/mask_cat/nan_mask_cat_sali.npy\")"
   ]
  },
  {
   "cell_type": "code",
   "execution_count": 84,
   "id": "735a291e",
   "metadata": {
    "ExecuteTime": {
     "end_time": "2023-12-10T04:49:37.540734Z",
     "start_time": "2023-12-10T04:49:37.536740Z"
    }
   },
   "outputs": [
    {
     "data": {
      "text/plain": [
       "(144000,)"
      ]
     },
     "execution_count": 84,
     "metadata": {},
     "output_type": "execute_result"
    }
   ],
   "source": [
    "nan_mask_cat.shape "
   ]
  },
  {
   "cell_type": "code",
   "execution_count": 85,
   "id": "0b42d3a6",
   "metadata": {
    "ExecuteTime": {
     "end_time": "2023-12-10T04:49:41.786918Z",
     "start_time": "2023-12-10T04:49:41.729011Z"
    }
   },
   "outputs": [
    {
     "name": "stdout",
     "output_type": "stream",
     "text": [
      "(144000, 60)\n",
      "(144000, 60)\n"
     ]
    }
   ],
   "source": [
    "### 创建一个形状与nan_masks相同且全是nan的数组\n",
    "testPred_with_nan = np.full((144000,12*5), np.nan)  \n",
    "print(testPred_with_nan.shape)\n",
    "y_test_with_nan = np.full((144000,12*5), np.nan)  \n",
    "print(y_test_with_nan.shape)"
   ]
  },
  {
   "cell_type": "code",
   "execution_count": 89,
   "id": "39d0034b",
   "metadata": {
    "ExecuteTime": {
     "end_time": "2023-12-10T04:50:14.071089Z",
     "start_time": "2023-12-10T04:50:14.066097Z"
    }
   },
   "outputs": [
    {
     "data": {
      "text/plain": [
       "(1294956, 5)"
      ]
     },
     "execution_count": 89,
     "metadata": {},
     "output_type": "execute_result"
    }
   ],
   "source": [
    "y_test[:,10:].shape "
   ]
  },
  {
   "cell_type": "code",
   "execution_count": 90,
   "id": "765dc804",
   "metadata": {
    "ExecuteTime": {
     "end_time": "2023-12-10T04:50:26.338392Z",
     "start_time": "2023-12-10T04:50:26.294462Z"
    }
   },
   "outputs": [
    {
     "name": "stdout",
     "output_type": "stream",
     "text": [
      "(12, 107913, 5)\n",
      "(107913, 12, 5)\n",
      "(107913, 60)\n",
      "(12, 107913, 5)\n",
      "(107913, 12, 5)\n",
      "(107913, 60)\n"
     ]
    }
   ],
   "source": [
    "result_reshape = result.reshape(12,-1,5)\n",
    "print(result_reshape.shape)\n",
    "result_reshape = np.transpose(result_reshape,(1,0,2))\n",
    "print(result_reshape.shape)\n",
    "result_reshape = result_reshape.reshape(-1,12*5)\n",
    "print(result_reshape.shape)\n",
    "\n",
    "# ======================================== #\n",
    "y_test_reshape = y_test[:,10:].reshape(12,-1,5)\n",
    "print(y_test_reshape.shape)\n",
    "y_test_reshape = np.transpose(y_test_reshape,(1,0,2))\n",
    "print(y_test_reshape.shape)\n",
    "y_test_reshape = y_test_reshape.reshape(-1,12*5)\n",
    "print(y_test_reshape.shape)\n"
   ]
  },
  {
   "cell_type": "code",
   "execution_count": 91,
   "id": "47c7d700",
   "metadata": {
    "ExecuteTime": {
     "end_time": "2023-12-10T04:50:31.228539Z",
     "start_time": "2023-12-10T04:50:30.972950Z"
    }
   },
   "outputs": [
    {
     "name": "stdout",
     "output_type": "stream",
     "text": [
      "107913\n"
     ]
    }
   ],
   "source": [
    "num = 0\n",
    "for i,nan_mask in enumerate(nan_mask_cat):   # i从0开始  在nan_mask_cat中true代表有效值，False代表无效值\n",
    "\n",
    "    if (nan_mask == True): # true 代表没有nan，使用预测值进行填充\n",
    "        testPred_with_nan[i] = result_reshape[num]\n",
    "        y_test_with_nan[i] = y_test_reshape[num]\n",
    "        num = num + 1\n",
    "        \n",
    "print(num)"
   ]
  },
  {
   "cell_type": "code",
   "execution_count": 92,
   "id": "67ef796f",
   "metadata": {
    "ExecuteTime": {
     "end_time": "2023-12-10T04:50:31.494113Z",
     "start_time": "2023-12-10T04:50:31.489120Z"
    }
   },
   "outputs": [
    {
     "name": "stdout",
     "output_type": "stream",
     "text": [
      "(12, 5, 240, 600) (12, 5, 240, 600)\n"
     ]
    }
   ],
   "source": [
    "testPred_with_nan = testPred_with_nan.reshape(240, 600,12,5)   #(144000, 180) --> (240, 600,12,15) \n",
    "testPred_with_nan = np.transpose(testPred_with_nan,(2,3,0,1))  \n",
    "\n",
    "\n",
    "y_test_with_nan = y_test_with_nan.reshape(240, 600,12,5)\n",
    "y_test_with_nan = np.transpose(y_test_with_nan,(2,3,0,1))\n",
    "\n",
    "print(testPred_with_nan.shape,y_test_with_nan.shape)"
   ]
  },
  {
   "cell_type": "code",
   "execution_count": 93,
   "id": "5e81e3d7",
   "metadata": {
    "ExecuteTime": {
     "end_time": "2023-12-10T04:50:32.127096Z",
     "start_time": "2023-12-10T04:50:32.122104Z"
    }
   },
   "outputs": [],
   "source": [
    "lat = []\n",
    "lon = []\n",
    "time = []\n",
    "lon.append(data_ssw['lon'][480:1080].data)\n",
    "lat.append(data_ssh1['lat'][360:600].data)"
   ]
  },
  {
   "cell_type": "code",
   "execution_count": 94,
   "id": "0fb077d5",
   "metadata": {
    "ExecuteTime": {
     "end_time": "2023-12-10T04:50:32.754089Z",
     "start_time": "2023-12-10T04:50:32.750095Z"
    }
   },
   "outputs": [],
   "source": [
    "time = [0,1,2,3,4,5,6,7,8,9,10,11]"
   ]
  },
  {
   "cell_type": "code",
   "execution_count": 97,
   "id": "61e9b746",
   "metadata": {
    "ExecuteTime": {
     "end_time": "2023-12-10T04:50:40.785191Z",
     "start_time": "2023-12-10T04:50:40.532598Z"
    }
   },
   "outputs": [],
   "source": [
    "new_NC = nc.Dataset(\"../data_test/result_sali/result_600_1000.nc\", 'w', format='NETCDF4')\n",
    "\n",
    "\n",
    "new_NC.createDimension('lat', len(lat[0]))\n",
    "new_NC.createDimension('lon', len(lon[0]))\n",
    "new_NC.createDimension('time', len(time))\n",
    "new_NC.createDimension('depth',5)\n",
    "\n",
    "\n",
    "new_NC.createVariable('lat', 'f', (\"lat\"))\n",
    "new_NC.createVariable('lon', 'f', (\"lon\"))\n",
    "new_NC.createVariable('depth', 'f', (\"depth\"))\n",
    "new_NC.createVariable('true_sss', 'f',(\"time\",\"depth\",\"lat\",\"lon\"))\n",
    "new_NC.createVariable('pred_sss', 'f',(\"time\",\"depth\",\"lat\",\"lon\"))\n",
    "\n",
    "time_var = new_NC.createVariable('time', 'f4',(\"time\"))\n",
    "time_var.units = 'months since 2021-01-15'\n",
    "time_var.long_name = 'Months in Monthly Means'\n",
    "time_var.axis = 'T'\n",
    "\n",
    "\n",
    "#向变量中填充数据\n",
    "new_NC.variables['lat'][:] = lat[0]\n",
    "new_NC.variables['lon'][:] = lon[0]\n",
    "new_NC.variables['time'][:] = np.array(time)\n",
    "#new_NC.variables['level'][:] = level\n",
    "new_NC.variables['depth'][:] = depth\n",
    "\n",
    "new_NC.variables['true_sss'][:]=np.array(y_test_with_nan)\n",
    "new_NC.variables['pred_sss'][:]=np.array(testPred_with_nan)\n",
    "\n",
    "\n",
    "#最后记得关闭文件\n",
    "new_NC.close()"
   ]
  },
  {
   "cell_type": "code",
   "execution_count": 78,
   "id": "9e5be8a2",
   "metadata": {
    "ExecuteTime": {
     "end_time": "2023-12-10T04:44:44.471892Z",
     "start_time": "2023-12-10T04:44:44.467898Z"
    }
   },
   "outputs": [],
   "source": [
    "new_NC.close()"
   ]
  },
  {
   "cell_type": "markdown",
   "id": "bac08888",
   "metadata": {},
   "source": [
    "### 反归一化"
   ]
  },
  {
   "cell_type": "code",
   "execution_count": 19,
   "id": "34fd5749",
   "metadata": {
    "ExecuteTime": {
     "end_time": "2024-01-29T15:58:28.186498Z",
     "start_time": "2024-01-29T15:58:27.977834Z"
    }
   },
   "outputs": [],
   "source": [
    "result_unscaled = scaler_l.inverse_transform(result)\n",
    "y_test_unscaled = scaler_l.inverse_transform(y_test)"
   ]
  },
  {
   "cell_type": "code",
   "execution_count": 20,
   "id": "26019b83",
   "metadata": {
    "ExecuteTime": {
     "end_time": "2024-01-29T15:58:32.311863Z",
     "start_time": "2024-01-29T15:58:32.306871Z"
    }
   },
   "outputs": [
    {
     "data": {
      "text/plain": [
       "((1294956, 15), (1294956, 15))"
      ]
     },
     "execution_count": 20,
     "metadata": {},
     "output_type": "execute_result"
    }
   ],
   "source": [
    "y_test_unscaled.shape,result_unscaled.shape"
   ]
  },
  {
   "cell_type": "markdown",
   "id": "f8473490",
   "metadata": {},
   "source": [
    "### 评估反归一化之后的结果"
   ]
  },
  {
   "cell_type": "markdown",
   "id": "302cece8",
   "metadata": {},
   "source": [
    "### 计算相对误差"
   ]
  },
  {
   "cell_type": "code",
   "execution_count": 22,
   "id": "fe8c476f",
   "metadata": {
    "ExecuteTime": {
     "end_time": "2024-01-29T15:59:23.898611Z",
     "start_time": "2024-01-29T15:59:23.893620Z"
    }
   },
   "outputs": [],
   "source": [
    "def relative_error(result_unscaled, y_test_unscaled):   \n",
    "    \n",
    "    # 处理真实值为零的情况\n",
    "    y_test_unscaled_abs = np.abs(y_test_unscaled)\n",
    "    # 计算绝对误差 ，反演值-真实值的绝对值\n",
    "    absolute_errors = np.abs(result_unscaled - y_test_unscaled)  \n",
    "    #mask = y_test_unscaled_abs>0.1\n",
    "    #relative_errors = np.zeros_like(absolute_errors)\n",
    "    #relative_errors[mask] = (absolute_errors[mask] / y_test_unscaled_abs[mask]) * 100\n",
    "    relative_errors = (absolute_errors / y_test_unscaled_abs) * 100\n",
    "    #relative_errors = (absolute_errors / y_test_unscaled_abs) * 100\n",
    "    \n",
    "    return relative_errors"
   ]
  },
  {
   "cell_type": "code",
   "execution_count": 23,
   "id": "3b0069aa",
   "metadata": {
    "ExecuteTime": {
     "end_time": "2024-01-29T15:59:24.562544Z",
     "start_time": "2024-01-29T15:59:24.070335Z"
    }
   },
   "outputs": [
    {
     "name": "stdout",
     "output_type": "stream",
     "text": [
      "相对误差数组为: 0.1729126223320412\n",
      "相对误差数组为: 0.18679227474366186\n",
      "相对误差数组为: 0.2094940452359632\n",
      "相对误差数组为: 0.20802272587628187\n",
      "相对误差数组为: 0.19992872431316933\n",
      "相对误差数组为: 0.14499594260737453\n",
      "相对误差数组为: 0.11407602733459762\n",
      "相对误差数组为: 0.09551082128829019\n",
      "相对误差数组为: 0.07553209093974114\n",
      "相对误差数组为: 0.06168858976230954\n",
      "相对误差数组为: 0.04867344023670424\n",
      "相对误差数组为: 0.041792807287234265\n",
      "相对误差数组为: 0.035395760762342694\n",
      "相对误差数组为: 0.032189092058831824\n",
      "相对误差数组为: 0.029365249106181723\n"
     ]
    }
   ],
   "source": [
    "depth = [30,50,100,125,150,200,250,300,400,500,600,700,800,900,1000]\n",
    "for i in range(0,15):\n",
    "    a = relative_error(result_unscaled[:,i],y_test_unscaled[:,i])\n",
    "    print(f\"相对误差数组为:\",np.mean(a))"
   ]
  },
  {
   "cell_type": "code",
   "execution_count": null,
   "id": "4ec5b6a4",
   "metadata": {},
   "outputs": [],
   "source": []
  },
  {
   "cell_type": "code",
   "execution_count": 40,
   "id": "06e87938",
   "metadata": {
    "ExecuteTime": {
     "end_time": "2023-12-12T05:38:12.128566Z",
     "start_time": "2023-12-12T05:38:11.643346Z"
    }
   },
   "outputs": [
    {
     "name": "stdout",
     "output_type": "stream",
     "text": [
      "30m Test mse: 0.0071\n",
      "50m Test mse: 0.0078\n",
      "100m Test mse: 0.0095\n",
      "125m Test mse: 0.0092\n",
      "150m Test mse: 0.0086\n",
      "200m Test mse: 0.0047\n",
      "250m Test mse: 0.0029\n",
      "300m Test mse: 0.0021\n",
      "400m Test mse: 0.0013\n",
      "500m Test mse: 0.0009\n",
      "600m Test mse: 0.0006\n",
      "700m Test mse: 0.0004\n",
      "800m Test mse: 0.0003\n",
      "900m Test mse: 0.0002\n",
      "1000m Test mse: 0.0002\n"
     ]
    }
   ],
   "source": [
    "depth = [30,50,100,125,150,200,250,300,400,500,600,700,800,900,1000]\n",
    "for i in range(0,15):\n",
    "    mse =  mean_squared_error(y_test_unscaled[:,i],result_unscaled[:,i])\n",
    "    print(str(depth[i])+'m Test mse: %.4f' % mse)"
   ]
  },
  {
   "cell_type": "code",
   "execution_count": 41,
   "id": "15a0164b",
   "metadata": {
    "ExecuteTime": {
     "end_time": "2023-12-12T05:38:14.596595Z",
     "start_time": "2023-12-12T05:38:14.063453Z"
    }
   },
   "outputs": [
    {
     "name": "stdout",
     "output_type": "stream",
     "text": [
      "30m Test rmse: 0.0841\n",
      "50m Test rmse: 0.0881\n",
      "100m Test rmse: 0.0975\n",
      "125m Test rmse: 0.0957\n",
      "150m Test rmse: 0.0927\n",
      "200m Test rmse: 0.0684\n",
      "250m Test rmse: 0.0540\n",
      "300m Test rmse: 0.0453\n",
      "400m Test rmse: 0.0362\n",
      "500m Test rmse: 0.0300\n",
      "600m Test rmse: 0.0238\n",
      "700m Test rmse: 0.0202\n",
      "800m Test rmse: 0.0171\n",
      "900m Test rmse: 0.0157\n",
      "1000m Test rmse: 0.0146\n"
     ]
    }
   ],
   "source": [
    "for i in range(0,15):\n",
    "    mse =  mean_squared_error(y_test_unscaled[:,i],result_unscaled[:,i])\n",
    "    rmse = np.sqrt(mse)\n",
    "    print(str(depth[i])+'m Test rmse: %.4f' % rmse)"
   ]
  },
  {
   "cell_type": "markdown",
   "id": "41d05bd0",
   "metadata": {},
   "source": [
    "### 按照月份来计算R^2 和RMSE "
   ]
  },
  {
   "cell_type": "code",
   "execution_count": 42,
   "id": "d1ff88bb",
   "metadata": {
    "ExecuteTime": {
     "end_time": "2023-12-12T05:49:24.653219Z",
     "start_time": "2023-12-12T05:49:24.648227Z"
    }
   },
   "outputs": [
    {
     "data": {
      "text/plain": [
       "((1294956, 15), (1294956, 15))"
      ]
     },
     "execution_count": 42,
     "metadata": {},
     "output_type": "execute_result"
    }
   ],
   "source": [
    "y_test_unscaled.shape,result_unscaled.shape "
   ]
  },
  {
   "cell_type": "code",
   "execution_count": 43,
   "id": "83af5601",
   "metadata": {
    "ExecuteTime": {
     "end_time": "2023-12-12T05:56:58.885209Z",
     "start_time": "2023-12-12T05:56:58.881216Z"
    }
   },
   "outputs": [],
   "source": [
    "result_unscaled_month  = result_unscaled.reshape(12,-1,15)\n",
    "y_test_unscaled_month  = y_test_unscaled.reshape(12,-1,15)"
   ]
  },
  {
   "cell_type": "code",
   "execution_count": 44,
   "id": "b855ed4e",
   "metadata": {
    "ExecuteTime": {
     "end_time": "2023-12-12T05:57:00.853044Z",
     "start_time": "2023-12-12T05:57:00.848051Z"
    }
   },
   "outputs": [
    {
     "data": {
      "text/plain": [
       "(12, 107913, 15)"
      ]
     },
     "execution_count": 44,
     "metadata": {},
     "output_type": "execute_result"
    }
   ],
   "source": [
    "result_unscaled_month.shape "
   ]
  },
  {
   "cell_type": "code",
   "execution_count": 56,
   "id": "5e8aa2d8",
   "metadata": {
    "ExecuteTime": {
     "end_time": "2023-12-12T05:58:33.940439Z",
     "start_time": "2023-12-12T05:58:33.936437Z"
    }
   },
   "outputs": [],
   "source": [
    "def respective_estimate(month,result,y_test):\n",
    "    if(month<=0):\n",
    "        print('error')\n",
    "        return\n",
    "    re2_list = []\n",
    "    rmse_list = []\n",
    "    for i in range(15):  # 15代表15个深度级\n",
    "        # 模型预测\n",
    "        testPred =result[(month-1),:,i:i+1]\n",
    "        a = y_test[(month-1),:,i:i+1]\n",
    "        r2 = r2_score(a,testPred)\n",
    "        rmse = sqrt(mean_squared_error(a,testPred))\n",
    "        re2_list.append(r2)\n",
    "        rmse_list.append(rmse)    \n",
    "    return re2_list,rmse_list"
   ]
  },
  {
   "cell_type": "code",
   "execution_count": 57,
   "id": "fafb04cf",
   "metadata": {
    "ExecuteTime": {
     "end_time": "2023-12-12T05:58:34.414668Z",
     "start_time": "2023-12-12T05:58:34.409676Z"
    }
   },
   "outputs": [
    {
     "data": {
      "text/plain": [
       "(12, 107913, 15)"
      ]
     },
     "execution_count": 57,
     "metadata": {},
     "output_type": "execute_result"
    }
   ],
   "source": [
    "result_unscaled_month.shape "
   ]
  },
  {
   "cell_type": "code",
   "execution_count": 76,
   "id": "47f96722",
   "metadata": {
    "ExecuteTime": {
     "end_time": "2023-12-12T06:54:56.945886Z",
     "start_time": "2023-12-12T06:54:56.893970Z"
    }
   },
   "outputs": [
    {
     "data": {
      "text/plain": [
       "([0.9893027527318433,\n",
       "  0.9870630586475052,\n",
       "  0.9838588145303024,\n",
       "  0.9833381450682166,\n",
       "  0.9766024754334247,\n",
       "  0.9806076965243413,\n",
       "  0.9826271901934149,\n",
       "  0.9832367427348783,\n",
       "  0.9839947206301313,\n",
       "  0.9862146884817978,\n",
       "  0.9871326641698301,\n",
       "  0.9872037386427837,\n",
       "  0.9873384696965442,\n",
       "  0.9860152812904869,\n",
       "  0.9810170051190742],\n",
       " [0.08598654674340461,\n",
       "  0.09525024611986675,\n",
       "  0.09626240238939877,\n",
       "  0.08761922118714233,\n",
       "  0.09249374368388139,\n",
       "  0.06615707245246358,\n",
       "  0.05268639293092724,\n",
       "  0.04617946100738886,\n",
       "  0.036805693112365596,\n",
       "  0.028940557515748484,\n",
       "  0.024831476113466654,\n",
       "  0.02155595231579202,\n",
       "  0.01787371111572325,\n",
       "  0.015686007053089864,\n",
       "  0.015639451411243885])"
      ]
     },
     "execution_count": 76,
     "metadata": {},
     "output_type": "execute_result"
    }
   ],
   "source": [
    "respective_estimate(12,result_unscaled_month,y_test_unscaled_month)"
   ]
  },
  {
   "cell_type": "markdown",
   "id": "ffc0a05d",
   "metadata": {},
   "source": [
    "### 计算不同深度的盐度变化的平均均方根（RMS）值"
   ]
  },
  {
   "cell_type": "code",
   "execution_count": 94,
   "id": "3e901269",
   "metadata": {
    "ExecuteTime": {
     "end_time": "2023-12-12T07:11:16.768190Z",
     "start_time": "2023-12-12T07:11:16.764197Z"
    }
   },
   "outputs": [
    {
     "data": {
      "text/plain": [
       "(132, 250, 610, 15)"
      ]
     },
     "execution_count": 94,
     "metadata": {},
     "output_type": "execute_result"
    }
   ],
   "source": [
    "sali_depth_use.shape "
   ]
  },
  {
   "cell_type": "code",
   "execution_count": 95,
   "id": "f2178f4e",
   "metadata": {
    "ExecuteTime": {
     "end_time": "2023-12-12T07:12:06.968990Z",
     "start_time": "2023-12-12T07:12:06.706413Z"
    }
   },
   "outputs": [],
   "source": [
    "# 计算每一年的平均值\n",
    "months_per_year = 12\n",
    "num_years = 11\n",
    "data_shape = (132, 250, 610, 15)\n",
    "averaged_data = np.mean(sali_depth_use.reshape(num_years, months_per_year, *data_shape[1:]), axis=1)"
   ]
  },
  {
   "cell_type": "code",
   "execution_count": 96,
   "id": "7f009013",
   "metadata": {
    "ExecuteTime": {
     "end_time": "2023-12-12T07:12:08.771250Z",
     "start_time": "2023-12-12T07:12:08.766258Z"
    }
   },
   "outputs": [
    {
     "data": {
      "text/plain": [
       "(11, 250, 610, 15)"
      ]
     },
     "execution_count": 96,
     "metadata": {},
     "output_type": "execute_result"
    }
   ],
   "source": [
    "averaged_data.shape "
   ]
  },
  {
   "cell_type": "code",
   "execution_count": 98,
   "id": "e67ba94c",
   "metadata": {
    "ExecuteTime": {
     "end_time": "2023-12-12T07:16:34.686512Z",
     "start_time": "2023-12-12T07:16:34.246221Z"
    }
   },
   "outputs": [
    {
     "name": "stdout",
     "output_type": "stream",
     "text": [
      "(10, 250, 610, 15)\n",
      "(1525000, 15)\n",
      "不同深度的温度年际变化的平均 RMS: [0.13718323 0.11877933 0.08356457 0.07478802 0.06370351 0.0488582\n",
      " 0.03745814 0.0312608  0.02556728 0.02022749 0.01550174 0.01385453\n",
      " 0.01322563 0.01202724 0.01090231]\n"
     ]
    }
   ],
   "source": [
    "# 计算每个深度的年际温度变化\n",
    "yearly_changes_2 = np.diff(averaged_data, axis=0)\n",
    "print(yearly_changes_2.shape)\n",
    "yearly_changes_2 = yearly_changes_2.reshape(-1,15)\n",
    "print(yearly_changes_2.shape)\n",
    "rms_per_depth_2 = np.sqrt(np.nanmean(np.square(yearly_changes_2), axis=0))\n",
    "print(\"不同深度的温度年际变化的平均 RMS:\", rms_per_depth_2)"
   ]
  },
  {
   "cell_type": "markdown",
   "id": "36c5d07e",
   "metadata": {},
   "source": [
    "### 计算不同深度水平的垂直温度梯度"
   ]
  },
  {
   "cell_type": "code",
   "execution_count": 106,
   "id": "01a24042",
   "metadata": {
    "ExecuteTime": {
     "end_time": "2023-12-12T08:08:25.324967Z",
     "start_time": "2023-12-12T08:08:25.320973Z"
    }
   },
   "outputs": [],
   "source": [
    "depth = [30,50,100,125,150,200,250,300,400,500,600,700,800,900,1000]"
   ]
  },
  {
   "cell_type": "code",
   "execution_count": 107,
   "id": "040a479a",
   "metadata": {
    "ExecuteTime": {
     "end_time": "2023-12-12T08:08:25.704357Z",
     "start_time": "2023-12-12T08:08:25.699365Z"
    }
   },
   "outputs": [
    {
     "data": {
      "text/plain": [
       "(132, 250, 610, 15)"
      ]
     },
     "execution_count": 107,
     "metadata": {},
     "output_type": "execute_result"
    }
   ],
   "source": [
    "sali_depth_use.shape"
   ]
  },
  {
   "cell_type": "code",
   "execution_count": 101,
   "id": "2f74c525",
   "metadata": {
    "ExecuteTime": {
     "end_time": "2023-12-12T07:57:54.040926Z",
     "start_time": "2023-12-12T07:57:50.548546Z"
    }
   },
   "outputs": [
    {
     "name": "stdout",
     "output_type": "stream",
     "text": [
      "[ 7.49778748e-04  5.44433594e-04  3.38287354e-04  5.40161133e-05\n",
      " -1.25885010e-04 -1.06277466e-04  6.33239746e-05  9.26589966e-05\n",
      "  1.61285400e-04  1.66625977e-04  1.00402832e-04  3.65066528e-05\n",
      "  2.28118896e-05  2.11715698e-05]\n"
     ]
    }
   ],
   "source": [
    "sali_depth_use_reshape = sali_depth_use.reshape(-1,15)\n",
    "# 计算每一层的平均温度\n",
    "sali_depth_use_reshape = np.nanmean(sali_depth_use_reshape,axis=0)\n",
    "# 计算温度差值\n",
    "delta_sali = np.diff(sali_depth_use_reshape, axis=0)\n",
    "# 计算深度差值\n",
    "delta_depth = np.diff(depth)\n",
    "# 计算垂直温度梯度\n",
    "vertical_sali_gradient = delta_sali / delta_depth\n",
    "print(vertical_sali_gradient)"
   ]
  },
  {
   "cell_type": "code",
   "execution_count": 105,
   "id": "4f4fd289",
   "metadata": {
    "ExecuteTime": {
     "end_time": "2023-12-12T08:00:17.819665Z",
     "start_time": "2023-12-12T08:00:17.814673Z"
    },
    "collapsed": true
   },
   "outputs": [
    {
     "data": {
      "text/plain": [
       "[0.000749778748,\n",
       " 0.000544433594,\n",
       " 0.000338287354,\n",
       " 5.40161133e-05,\n",
       " -0.00012588501,\n",
       " -0.000106277466,\n",
       " 6.33239746e-05,\n",
       " 9.26589966e-05,\n",
       " 0.0001612854,\n",
       " 0.000166625977,\n",
       " 0.000100402832,\n",
       " 3.65066528e-05,\n",
       " 2.28118896e-05,\n",
       " 2.11715698e-05]"
      ]
     },
     "execution_count": 105,
     "metadata": {},
     "output_type": "execute_result"
    }
   ],
   "source": [
    "[ 7.49778748e-04 , 5.44433594e-04,  3.38287354e-04,  5.40161133e-05,\n",
    " -1.25885010e-04, -1.06277466e-04,  6.33239746e-05,  9.26589966e-05,\n",
    "  1.61285400e-04 , 1.66625977e-04 , 1.00402832e-04 , 3.65066528e-05,\n",
    "  2.28118896e-05 , 2.11715698e-05]"
   ]
  },
  {
   "cell_type": "code",
   "execution_count": 108,
   "id": "ff68ab5e",
   "metadata": {
    "ExecuteTime": {
     "end_time": "2023-12-12T08:11:11.053415Z",
     "start_time": "2023-12-12T08:11:05.240767Z"
    }
   },
   "outputs": [
    {
     "name": "stderr",
     "output_type": "stream",
     "text": [
      "C:\\Users\\Administrator\\AppData\\Local\\Temp\\ipykernel_29680\\788675262.py:14: RuntimeWarning: Mean of empty slice\n",
      "  average_vertical_sali_gradient = np.nanmean(vertical_sali_gradient_per_month, axis=0)\n"
     ]
    }
   ],
   "source": [
    "# 计算深度差\n",
    "delta_depth = np.diff(depth)  # 深度差\n",
    "\n",
    "# 扩展 delta_depth 以匹配温度差的维度\n",
    "delta_depth_expanded = delta_depth[np.newaxis, np.newaxis, np.newaxis, :]  #(1, 1, 1, 14)\n",
    "\n",
    "# 计算每个月份的温度差\n",
    "delta_sali = np.diff(sali_depth_use, axis=-1)  # 在深度维度上计算差值\n",
    "\n",
    "# 计算每个月份的垂直温度梯度\n",
    "vertical_sali_gradient_per_month = delta_sali / delta_depth_expanded\n",
    "\n",
    "# 计算所有月份的平均垂直温度梯度\n",
    "average_vertical_sali_gradient = np.nanmean(vertical_sali_gradient_per_month, axis=0)"
   ]
  },
  {
   "cell_type": "code",
   "execution_count": 109,
   "id": "ea27a6e9",
   "metadata": {
    "ExecuteTime": {
     "end_time": "2023-12-12T08:11:41.349840Z",
     "start_time": "2023-12-12T08:11:41.345846Z"
    }
   },
   "outputs": [
    {
     "name": "stdout",
     "output_type": "stream",
     "text": [
      "(1, 1, 1, 14)\n",
      "(132, 250, 610, 14)\n",
      "(132, 250, 610, 14)\n",
      "(250, 610, 14)\n"
     ]
    }
   ],
   "source": [
    "print(delta_depth_expanded.shape)\n",
    "print(delta_sali.shape)\n",
    "print(vertical_sali_gradient_per_month.shape)\n",
    "print(average_vertical_sali_gradient.shape)"
   ]
  },
  {
   "cell_type": "code",
   "execution_count": 110,
   "id": "84239a84",
   "metadata": {
    "ExecuteTime": {
     "end_time": "2023-12-12T08:12:07.228645Z",
     "start_time": "2023-12-12T08:12:07.197695Z"
    }
   },
   "outputs": [
    {
     "data": {
      "text/plain": [
       "array([ 4.44355656e-03,  3.41975145e-03,  2.29187163e-03,  6.48670988e-04,\n",
       "       -9.37369404e-04, -8.74674210e-04, -5.42225816e-04, -4.21367784e-04,\n",
       "       -2.03750208e-04,  7.73602949e-05,  3.00639085e-04,  3.95182136e-04,\n",
       "        3.79431187e-04,  3.24575982e-04])"
      ]
     },
     "execution_count": 110,
     "metadata": {},
     "output_type": "execute_result"
    }
   ],
   "source": [
    "average_vertical_sali_gradient  = average_vertical_sali_gradient.reshape(-1,14)\n",
    "average_vertical_sali_gradient  = np.nanmean(average_vertical_sali_gradient,axis = 0)\n",
    "average_vertical_sali_gradient"
   ]
  },
  {
   "cell_type": "code",
   "execution_count": 111,
   "id": "6adf2fc5",
   "metadata": {
    "ExecuteTime": {
     "end_time": "2023-12-12T08:12:19.201987Z",
     "start_time": "2023-12-12T08:12:19.196995Z"
    },
    "collapsed": true
   },
   "outputs": [
    {
     "data": {
      "text/plain": [
       "[0.00444355656,\n",
       " 0.00341975145,\n",
       " 0.00229187163,\n",
       " 0.000648670988,\n",
       " -0.000937369404,\n",
       " -0.00087467421,\n",
       " -0.000542225816,\n",
       " -0.000421367784,\n",
       " -0.000203750208,\n",
       " 7.73602949e-05,\n",
       " 0.000300639085,\n",
       " 0.000395182136,\n",
       " 0.000379431187,\n",
       " 0.000324575982]"
      ]
     },
     "execution_count": 111,
     "metadata": {},
     "output_type": "execute_result"
    }
   ],
   "source": [
    "[ 4.44355656e-03,  3.41975145e-03,  2.29187163e-03,  6.48670988e-04,\n",
    "       -9.37369404e-04, -8.74674210e-04, -5.42225816e-04, -4.21367784e-04,\n",
    "       -2.03750208e-04,  7.73602949e-05,  3.00639085e-04,  3.95182136e-04,\n",
    "        3.79431187e-04,  3.24575982e-04]"
   ]
  },
  {
   "cell_type": "markdown",
   "id": "f84f1217",
   "metadata": {},
   "source": [
    "# 预测结果可视化"
   ]
  },
  {
   "cell_type": "code",
   "execution_count": null,
   "id": "16570f92",
   "metadata": {},
   "outputs": [],
   "source": []
  },
  {
   "cell_type": "code",
   "execution_count": null,
   "id": "0925b6c8",
   "metadata": {},
   "outputs": [],
   "source": []
  },
  {
   "cell_type": "code",
   "execution_count": null,
   "id": "c473f197",
   "metadata": {},
   "outputs": [],
   "source": []
  },
  {
   "cell_type": "code",
   "execution_count": null,
   "id": "3c696f63",
   "metadata": {},
   "outputs": [],
   "source": []
  },
  {
   "cell_type": "markdown",
   "id": "f61e34aa",
   "metadata": {},
   "source": [
    "## 为归一化之后的预测值和真实值填充nan"
   ]
  },
  {
   "cell_type": "code",
   "execution_count": 112,
   "id": "c19ade46",
   "metadata": {
    "ExecuteTime": {
     "end_time": "2023-12-12T08:56:38.381816Z",
     "start_time": "2023-12-12T08:56:38.357856Z"
    }
   },
   "outputs": [],
   "source": [
    "nan_mask_cat = np.load(\"../data_test/mask_cat/nan_mask_cat_sali.npy\")"
   ]
  },
  {
   "cell_type": "code",
   "execution_count": 113,
   "id": "76353454",
   "metadata": {
    "ExecuteTime": {
     "end_time": "2023-12-12T08:56:39.755606Z",
     "start_time": "2023-12-12T08:56:39.750614Z"
    }
   },
   "outputs": [
    {
     "data": {
      "text/plain": [
       "(144000,)"
      ]
     },
     "execution_count": 113,
     "metadata": {},
     "output_type": "execute_result"
    }
   ],
   "source": [
    "nan_mask_cat.shape "
   ]
  },
  {
   "cell_type": "code",
   "execution_count": 114,
   "id": "44402e00",
   "metadata": {
    "ExecuteTime": {
     "end_time": "2023-12-12T08:56:53.413450Z",
     "start_time": "2023-12-12T08:56:53.225752Z"
    }
   },
   "outputs": [
    {
     "name": "stdout",
     "output_type": "stream",
     "text": [
      "(144000, 180)\n",
      "(144000, 180)\n"
     ]
    }
   ],
   "source": [
    "### 创建一个形状与nan_masks相同且全是nan的数组\n",
    "testPred_with_nan = np.full((144000,12*15), np.nan)  \n",
    "print(testPred_with_nan.shape)\n",
    "y_test_with_nan = np.full((144000,12*15), np.nan)  \n",
    "print(y_test_with_nan.shape)"
   ]
  },
  {
   "cell_type": "code",
   "execution_count": 115,
   "id": "9c9dc395",
   "metadata": {
    "ExecuteTime": {
     "end_time": "2023-12-12T08:57:01.860469Z",
     "start_time": "2023-12-12T08:57:01.741647Z"
    }
   },
   "outputs": [
    {
     "name": "stdout",
     "output_type": "stream",
     "text": [
      "(12, 107913, 15)\n",
      "(107913, 12, 15)\n",
      "(107913, 180)\n",
      "(12, 107913, 15)\n",
      "(107913, 12, 15)\n",
      "(107913, 180)\n"
     ]
    }
   ],
   "source": [
    "result_unscaled_reshape = result_unscaled.reshape(12,-1,15)\n",
    "print(result_unscaled_reshape.shape)\n",
    "result_unscaled_reshape = np.transpose(result_unscaled_reshape,(1,0,2))\n",
    "print(result_unscaled_reshape.shape)\n",
    "result_unscaled_reshape = result_unscaled_reshape.reshape(-1,12*15)\n",
    "print(result_unscaled_reshape.shape)\n",
    "\n",
    "# ======================================== #\n",
    "y_test_unscaled_reshape = y_test_unscaled.reshape(12,-1,15)\n",
    "print(y_test_unscaled_reshape.shape)\n",
    "y_test_unscaled_reshape = np.transpose(y_test_unscaled_reshape,(1,0,2))\n",
    "print(y_test_unscaled_reshape.shape)\n",
    "y_test_unscaled_reshape = y_test_unscaled_reshape.reshape(-1,12*15)\n",
    "print(y_test_unscaled_reshape.shape)\n"
   ]
  },
  {
   "cell_type": "code",
   "execution_count": 116,
   "id": "3c600f56",
   "metadata": {
    "ExecuteTime": {
     "end_time": "2023-12-12T08:57:08.830242Z",
     "start_time": "2023-12-12T08:57:08.520740Z"
    }
   },
   "outputs": [
    {
     "name": "stdout",
     "output_type": "stream",
     "text": [
      "107913\n"
     ]
    }
   ],
   "source": [
    "num = 0\n",
    "for i,nan_mask in enumerate(nan_mask_cat):   # i从0开始  在nan_mask_cat中true代表有效值，False代表无效值\n",
    "\n",
    "    if (nan_mask == True): # true 代表没有nan，使用预测值进行填充\n",
    "        testPred_with_nan[i] = result_unscaled_reshape[num]\n",
    "        y_test_with_nan[i] = y_test_unscaled_reshape[num]\n",
    "        num = num + 1\n",
    "        \n",
    "print(num)"
   ]
  },
  {
   "cell_type": "code",
   "execution_count": 117,
   "id": "bc74f6ab",
   "metadata": {
    "ExecuteTime": {
     "end_time": "2023-12-12T08:57:15.758192Z",
     "start_time": "2023-12-12T08:57:15.753200Z"
    }
   },
   "outputs": [
    {
     "name": "stdout",
     "output_type": "stream",
     "text": [
      "(12, 15, 240, 600) (12, 15, 240, 600)\n"
     ]
    }
   ],
   "source": [
    "testPred_with_nan = testPred_with_nan.reshape(240, 600,12,15)   #(144000, 180) --> (240, 600,12,15) \n",
    "testPred_with_nan = np.transpose(testPred_with_nan,(2,3,0,1))  \n",
    "\n",
    "\n",
    "y_test_with_nan = y_test_with_nan.reshape(240, 600,12,15)\n",
    "y_test_with_nan = np.transpose(y_test_with_nan,(2,3,0,1))\n",
    "\n",
    "print(testPred_with_nan.shape,y_test_with_nan.shape)"
   ]
  },
  {
   "cell_type": "markdown",
   "id": "eaa1eaaf",
   "metadata": {},
   "source": [
    "## 保存"
   ]
  },
  {
   "cell_type": "code",
   "execution_count": 139,
   "id": "5e595ef4",
   "metadata": {
    "ExecuteTime": {
     "end_time": "2023-12-12T08:57:39.909079Z",
     "start_time": "2023-12-12T08:57:39.904087Z"
    }
   },
   "outputs": [],
   "source": [
    "lat = []\n",
    "lon = []\n",
    "time = []\n",
    "lon.append(data_ssw['lon'][480:1080].data)\n",
    "lat.append(data_ssh1['lat'][360:600].data)"
   ]
  },
  {
   "cell_type": "code",
   "execution_count": 140,
   "id": "85368059",
   "metadata": {
    "ExecuteTime": {
     "end_time": "2023-12-12T08:57:42.881453Z",
     "start_time": "2023-12-12T08:57:42.773623Z"
    }
   },
   "outputs": [],
   "source": [
    "start_year = 2021\n",
    "end_year =2021\n",
    "time = []\n",
    "date_range = pd.date_range(datetime(start_year,1,1),datetime(end_year+1,1,1),freq='1M')\n",
    "len(date_range)\n",
    "for i in range(len(date_range)):\n",
    "    time.append(i)"
   ]
  },
  {
   "cell_type": "code",
   "execution_count": 142,
   "id": "7184c909",
   "metadata": {
    "ExecuteTime": {
     "end_time": "2023-12-12T08:58:27.638912Z",
     "start_time": "2023-12-12T08:58:27.634918Z"
    }
   },
   "outputs": [],
   "source": [
    "new_NC.close()"
   ]
  },
  {
   "cell_type": "code",
   "execution_count": 143,
   "id": "66ceef19",
   "metadata": {
    "ExecuteTime": {
     "end_time": "2023-12-12T08:58:28.586387Z",
     "start_time": "2023-12-12T08:58:27.902489Z"
    }
   },
   "outputs": [],
   "source": [
    "new_NC = nc.Dataset(\"result30_1000m_jc_sali.nc\", 'w', format='NETCDF4')\n",
    "\n",
    "\n",
    "\n",
    "new_NC.createDimension('lat', len(lat[0]))\n",
    "new_NC.createDimension('lon', len(lon[0]))\n",
    "new_NC.createDimension('depth', 15)\n",
    "new_NC.createDimension('time', len(time))\n",
    "\n",
    "\n",
    "new_NC.createVariable('lat', 'f', (\"lat\"))\n",
    "new_NC.createVariable('lon', 'f', (\"lon\"))\n",
    "new_NC.createVariable('depth', 'f', (\"depth\"))\n",
    "new_NC.createVariable('true_ss', 'f',(\"time\",\"depth\",\"lat\",\"lon\"))\n",
    "new_NC.createVariable('pred_ss', 'f',(\"time\",\"depth\",\"lat\",\"lon\"))\n",
    "\n",
    "time_var = new_NC.createVariable('time', 'f4',(\"time\"))\n",
    "time_var.units = 'months since 2021-01-15'\n",
    "time_var.long_name = 'Months in Monthly Means'\n",
    "time_var.axis = 'T'\n",
    "\n",
    "\n",
    "#向变量中填充数据\n",
    "new_NC.variables['lat'][:] = lat[0]\n",
    "new_NC.variables['lon'][:] = lon[0]\n",
    "new_NC.variables['time'][:] = np.array(time)\n",
    "new_NC.variables['depth'][:] = depth\n",
    "\n",
    "new_NC.variables['true_ss'][:]=np.array(y_test_with_nan)\n",
    "new_NC.variables['pred_ss'][:]=np.array(testPred_with_nan)\n",
    "\n",
    "\n",
    "#最后记得关闭文件\n",
    "new_NC.close()\n"
   ]
  },
  {
   "cell_type": "code",
   "execution_count": null,
   "id": "781ffa10",
   "metadata": {},
   "outputs": [],
   "source": []
  },
  {
   "cell_type": "code",
   "execution_count": null,
   "id": "2e701d1a",
   "metadata": {},
   "outputs": [],
   "source": []
  },
  {
   "cell_type": "code",
   "execution_count": null,
   "id": "db76347b",
   "metadata": {},
   "outputs": [],
   "source": []
  },
  {
   "cell_type": "code",
   "execution_count": null,
   "id": "c1f71d6b",
   "metadata": {},
   "outputs": [],
   "source": []
  },
  {
   "cell_type": "code",
   "execution_count": null,
   "id": "2dab0dc8",
   "metadata": {},
   "outputs": [],
   "source": []
  },
  {
   "cell_type": "code",
   "execution_count": null,
   "id": "b4eccb3f",
   "metadata": {},
   "outputs": [],
   "source": []
  },
  {
   "cell_type": "code",
   "execution_count": null,
   "id": "71e4317e",
   "metadata": {},
   "outputs": [],
   "source": []
  },
  {
   "cell_type": "code",
   "execution_count": null,
   "id": "c7828c73",
   "metadata": {},
   "outputs": [],
   "source": []
  },
  {
   "cell_type": "code",
   "execution_count": null,
   "id": "cbb8c4f8",
   "metadata": {},
   "outputs": [],
   "source": []
  },
  {
   "cell_type": "code",
   "execution_count": null,
   "id": "a6a3fd7b",
   "metadata": {},
   "outputs": [],
   "source": []
  },
  {
   "cell_type": "code",
   "execution_count": null,
   "id": "184c1b0a",
   "metadata": {},
   "outputs": [],
   "source": []
  },
  {
   "cell_type": "code",
   "execution_count": null,
   "id": "ed97d143",
   "metadata": {},
   "outputs": [],
   "source": []
  },
  {
   "cell_type": "code",
   "execution_count": null,
   "id": "b89af39b",
   "metadata": {},
   "outputs": [],
   "source": []
  },
  {
   "cell_type": "code",
   "execution_count": null,
   "id": "f37226ad",
   "metadata": {},
   "outputs": [],
   "source": []
  },
  {
   "cell_type": "code",
   "execution_count": null,
   "id": "9046cc3c",
   "metadata": {},
   "outputs": [],
   "source": []
  },
  {
   "cell_type": "code",
   "execution_count": null,
   "id": "22656dd6",
   "metadata": {},
   "outputs": [],
   "source": []
  },
  {
   "cell_type": "code",
   "execution_count": null,
   "id": "f6e684ef",
   "metadata": {},
   "outputs": [],
   "source": []
  },
  {
   "cell_type": "code",
   "execution_count": null,
   "id": "99a135ed",
   "metadata": {},
   "outputs": [],
   "source": []
  },
  {
   "cell_type": "markdown",
   "id": "5b7ba83f",
   "metadata": {},
   "source": [
    "# 网格搜索交叉验证寻找最佳参数"
   ]
  },
  {
   "cell_type": "code",
   "execution_count": null,
   "id": "bd44f00f",
   "metadata": {
    "ExecuteTime": {
     "end_time": "2023-11-13T03:19:43.001532Z",
     "start_time": "2023-11-13T03:19:43.001532Z"
    }
   },
   "outputs": [],
   "source": [
    "# model = KerasRegressor(build_fn=create_model,verbose=2)"
   ]
  },
  {
   "cell_type": "code",
   "execution_count": null,
   "id": "857248c4",
   "metadata": {
    "ExecuteTime": {
     "end_time": "2023-11-13T03:19:43.002530Z",
     "start_time": "2023-11-13T03:19:43.002530Z"
    }
   },
   "outputs": [],
   "source": [
    "# param_grid = {\n",
    "#     'neurons1': [16,32,64,128],\n",
    "#     'neurons2': [32,64,128,256],\n",
    "# }"
   ]
  },
  {
   "cell_type": "code",
   "execution_count": null,
   "id": "4377a91a",
   "metadata": {
    "ExecuteTime": {
     "end_time": "2023-11-13T03:19:43.003528Z",
     "start_time": "2023-11-13T03:19:43.003528Z"
    }
   },
   "outputs": [],
   "source": [
    "# # 使用GridSearchCV进行交叉验证并搜索最佳参数组合：\n",
    "# grid_search = GridSearchCV(estimator=model, param_grid=param_grid, cv=3)\n",
    "# grid_result = grid_search.fit(x_train, y_train[:,14:15],epochs=100,verbose=2,batch_size=10240)"
   ]
  },
  {
   "cell_type": "code",
   "execution_count": null,
   "id": "4e0af591",
   "metadata": {
    "ExecuteTime": {
     "end_time": "2023-11-13T03:19:43.003528Z",
     "start_time": "2023-11-13T03:19:43.003528Z"
    }
   },
   "outputs": [],
   "source": [
    "# print(\"Best: %f using %s\" % (grid_result.best_score_, grid_result.best_params_))"
   ]
  },
  {
   "cell_type": "code",
   "execution_count": null,
   "id": "cbb38c68",
   "metadata": {},
   "outputs": [],
   "source": []
  },
  {
   "cell_type": "code",
   "execution_count": null,
   "id": "43929037",
   "metadata": {},
   "outputs": [],
   "source": []
  },
  {
   "cell_type": "code",
   "execution_count": null,
   "id": "d084e716",
   "metadata": {},
   "outputs": [],
   "source": []
  }
 ],
 "metadata": {
  "kernelspec": {
   "display_name": "Python [conda env:python] *",
   "language": "python",
   "name": "conda-env-python-py"
  },
  "language_info": {
   "codemirror_mode": {
    "name": "ipython",
    "version": 3
   },
   "file_extension": ".py",
   "mimetype": "text/x-python",
   "name": "python",
   "nbconvert_exporter": "python",
   "pygments_lexer": "ipython3",
   "version": "3.8.17"
  },
  "toc": {
   "base_numbering": 1,
   "nav_menu": {},
   "number_sections": true,
   "sideBar": true,
   "skip_h1_title": false,
   "title_cell": "Table of Contents",
   "title_sidebar": "Contents",
   "toc_cell": false,
   "toc_position": {
    "height": "calc(100% - 180px)",
    "left": "10px",
    "top": "150px",
    "width": "321.6px"
   },
   "toc_section_display": true,
   "toc_window_display": true
  }
 },
 "nbformat": 4,
 "nbformat_minor": 5
}
